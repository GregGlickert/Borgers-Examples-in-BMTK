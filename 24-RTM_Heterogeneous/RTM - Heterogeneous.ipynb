{
 "cells": [
  {
   "cell_type": "markdown",
   "metadata": {},
   "source": [
    "# Asynchronous Initialization "
   ]
  },
  {
   "cell_type": "markdown",
   "metadata": {},
   "source": [
    "#### RTM Cell\n",
    "\n",
    "$\\alpha_{n} = 0.032*(v+52)/(1-e^{-(v+52)/5})$\n",
    "\n",
    "$\\beta_{n} = 0.5*e^{-(v+57)/40}$\n",
    "\n",
    "$\\alpha_{m} = 0.32*(v+54)/(1-e^{-(v+54)/4})$\n",
    "\n",
    "$\\beta_{m} = 0.28*(v+27)/(e^{(v+27)/5}-1)$\n",
    "\n",
    "$\\alpha_{h} = 0.128*e^{-(v+50)/18}$\n",
    "\n",
    "$\\beta_{h} = 4./(1+e^{-(v+27)/5})$"
   ]
  },
  {
   "cell_type": "code",
   "execution_count": 1,
   "metadata": {},
   "outputs": [
    {
     "name": "stderr",
     "output_type": "stream",
     "text": [
      "c:\\users\\strou\\anaconda3\\envs\\py2env\\lib\\site-packages\\h5py\\__init__.py:34: FutureWarning: Conversion of the second argument of issubdtype from `float` to `np.floating` is deprecated. In future, it will be treated as `np.float64 == np.dtype(float).type`.\n",
      "  from ._conv import register_converters as _register_converters\n"
     ]
    }
   ],
   "source": [
    "import numpy as np\n",
    "import logging\n",
    "\n",
    "from bmtk.builder.networks import NetworkBuilder\n",
    "\n",
    "n_E =30\n",
    "\n",
    "net = NetworkBuilder('network')\n",
    "net.add_nodes(N=n_E, pop_name='Exc',     # N = number of excitatory cells\n",
    "        model_type='biophysical',\n",
    "        model_template='hoc:RTMExcCell', # RTMExcCell hoc definition\n",
    "        morphology='blank.swc')"
   ]
  },
  {
   "cell_type": "markdown",
   "metadata": {},
   "source": [
    "Initialize \"frozen noise\" for current clamp and RTM synapse strength"
   ]
  },
  {
   "cell_type": "code",
   "execution_count": 2,
   "metadata": {},
   "outputs": [
    {
     "name": "stdout",
     "output_type": "stream",
     "text": [
      "[[0.26597917]\n",
      " [0.26615005]\n",
      " [0.32535413]\n",
      " [0.27760886]\n",
      " [0.29571825]\n",
      " [0.32092759]\n",
      " [0.2624585 ]\n",
      " [0.32149429]\n",
      " [0.27479643]\n",
      " [0.27465831]\n",
      " [0.28811607]\n",
      " [0.34098893]\n",
      " [0.33775092]\n",
      " [0.2700904 ]\n",
      " [0.31100159]\n",
      " [0.33725846]\n",
      " [0.31573449]\n",
      " [0.2659178 ]\n",
      " [0.30783717]\n",
      " [0.26808362]\n",
      " [0.33835957]\n",
      " [0.27167878]\n",
      " [0.28903146]\n",
      " [0.28934433]\n",
      " [0.2808522 ]\n",
      " [0.31990319]\n",
      " [0.25288032]\n",
      " [0.28073611]\n",
      " [0.31280102]\n",
      " [0.29830365]]\n"
     ]
    }
   ],
   "source": [
    "i_ext= np.random.rand(n_E,1)*0.1+0.25\n",
    "\n",
    "#create array of start times for heterogeneous initialization\n",
    "start = np.random.rand(n_E,1)* 25 # array of 30 with times from 0 to 25\n",
    "print(i_ext)"
   ]
  },
  {
   "cell_type": "markdown",
   "metadata": {},
   "source": [
    "Add excitatory connection from each RTM cell to every other RTM cell in the network and save"
   ]
  },
  {
   "cell_type": "code",
   "execution_count": 3,
   "metadata": {},
   "outputs": [],
   "source": [
    "# add 1 synaptic connection from each cell to every other cell avoiding self connections\n",
    "def like2like(source, target):\n",
    "    \"\"\"A simple function for setting # of synaptic connections based on pop-name attribute. \"\"\"\n",
    "    if source['node_id'] == target['node_id']:\n",
    "        # No autapses\n",
    "        return 0\n",
    "\n",
    "    # 1 connection otherwise\n",
    "    return 1\n",
    "\n",
    "\n",
    "def rand_syn_weight(source, target, min_weight, max_weight):\n",
    "    sec_x=0.5\n",
    "    sec_id=0\n",
    "    return np.random.uniform(min_weight, max_weight), sec_x, sec_id\n",
    "\n",
    "\n",
    "conn = net.add_edges(source={'pop_name': 'Exc'}, target={'pop_name': 'Exc'},\n",
    "              connection_rule=like2like, # Note that we are passing in the function name but not calling it\n",
    "              connection_params={},\n",
    "              target_sections=['soma'],\n",
    "              dynamics_params='PING_ExcToExc.json',     \n",
    "              model_template='exp2syn',\n",
    "              delay=0)\n",
    "\n",
    "conn.add_properties(['syn_weight','sec_x','sec_id'],\n",
    "                    rule=rand_syn_weight,\n",
    "                    rule_params={'min_weight': 0.00625, 'max_weight': 0.00825},\n",
    "                    dtypes=[np.float, np.uint, np.uint])\n",
    "\n",
    "\n"
   ]
  },
  {
   "cell_type": "markdown",
   "metadata": {},
   "source": [
    "Build and save connections"
   ]
  },
  {
   "cell_type": "code",
   "execution_count": 4,
   "metadata": {},
   "outputs": [],
   "source": [
    "net.build()\n",
    "net.save_nodes(output_dir='network')\n",
    "net.save_edges(output_dir='network')"
   ]
  },
  {
   "cell_type": "code",
   "execution_count": 5,
   "metadata": {},
   "outputs": [],
   "source": [
    "extnet = NetworkBuilder('extnet')\n",
    "extnet.add_nodes(N=30,pop_name='Inp',\n",
    "            potential='exc',\n",
    "            model_type='virtual')"
   ]
  },
  {
   "cell_type": "code",
   "execution_count": 6,
   "metadata": {},
   "outputs": [
    {
     "data": {
      "text/plain": [
       "<bmtk.builder.connection_map.ConnectionMap at 0x21420648>"
      ]
     },
     "execution_count": 6,
     "metadata": {},
     "output_type": "execute_result"
    }
   ],
   "source": [
    "def one_each(source, target):\n",
    "    if source['node_id']==target['node_id']:\n",
    "        return 1\n",
    "    return 0\n",
    "\n",
    "extnet.add_edges(source={'pop_name':'Inp'}, target=net.nodes(),\n",
    "                   connection_rule=one_each,\n",
    "                   syn_weight=0.1,               \n",
    "                   delay=0,\n",
    "                   weight_function=None,\n",
    "                   target_sections=['soma'],\n",
    "                   distance_range=[0.0, 150],\n",
    "                   dynamics_params='PING_ExcToExc.json',\n",
    "                   model_template='exp2syn')"
   ]
  },
  {
   "cell_type": "code",
   "execution_count": 7,
   "metadata": {},
   "outputs": [],
   "source": [
    "extnet.build()\n",
    "extnet.save_nodes(output_dir='network')\n",
    "extnet.save_edges(output_dir='network')"
   ]
  },
  {
   "cell_type": "markdown",
   "metadata": {},
   "source": [
    "We now need to create an initial spike for each of our cells with varying phase"
   ]
  },
  {
   "cell_type": "code",
   "execution_count": 8,
   "metadata": {},
   "outputs": [],
   "source": [
    "from bmtk.utils.reports.spike_trains import SpikeTrains\n",
    "\n",
    "spikes = SpikeTrains(population='extnet')\n",
    "for i in range(30):\n",
    "    spikes.add_spike(node_id=i,timestamp=start[i])\n",
    "spikes.to_sonata('input/Asynchronous.h5')"
   ]
  },
  {
   "cell_type": "code",
   "execution_count": 9,
   "metadata": {},
   "outputs": [],
   "source": [
    "from bmtk.utils.reports.spike_trains import SpikeTrains\n",
    "\n",
    "spikes = SpikeTrains(population='extnet')\n",
    "for i in range(30):\n",
    "    spikes.add_spike(node_id=i,timestamp=start[i])\n",
    "spikes.to_sonata('input/Asynchronous.h5')"
   ]
  },
  {
   "cell_type": "code",
   "execution_count": 10,
   "metadata": {},
   "outputs": [
    {
     "data": {
      "text/plain": [
       "array([15.67201096])"
      ]
     },
     "execution_count": 10,
     "metadata": {},
     "output_type": "execute_result"
    }
   ],
   "source": [
    "from bmtk.utils.reports.spike_trains.spike_train_readers import SonataSTReader as Sonata\n",
    "\n",
    "spikes=Sonata(\"input/Asynchronous.h5\")\n",
    "spikes.n_spikes(population=\"extnet\")\n",
    "spikes.get_times(node_id=4, population=\"extnet\")"
   ]
  },
  {
   "cell_type": "markdown",
   "metadata": {},
   "source": [
    "The RTM neurons also have a current clamp input that was defined earlier in our \"frozen noise\""
   ]
  },
  {
   "cell_type": "code",
   "execution_count": 11,
   "metadata": {},
   "outputs": [],
   "source": [
    "import h5py\n",
    "\n",
    "\n",
    "dts = [1]\n",
    "gids = \"all\"\n",
    "\n",
    "#hf.close() # Uncomment this line temporarily if you receive 'file already open error'\n",
    "\n",
    "hf = h5py.File(\"input/amps.h5\", 'w')\n",
    "\n",
    "hf.create_dataset(\"amplitudes\", data=[i_ext])\n",
    "hf.create_dataset(\"gids\", data=gids)\n",
    "hf.create_dataset(\"dts\", data=dts)\n",
    "\n",
    "hf.close()"
   ]
  },
  {
   "cell_type": "markdown",
   "metadata": {},
   "source": [
    "### Building the Simulation Environment"
   ]
  },
  {
   "cell_type": "code",
   "execution_count": 12,
   "metadata": {},
   "outputs": [],
   "source": [
    "from bmtk.utils.sim_setup import build_env_bionet\n",
    "\n",
    "build_env_bionet(base_dir='.',\n",
    "                 network_dir='network',\n",
    "                 tstop=200.0, dt=0.1,\n",
    "                 report_vars=['v'],     # Record membrane potential and calcium (default soma)\n",
    "                 spikes_inputs=[('extnet',   # Name of population which spikes will be generated for\n",
    "                                'input/Asynchronous.h5')],\n",
    "                 include_examples=False,    # Copies components files\n",
    "                 compile_mechanisms=False   # Will try to compile NEURON mechanisms\n",
    "                )"
   ]
  },
  {
   "cell_type": "markdown",
   "metadata": {},
   "source": [
    "### Running the Simulation"
   ]
  },
  {
   "cell_type": "code",
   "execution_count": 13,
   "metadata": {},
   "outputs": [
    {
     "name": "stdout",
     "output_type": "stream",
     "text": [
      "2021-01-27 23:48:29,979 [INFO] Created log file\n"
     ]
    },
    {
     "name": "stderr",
     "output_type": "stream",
     "text": [
      "INFO:NEURONIOUtils:Created log file\n"
     ]
    },
    {
     "name": "stdout",
     "output_type": "stream",
     "text": [
      "2021-01-27 23:48:30,148 [INFO] Building cells.\n"
     ]
    },
    {
     "name": "stderr",
     "output_type": "stream",
     "text": [
      "INFO:NEURONIOUtils:Building cells.\n"
     ]
    },
    {
     "name": "stdout",
     "output_type": "stream",
     "text": [
      "2021-01-27 23:48:30,207 [INFO] Building recurrent connections\n"
     ]
    },
    {
     "name": "stderr",
     "output_type": "stream",
     "text": [
      "INFO:NEURONIOUtils:Building recurrent connections\n"
     ]
    },
    {
     "name": "stdout",
     "output_type": "stream",
     "text": [
      "2021-01-27 23:48:31,335 [INFO] Building virtual cell stimulations for extnet_spikes\n"
     ]
    },
    {
     "name": "stderr",
     "output_type": "stream",
     "text": [
      "INFO:NEURONIOUtils:Building virtual cell stimulations for extnet_spikes\n"
     ]
    },
    {
     "name": "stdout",
     "output_type": "stream",
     "text": [
      "2021-01-27 23:48:31,434 [INFO] Running simulation for 200.000 ms with the time step 0.100 ms\n"
     ]
    },
    {
     "name": "stderr",
     "output_type": "stream",
     "text": [
      "INFO:NEURONIOUtils:Running simulation for 200.000 ms with the time step 0.100 ms\n"
     ]
    },
    {
     "name": "stdout",
     "output_type": "stream",
     "text": [
      "2021-01-27 23:48:31,467 [INFO] Starting timestep: 0 at t_sim: 0.000 ms\n"
     ]
    },
    {
     "name": "stderr",
     "output_type": "stream",
     "text": [
      "INFO:NEURONIOUtils:Starting timestep: 0 at t_sim: 0.000 ms\n"
     ]
    },
    {
     "name": "stdout",
     "output_type": "stream",
     "text": [
      "2021-01-27 23:48:31,497 [INFO] Block save every 2000 steps\n"
     ]
    },
    {
     "name": "stderr",
     "output_type": "stream",
     "text": [
      "INFO:NEURONIOUtils:Block save every 2000 steps\n"
     ]
    },
    {
     "name": "stdout",
     "output_type": "stream",
     "text": [
      "2021-01-27 23:48:32,717 [INFO]     step:2000 t_sim:200.00 ms\n"
     ]
    },
    {
     "name": "stderr",
     "output_type": "stream",
     "text": [
      "INFO:NEURONIOUtils:    step:2000 t_sim:200.00 ms\n"
     ]
    },
    {
     "name": "stdout",
     "output_type": "stream",
     "text": [
      "2021-01-27 23:48:32,769 [INFO] Simulation completed in 1.335 seconds \n"
     ]
    },
    {
     "name": "stderr",
     "output_type": "stream",
     "text": [
      "INFO:NEURONIOUtils:Simulation completed in 1.335 seconds \n"
     ]
    }
   ],
   "source": [
    "from bmtk.simulator import bionet\n",
    "\n",
    "\n",
    "conf = bionet.Config.from_json('simulation_config.json')\n",
    "conf.build_env()\n",
    "net = bionet.BioNetwork.from_config(conf)\n",
    "sim = bionet.BioSimulator.from_config(conf, network=net)\n",
    "sim.run()"
   ]
  },
  {
   "cell_type": "code",
   "execution_count": 15,
   "metadata": {},
   "outputs": [
    {
     "data": {
      "image/png": "[encoded data removed]",
      "text/plain": [
       "<Figure size 432x288 with 2 Axes>"
      ]
     },
     "metadata": {
      "needs_background": "light"
     },
     "output_type": "display_data"
    },
    {
     "data": {
      "image/png": "[encoded data removed]",
      "text/plain": [
       "<Figure size 432x288 with 2 Axes>"
      ]
     },
     "execution_count": 15,
     "metadata": {},
     "output_type": "execute_result"
    }
   ],
   "source": [
    "from bmtk.analyzer.spike_trains import plot_raster, plot_rates_boxplot\n",
    "\n",
    "plot_raster(config_file='simulation_config.json', group_by='pop_name')"
   ]
  },
  {
   "cell_type": "code",
   "execution_count": 16,
   "metadata": {},
   "outputs": [
    {
     "data": {
      "image/png": "[encoded data removed]",
      "text/plain": [
       "<Figure size 432x288 with 1 Axes>"
      ]
     },
     "metadata": {
      "needs_background": "light"
     },
     "output_type": "display_data"
    }
   ],
   "source": [
    "from bmtk.analyzer.compartment import plot_traces\n",
    "\n",
    "\n",
    "_ = plot_traces(config_file='simulation_config.json', node_ids=[0], report_name='v_report')"
   ]
  },
  {
   "cell_type": "code",
   "execution_count": 16,
   "metadata": {},
   "outputs": [
    {
     "name": "stdout",
     "output_type": "stream",
     "text": [
      "Number of Spikes: 360\n"
     ]
    },
    {
     "data": {
      "text/html": [
       "<div>\n",
       "<style scoped>\n",
       "    .dataframe tbody tr th:only-of-type {\n",
       "        vertical-align: middle;\n",
       "    }\n",
       "\n",
       "    .dataframe tbody tr th {\n",
       "        vertical-align: top;\n",
       "    }\n",
       "\n",
       "    .dataframe thead th {\n",
       "        text-align: right;\n",
       "    }\n",
       "</style>\n",
       "<table border=\"1\" class=\"dataframe\">\n",
       "  <thead>\n",
       "    <tr style=\"text-align: right;\">\n",
       "      <th></th>\n",
       "      <th>node_ids</th>\n",
       "      <th>timestamps</th>\n",
       "      <th>population</th>\n",
       "    </tr>\n",
       "  </thead>\n",
       "  <tbody>\n",
       "    <tr>\n",
       "      <th>0</th>\n",
       "      <td>0</td>\n",
       "      <td>3.5</td>\n",
       "      <td>network</td>\n",
       "    </tr>\n",
       "    <tr>\n",
       "      <th>1</th>\n",
       "      <td>20</td>\n",
       "      <td>13.4</td>\n",
       "      <td>network</td>\n",
       "    </tr>\n",
       "    <tr>\n",
       "      <th>2</th>\n",
       "      <td>20</td>\n",
       "      <td>10.7</td>\n",
       "      <td>network</td>\n",
       "    </tr>\n",
       "    <tr>\n",
       "      <th>3</th>\n",
       "      <td>20</td>\n",
       "      <td>8.3</td>\n",
       "      <td>network</td>\n",
       "    </tr>\n",
       "    <tr>\n",
       "      <th>4</th>\n",
       "      <td>20</td>\n",
       "      <td>5.9</td>\n",
       "      <td>network</td>\n",
       "    </tr>\n",
       "  </tbody>\n",
       "</table>\n",
       "</div>"
      ],
      "text/plain": [
       "   node_ids  timestamps population\n",
       "0         0         3.5    network\n",
       "1        20        13.4    network\n",
       "2        20        10.7    network\n",
       "3        20         8.3    network\n",
       "4        20         5.9    network"
      ]
     },
     "execution_count": 16,
     "metadata": {},
     "output_type": "execute_result"
    }
   ],
   "source": [
    "from bmtk.analyzer.spike_trains import to_dataframe\n",
    "\n",
    "results_df = to_dataframe(config_file='simulation_config.json')\n",
    "print('Number of Spikes: {}'.format(len(results_df)))\n",
    "results_df.head()"
   ]
  },
  {
   "cell_type": "code",
   "execution_count": 17,
   "metadata": {},
   "outputs": [
    {
     "name": "stdout",
     "output_type": "stream",
     "text": [
      "     node_ids  timestamps population\n",
      "0           0         3.5    network\n",
      "1          20        13.4    network\n",
      "2          20        10.7    network\n",
      "3          20         8.3    network\n",
      "4          20         5.9    network\n",
      "5          20         3.5    network\n",
      "6          19        41.7    network\n",
      "7          19        29.6    network\n",
      "8          19        26.3    network\n",
      "9          20        16.5    network\n",
      "10         19        24.0    network\n",
      "11         19        19.0    network\n",
      "12         19        16.5    network\n",
      "13         19        13.4    network\n",
      "14         19        10.7    network\n",
      "15         19         8.3    network\n",
      "16         19         5.9    network\n",
      "17         19         3.5    network\n",
      "18         18        41.7    network\n",
      "19         19        21.5    network\n",
      "20         20        19.0    network\n",
      "21         20        21.5    network\n",
      "22         20        24.0    network\n",
      "23         22        10.7    network\n",
      "24         22         8.3    network\n",
      "25         22         5.9    network\n",
      "26         22         3.5    network\n",
      "27         21        41.7    network\n",
      "28         21        29.6    network\n",
      "29         21        26.3    network\n",
      "..        ...         ...        ...\n",
      "330         7        41.7    network\n",
      "331         7        29.6    network\n",
      "332         7        26.3    network\n",
      "333         7        24.0    network\n",
      "334         7        21.5    network\n",
      "335         9         8.3    network\n",
      "336        29        29.6    network\n",
      "337         9        10.7    network\n",
      "338         9        16.5    network\n",
      "339        11         3.5    network\n",
      "340        10        41.7    network\n",
      "341        10        29.6    network\n",
      "342        10        26.3    network\n",
      "343        10        24.0    network\n",
      "344        10        21.5    network\n",
      "345        10        19.0    network\n",
      "346        10        16.5    network\n",
      "347        10        13.4    network\n",
      "348        10        10.7    network\n",
      "349        10         8.3    network\n",
      "350        10         5.9    network\n",
      "351        10         3.5    network\n",
      "352         9        41.7    network\n",
      "353         9        29.6    network\n",
      "354         9        26.3    network\n",
      "355         9        24.0    network\n",
      "356         9        21.5    network\n",
      "357         9        19.0    network\n",
      "358         9        13.4    network\n",
      "359        29        41.7    network\n",
      "\n",
      "[360 rows x 3 columns]\n"
     ]
    }
   ],
   "source": [
    "print(results_df)"
   ]
  },
  {
   "cell_type": "code",
   "execution_count": null,
   "metadata": {},
   "outputs": [],
   "source": []
  }
 ],
 "metadata": {
  "kernelspec": {
   "display_name": "Python 2",
   "language": "python",
   "name": "python2"
  },
  "language_info": {
   "codemirror_mode": {
    "name": "ipython",
    "version": 2
   },
   "file_extension": ".py",
   "mimetype": "text/x-python",
   "name": "python",
   "nbconvert_exporter": "python",
   "pygments_lexer": "ipython2",
   "version": "2.7.18"
  }
 },
 "nbformat": 4,
 "nbformat_minor": 2
}
