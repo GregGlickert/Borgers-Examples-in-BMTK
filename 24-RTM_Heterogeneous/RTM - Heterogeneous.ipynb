{
 "cells": [
  {
   "cell_type": "markdown",
   "metadata": {},
   "source": [
    "# Chapter 24 - Asynchronous Initialization \n",
    "\n",
    "\n",
    "This notebook is a translation of an example in Christophe Borgers' book, \"An Introduction to Modeling Neuronal Dynamics\"\n",
    "\n",
    "In this tutorial,we display asynchronous initiation of 30 RTM neurons. These RTM neurons are connected to one another via randomly selected synaptic weights. Each RTM neuron also has a variable external drive.\n",
    "\n",
    "requirements:\n",
    "\n",
    " bmtk\n",
    "\n",
    " NEURON 7.4+"
   ]
  },
  {
   "cell_type": "markdown",
   "metadata": {},
   "source": [
    "#### RTM Cell\n",
    "\n",
    "$\\alpha_{n} = 0.032*(v+52)/(1-e^{-(v+52)/5})$\n",
    "\n",
    "$\\beta_{n} = 0.5*e^{-(v+57)/40}$\n",
    "\n",
    "$\\alpha_{m} = 0.32*(v+54)/(1-e^{-(v+54)/4})$\n",
    "\n",
    "$\\beta_{m} = 0.28*(v+27)/(e^{(v+27)/5}-1)$\n",
    "\n",
    "$\\alpha_{h} = 0.128*e^{-(v+50)/18}$\n",
    "\n",
    "$\\beta_{h} = 4./(1+e^{-(v+27)/5})$"
   ]
  },
  {
   "cell_type": "markdown",
   "metadata": {},
   "source": [
    "Compile .mod files"
   ]
  },
  {
   "cell_type": "code",
   "execution_count": null,
   "metadata": {},
   "outputs": [],
   "source": [
    "import os\n",
    "print(os.system('nrnivmodl components\\mechanisms')) # compile modfiles. Return 0 for success, 1 for failure."
   ]
  },
  {
   "cell_type": "markdown",
   "metadata": {},
   "source": [
    "#### Creating 30 cell RTM network with variable synaptic weight connections"
   ]
  },
  {
   "cell_type": "code",
   "execution_count": 1,
   "metadata": {},
   "outputs": [],
   "source": [
    "import numpy as np\n",
    "import logging\n",
    "\n",
    "from bmtk.builder.networks import NetworkBuilder\n",
    "\n",
    "n_E =30\n",
    "\n",
    "net = NetworkBuilder('network')\n",
    "net.add_nodes(N=n_E, pop_name='Exc',     # N = number of excitatory cells\n",
    "        model_type='biophysical',\n",
    "        model_template='hoc:RTMExcCell', # RTMExcCell hoc definition\n",
    "        morphology='blank.swc')"
   ]
  },
  {
   "cell_type": "markdown",
   "metadata": {},
   "source": [
    "Add excitatory connection from each RTM cell to every other RTM cell in the network and save"
   ]
  },
  {
   "cell_type": "code",
   "execution_count": 2,
   "metadata": {},
   "outputs": [],
   "source": [
    "# add 1 synaptic connection from each cell to every other cell avoiding self connections\n",
    "def one_each(source, target):\n",
    "    if source['node_id']==target['node_id']:\n",
    "        return 1\n",
    "    return 0\n",
    "\n",
    "\n",
    "def rand_syn_weight(source, target, min_weight, max_weight):\n",
    "    sec_x=0.5\n",
    "    sec_id=0\n",
    "    return np.random.uniform(min_weight, max_weight), sec_x, sec_id\n",
    "\n",
    "\n",
    "conn = net.add_edges(source={'pop_name': 'Exc'}, target={'pop_name': 'Exc'},\n",
    "              connection_rule=one_each, # Note that we are passing in the function name but not calling it\n",
    "              connection_params={},\n",
    "              target_sections=['soma'],\n",
    "              dynamics_params='PING_ExcToExc.json',     \n",
    "              model_template='exp2syn',\n",
    "              delay=0)\n",
    "\n",
    "conn.add_properties(['syn_weight','sec_x','sec_id'],\n",
    "                    rule=rand_syn_weight,\n",
    "                    rule_params={'min_weight': 0.00625, 'max_weight': 0.00825},\n",
    "                    dtypes=[np.float, np.uint, np.uint])"
   ]
  },
  {
   "cell_type": "markdown",
   "metadata": {},
   "source": [
    "Build and save connections"
   ]
  },
  {
   "cell_type": "code",
   "execution_count": 3,
   "metadata": {},
   "outputs": [],
   "source": [
    "net.build()\n",
    "net.save_nodes(output_dir='network')\n",
    "net.save_edges(output_dir='network')"
   ]
  },
  {
   "cell_type": "markdown",
   "metadata": {},
   "source": [
    "### Create external network to asynchronously start each RTM neuron"
   ]
  },
  {
   "cell_type": "code",
   "execution_count": 4,
   "metadata": {},
   "outputs": [],
   "source": [
    "extnet = NetworkBuilder('extnet')\n",
    "extnet.add_nodes(N=30,pop_name='Inp',\n",
    "            potential='exc',\n",
    "            model_type='virtual')"
   ]
  },
  {
   "cell_type": "code",
   "execution_count": 5,
   "metadata": {},
   "outputs": [
    {
     "data": {
      "text/plain": [
       "<bmtk.builder.connection_map.ConnectionMap at 0x19c01b73470>"
      ]
     },
     "execution_count": 5,
     "metadata": {},
     "output_type": "execute_result"
    }
   ],
   "source": [
    "def one_each(source, target):\n",
    "    if source['node_id']==target['node_id']:\n",
    "        return 1\n",
    "    return 0\n",
    "\n",
    "extnet.add_edges(source={'pop_name':'Inp'}, target=net.nodes(),\n",
    "                   connection_rule=one_each,\n",
    "                   syn_weight=0.1,               \n",
    "                   delay=0,\n",
    "                   weight_function=None,\n",
    "                   target_sections=['soma'],\n",
    "                   distance_range=[0.0, 150],\n",
    "                   dynamics_params='PING_ExcToExc.json',\n",
    "                   model_template='exp2syn')"
   ]
  },
  {
   "cell_type": "code",
   "execution_count": 6,
   "metadata": {},
   "outputs": [],
   "source": [
    "extnet.build()\n",
    "extnet.save_nodes(output_dir='network')\n",
    "extnet.save_edges(output_dir='network')"
   ]
  },
  {
   "cell_type": "markdown",
   "metadata": {},
   "source": [
    "We now need to create an initial spike for each of our cells with varying phase"
   ]
  },
  {
   "cell_type": "code",
   "execution_count": 7,
   "metadata": {},
   "outputs": [],
   "source": [
    "from bmtk.utils.reports.spike_trains import SpikeTrains\n",
    "\n",
    "#create array of start times for heterogeneous initialization\n",
    "start = np.random.rand(n_E,1)* 25 # array of 30 with times from 0 to 25\n",
    "\n",
    "spikes = SpikeTrains(population='extnet')\n",
    "for i in range(30):\n",
    "    spikes.add_spike(node_id=i,timestamp=start[i])\n",
    "spikes.to_sonata('input/Asynchronous.h5')"
   ]
  },
  {
   "cell_type": "markdown",
   "metadata": {},
   "source": [
    "### External Drives\n",
    "\n",
    "BMTK does not allow for multiple current clamps connecting to different cells. To approximate this feature, we will add a second external network that has variable synaptic weight connections to our RTM network."
   ]
  },
  {
   "cell_type": "code",
   "execution_count": 8,
   "metadata": {},
   "outputs": [],
   "source": [
    "n_In=30\n",
    "drive = NetworkBuilder('drive')\n",
    "drive.add_nodes(N=n_In,pop_name='Inp_drv',\n",
    "            potential='inh',\n",
    "            model_type='virtual')"
   ]
  },
  {
   "cell_type": "code",
   "execution_count": 9,
   "metadata": {},
   "outputs": [],
   "source": [
    "conn = drive.add_edges(source={'pop_name':'Inp_drv'}, target=net.nodes(),\n",
    "                    connection_rule=one_each,              \n",
    "                    delay=0,\n",
    "                    target_sections=['soma'],\n",
    "                    distance_range=[0.0, 1.0],\n",
    "                    dynamics_params='Drive.json',\n",
    "                    model_template='expsyn')\n",
    "\n",
    "conn.add_properties(['syn_weight','sec_x','sec_id'],\n",
    "                    rule=rand_syn_weight,\n",
    "                    rule_params={'min_weight': 0.02, 'max_weight': 0.025},\n",
    "                    dtypes=[np.float, np.uint, np.uint])"
   ]
  },
  {
   "cell_type": "code",
   "execution_count": 10,
   "metadata": {},
   "outputs": [],
   "source": [
    "drive.build()\n",
    "drive.save_nodes(output_dir='network')\n",
    "drive.save_edges(output_dir='network')"
   ]
  },
  {
   "cell_type": "code",
   "execution_count": 11,
   "metadata": {},
   "outputs": [],
   "source": [
    "from bmtk.utils.reports.spike_trains import SpikeTrains\n",
    "\n",
    "spikes = SpikeTrains(population='drive')\n",
    "for i in range(30):\n",
    "    spikes.add_spike(node_id=i,timestamp=0)\n",
    "spikes.to_sonata('input/Drive.h5')"
   ]
  },
  {
   "cell_type": "markdown",
   "metadata": {},
   "source": [
    "The RTM neurons also have a current clamp input that was defined earlier in our \"frozen noise\""
   ]
  },
  {
   "cell_type": "markdown",
   "metadata": {},
   "source": [
    "### Building the Simulation Environment"
   ]
  },
  {
   "cell_type": "code",
   "execution_count": 11,
   "metadata": {},
   "outputs": [],
   "source": [
    "from bmtk.utils.sim_setup import build_env_bionet\n",
    "\n",
    "build_env_bionet(base_dir='.',\n",
    "                 network_dir='network',\n",
    "                 tstop=200.0, dt=0.1,\n",
    "                 report_vars=['v'],     # Record membrane potential and calcium (default soma)\n",
    "                 spikes_inputs=[('extnet',   # Name of population which spikes will be generated for\n",
    "                                'input/Asynchronous.h5'), ('drive', 'input/Drive.h5')],\n",
    "                 include_examples=False,    # Copies components files\n",
    "                 compile_mechanisms=False,   # Will try to compile NEURON mechanisms\n",
    "                 config_file = 'config.json'\n",
    "                )"
   ]
  },
  {
   "cell_type": "markdown",
   "metadata": {},
   "source": [
    "### Running the Simulation"
   ]
  },
  {
   "cell_type": "code",
   "execution_count": 12,
   "metadata": {},
   "outputs": [
    {
     "name": "stdout",
     "output_type": "stream",
     "text": [
      "2021-03-10 15:51:50,942 [INFO] Created log file\n"
     ]
    },
    {
     "name": "stderr",
     "output_type": "stream",
     "text": [
      "INFO:NEURONIOUtils:Created log file\n"
     ]
    },
    {
     "name": "stdout",
     "output_type": "stream",
     "text": [
      "2021-03-10 15:51:51,048 [INFO] Building cells.\n"
     ]
    },
    {
     "name": "stderr",
     "output_type": "stream",
     "text": [
      "INFO:NEURONIOUtils:Building cells.\n"
     ]
    },
    {
     "name": "stdout",
     "output_type": "stream",
     "text": [
      "2021-03-10 15:51:51,074 [INFO] Building recurrent connections\n"
     ]
    },
    {
     "name": "stderr",
     "output_type": "stream",
     "text": [
      "INFO:NEURONIOUtils:Building recurrent connections\n"
     ]
    },
    {
     "name": "stdout",
     "output_type": "stream",
     "text": [
      "2021-03-10 15:51:51,138 [INFO] Building virtual cell stimulations for extnet_spikes\n"
     ]
    },
    {
     "name": "stderr",
     "output_type": "stream",
     "text": [
      "INFO:NEURONIOUtils:Building virtual cell stimulations for extnet_spikes\n"
     ]
    },
    {
     "name": "stdout",
     "output_type": "stream",
     "text": [
      "2021-03-10 15:51:51,202 [INFO] Building virtual cell stimulations for drive_spikes\n"
     ]
    },
    {
     "name": "stderr",
     "output_type": "stream",
     "text": [
      "INFO:NEURONIOUtils:Building virtual cell stimulations for drive_spikes\n"
     ]
    },
    {
     "name": "stdout",
     "output_type": "stream",
     "text": [
      "2021-03-10 15:51:51,300 [INFO] Running simulation for 200.000 ms with the time step 0.100 ms\n"
     ]
    },
    {
     "name": "stderr",
     "output_type": "stream",
     "text": [
      "INFO:NEURONIOUtils:Running simulation for 200.000 ms with the time step 0.100 ms\n"
     ]
    },
    {
     "name": "stdout",
     "output_type": "stream",
     "text": [
      "2021-03-10 15:51:51,301 [INFO] Starting timestep: 0 at t_sim: 0.000 ms\n"
     ]
    },
    {
     "name": "stderr",
     "output_type": "stream",
     "text": [
      "INFO:NEURONIOUtils:Starting timestep: 0 at t_sim: 0.000 ms\n"
     ]
    },
    {
     "name": "stdout",
     "output_type": "stream",
     "text": [
      "2021-03-10 15:51:51,302 [INFO] Block save every 2000 steps\n"
     ]
    },
    {
     "name": "stderr",
     "output_type": "stream",
     "text": [
      "INFO:NEURONIOUtils:Block save every 2000 steps\n"
     ]
    },
    {
     "name": "stdout",
     "output_type": "stream",
     "text": [
      "2021-03-10 15:51:52,527 [INFO]     step:2000 t_sim:200.00 ms\n"
     ]
    },
    {
     "name": "stderr",
     "output_type": "stream",
     "text": [
      "INFO:NEURONIOUtils:    step:2000 t_sim:200.00 ms\n"
     ]
    },
    {
     "name": "stdout",
     "output_type": "stream",
     "text": [
      "2021-03-10 15:51:52,545 [INFO] Simulation completed in 1.245 seconds \n"
     ]
    },
    {
     "name": "stderr",
     "output_type": "stream",
     "text": [
      "INFO:NEURONIOUtils:Simulation completed in 1.245 seconds \n"
     ]
    }
   ],
   "source": [
    "from bmtk.simulator import bionet\n",
    "\n",
    "\n",
    "conf = bionet.Config.from_json('config.json')\n",
    "conf.build_env()\n",
    "net = bionet.BioNetwork.from_config(conf)\n",
    "sim = bionet.BioSimulator.from_config(conf, network=net)\n",
    "sim.run()"
   ]
  },
  {
   "cell_type": "markdown",
   "metadata": {},
   "source": [
    "## Displaying Results\n",
    "A Spike raster is shown of our RTM network"
   ]
  },
  {
   "cell_type": "code",
   "execution_count": 14,
   "metadata": {},
   "outputs": [
    {
     "data": {
      "image/png": "[encoded data removed]",
      "text/plain": [
       "<Figure size 432x288 with 2 Axes>"
      ]
     },
     "metadata": {
      "needs_background": "light"
     },
     "output_type": "display_data"
    },
    {
     "data": {
      "image/png": "[encoded data removed]",
      "text/plain": [
       "<Figure size 432x288 with 2 Axes>"
      ]
     },
     "execution_count": 14,
     "metadata": {},
     "output_type": "execute_result"
    }
   ],
   "source": [
    "from bmtk.analyzer.spike_trains import plot_raster, plot_rates_boxplot\n",
    "\n",
    "plot_raster(config_file='config.json', group_by='pop_name')\n",
    "\n",
    "# If the plot does not show, run the cell again."
   ]
  },
  {
   "cell_type": "markdown",
   "metadata": {},
   "source": [
    "The two plots are the same and show random asynchronous initialization with different external drives. \n",
    "\n",
    "This particular network tends toward becoming more asynchronous while the plot in Borgers' book tends toward synchony."
   ]
  },
  {
   "cell_type": "code",
   "execution_count": null,
   "metadata": {},
   "outputs": [],
   "source": []
  }
 ],
 "metadata": {
  "kernelspec": {
   "display_name": "Python 3",
   "language": "python",
   "name": "python3"
  },
  "language_info": {
   "codemirror_mode": {
    "name": "ipython",
    "version": 3
   },
   "file_extension": ".py",
   "mimetype": "text/x-python",
   "name": "python",
   "nbconvert_exporter": "python",
   "pygments_lexer": "ipython3",
   "version": "3.6.12"
  }
 },
 "nbformat": 4,
 "nbformat_minor": 2
}
