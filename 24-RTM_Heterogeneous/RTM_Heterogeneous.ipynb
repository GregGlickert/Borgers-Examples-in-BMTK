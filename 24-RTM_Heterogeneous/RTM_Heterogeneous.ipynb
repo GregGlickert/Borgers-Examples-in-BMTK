{
  "cells": [
    {
      "cell_type": "markdown",
      "metadata": {
        "id": "Yfb7hchsUwLy"
      },
      "source": [
        "# Chapter 24 - Asynchronous Initialization \n",
        "\n",
        "\n",
        "This notebook is a translation of an example in Christophe Borgers' book, \"An Introduction to Modeling Neuronal Dynamics\"\n",
        "\n",
        "In this tutorial,we display asynchronous initiation of 30 RTM neurons. These RTM neurons are connected to one another via randomly selected synaptic weights. Each RTM neuron also has a variable external drive.\n",
        "\n",
        "requirements:\n",
        "\n",
        " bmtk\n",
        "\n",
        " NEURON 7.4+"
      ]
    },
    {
      "cell_type": "markdown",
      "metadata": {
        "id": "h9lYp9ppUwL0"
      },
      "source": [
        "#### RTM Cell\n",
        "\n",
        "$\\alpha_{n} = 0.032*(v+52)/(1-e^{-(v+52)/5})$\n",
        "\n",
        "$\\beta_{n} = 0.5*e^{-(v+57)/40}$\n",
        "\n",
        "$\\alpha_{m} = 0.32*(v+54)/(1-e^{-(v+54)/4})$\n",
        "\n",
        "$\\beta_{m} = 0.28*(v+27)/(e^{(v+27)/5}-1)$\n",
        "\n",
        "$\\alpha_{h} = 0.128*e^{-(v+50)/18}$\n",
        "\n",
        "$\\beta_{h} = 4./(1+e^{-(v+27)/5})$"
      ]
    },
    {
      "cell_type": "markdown",
      "metadata": {
        "id": "28EnRryxUwL0"
      },
      "source": [
        "Compile .mod files"
      ]
    },
    {
      "cell_type": "code",
      "source": [
        "! pip install NEURON\n",
        "! pip install bmtk\n",
        "# as new version of neuron and bmtk come out we may need to install a specific version\n",
        "import os\n",
        "from os.path import normpath, sep, join\n",
        "\n",
        "root = 'Borgers-Examples-in-BMTK' # name of github repo\n",
        "folder = '24-RTM_Heterogeneous' # name of folder in Github just change this line \n",
        "pathlist = normpath(os.getcwd()).split(sep)\n",
        "if pathlist[-1] != folder:\n",
        "  rootidx = pathlist.index(root) if root in pathlist else -1\n",
        "  if rootidx>0:\n",
        "    os.chdir(join(sep,*pathlist[:rootidx]))\n",
        "  !git clone https://github.com/GregGlickert/Borgers-Examples-in-BMTK\n",
        "  os.chdir(join(root,folder))\n",
        "print(os.getcwd())\n",
        "%ls"
      ],
      "metadata": {
        "id": "LGrDYt3UUw8l",
        "outputId": "54e1895e-d948-43b0-84a2-803b745d2650",
        "colab": {
          "base_uri": "https://localhost:8080/"
        }
      },
      "execution_count": 1,
      "outputs": [
        {
          "output_type": "stream",
          "name": "stdout",
          "text": [
            "Collecting NEURON\n",
            "  Downloading NEURON-8.1.0-cp37-cp37m-manylinux_2_17_x86_64.manylinux2014_x86_64.whl (15.0 MB)\n",
            "\u001b[K     |████████████████████████████████| 15.0 MB 7.8 MB/s \n",
            "\u001b[?25hRequirement already satisfied: numpy>=1.9.3 in /usr/local/lib/python3.7/dist-packages (from NEURON) (1.21.5)\n",
            "Installing collected packages: NEURON\n",
            "Successfully installed NEURON-8.1.0\n",
            "Collecting bmtk\n",
            "  Downloading bmtk-1.0.5-py2.py3-none-any.whl (493 kB)\n",
            "\u001b[K     |████████████████████████████████| 493 kB 14.1 MB/s \n",
            "\u001b[?25hRequirement already satisfied: scipy in /usr/local/lib/python3.7/dist-packages (from bmtk) (1.4.1)\n",
            "Requirement already satisfied: h5py in /usr/local/lib/python3.7/dist-packages (from bmtk) (3.1.0)\n",
            "Requirement already satisfied: six in /usr/local/lib/python3.7/dist-packages (from bmtk) (1.15.0)\n",
            "Requirement already satisfied: jsonschema in /usr/local/lib/python3.7/dist-packages (from bmtk) (4.3.3)\n",
            "Requirement already satisfied: matplotlib in /usr/local/lib/python3.7/dist-packages (from bmtk) (3.2.2)\n",
            "Requirement already satisfied: numpy in /usr/local/lib/python3.7/dist-packages (from bmtk) (1.21.5)\n",
            "Requirement already satisfied: pandas in /usr/local/lib/python3.7/dist-packages (from bmtk) (1.3.5)\n",
            "Requirement already satisfied: scikit-image in /usr/local/lib/python3.7/dist-packages (from bmtk) (0.18.3)\n",
            "Requirement already satisfied: sympy in /usr/local/lib/python3.7/dist-packages (from bmtk) (1.7.1)\n",
            "Requirement already satisfied: cached-property in /usr/local/lib/python3.7/dist-packages (from h5py->bmtk) (1.5.2)\n",
            "Requirement already satisfied: typing-extensions in /usr/local/lib/python3.7/dist-packages (from jsonschema->bmtk) (3.10.0.2)\n",
            "Requirement already satisfied: importlib-resources>=1.4.0 in /usr/local/lib/python3.7/dist-packages (from jsonschema->bmtk) (5.4.0)\n",
            "Requirement already satisfied: pyrsistent!=0.17.0,!=0.17.1,!=0.17.2,>=0.14.0 in /usr/local/lib/python3.7/dist-packages (from jsonschema->bmtk) (0.18.1)\n",
            "Requirement already satisfied: importlib-metadata in /usr/local/lib/python3.7/dist-packages (from jsonschema->bmtk) (4.11.3)\n",
            "Requirement already satisfied: attrs>=17.4.0 in /usr/local/lib/python3.7/dist-packages (from jsonschema->bmtk) (21.4.0)\n",
            "Requirement already satisfied: zipp>=3.1.0 in /usr/local/lib/python3.7/dist-packages (from importlib-resources>=1.4.0->jsonschema->bmtk) (3.7.0)\n",
            "Requirement already satisfied: cycler>=0.10 in /usr/local/lib/python3.7/dist-packages (from matplotlib->bmtk) (0.11.0)\n",
            "Requirement already satisfied: kiwisolver>=1.0.1 in /usr/local/lib/python3.7/dist-packages (from matplotlib->bmtk) (1.4.0)\n",
            "Requirement already satisfied: python-dateutil>=2.1 in /usr/local/lib/python3.7/dist-packages (from matplotlib->bmtk) (2.8.2)\n",
            "Requirement already satisfied: pyparsing!=2.0.4,!=2.1.2,!=2.1.6,>=2.0.1 in /usr/local/lib/python3.7/dist-packages (from matplotlib->bmtk) (3.0.7)\n",
            "Requirement already satisfied: pytz>=2017.3 in /usr/local/lib/python3.7/dist-packages (from pandas->bmtk) (2018.9)\n",
            "Requirement already satisfied: imageio>=2.3.0 in /usr/local/lib/python3.7/dist-packages (from scikit-image->bmtk) (2.4.1)\n",
            "Requirement already satisfied: PyWavelets>=1.1.1 in /usr/local/lib/python3.7/dist-packages (from scikit-image->bmtk) (1.3.0)\n",
            "Requirement already satisfied: networkx>=2.0 in /usr/local/lib/python3.7/dist-packages (from scikit-image->bmtk) (2.6.3)\n",
            "Requirement already satisfied: pillow!=7.1.0,!=7.1.1,>=4.3.0 in /usr/local/lib/python3.7/dist-packages (from scikit-image->bmtk) (7.1.2)\n",
            "Requirement already satisfied: tifffile>=2019.7.26 in /usr/local/lib/python3.7/dist-packages (from scikit-image->bmtk) (2021.11.2)\n",
            "Requirement already satisfied: mpmath>=0.19 in /usr/local/lib/python3.7/dist-packages (from sympy->bmtk) (1.2.1)\n",
            "Installing collected packages: bmtk\n",
            "Successfully installed bmtk-1.0.5\n",
            "Cloning into 'Borgers-Examples-in-BMTK'...\n",
            "remote: Enumerating objects: 849, done.\u001b[K\n",
            "remote: Counting objects: 100% (849/849), done.\u001b[K\n",
            "remote: Compressing objects: 100% (466/466), done.\u001b[K\n",
            "remote: Total 849 (delta 449), reused 724 (delta 357), pack-reused 0\u001b[K\n",
            "Receiving objects: 100% (849/849), 30.76 MiB | 23.40 MiB/s, done.\n",
            "Resolving deltas: 100% (449/449), done.\n",
            "/content/Borgers-Examples-in-BMTK/24-RTM_Heterogeneous\n",
            " \u001b[0m\u001b[01;34mcomponents\u001b[0m/  'RTM - Heterogeneous.ipynb'\n"
          ]
        }
      ]
    },
    {
      "cell_type": "code",
      "execution_count": 2,
      "metadata": {
        "id": "cVkjrjoMUwL0",
        "outputId": "a84d5ac9-2734-450e-d162-a00a967d4dca",
        "colab": {
          "base_uri": "https://localhost:8080/"
        }
      },
      "outputs": [
        {
          "output_type": "stream",
          "name": "stdout",
          "text": [
            "0\n"
          ]
        }
      ],
      "source": [
        "import os\n",
        "\n",
        "print(os.system('nrnivmodl components/mechanisms')) # compile modfiles. Return 0 for success, 1 for failure."
      ]
    },
    {
      "cell_type": "markdown",
      "metadata": {
        "id": "9Ad88nQ9UwL1"
      },
      "source": [
        "#### Creating 30 cell RTM network with variable synaptic weight connections"
      ]
    },
    {
      "cell_type": "code",
      "execution_count": 3,
      "metadata": {
        "id": "nfQgu70BUwL1"
      },
      "outputs": [],
      "source": [
        "import numpy as np\n",
        "import logging\n",
        "\n",
        "from bmtk.builder.networks import NetworkBuilder\n",
        "\n",
        "n_E =30\n",
        "\n",
        "net = NetworkBuilder('network')\n",
        "net.add_nodes(N=n_E, pop_name='Exc',     # N = number of excitatory cells\n",
        "        model_type='biophysical',\n",
        "        model_template='hoc:RTMExcCell', # RTMExcCell hoc definition\n",
        "        morphology='blank.swc')"
      ]
    },
    {
      "cell_type": "markdown",
      "metadata": {
        "id": "INlA2eKwUwL1"
      },
      "source": [
        "Add excitatory connection from each RTM cell to every other RTM cell in the network and save"
      ]
    },
    {
      "cell_type": "code",
      "execution_count": 4,
      "metadata": {
        "id": "KdY1eOQrUwL2",
        "outputId": "3d5d69bd-4439-410a-df53-e9c8de77e4c8",
        "colab": {
          "base_uri": "https://localhost:8080/"
        }
      },
      "outputs": [
        {
          "output_type": "stream",
          "name": "stderr",
          "text": [
            "/usr/local/lib/python3.7/dist-packages/ipykernel_launcher.py:25: DeprecationWarning: `np.float` is a deprecated alias for the builtin `float`. To silence this warning, use `float` by itself. Doing this will not modify any behavior and is safe. If you specifically wanted the numpy scalar type, use `np.float64` here.\n",
            "Deprecated in NumPy 1.20; for more details and guidance: https://numpy.org/devdocs/release/1.20.0-notes.html#deprecations\n"
          ]
        }
      ],
      "source": [
        "# add 1 synaptic connection from each cell to every other cell avoiding self connections\n",
        "def one_each(source, target):\n",
        "    if source['node_id']==target['node_id']:\n",
        "        return 1\n",
        "    return 0\n",
        "\n",
        "\n",
        "def rand_syn_weight(source, target, min_weight, max_weight):\n",
        "    sec_x=0.5\n",
        "    sec_id=0\n",
        "    return np.random.uniform(min_weight, max_weight), sec_x, sec_id\n",
        "\n",
        "\n",
        "conn = net.add_edges(source={'pop_name': 'Exc'}, target={'pop_name': 'Exc'},\n",
        "              connection_rule=one_each, # Note that we are passing in the function name but not calling it\n",
        "              connection_params={},\n",
        "              target_sections=['soma'],\n",
        "              dynamics_params='PING_ExcToExc.json',     \n",
        "              model_template='exp2syn',\n",
        "              delay=0)\n",
        "\n",
        "conn.add_properties(['syn_weight','sec_x','sec_id'],\n",
        "                    rule=rand_syn_weight,\n",
        "                    rule_params={'min_weight': 0.00625, 'max_weight': 0.00825},\n",
        "                    dtypes=[np.float, np.uint, np.uint])"
      ]
    },
    {
      "cell_type": "markdown",
      "metadata": {
        "id": "u6MmClriUwL2"
      },
      "source": [
        "Build and save connections"
      ]
    },
    {
      "cell_type": "code",
      "execution_count": 5,
      "metadata": {
        "id": "40W3x5m0UwL3"
      },
      "outputs": [],
      "source": [
        "net.build()\n",
        "net.save_nodes(output_dir='network')\n",
        "net.save_edges(output_dir='network')"
      ]
    },
    {
      "cell_type": "markdown",
      "metadata": {
        "id": "c_EaznQgUwL3"
      },
      "source": [
        "### Create external network to asynchronously start each RTM neuron"
      ]
    },
    {
      "cell_type": "code",
      "execution_count": 6,
      "metadata": {
        "id": "LFuOxA8yUwL3"
      },
      "outputs": [],
      "source": [
        "extnet = NetworkBuilder('extnet')\n",
        "extnet.add_nodes(N=30,pop_name='Inp',\n",
        "            potential='exc',\n",
        "            model_type='virtual')"
      ]
    },
    {
      "cell_type": "code",
      "execution_count": 7,
      "metadata": {
        "id": "IBRyJuABUwL3",
        "outputId": "33f4cea3-4569-4431-e747-6d2a23b28003",
        "colab": {
          "base_uri": "https://localhost:8080/"
        }
      },
      "outputs": [
        {
          "output_type": "execute_result",
          "data": {
            "text/plain": [
              "<bmtk.builder.connection_map.ConnectionMap at 0x7f26a1798ed0>"
            ]
          },
          "metadata": {},
          "execution_count": 7
        }
      ],
      "source": [
        "def one_each(source, target):\n",
        "    if source['node_id']==target['node_id']:\n",
        "        return 1\n",
        "    return 0\n",
        "\n",
        "extnet.add_edges(source={'pop_name':'Inp'}, target=net.nodes(),\n",
        "                   connection_rule=one_each,\n",
        "                   syn_weight=0.1,               \n",
        "                   delay=0,\n",
        "                   weight_function=None,\n",
        "                   target_sections=['soma'],\n",
        "                   distance_range=[0.0, 150],\n",
        "                   dynamics_params='PING_ExcToExc.json',\n",
        "                   model_template='exp2syn')"
      ]
    },
    {
      "cell_type": "code",
      "execution_count": 8,
      "metadata": {
        "id": "TrEQXbcYUwL4"
      },
      "outputs": [],
      "source": [
        "extnet.build()\n",
        "extnet.save_nodes(output_dir='network')\n",
        "extnet.save_edges(output_dir='network')"
      ]
    },
    {
      "cell_type": "markdown",
      "metadata": {
        "id": "EixRsIU1UwL4"
      },
      "source": [
        "We now need to create an initial spike for each of our cells with varying phase"
      ]
    },
    {
      "cell_type": "code",
      "execution_count": 9,
      "metadata": {
        "id": "X7ANY51fUwL4"
      },
      "outputs": [],
      "source": [
        "from bmtk.utils.reports.spike_trains import SpikeTrains\n",
        "\n",
        "#create array of start times for heterogeneous initialization\n",
        "start = np.random.rand(n_E,1)* 25 # array of 30 with times from 0 to 25\n",
        "\n",
        "spikes = SpikeTrains(population='extnet')\n",
        "for i in range(30):\n",
        "    spikes.add_spike(node_id=i,timestamp=start[i])\n",
        "spikes.to_sonata('input/Asynchronous.h5')"
      ]
    },
    {
      "cell_type": "markdown",
      "metadata": {
        "id": "DF5RwE71UwL5"
      },
      "source": [
        "### External Drives\n",
        "\n",
        "BMTK does not allow for multiple current clamps connecting to different cells. To approximate this feature, we will add a second external network that has variable synaptic weight connections to our RTM network."
      ]
    },
    {
      "cell_type": "code",
      "execution_count": 10,
      "metadata": {
        "id": "Qtjxk7npUwL5"
      },
      "outputs": [],
      "source": [
        "n_In=30\n",
        "drive = NetworkBuilder('drive')\n",
        "drive.add_nodes(N=n_In,pop_name='Inp_drv',\n",
        "            potential='inh',\n",
        "            model_type='virtual')"
      ]
    },
    {
      "cell_type": "code",
      "execution_count": 11,
      "metadata": {
        "id": "tYIPhJ0EUwL5",
        "outputId": "7d6007a8-6cf8-4ab3-b65d-17b223a8b12f",
        "colab": {
          "base_uri": "https://localhost:8080/"
        }
      },
      "outputs": [
        {
          "output_type": "stream",
          "name": "stderr",
          "text": [
            "/usr/local/lib/python3.7/dist-packages/ipykernel_launcher.py:12: DeprecationWarning: `np.float` is a deprecated alias for the builtin `float`. To silence this warning, use `float` by itself. Doing this will not modify any behavior and is safe. If you specifically wanted the numpy scalar type, use `np.float64` here.\n",
            "Deprecated in NumPy 1.20; for more details and guidance: https://numpy.org/devdocs/release/1.20.0-notes.html#deprecations\n",
            "  if sys.path[0] == '':\n"
          ]
        }
      ],
      "source": [
        "conn = drive.add_edges(source={'pop_name':'Inp_drv'}, target=net.nodes(),\n",
        "                    connection_rule=one_each,              \n",
        "                    delay=0,\n",
        "                    target_sections=['soma'],\n",
        "                    distance_range=[0.0, 1.0],\n",
        "                    dynamics_params='Drive.json',\n",
        "                    model_template='expsyn')\n",
        "\n",
        "conn.add_properties(['syn_weight','sec_x','sec_id'],\n",
        "                    rule=rand_syn_weight,\n",
        "                    rule_params={'min_weight': 0.02, 'max_weight': 0.025},\n",
        "                    dtypes=[np.float, np.uint, np.uint])"
      ]
    },
    {
      "cell_type": "code",
      "execution_count": 12,
      "metadata": {
        "id": "RPghir6XUwL5"
      },
      "outputs": [],
      "source": [
        "drive.build()\n",
        "drive.save_nodes(output_dir='network')\n",
        "drive.save_edges(output_dir='network')"
      ]
    },
    {
      "cell_type": "code",
      "execution_count": 13,
      "metadata": {
        "id": "7X_7oYMNUwL5"
      },
      "outputs": [],
      "source": [
        "from bmtk.utils.reports.spike_trains import SpikeTrains\n",
        "\n",
        "spikes = SpikeTrains(population='drive')\n",
        "for i in range(30):\n",
        "    spikes.add_spike(node_id=i,timestamp=0)\n",
        "spikes.to_sonata('input/Drive.h5')"
      ]
    },
    {
      "cell_type": "markdown",
      "metadata": {
        "id": "0Ck6dl5sUwL5"
      },
      "source": [
        "The RTM neurons also have a current clamp input that was defined earlier in our \"frozen noise\""
      ]
    },
    {
      "cell_type": "markdown",
      "metadata": {
        "id": "kh7W3L0yUwL5"
      },
      "source": [
        "### Building the Simulation Environment"
      ]
    },
    {
      "cell_type": "code",
      "execution_count": 14,
      "metadata": {
        "id": "Ivd4pO0kUwL5"
      },
      "outputs": [],
      "source": [
        "from bmtk.utils.sim_setup import build_env_bionet\n",
        "\n",
        "build_env_bionet(base_dir='.',\n",
        "                 network_dir='network',\n",
        "                 tstop=200.0, dt=0.1,\n",
        "                 report_vars=['v'],     # Record membrane potential and calcium (default soma)\n",
        "                 spikes_inputs=[('extnet',   # Name of population which spikes will be generated for\n",
        "                                'input/Asynchronous.h5'), ('drive', 'input/Drive.h5')],\n",
        "                 include_examples=False,    # Copies components files\n",
        "                 compile_mechanisms=False,   # Will try to compile NEURON mechanisms\n",
        "                 config_file = 'config.json'\n",
        "                )"
      ]
    },
    {
      "cell_type": "markdown",
      "metadata": {
        "id": "EXVRK2o7UwL5"
      },
      "source": [
        "### Running the Simulation"
      ]
    },
    {
      "cell_type": "code",
      "execution_count": 15,
      "metadata": {
        "id": "rji3o4ioUwL6",
        "outputId": "f767196d-22d6-4323-df93-24367b54af27",
        "colab": {
          "base_uri": "https://localhost:8080/"
        }
      },
      "outputs": [
        {
          "output_type": "stream",
          "name": "stdout",
          "text": [
            "2022-04-10 18:07:29,175 [INFO] Created log file\n"
          ]
        },
        {
          "output_type": "stream",
          "name": "stderr",
          "text": [
            "INFO:NEURONIOUtils:Created log file\n"
          ]
        },
        {
          "output_type": "stream",
          "name": "stdout",
          "text": [
            "2022-04-10 18:07:29,275 [INFO] Building cells.\n"
          ]
        },
        {
          "output_type": "stream",
          "name": "stderr",
          "text": [
            "INFO:NEURONIOUtils:Building cells.\n"
          ]
        },
        {
          "output_type": "stream",
          "name": "stdout",
          "text": [
            "2022-04-10 18:07:29,300 [INFO] Building recurrent connections\n"
          ]
        },
        {
          "output_type": "stream",
          "name": "stderr",
          "text": [
            "INFO:NEURONIOUtils:Building recurrent connections\n"
          ]
        },
        {
          "output_type": "stream",
          "name": "stdout",
          "text": [
            "2022-04-10 18:07:29,358 [INFO] Building virtual cell stimulations for extnet_spikes\n"
          ]
        },
        {
          "output_type": "stream",
          "name": "stderr",
          "text": [
            "INFO:NEURONIOUtils:Building virtual cell stimulations for extnet_spikes\n"
          ]
        },
        {
          "output_type": "stream",
          "name": "stdout",
          "text": [
            "2022-04-10 18:07:29,422 [INFO] Building virtual cell stimulations for drive_spikes\n"
          ]
        },
        {
          "output_type": "stream",
          "name": "stderr",
          "text": [
            "INFO:NEURONIOUtils:Building virtual cell stimulations for drive_spikes\n"
          ]
        },
        {
          "output_type": "stream",
          "name": "stdout",
          "text": [
            "2022-04-10 18:07:29,507 [INFO] Running simulation for 200.000 ms with the time step 0.100 ms\n"
          ]
        },
        {
          "output_type": "stream",
          "name": "stderr",
          "text": [
            "INFO:NEURONIOUtils:Running simulation for 200.000 ms with the time step 0.100 ms\n"
          ]
        },
        {
          "output_type": "stream",
          "name": "stdout",
          "text": [
            "2022-04-10 18:07:29,511 [INFO] Starting timestep: 0 at t_sim: 0.000 ms\n"
          ]
        },
        {
          "output_type": "stream",
          "name": "stderr",
          "text": [
            "INFO:NEURONIOUtils:Starting timestep: 0 at t_sim: 0.000 ms\n"
          ]
        },
        {
          "output_type": "stream",
          "name": "stdout",
          "text": [
            "2022-04-10 18:07:29,515 [INFO] Block save every 2000 steps\n"
          ]
        },
        {
          "output_type": "stream",
          "name": "stderr",
          "text": [
            "INFO:NEURONIOUtils:Block save every 2000 steps\n"
          ]
        },
        {
          "output_type": "stream",
          "name": "stdout",
          "text": [
            "2022-04-10 18:07:30,840 [INFO]     step:2000 t_sim:200.00 ms\n"
          ]
        },
        {
          "output_type": "stream",
          "name": "stderr",
          "text": [
            "INFO:NEURONIOUtils:    step:2000 t_sim:200.00 ms\n"
          ]
        },
        {
          "output_type": "stream",
          "name": "stdout",
          "text": [
            "2022-04-10 18:07:30,856 [INFO] Simulation completed in 1.349 seconds \n"
          ]
        },
        {
          "output_type": "stream",
          "name": "stderr",
          "text": [
            "INFO:NEURONIOUtils:Simulation completed in 1.349 seconds \n"
          ]
        }
      ],
      "source": [
        "from bmtk.simulator import bionet\n",
        "\n",
        "#### The following two lines are not needed in newer versions of BMTK but retained for compatibility\n",
        "from bmtk.simulator.bionet.default_setters.cell_models import loadHOC\n",
        "bionet.pyfunction_cache.add_cell_model(loadHOC, directive='hoc', model_type='biophysical')\n",
        "####\n",
        "\n",
        "conf = bionet.Config.from_json('config.json')\n",
        "conf.build_env()\n",
        "net = bionet.BioNetwork.from_config(conf)\n",
        "sim = bionet.BioSimulator.from_config(conf, network=net)\n",
        "sim.run()"
      ]
    },
    {
      "cell_type": "markdown",
      "metadata": {
        "id": "VfhByS-mUwL6"
      },
      "source": [
        "## Displaying Results\n",
        "A Spike raster is shown of our RTM network"
      ]
    },
    {
      "cell_type": "code",
      "execution_count": 16,
      "metadata": {
        "id": "jXgifrWmUwL6",
        "colab": {
          "base_uri": "https://localhost:8080/",
          "height": 573
        },
        "outputId": "5ce0188c-425b-4b88-9fe2-70a389522663"
      },
      "outputs": [
        {
          "output_type": "display_data",
          "data": {
            "text/plain": [
              "<Figure size 432x288 with 2 Axes>"
            ],
            "image/png": "[encoded data removed]"
          },
          "metadata": {
            "needs_background": "light"
          }
        },
        {
          "output_type": "execute_result",
          "data": {
            "text/plain": [
              "<Figure size 432x288 with 2 Axes>"
            ],
            "image/png": "[encoded data removed]"
          },
          "metadata": {},
          "execution_count": 16
        }
      ],
      "source": [
        "from bmtk.analyzer.spike_trains import plot_raster, plot_rates_boxplot\n",
        "\n",
        "plot_raster(config_file='config.json', group_by='pop_name')\n",
        "\n",
        "# If the plot does not show, run the cell again."
      ]
    },
    {
      "cell_type": "markdown",
      "metadata": {
        "id": "VZDwIlmzUwL6"
      },
      "source": [
        "The two plots are the same and show random asynchronous initialization with different external drives. \n",
        "\n",
        "This particular network tends toward becoming more asynchronous while the plot in Borgers' book tends toward synchony."
      ]
    },
    {
      "cell_type": "code",
      "execution_count": 16,
      "metadata": {
        "id": "R1LxuMzFUwL6"
      },
      "outputs": [],
      "source": [
        ""
      ]
    }
  ],
  "metadata": {
    "kernelspec": {
      "display_name": "Python 3",
      "language": "python",
      "name": "python3"
    },
    "language_info": {
      "codemirror_mode": {
        "name": "ipython",
        "version": 3
      },
      "file_extension": ".py",
      "mimetype": "text/x-python",
      "name": "python",
      "nbconvert_exporter": "python",
      "pygments_lexer": "ipython3",
      "version": "3.6.12"
    },
    "colab": {
      "name": "RTM_Heterogeneous.ipynb",
      "provenance": []
    }
  },
  "nbformat": 4,
  "nbformat_minor": 0
}