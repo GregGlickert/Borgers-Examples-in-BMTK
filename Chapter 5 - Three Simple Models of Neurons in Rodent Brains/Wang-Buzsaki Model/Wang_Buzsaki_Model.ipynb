{
 "cells": [
  {
   "cell_type": "markdown",
   "metadata": {
    "id": "qfVV6a2L8as9"
   },
   "source": [
    "# Chapter 5 Wang-Buzsaki Model"
   ]
  },
  {
   "cell_type": "markdown",
   "metadata": {
    "id": "c20o8Iwt8as-"
   },
   "source": [
    "This notebook is a translation of an example in Christophe Borgers' book, \"An Introduction to Modeling Neuronal Dynamics\"\n",
    "\n",
    "requirements:\n",
    "\n",
    " bmtk\n",
    "\n",
    " NEURON 7.4+"
   ]
  },
  {
   "cell_type": "markdown",
   "metadata": {
    "id": "gtd-Zktz8as_"
   },
   "source": [
    "### WB cell dynamics\n",
    "\n",
    "Voltage and Gating Variables:"
   ]
  },
  {
   "cell_type": "markdown",
   "metadata": {
    "id": "9FgAeput8as_"
   },
   "source": [
    "$C \\frac{dV_{m}}{dt} = -\\bar{g}_{K}n^4(V_{m} - V_{K}) - \\bar{g}_{Na}m^3h(V_{m} - V_{Na}) - \\bar{g}_{l}(V_{m} - V_{l}) + I$\n",
    "\n",
    "$\\frac{dn}{dt} = \\alpha_{n}(V_{m})(1-n) - \\beta_n(V_m)n$\n",
    "\n",
    "$\\frac{dm}{dt} = \\alpha_{m}(V_{m})(1-m) - \\beta_m(V_m)m$\n",
    "\n",
    "$\\frac{dh}{dt} = \\alpha_{h}(V_{m})(1-h) - \\beta_h(V_m)h$\n",
    "\n",
    "\n",
    "\n",
    "WB Cell Specific Properties\n",
    "\n",
    "$\\alpha_{n} = -0.01*(v+34)/(e^{-0.1*(v+34)}-1)$\n",
    "\n",
    "$\\beta_{n} = 0.125*e^{-(v+44)/80}$\n",
    "\n",
    "$\\alpha_{m} = 0.1*(v+35)/(1-e^{-(v+35)/10})$\n",
    "\n",
    "$\\beta_{m} = 4*e^{-(v+60)/18}$\n",
    "\n",
    "$\\alpha_{h} = 0.07*e^{-(v+58)/20}$\n",
    "\n",
    "$\\beta_{h} = 1/(e^{-0.1*(v+28)}+1)$\n"
   ]
  },
  {
   "cell_type": "markdown",
   "metadata": {
    "id": "10kSFMPF8as_"
   },
   "source": [
    "## Plotting gating variables\n",
    "Each equation was pulled from the na_wb.mod and k_wb.mod files. (Under components\\\\mechanisms)\n",
    "\n",
    "These files describe sodium and potassium channel dynamics. The m and h gates are activation and inactivation gate variables respectively for the sodium channel. The n gate variable describes the potassium activation dynamics."
   ]
  },
  {
   "cell_type": "code",
   "execution_count": 1,
   "metadata": {
    "colab": {
     "base_uri": "https://localhost:8080/"
    },
    "id": "h0-W66E98bmL",
    "outputId": "2bfd52e4-fcd5-4091-8426-a3b0e52b7733"
   },
   "outputs": [
    {
     "name": "stdout",
     "output_type": "stream",
     "text": [
      "Cloning into 'Borgers-Examples-in-BMTK'...\n",
      "remote: Enumerating objects: 874, done.\u001b[K\n",
      "remote: Counting objects: 100% (874/874), done.\u001b[K\n",
      "remote: Compressing objects: 100% (489/489), done.\u001b[K\n",
      "remote: Total 874 (delta 462), reused 718 (delta 357), pack-reused 0\u001b[K\n",
      "Receiving objects: 100% (874/874), 30.76 MiB | 6.66 MiB/s, done.\n",
      "Resolving deltas: 100% (462/462), done.\n",
      "/Users/gregglickert/Desktop/Tutorials with Errors/Borgers-Examples-in-BMTK/Chapter 5 - Three Simple Models of Neurons in Rodent Brains/Wang-Buzsaki Model\n",
      "Wang Buzsaki Model.ipynb  \u001b[34mcomponents\u001b[m\u001b[m/               \u001b[34minput\u001b[m\u001b[m/\n"
     ]
    }
   ],
   "source": [
    "RunningInCOLAB = 'google.colab' in str(get_ipython())\n",
    "\n",
    "if RunningInCOLAB:\n",
    "    ! pip install -q h5py==2.9.0\n",
    "    ! pip install -q bmtk==0.0.9\n",
    "    ! pip install -q neuron==8.0.0\n",
    "# as new version of neuron and bmtk come out we may need to install a specific version\n",
    "import os\n",
    "from os.path import normpath, sep, join\n",
    "\n",
    "root = 'Borgers-Examples-in-BMTK' # name of github repo\n",
    "folder = 'Chapter 5 - Three Simple Models of Neurons in Rodent Brains/Wang-Buzsaki Model' # name of folder in Github just change this line \n",
    "pathlist = normpath(os.getcwd()).split(sep)\n",
    "if pathlist[-1] != folder:\n",
    "  rootidx = pathlist.index(root) if root in pathlist else -1\n",
    "  if rootidx>0:\n",
    "    os.chdir(join(sep,*pathlist[:rootidx]))\n",
    "  !git clone https://github.com/GregGlickert/Borgers-Examples-in-BMTK\n",
    "  os.chdir(join(root,folder))\n",
    "print(os.getcwd())\n",
    "%ls"
   ]
  },
  {
   "cell_type": "code",
   "execution_count": 2,
   "metadata": {
    "colab": {
     "base_uri": "https://localhost:8080/"
    },
    "id": "aajPCPiu_3Gq",
    "outputId": "f00b85ae-f0a0-4fc9-83f0-e7f5531843b8"
   },
   "outputs": [
    {
     "name": "stdout",
     "output_type": "stream",
     "text": [
      "Wang Buzsaki Model.ipynb  \u001b[34mcomponents\u001b[m\u001b[m/               \u001b[34minput\u001b[m\u001b[m/\n",
      "/Users/gregglickert/Desktop/Tutorials with Errors/Borgers-Examples-in-BMTK/Chapter 5 - Three Simple Models of Neurons in Rodent Brains/Wang-Buzsaki Model/components/mechanisms\n",
      "/usr/bin/xcrun\n",
      "/Users/gregglickert/Desktop/Tutorials with Errors/Borgers-Examples-in-BMTK/Chapter 5 - Three Simple Models of Neurons in Rodent Brains/Wang-Buzsaki Model/components/mechanisms\n",
      "-n Mod files:\n",
      "-n  \"./k_wb.mod\"\n",
      "-n  \"./leak.mod\"\n",
      "-n  \"./na_wb.mod\"\n",
      "-n  \"./vecevent.mod\"\n",
      "\n",
      "\n",
      "Creating x86_64 directory for .o files.\n",
      "\n",
      "COBJS=''\n",
      " -> \u001b[32mCompiling\u001b[0m mod_func.c\n",
      " -> \u001b[32mNMODL\u001b[0m ../k_wb.mod\n",
      " -> \u001b[32mNMODL\u001b[0m ../leak.mod\n",
      "(cd \"..\"; MODLUNIT=/Users/gregglickert/opt/anaconda3/envs/NeuroLab/lib/python3.7/site-packages/neuron/.data/share/nrn/lib/nrnunits.lib /Users/gregglickert/opt/anaconda3/envs/NeuroLab/lib/python3.7/site-packages/neuron/.data/bin/nocmodl k_wb.mod -o \"/Users/gregglickert/Desktop/Tutorials with Errors/Borgers-Examples-in-BMTK/Chapter 5 - Three Simple Models of Neurons in Rodent Brains/Wang-Buzsaki Model/components/mechanisms/x86_64\")\n",
      " -> \u001b[32mNMODL\u001b[0m ../na_wb.mod\n",
      "(cd \"..\"; MODLUNIT=/Users/gregglickert/opt/anaconda3/envs/NeuroLab/lib/python3.7/site-packages/neuron/.data/share/nrn/lib/nrnunits.lib /Users/gregglickert/opt/anaconda3/envs/NeuroLab/lib/python3.7/site-packages/neuron/.data/bin/nocmodl leak.mod -o \"/Users/gregglickert/Desktop/Tutorials with Errors/Borgers-Examples-in-BMTK/Chapter 5 - Three Simple Models of Neurons in Rodent Brains/Wang-Buzsaki Model/components/mechanisms/x86_64\")\n",
      "(cd \"..\"; MODLUNIT=/Users/gregglickert/opt/anaconda3/envs/NeuroLab/lib/python3.7/site-packages/neuron/.data/share/nrn/lib/nrnunits.lib /Users/gregglickert/opt/anaconda3/envs/NeuroLab/lib/python3.7/site-packages/neuron/.data/bin/nocmodl na_wb.mod -o \"/Users/gregglickert/Desktop/Tutorials with Errors/Borgers-Examples-in-BMTK/Chapter 5 - Three Simple Models of Neurons in Rodent Brains/Wang-Buzsaki Model/components/mechanisms/x86_64\")\n",
      "gcc -O2   -I.   -I/Users/gregglickert/opt/anaconda3/envs/NeuroLab/lib/python3.7/site-packages/neuron/.data/include  -I/usr/local/Cellar/open-mpi/4.1.0/include -fPIC -c mod_func.c -o mod_func.o\n",
      "Translating leak.mod into /Users/gregglickert/Desktop/Tutorials with Errors/Borgers-Examples-in-BMTK/Chapter 5 - Three Simple Models of Neurons in Rodent Brains/Wang-Buzsaki Model/components/mechanisms/x86_64/leak.c\n",
      "Translating na_wb.mod into /Users/gregglickert/Desktop/Tutorials with Errors/Borgers-Examples-in-BMTK/Chapter 5 - Three Simple Models of Neurons in Rodent Brains/Wang-Buzsaki Model/components/mechanisms/x86_64/na_wb.c\n",
      "Translating k_wb.mod into /Users/gregglickert/Desktop/Tutorials with Errors/Borgers-Examples-in-BMTK/Chapter 5 - Three Simple Models of Neurons in Rodent Brains/Wang-Buzsaki Model/components/mechanisms/x86_64/k_wb.c\n",
      "Thread Safe\n",
      "Thread Safe\n",
      "Thread Safe\n",
      " -> \u001b[32mCompiling\u001b[0m k_wb.c\n",
      " -> \u001b[32mNMODL\u001b[0m ../vecevent.mod\n",
      "gcc -O2   -I\"..\" -I.   -I/Users/gregglickert/opt/anaconda3/envs/NeuroLab/lib/python3.7/site-packages/neuron/.data/include  -I/usr/local/Cellar/open-mpi/4.1.0/include -fPIC -c k_wb.c -o k_wb.o\n",
      " -> \u001b[32mCompiling\u001b[0m leak.c\n",
      "(cd \"..\"; MODLUNIT=/Users/gregglickert/opt/anaconda3/envs/NeuroLab/lib/python3.7/site-packages/neuron/.data/share/nrn/lib/nrnunits.lib /Users/gregglickert/opt/anaconda3/envs/NeuroLab/lib/python3.7/site-packages/neuron/.data/bin/nocmodl vecevent.mod -o \"/Users/gregglickert/Desktop/Tutorials with Errors/Borgers-Examples-in-BMTK/Chapter 5 - Three Simple Models of Neurons in Rodent Brains/Wang-Buzsaki Model/components/mechanisms/x86_64\")\n",
      "gcc -O2   -I\"..\" -I.   -I/Users/gregglickert/opt/anaconda3/envs/NeuroLab/lib/python3.7/site-packages/neuron/.data/include  -I/usr/local/Cellar/open-mpi/4.1.0/include -fPIC -c leak.c -o leak.o\n",
      "Translating vecevent.mod into /Users/gregglickert/Desktop/Tutorials with Errors/Borgers-Examples-in-BMTK/Chapter 5 - Three Simple Models of Neurons in Rodent Brains/Wang-Buzsaki Model/components/mechanisms/x86_64/vecevent.c\n",
      "Notice: ARTIFICIAL_CELL is a synonym for POINT_PROCESS which hints that it\n",
      "only affects and is affected by discrete events. As such it is not\n",
      "located in a section and is not associated with an integrator\n",
      "Thread Safe\n",
      " -> \u001b[32mCompiling\u001b[0m na_wb.c\n",
      "gcc -O2   -I\"..\" -I.   -I/Users/gregglickert/opt/anaconda3/envs/NeuroLab/lib/python3.7/site-packages/neuron/.data/include  -I/usr/local/Cellar/open-mpi/4.1.0/include -fPIC -c na_wb.c -o na_wb.o\n",
      " -> \u001b[32mCompiling\u001b[0m vecevent.c\n",
      "gcc -O2   -I\"..\" -I.   -I/Users/gregglickert/opt/anaconda3/envs/NeuroLab/lib/python3.7/site-packages/neuron/.data/include  -I/usr/local/Cellar/open-mpi/4.1.0/include -fPIC -c vecevent.c -o vecevent.o\n",
      " => \u001b[32mLINKING\u001b[0m shared library ./libnrnmech.dylib\n",
      "g++ -O2 -DVERSION_INFO='8.0.0' -std=c++11 -dynamiclib -Wl,-headerpad_max_install_names -undefined dynamic_lookup -fPIC  -I /Users/gregglickert/opt/anaconda3/envs/NeuroLab/lib/python3.7/site-packages/neuron/.data/include -o ./libnrnmech.dylib -Wl,-install_name,@rpath/libnrnmech.dylib \\\n",
      "\t  ./mod_func.o ./k_wb.o ./leak.o ./na_wb.o ./vecevent.o  -L/Users/gregglickert/opt/anaconda3/envs/NeuroLab/lib/python3.7/site-packages/neuron/.data/lib -lnrniv -Wl,-rpath,/Users/gregglickert/opt/anaconda3/envs/NeuroLab/lib/python3.7/site-packages/neuron/.data/lib    -lreadline\n",
      "rm -f ./.libs/libnrnmech.so ; mkdir -p ./.libs ; cp ./libnrnmech.dylib ./.libs/libnrnmech.so\n",
      "Successfully created x86_64/special\n",
      "/Users/gregglickert/Desktop/Tutorials with Errors/Borgers-Examples-in-BMTK/Chapter 5 - Three Simple Models of Neurons in Rodent Brains/Wang-Buzsaki Model/components\n",
      "/Users/gregglickert/Desktop/Tutorials with Errors/Borgers-Examples-in-BMTK/Chapter 5 - Three Simple Models of Neurons in Rodent Brains/Wang-Buzsaki Model\n",
      "Wang Buzsaki Model.ipynb  \u001b[34mcomponents\u001b[m\u001b[m/               \u001b[34minput\u001b[m\u001b[m/\n"
     ]
    }
   ],
   "source": [
    "%ls\n",
    "%cd components/mechanisms/\n",
    "!nrnivmodl\n",
    "%cd ..\n",
    "%cd ..\n",
    "%ls"
   ]
  },
  {
   "cell_type": "code",
   "execution_count": 3,
   "metadata": {
    "id": "qd06OGeW8atA"
   },
   "outputs": [],
   "source": [
    "import math\n",
    "\n",
    "Voltage= []\n",
    "minf = []\n",
    "hinf = []\n",
    "ninf = []\n",
    "for i in range(150):\n",
    "    Voltage.append(i-100)\n",
    "\n",
    "for v in Voltage:\n",
    "    ninf.append(1.0/(1.0+(math.exp((v+30.03)/(-17.37)))))\n",
    "    minf.append(1.0/(1.0+(math.exp((v+34.57)/(-9.55)))))\n",
    "    hinf.append(1.0/(1.0+(math.exp((v+55.16)/(7.07)))))"
   ]
  },
  {
   "cell_type": "code",
   "execution_count": 4,
   "metadata": {
    "colab": {
     "base_uri": "https://localhost:8080/",
     "height": 1000
    },
    "id": "ntQRvg5O8atA",
    "outputId": "b833d5e8-339f-4e89-8b1a-38c8056c8527"
   },
   "outputs": [
    {
     "data": {
      "image/png": "[encoded data removed]",
      "text/plain": [
       "<Figure size 1080x1440 with 3 Axes>"
      ]
     },
     "metadata": {
      "needs_background": "light"
     },
     "output_type": "display_data"
    }
   ],
   "source": [
    "import matplotlib.pyplot as plt\n",
    "\n",
    "\n",
    "fig1, (ax1, ax2, ax3) = plt.subplots(nrows=3, ncols=1)\n",
    "\n",
    "ax1.plot(Voltage, minf)\n",
    "ax1.set_xlabel('Voltage [mV]')\n",
    "ax1.set_ylabel('minf')\n",
    "\n",
    "ax2.plot(Voltage, hinf)\n",
    "ax2.set_xlabel('Voltage [mV]')\n",
    "ax2.set_ylabel('hinf')\n",
    "\n",
    "ax3.plot(Voltage, ninf)\n",
    "ax3.set_xlabel('Voltage [mV]')\n",
    "ax3.set_ylabel('ninf')\n",
    "\n",
    "\n",
    "fig = plt.gcf()\n",
    "fig.set_size_inches(15, 20)  # increase plot size"
   ]
  },
  {
   "cell_type": "markdown",
   "metadata": {
    "id": "BpQ0UpQt8atB"
   },
   "source": [
    "# WB Cell Simulation\n",
    "##### We are now going to build a WB neuron and place a current clamp on it using a python toolkit: bmtk.\n",
    "    \n",
    "### Building the Cell"
   ]
  },
  {
   "cell_type": "code",
   "execution_count": 5,
   "metadata": {
    "id": "inlzJE9c8atB"
   },
   "outputs": [],
   "source": [
    "import numpy as np\n",
    "import logging\n",
    "\n",
    "from bmtk.builder.networks import NetworkBuilder\n",
    "\n",
    "n_E =1    # We are creating only 1 WB cell\n",
    "\n",
    "net = NetworkBuilder('network')\n",
    "net.add_nodes(N=n_E, pop_name='Exc',     # N = number of excitatory cells\n",
    "        model_type='biophysical',\n",
    "        model_template='hoc:WBInhCell', # RTMExcCell hoc definition\n",
    "        morphology='blank.swc')"
   ]
  },
  {
   "cell_type": "markdown",
   "metadata": {
    "id": "rcxSOMkq8atC"
   },
   "source": [
    "### Saving the Cell"
   ]
  },
  {
   "cell_type": "code",
   "execution_count": 6,
   "metadata": {
    "id": "HVgSCh-h8atC"
   },
   "outputs": [],
   "source": [
    "net.build()\n",
    "net.save_nodes(output_dir='network')"
   ]
  },
  {
   "cell_type": "markdown",
   "metadata": {
    "id": "-QFHBx7Y8atC"
   },
   "source": [
    "### Apply Current Clamp"
   ]
  },
  {
   "cell_type": "code",
   "execution_count": 7,
   "metadata": {
    "id": "bYa260bI8atC"
   },
   "outputs": [],
   "source": [
    "current_amplitude = 1.0\n",
    "\n",
    "import h5py\n",
    "\n",
    "i_ext=[]\n",
    "for i in range(100):\n",
    "    i_ext.append(current_amplitude)\n",
    "\n",
    "dts = [1]\n",
    "gids = 'all'\n",
    "\n",
    "#hf.close() # Uncomment this line temporarily if you receive 'file already open error'\n",
    "\n",
    "hf = h5py.File(\"input/amps.h5\", 'w')\n",
    "\n",
    "hf.create_dataset(\"amplitudes\", data=[i_ext])\n",
    "hf.create_dataset(\"gids\", data=gids)\n",
    "hf.create_dataset(\"dts\", data=dts)\n",
    "\n",
    "hf.close()"
   ]
  },
  {
   "cell_type": "markdown",
   "metadata": {
    "id": "j3r8PnuO8atC"
   },
   "source": [
    "### Build the Simulation Environment\n",
    "This takes our saved features that we just made and creates simulation_config.json and circuit_config.json files. \n",
    "\n",
    "From these we can run our simulation (these files are already created so you don't need to run it)."
   ]
  },
  {
   "cell_type": "code",
   "execution_count": 8,
   "metadata": {
    "id": "GA3KhEqg8atC"
   },
   "outputs": [],
   "source": [
    "from bmtk.utils.sim_setup import build_env_bionet\n",
    "\n",
    "build_env_bionet(base_dir='.',\n",
    "                 network_dir='network',\n",
    "                 tstop=100.0, dt=0.1,\n",
    "                 report_vars=['v'],           # Record membrane potential and calcium (default soma)\n",
    "                 file_current_clamp={              # Creates a step current from 500.ms to 1500.0 ms\n",
    "                      \"input_type\": \"file_current_clamp\",\n",
    "                      \"module\": \"FileIClamp\",\n",
    "                      \"input_file\":\"input/amps.h5\",\n",
    "                      \"node_set\":\"network\"\n",
    "                 },\n",
    "                 v_init=-66.5,\n",
    "                 include_examples=False,    # Copies components files\n",
    "                 compile_mechanisms=False,   # Will try to compile NEURON mechanisms\n",
    "                 config_file = 'config.json'\n",
    "                )"
   ]
  },
  {
   "cell_type": "markdown",
   "metadata": {
    "id": "aBQepdip8atD"
   },
   "source": [
    "### Run the Simulation"
   ]
  },
  {
   "cell_type": "code",
   "execution_count": 9,
   "metadata": {
    "colab": {
     "base_uri": "https://localhost:8080/"
    },
    "id": "fwVZoVff8atD",
    "outputId": "61de71f4-eb00-45f5-a913-32885ce4996e"
   },
   "outputs": [
    {
     "name": "stdout",
     "output_type": "stream",
     "text": [
      "2022-04-13 15:09:26,618 [INFO] Created log file\n"
     ]
    },
    {
     "name": "stderr",
     "output_type": "stream",
     "text": [
      "INFO:NEURONIOUtils:Created log file\n"
     ]
    },
    {
     "name": "stdout",
     "output_type": "stream",
     "text": [
      "2022-04-13 15:09:26,938 [INFO] Building cells.\n"
     ]
    },
    {
     "name": "stderr",
     "output_type": "stream",
     "text": [
      "INFO:NEURONIOUtils:Building cells.\n"
     ]
    },
    {
     "name": "stdout",
     "output_type": "stream",
     "text": [
      "2022-04-13 15:09:26,943 [INFO] Building recurrent connections\n"
     ]
    },
    {
     "name": "stderr",
     "output_type": "stream",
     "text": [
      "INFO:NEURONIOUtils:Building recurrent connections\n"
     ]
    },
    {
     "name": "stdout",
     "output_type": "stream",
     "text": [
      "2022-04-13 15:09:26,960 [INFO] Running simulation for 100.000 ms with the time step 0.100 ms\n"
     ]
    },
    {
     "name": "stderr",
     "output_type": "stream",
     "text": [
      "/Users/gregglickert/opt/anaconda3/envs/NeuroLab/lib/python3.7/site-packages/h5py/_hl/dataset.py:313: H5pyDeprecationWarning: dataset.value has been deprecated. Use dataset[()] instead.\n",
      "  \"Use dataset[()] instead.\", H5pyDeprecationWarning)\n",
      "INFO:NEURONIOUtils:Running simulation for 100.000 ms with the time step 0.100 ms\n"
     ]
    },
    {
     "name": "stdout",
     "output_type": "stream",
     "text": [
      "2022-04-13 15:09:26,962 [INFO] Starting timestep: 0 at t_sim: 0.000 ms\n"
     ]
    },
    {
     "name": "stderr",
     "output_type": "stream",
     "text": [
      "INFO:NEURONIOUtils:Starting timestep: 0 at t_sim: 0.000 ms\n"
     ]
    },
    {
     "name": "stdout",
     "output_type": "stream",
     "text": [
      "2022-04-13 15:09:26,965 [INFO] Block save every 1000 steps\n"
     ]
    },
    {
     "name": "stderr",
     "output_type": "stream",
     "text": [
      "INFO:NEURONIOUtils:Block save every 1000 steps\n"
     ]
    },
    {
     "name": "stdout",
     "output_type": "stream",
     "text": [
      "2022-04-13 15:09:27,011 [INFO]     step:1000 t_sim:100.00 ms\n"
     ]
    },
    {
     "name": "stderr",
     "output_type": "stream",
     "text": [
      "INFO:NEURONIOUtils:    step:1000 t_sim:100.00 ms\n"
     ]
    },
    {
     "name": "stdout",
     "output_type": "stream",
     "text": [
      "2022-04-13 15:09:27,033 [INFO] Simulation completed in 0.07276 seconds \n"
     ]
    },
    {
     "name": "stderr",
     "output_type": "stream",
     "text": [
      "INFO:NEURONIOUtils:Simulation completed in 0.07276 seconds \n"
     ]
    }
   ],
   "source": [
    "from bmtk.simulator import bionet\n",
    "\n",
    "\n",
    "conf = bionet.Config.from_json('config.json')\n",
    "conf.build_env()\n",
    "net = bionet.BioNetwork.from_config(conf)\n",
    "sim = bionet.BioSimulator.from_config(conf, network=net)\n",
    "sim.run()"
   ]
  },
  {
   "cell_type": "markdown",
   "metadata": {
    "id": "3Jn1Dq068atD"
   },
   "source": [
    "### Display Results"
   ]
  },
  {
   "cell_type": "code",
   "execution_count": 10,
   "metadata": {
    "id": "43cnaAhL8atD"
   },
   "outputs": [
    {
     "data": {
      "image/png": "[encoded data removed]",
      "text/plain": [
       "<Figure size 432x288 with 1 Axes>"
      ]
     },
     "metadata": {
      "needs_background": "light"
     },
     "output_type": "display_data"
    }
   ],
   "source": [
    "from bmtk.analyzer.compartment import plot_traces\n",
    "\n",
    "\n",
    "_ = plot_traces(config_file='config.json', node_ids=[0], report_name='v_report')"
   ]
  },
  {
   "cell_type": "markdown",
   "metadata": {
    "id": "R5yWJ_Qu8atD"
   },
   "source": [
    "As you can see, a spiking pattern arises similar to Borger's example"
   ]
  },
  {
   "cell_type": "code",
   "execution_count": null,
   "metadata": {
    "id": "wVndfDow8atD"
   },
   "outputs": [],
   "source": []
  }
 ],
 "metadata": {
  "colab": {
   "name": "Wang_Buzsaki_Model.ipynb",
   "provenance": []
  },
  "kernelspec": {
   "display_name": "Python 3 (ipykernel)",
   "language": "python",
   "name": "python3"
  },
  "language_info": {
   "codemirror_mode": {
    "name": "ipython",
    "version": 3
   },
   "file_extension": ".py",
   "mimetype": "text/x-python",
   "name": "python",
   "nbconvert_exporter": "python",
   "pygments_lexer": "ipython3",
   "version": "3.7.11"
  }
 },
 "nbformat": 4,
 "nbformat_minor": 1
}
