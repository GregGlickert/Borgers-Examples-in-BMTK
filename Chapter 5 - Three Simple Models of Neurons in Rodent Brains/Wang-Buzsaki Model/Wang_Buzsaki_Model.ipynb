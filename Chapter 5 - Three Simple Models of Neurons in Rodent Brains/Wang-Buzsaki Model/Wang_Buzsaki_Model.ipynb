{
  "cells": [
    {
      "cell_type": "markdown",
      "metadata": {
        "id": "qfVV6a2L8as9"
      },
      "source": [
        "# Chapter 5 Wang-Buzsaki Model"
      ]
    },
    {
      "cell_type": "markdown",
      "metadata": {
        "id": "c20o8Iwt8as-"
      },
      "source": [
        "This notebook is a translation of an example in Christophe Borgers' book, \"An Introduction to Modeling Neuronal Dynamics\"\n",
        "\n",
        "requirements:\n",
        "\n",
        " bmtk\n",
        "\n",
        " NEURON 7.4+"
      ]
    },
    {
      "cell_type": "markdown",
      "metadata": {
        "id": "gtd-Zktz8as_"
      },
      "source": [
        "### WB cell dynamics\n",
        "\n",
        "Voltage and Gating Variables:"
      ]
    },
    {
      "cell_type": "markdown",
      "metadata": {
        "id": "9FgAeput8as_"
      },
      "source": [
        "$C \\frac{dV_{m}}{dt} = -\\bar{g}_{K}n^4(V_{m} - V_{K}) - \\bar{g}_{Na}m^3h(V_{m} - V_{Na}) - \\bar{g}_{l}(V_{m} - V_{l}) + I$\n",
        "\n",
        "$\\frac{dn}{dt} = \\alpha_{n}(V_{m})(1-n) - \\beta_n(V_m)n$\n",
        "\n",
        "$\\frac{dm}{dt} = \\alpha_{m}(V_{m})(1-m) - \\beta_m(V_m)m$\n",
        "\n",
        "$\\frac{dh}{dt} = \\alpha_{h}(V_{m})(1-h) - \\beta_h(V_m)h$\n",
        "\n",
        "\n",
        "\n",
        "WB Cell Specific Properties\n",
        "\n",
        "$\\alpha_{n} = -0.01*(v+34)/(e^{-0.1*(v+34)}-1)$\n",
        "\n",
        "$\\beta_{n} = 0.125*e^{-(v+44)/80}$\n",
        "\n",
        "$\\alpha_{m} = 0.1*(v+35)/(1-e^{-(v+35)/10})$\n",
        "\n",
        "$\\beta_{m} = 4*e^{-(v+60)/18}$\n",
        "\n",
        "$\\alpha_{h} = 0.07*e^{-(v+58)/20}$\n",
        "\n",
        "$\\beta_{h} = 1/(e^{-0.1*(v+28)}+1)$\n"
      ]
    },
    {
      "cell_type": "markdown",
      "metadata": {
        "id": "10kSFMPF8as_"
      },
      "source": [
        "## Plotting gating variables\n",
        "Each equation was pulled from the na_wb.mod and k_wb.mod files. (Under components\\\\mechanisms)\n",
        "\n",
        "These files describe sodium and potassium channel dynamics. The m and h gates are activation and inactivation gate variables respectively for the sodium channel. The n gate variable describes the potassium activation dynamics."
      ]
    },
    {
      "cell_type": "code",
      "execution_count": 1,
      "metadata": {
        "colab": {
          "base_uri": "https://localhost:8080/"
        },
        "id": "h0-W66E98bmL",
        "outputId": "693b1ece-d8f4-4403-f549-e75d6494105f"
      },
      "outputs": [
        {
          "output_type": "stream",
          "name": "stdout",
          "text": [
            "\u001b[K     |████████████████████████████████| 2.8 MB 5.1 MB/s \n",
            "\u001b[K     |████████████████████████████████| 4.8 MB 5.2 MB/s \n",
            "\u001b[K     |████████████████████████████████| 12.6 MB 3.3 MB/s \n",
            "\u001b[?25hCloning into 'Borgers-Examples-in-BMTK'...\n",
            "remote: Enumerating objects: 912, done.\u001b[K\n",
            "remote: Total 912 (delta 0), reused 0 (delta 0), pack-reused 912\u001b[K\n",
            "Receiving objects: 100% (912/912), 31.14 MiB | 27.52 MiB/s, done.\n",
            "Resolving deltas: 100% (490/490), done.\n",
            "/content/Borgers-Examples-in-BMTK/Chapter 5 - Three Simple Models of Neurons in Rodent Brains/Wang-Buzsaki Model\n",
            "\u001b[0m\u001b[01;34mcomponents\u001b[0m/  Wang_Buzsaki_Model.ipynb\n"
          ]
        }
      ],
      "source": [
        "RunningInCOLAB = 'google.colab' in str(get_ipython())\n",
        "\n",
        "if RunningInCOLAB:\n",
        "    ! pip install -q h5py==2.9.0\n",
        "    ! pip install -q bmtk==0.0.9\n",
        "    ! pip install -q neuron==8.0.0\n",
        "# as new version of neuron and bmtk come out we may need to install a specific version\n",
        "import os\n",
        "from os.path import normpath, sep, join\n",
        "\n",
        "root = 'Borgers-Examples-in-BMTK' # name of github repo\n",
        "folder = 'Chapter 5 - Three Simple Models of Neurons in Rodent Brains/Wang-Buzsaki Model' # name of folder in Github just change this line \n",
        "pathlist = normpath(os.getcwd()).split(sep)\n",
        "if pathlist[-1] != folder:\n",
        "  rootidx = pathlist.index(root) if root in pathlist else -1\n",
        "  if rootidx>0:\n",
        "    os.chdir(join(sep,*pathlist[:rootidx]))\n",
        "  !git clone https://github.com/GregGlickert/Borgers-Examples-in-BMTK\n",
        "  os.chdir(join(root,folder))\n",
        "print(os.getcwd())\n",
        "%ls"
      ]
    },
    {
      "cell_type": "code",
      "execution_count": 2,
      "metadata": {
        "colab": {
          "base_uri": "https://localhost:8080/"
        },
        "id": "aajPCPiu_3Gq",
        "outputId": "d0693f79-37a5-4065-ddbd-4843f6f1ee30"
      },
      "outputs": [
        {
          "output_type": "stream",
          "name": "stdout",
          "text": [
            "\u001b[0m\u001b[01;34mcomponents\u001b[0m/  Wang_Buzsaki_Model.ipynb\n",
            "/content/Borgers-Examples-in-BMTK/Chapter 5 - Three Simple Models of Neurons in Rodent Brains/Wang-Buzsaki Model/components/mechanisms\n",
            "/content/Borgers-Examples-in-BMTK/Chapter 5 - Three Simple Models of Neurons in Rodent Brains/Wang-Buzsaki Model/components/mechanisms\n",
            "Mod files: \"./k_wb.mod\" \"./leak.mod\" \"./na_wb.mod\" \"./vecevent.mod\"\n",
            "\n",
            "Creating x86_64 directory for .o files.\n",
            "\n",
            "COBJS=''\n",
            " -> \u001b[32mCompiling\u001b[0m mod_func.c\n",
            "x86_64-linux-gnu-gcc -O2   -I.   -I/usr/local/lib/python3.7/dist-packages/neuron/.data/include  -I/nrnwheel/openmpi/include -fPIC -c mod_func.c -o mod_func.o\n",
            " -> \u001b[32mNMODL\u001b[0m ../na_wb.mod\n",
            " -> \u001b[32mNMODL\u001b[0m ../leak.mod\n",
            "(cd \"..\"; MODLUNIT=/usr/local/lib/python3.7/dist-packages/neuron/.data/share/nrn/lib/nrnunits.lib /usr/local/lib/python3.7/dist-packages/neuron/.data/bin/nocmodl na_wb.mod -o \"/content/Borgers-Examples-in-BMTK/Chapter 5 - Three Simple Models of Neurons in Rodent Brains/Wang-Buzsaki Model/components/mechanisms/x86_64\")\n",
            "(cd \"..\"; MODLUNIT=/usr/local/lib/python3.7/dist-packages/neuron/.data/share/nrn/lib/nrnunits.lib /usr/local/lib/python3.7/dist-packages/neuron/.data/bin/nocmodl leak.mod -o \"/content/Borgers-Examples-in-BMTK/Chapter 5 - Three Simple Models of Neurons in Rodent Brains/Wang-Buzsaki Model/components/mechanisms/x86_64\")\n",
            " -> \u001b[32mNMODL\u001b[0m ../k_wb.mod\n",
            "(cd \"..\"; MODLUNIT=/usr/local/lib/python3.7/dist-packages/neuron/.data/share/nrn/lib/nrnunits.lib /usr/local/lib/python3.7/dist-packages/neuron/.data/bin/nocmodl k_wb.mod -o \"/content/Borgers-Examples-in-BMTK/Chapter 5 - Three Simple Models of Neurons in Rodent Brains/Wang-Buzsaki Model/components/mechanisms/x86_64\")\n",
            "Translating leak.mod into /content/Borgers-Examples-in-BMTK/Chapter 5 - Three Simple Models of Neurons in Rodent Brains/Wang-Buzsaki Model/components/mechanisms/x86_64/leak.c\n",
            "Translating na_wb.mod into /content/Borgers-Examples-in-BMTK/Chapter 5 - Three Simple Models of Neurons in Rodent Brains/Wang-Buzsaki Model/components/mechanisms/x86_64/na_wb.c\n",
            "Thread Safe\n",
            "Thread Safe\n",
            "Translating k_wb.mod into /content/Borgers-Examples-in-BMTK/Chapter 5 - Three Simple Models of Neurons in Rodent Brains/Wang-Buzsaki Model/components/mechanisms/x86_64/k_wb.c\n",
            "Thread Safe\n",
            " -> \u001b[32mNMODL\u001b[0m ../vecevent.mod\n",
            "(cd \"..\"; MODLUNIT=/usr/local/lib/python3.7/dist-packages/neuron/.data/share/nrn/lib/nrnunits.lib /usr/local/lib/python3.7/dist-packages/neuron/.data/bin/nocmodl vecevent.mod -o \"/content/Borgers-Examples-in-BMTK/Chapter 5 - Three Simple Models of Neurons in Rodent Brains/Wang-Buzsaki Model/components/mechanisms/x86_64\")\n",
            " -> \u001b[32mCompiling\u001b[0m leak.c\n",
            " -> \u001b[32mCompiling\u001b[0m na_wb.c\n",
            "x86_64-linux-gnu-gcc -O2   -I\"..\" -I.   -I/usr/local/lib/python3.7/dist-packages/neuron/.data/include  -I/nrnwheel/openmpi/include -fPIC -c leak.c -o leak.o\n",
            "x86_64-linux-gnu-gcc -O2   -I\"..\" -I.   -I/usr/local/lib/python3.7/dist-packages/neuron/.data/include  -I/nrnwheel/openmpi/include -fPIC -c na_wb.c -o na_wb.o\n",
            "Translating vecevent.mod into /content/Borgers-Examples-in-BMTK/Chapter 5 - Three Simple Models of Neurons in Rodent Brains/Wang-Buzsaki Model/components/mechanisms/x86_64/vecevent.c\n",
            "Notice: ARTIFICIAL_CELL is a synonym for POINT_PROCESS which hints that it\n",
            "only affects and is affected by discrete events. As such it is not\n",
            "located in a section and is not associated with an integrator\n",
            "Thread Safe\n",
            " -> \u001b[32mCompiling\u001b[0m k_wb.c\n",
            "x86_64-linux-gnu-gcc -O2   -I\"..\" -I.   -I/usr/local/lib/python3.7/dist-packages/neuron/.data/include  -I/nrnwheel/openmpi/include -fPIC -c k_wb.c -o k_wb.o\n",
            " -> \u001b[32mCompiling\u001b[0m vecevent.c\n",
            "x86_64-linux-gnu-gcc -O2   -I\"..\" -I.   -I/usr/local/lib/python3.7/dist-packages/neuron/.data/include  -I/nrnwheel/openmpi/include -fPIC -c vecevent.c -o vecevent.o\n",
            " => \u001b[32mLINKING\u001b[0m shared library ./libnrnmech.so\n",
            "x86_64-linux-gnu-g++ -O2 -DVERSION_INFO='8.0.0' -std=c++11 -shared -fPIC  -I /usr/local/lib/python3.7/dist-packages/neuron/.data/include -o ./libnrnmech.so -Wl,-soname,libnrnmech.so \\\n",
            "  ./mod_func.o ./k_wb.o ./leak.o ./na_wb.o ./vecevent.o  -L/usr/local/lib/python3.7/dist-packages/neuron/.data/lib -lnrniv -Wl,-rpath,/usr/local/lib/python3.7/dist-packages/neuron/.data/lib   \n",
            "rm -f ./.libs/libnrnmech.so ; mkdir -p ./.libs ; cp ./libnrnmech.so ./.libs/libnrnmech.so\n",
            "Successfully created x86_64/special\n",
            "/content/Borgers-Examples-in-BMTK/Chapter 5 - Three Simple Models of Neurons in Rodent Brains/Wang-Buzsaki Model/components\n",
            "/content/Borgers-Examples-in-BMTK/Chapter 5 - Three Simple Models of Neurons in Rodent Brains/Wang-Buzsaki Model\n",
            "\u001b[0m\u001b[01;34mcomponents\u001b[0m/  Wang_Buzsaki_Model.ipynb\n"
          ]
        }
      ],
      "source": [
        "%ls\n",
        "%cd components/mechanisms/\n",
        "!nrnivmodl\n",
        "%cd ..\n",
        "%cd ..\n",
        "%ls"
      ]
    },
    {
      "cell_type": "code",
      "execution_count": 3,
      "metadata": {
        "id": "qd06OGeW8atA"
      },
      "outputs": [],
      "source": [
        "import math\n",
        "\n",
        "Voltage= []\n",
        "minf = []\n",
        "hinf = []\n",
        "ninf = []\n",
        "for i in range(150):\n",
        "    Voltage.append(i-100)\n",
        "\n",
        "for v in Voltage:\n",
        "    ninf.append(1.0/(1.0+(math.exp((v+30.03)/(-17.37)))))\n",
        "    minf.append(1.0/(1.0+(math.exp((v+34.57)/(-9.55)))))\n",
        "    hinf.append(1.0/(1.0+(math.exp((v+55.16)/(7.07)))))"
      ]
    },
    {
      "cell_type": "code",
      "execution_count": 4,
      "metadata": {
        "colab": {
          "base_uri": "https://localhost:8080/",
          "height": 1000
        },
        "id": "ntQRvg5O8atA",
        "outputId": "ddadc90f-ae22-4e3e-95ab-437697879287"
      },
      "outputs": [
        {
          "output_type": "display_data",
          "data": {
            "text/plain": [
              "<Figure size 1080x1440 with 3 Axes>"
            ],
            "image/png": "[encoded data removed]"
          },
          "metadata": {
            "needs_background": "light"
          }
        }
      ],
      "source": [
        "import matplotlib.pyplot as plt\n",
        "\n",
        "\n",
        "fig1, (ax1, ax2, ax3) = plt.subplots(nrows=3, ncols=1)\n",
        "\n",
        "ax1.plot(Voltage, minf)\n",
        "ax1.set_xlabel('Voltage [mV]')\n",
        "ax1.set_ylabel('minf')\n",
        "\n",
        "ax2.plot(Voltage, hinf)\n",
        "ax2.set_xlabel('Voltage [mV]')\n",
        "ax2.set_ylabel('hinf')\n",
        "\n",
        "ax3.plot(Voltage, ninf)\n",
        "ax3.set_xlabel('Voltage [mV]')\n",
        "ax3.set_ylabel('ninf')\n",
        "\n",
        "\n",
        "fig = plt.gcf()\n",
        "fig.set_size_inches(15, 20)  # increase plot size"
      ]
    },
    {
      "cell_type": "markdown",
      "metadata": {
        "id": "BpQ0UpQt8atB"
      },
      "source": [
        "# WB Cell Simulation\n",
        "##### We are now going to build a WB neuron and place a current clamp on it using a python toolkit: bmtk.\n",
        "    \n",
        "### Building the Cell"
      ]
    },
    {
      "cell_type": "code",
      "execution_count": 5,
      "metadata": {
        "id": "inlzJE9c8atB"
      },
      "outputs": [],
      "source": [
        "import numpy as np\n",
        "import logging\n",
        "\n",
        "from bmtk.builder.networks import NetworkBuilder\n",
        "\n",
        "n_E =1    # We are creating only 1 WB cell\n",
        "\n",
        "net = NetworkBuilder('network')\n",
        "net.add_nodes(N=n_E, pop_name='Exc',     # N = number of excitatory cells\n",
        "        model_type='biophysical',\n",
        "        model_template='hoc:WBInhCell', # RTMExcCell hoc definition\n",
        "        morphology='blank.swc')"
      ]
    },
    {
      "cell_type": "markdown",
      "metadata": {
        "id": "rcxSOMkq8atC"
      },
      "source": [
        "### Saving the Cell"
      ]
    },
    {
      "cell_type": "code",
      "execution_count": 6,
      "metadata": {
        "id": "HVgSCh-h8atC"
      },
      "outputs": [],
      "source": [
        "net.build()\n",
        "net.save_nodes(output_dir='network')"
      ]
    },
    {
      "cell_type": "markdown",
      "metadata": {
        "id": "-QFHBx7Y8atC"
      },
      "source": [
        "### Apply Current Clamp"
      ]
    },
    {
      "cell_type": "code",
      "execution_count": 7,
      "metadata": {
        "id": "bYa260bI8atC"
      },
      "outputs": [],
      "source": [
        "current_amplitude = 1.0\n",
        "\n",
        "import h5py\n",
        "import os \n",
        "\n",
        "try:\n",
        "  os.isdir('input')\n",
        "except:\n",
        "  os.makedirs('input')\n",
        "\n",
        "i_ext=[]\n",
        "for i in range(100):\n",
        "    i_ext.append(current_amplitude)\n",
        "\n",
        "dts = [1]\n",
        "gids = 'all'\n",
        "\n",
        "#hf.close() # Uncomment this line temporarily if you receive 'file already open error'\n",
        "\n",
        "hf = h5py.File(\"input/amps.h5\", 'w')\n",
        "\n",
        "hf.create_dataset(\"amplitudes\", data=[i_ext])\n",
        "hf.create_dataset(\"gids\", data=gids)\n",
        "hf.create_dataset(\"dts\", data=dts)\n",
        "\n",
        "hf.close()"
      ]
    },
    {
      "cell_type": "markdown",
      "metadata": {
        "id": "j3r8PnuO8atC"
      },
      "source": [
        "### Build the Simulation Environment\n",
        "This takes our saved features that we just made and creates simulation_config.json and circuit_config.json files. \n",
        "\n",
        "From these we can run our simulation (these files are already created so you don't need to run it)."
      ]
    },
    {
      "cell_type": "code",
      "execution_count": 8,
      "metadata": {
        "id": "GA3KhEqg8atC"
      },
      "outputs": [],
      "source": [
        "from bmtk.utils.sim_setup import build_env_bionet\n",
        "\n",
        "build_env_bionet(base_dir='.',\n",
        "                 network_dir='network',\n",
        "                 tstop=100.0, dt=0.1,\n",
        "                 report_vars=['v'],           # Record membrane potential and calcium (default soma)\n",
        "                 file_current_clamp={              # Creates a step current from 500.ms to 1500.0 ms\n",
        "                      \"input_type\": \"file_current_clamp\",\n",
        "                      \"module\": \"FileIClamp\",\n",
        "                      \"input_file\":\"input/amps.h5\",\n",
        "                      \"node_set\":\"network\"\n",
        "                 },\n",
        "                 v_init=-66.5,\n",
        "                 include_examples=False,    # Copies components files\n",
        "                 compile_mechanisms=False,   # Will try to compile NEURON mechanisms\n",
        "                 config_file = 'config.json'\n",
        "                )"
      ]
    },
    {
      "cell_type": "markdown",
      "metadata": {
        "id": "aBQepdip8atD"
      },
      "source": [
        "### Run the Simulation"
      ]
    },
    {
      "cell_type": "code",
      "execution_count": 9,
      "metadata": {
        "colab": {
          "base_uri": "https://localhost:8080/"
        },
        "id": "fwVZoVff8atD",
        "outputId": "fb69e334-2d22-4652-ebff-0888cbce3a10"
      },
      "outputs": [
        {
          "output_type": "stream",
          "name": "stdout",
          "text": [
            "2022-10-04 03:04:04,866 [INFO] Created log file\n"
          ]
        },
        {
          "output_type": "stream",
          "name": "stderr",
          "text": [
            "INFO:NEURONIOUtils:Created log file\n"
          ]
        },
        {
          "output_type": "stream",
          "name": "stdout",
          "text": [
            "2022-10-04 03:04:04,953 [INFO] Building cells.\n"
          ]
        },
        {
          "output_type": "stream",
          "name": "stderr",
          "text": [
            "INFO:NEURONIOUtils:Building cells.\n"
          ]
        },
        {
          "output_type": "stream",
          "name": "stdout",
          "text": [
            "2022-10-04 03:04:04,967 [INFO] Building recurrent connections\n"
          ]
        },
        {
          "output_type": "stream",
          "name": "stderr",
          "text": [
            "INFO:NEURONIOUtils:Building recurrent connections\n"
          ]
        },
        {
          "output_type": "stream",
          "name": "stdout",
          "text": [
            "2022-10-04 03:04:04,986 [INFO] Running simulation for 100.000 ms with the time step 0.100 ms\n"
          ]
        },
        {
          "output_type": "stream",
          "name": "stderr",
          "text": [
            "/usr/local/lib/python3.7/dist-packages/h5py/_hl/dataset.py:313: H5pyDeprecationWarning: dataset.value has been deprecated. Use dataset[()] instead.\n",
            "  \"Use dataset[()] instead.\", H5pyDeprecationWarning)\n",
            "INFO:NEURONIOUtils:Running simulation for 100.000 ms with the time step 0.100 ms\n"
          ]
        },
        {
          "output_type": "stream",
          "name": "stdout",
          "text": [
            "2022-10-04 03:04:04,992 [INFO] Starting timestep: 0 at t_sim: 0.000 ms\n"
          ]
        },
        {
          "output_type": "stream",
          "name": "stderr",
          "text": [
            "INFO:NEURONIOUtils:Starting timestep: 0 at t_sim: 0.000 ms\n"
          ]
        },
        {
          "output_type": "stream",
          "name": "stdout",
          "text": [
            "2022-10-04 03:04:04,999 [INFO] Block save every 1000 steps\n"
          ]
        },
        {
          "output_type": "stream",
          "name": "stderr",
          "text": [
            "INFO:NEURONIOUtils:Block save every 1000 steps\n"
          ]
        },
        {
          "output_type": "stream",
          "name": "stdout",
          "text": [
            "2022-10-04 03:04:05,068 [INFO]     step:1000 t_sim:100.00 ms\n"
          ]
        },
        {
          "output_type": "stream",
          "name": "stderr",
          "text": [
            "INFO:NEURONIOUtils:    step:1000 t_sim:100.00 ms\n"
          ]
        },
        {
          "output_type": "stream",
          "name": "stdout",
          "text": [
            "2022-10-04 03:04:05,089 [INFO] Simulation completed in 0.1035 seconds \n"
          ]
        },
        {
          "output_type": "stream",
          "name": "stderr",
          "text": [
            "INFO:NEURONIOUtils:Simulation completed in 0.1035 seconds \n"
          ]
        }
      ],
      "source": [
        "from bmtk.simulator import bionet\n",
        "\n",
        "\n",
        "conf = bionet.Config.from_json('config.json')\n",
        "conf.build_env()\n",
        "net = bionet.BioNetwork.from_config(conf)\n",
        "sim = bionet.BioSimulator.from_config(conf, network=net)\n",
        "sim.run()"
      ]
    },
    {
      "cell_type": "markdown",
      "metadata": {
        "id": "3Jn1Dq068atD"
      },
      "source": [
        "### Display Results"
      ]
    },
    {
      "cell_type": "code",
      "execution_count": 10,
      "metadata": {
        "id": "43cnaAhL8atD",
        "colab": {
          "base_uri": "https://localhost:8080/",
          "height": 295
        },
        "outputId": "347f4a4f-7a94-4ec4-8f8e-13eabd7d7e74"
      },
      "outputs": [
        {
          "output_type": "display_data",
          "data": {
            "text/plain": [
              "<Figure size 432x288 with 1 Axes>"
            ],
            "image/png": "[encoded data removed]"
          },
          "metadata": {
            "needs_background": "light"
          }
        }
      ],
      "source": [
        "from bmtk.analyzer.compartment import plot_traces\n",
        "\n",
        "\n",
        "_ = plot_traces(config_file='config.json', node_ids=[0], report_name='v_report')"
      ]
    },
    {
      "cell_type": "markdown",
      "metadata": {
        "id": "R5yWJ_Qu8atD"
      },
      "source": [
        "As you can see, a spiking pattern arises similar to Borger's example"
      ]
    },
    {
      "cell_type": "code",
      "execution_count": 10,
      "metadata": {
        "id": "wVndfDow8atD"
      },
      "outputs": [],
      "source": []
    }
  ],
  "metadata": {
    "colab": {
      "provenance": []
    },
    "kernelspec": {
      "display_name": "Python 3 (ipykernel)",
      "language": "python",
      "name": "python3"
    },
    "language_info": {
      "codemirror_mode": {
        "name": "ipython",
        "version": 3
      },
      "file_extension": ".py",
      "mimetype": "text/x-python",
      "name": "python",
      "nbconvert_exporter": "python",
      "pygments_lexer": "ipython3",
      "version": "3.7.11"
    }
  },
  "nbformat": 4,
  "nbformat_minor": 0
}