{
  "cells": [
    {
      "cell_type": "markdown",
      "metadata": {
        "id": "i9upJ6qo7bil"
      },
      "source": [
        "# Chapter 33- Beta rhythms from E-I Network\n",
        "This notebook is a translation of an example in Christophe Borgers' book, \"An Introduction to Modeling Neuronal Dynamics\"\n",
        "\n",
        "In this tutorial,we display an pyramidal - Interneuronal Network Gamma (PING) network entrain excitatory neurons (E-cells). Beta rhythms are 12-30 Hz, thus the firing of the E-cells must be within this range. We model 200 E-cells with an RTM model and the 50 PING cells with a WB model.\n",
        "\n",
        "requirements:\n",
        "\n",
        " bmtk\n",
        "\n",
        " NEURON 7.4+"
      ]
    },
    {
      "cell_type": "markdown",
      "metadata": {
        "id": "GjHEf9HM7bim"
      },
      "source": [
        "### Create nodes\n",
        "The PING network, E-cells, and external input nodes are defined"
      ]
    },
    {
      "cell_type": "code",
      "execution_count": 1,
      "metadata": {
        "colab": {
          "base_uri": "https://localhost:8080/"
        },
        "id": "YtgmBXRK7dh7",
        "outputId": "3464704e-ff54-473c-988b-9d36dfafd6b8"
      },
      "outputs": [
        {
          "output_type": "stream",
          "name": "stdout",
          "text": [
            "\u001b[K     |████████████████████████████████| 2.8 MB 5.5 MB/s \n",
            "\u001b[K     |████████████████████████████████| 4.8 MB 5.4 MB/s \n",
            "\u001b[K     |████████████████████████████████| 12.6 MB 5.2 MB/s \n",
            "\u001b[?25hCloning into 'Borgers-Examples-in-BMTK'...\n",
            "remote: Enumerating objects: 912, done.\u001b[K\n",
            "remote: Total 912 (delta 0), reused 0 (delta 0), pack-reused 912\n",
            "Receiving objects: 100% (912/912), 31.14 MiB | 23.80 MiB/s, done.\n",
            "Resolving deltas: 100% (490/490), done.\n",
            "/content/Borgers-Examples-in-BMTK/33-EI Beta\n",
            "33_EI_Beta.ipynb  \u001b[0m\u001b[01;34mcomponents\u001b[0m/\n"
          ]
        }
      ],
      "source": [
        "! pip install -q h5py==2.9.0\n",
        "! pip install -q bmtk==0.0.9\n",
        "! pip install -q neuron==8.0.0\n",
        "\n",
        "import h5py\n",
        "import bmtk\n",
        "import neuron\n",
        "#print('The version of hfpy installed is',h5py.__version__)\n",
        "# as new version of neuron and bmtk come out we may need to install a specific version\n",
        "import os\n",
        "from os.path import normpath, sep, join\n",
        "\n",
        "root = 'Borgers-Examples-in-BMTK' # name of github repo\n",
        "folder = '33-EI Beta' # name of folder in Github just change this line \n",
        "pathlist = normpath(os.getcwd()).split(sep)\n",
        "if pathlist[-1] != folder:\n",
        "  rootidx = pathlist.index(root) if root in pathlist else -1\n",
        "  if rootidx>0:\n",
        "    os.chdir(join(sep,*pathlist[:rootidx]))\n",
        "  !git clone https://github.com/GregGlickert/Borgers-Examples-in-BMTK\n",
        "  os.chdir(join(root,folder))\n",
        "print(os.getcwd())\n",
        "%ls"
      ]
    },
    {
      "cell_type": "code",
      "execution_count": 2,
      "metadata": {
        "colab": {
          "base_uri": "https://localhost:8080/"
        },
        "id": "VFCK9DCQVyFh",
        "outputId": "c0023cc0-1c5d-4ba8-b8d0-0d996be5b818"
      },
      "outputs": [
        {
          "output_type": "stream",
          "name": "stdout",
          "text": [
            "33_EI_Beta.ipynb  \u001b[0m\u001b[01;34mcomponents\u001b[0m/\n",
            "/content/Borgers-Examples-in-BMTK/33-EI Beta/components/mechanisms\n",
            "/content/Borgers-Examples-in-BMTK/33-EI Beta/components/mechanisms\n",
            "Mod files: \"./gap.mod\" \"./k_rtm.mod\" \"./k_wb.mod\" \"./leak.mod\" \"./na_rtm.mod\" \"./na_wb.mod\" \"./vecevent.mod\"\n",
            "\n",
            "Creating x86_64 directory for .o files.\n",
            "\n",
            "COBJS=''\n",
            " -> \u001b[32mCompiling\u001b[0m mod_func.c\n",
            "x86_64-linux-gnu-gcc -O2   -I.   -I/usr/local/lib/python3.7/dist-packages/neuron/.data/include  -I/nrnwheel/openmpi/include -fPIC -c mod_func.c -o mod_func.o\n",
            " -> \u001b[32mNMODL\u001b[0m ../k_wb.mod\n",
            "(cd \"..\"; MODLUNIT=/usr/local/lib/python3.7/dist-packages/neuron/.data/share/nrn/lib/nrnunits.lib /usr/local/lib/python3.7/dist-packages/neuron/.data/bin/nocmodl k_wb.mod -o \"/content/Borgers-Examples-in-BMTK/33-EI Beta/components/mechanisms/x86_64\")\n",
            " -> \u001b[32mNMODL\u001b[0m ../gap.mod\n",
            "(cd \"..\"; MODLUNIT=/usr/local/lib/python3.7/dist-packages/neuron/.data/share/nrn/lib/nrnunits.lib /usr/local/lib/python3.7/dist-packages/neuron/.data/bin/nocmodl gap.mod -o \"/content/Borgers-Examples-in-BMTK/33-EI Beta/components/mechanisms/x86_64\")\n",
            " -> \u001b[32mNMODL\u001b[0m ../k_rtm.mod\n",
            "(cd \"..\"; MODLUNIT=/usr/local/lib/python3.7/dist-packages/neuron/.data/share/nrn/lib/nrnunits.lib /usr/local/lib/python3.7/dist-packages/neuron/.data/bin/nocmodl k_rtm.mod -o \"/content/Borgers-Examples-in-BMTK/33-EI Beta/components/mechanisms/x86_64\")\n",
            "Translating gap.mod into /content/Borgers-Examples-in-BMTK/33-EI Beta/components/mechanisms/x86_64/gap.c\n",
            "Thread Safe\n",
            "Translating k_wb.mod into /content/Borgers-Examples-in-BMTK/33-EI Beta/components/mechanisms/x86_64/k_wb.c\n",
            " -> \u001b[32mNMODL\u001b[0m ../leak.mod\n",
            "(cd \"..\"; MODLUNIT=/usr/local/lib/python3.7/dist-packages/neuron/.data/share/nrn/lib/nrnunits.lib /usr/local/lib/python3.7/dist-packages/neuron/.data/bin/nocmodl leak.mod -o \"/content/Borgers-Examples-in-BMTK/33-EI Beta/components/mechanisms/x86_64\")\n",
            "Thread Safe\n",
            "Translating k_rtm.mod into /content/Borgers-Examples-in-BMTK/33-EI Beta/components/mechanisms/x86_64/k_rtm.c\n",
            "Thread Safe\n",
            " -> \u001b[32mNMODL\u001b[0m ../na_rtm.mod\n",
            "(cd \"..\"; MODLUNIT=/usr/local/lib/python3.7/dist-packages/neuron/.data/share/nrn/lib/nrnunits.lib /usr/local/lib/python3.7/dist-packages/neuron/.data/bin/nocmodl na_rtm.mod -o \"/content/Borgers-Examples-in-BMTK/33-EI Beta/components/mechanisms/x86_64\")\n",
            "Translating leak.mod into /content/Borgers-Examples-in-BMTK/33-EI Beta/components/mechanisms/x86_64/leak.c\n",
            " -> \u001b[32mNMODL\u001b[0m ../na_wb.mod\n",
            "Thread Safe\n",
            "(cd \"..\"; MODLUNIT=/usr/local/lib/python3.7/dist-packages/neuron/.data/share/nrn/lib/nrnunits.lib /usr/local/lib/python3.7/dist-packages/neuron/.data/bin/nocmodl na_wb.mod -o \"/content/Borgers-Examples-in-BMTK/33-EI Beta/components/mechanisms/x86_64\")\n",
            "Translating na_rtm.mod into /content/Borgers-Examples-in-BMTK/33-EI Beta/components/mechanisms/x86_64/na_rtm.c\n",
            " -> \u001b[32mNMODL\u001b[0m ../vecevent.mod\n",
            "(cd \"..\"; MODLUNIT=/usr/local/lib/python3.7/dist-packages/neuron/.data/share/nrn/lib/nrnunits.lib /usr/local/lib/python3.7/dist-packages/neuron/.data/bin/nocmodl vecevent.mod -o \"/content/Borgers-Examples-in-BMTK/33-EI Beta/components/mechanisms/x86_64\")\n",
            "Thread Safe\n",
            "Translating na_wb.mod into /content/Borgers-Examples-in-BMTK/33-EI Beta/components/mechanisms/x86_64/na_wb.c\n",
            "Thread Safe\n",
            " -> \u001b[32mCompiling\u001b[0m gap.c\n",
            " -> \u001b[32mCompiling\u001b[0m k_rtm.c\n",
            "x86_64-linux-gnu-gcc -O2   -I\"..\" -I.   -I/usr/local/lib/python3.7/dist-packages/neuron/.data/include  -I/nrnwheel/openmpi/include -fPIC -c gap.c -o gap.o\n",
            "x86_64-linux-gnu-gcc -O2   -I\"..\" -I.   -I/usr/local/lib/python3.7/dist-packages/neuron/.data/include  -I/nrnwheel/openmpi/include -fPIC -c k_rtm.c -o k_rtm.o\n",
            "Translating vecevent.mod into /content/Borgers-Examples-in-BMTK/33-EI Beta/components/mechanisms/x86_64/vecevent.c\n",
            "Notice: ARTIFICIAL_CELL is a synonym for POINT_PROCESS which hints that it\n",
            "only affects and is affected by discrete events. As such it is not\n",
            "located in a section and is not associated with an integrator\n",
            "Thread Safe\n",
            " -> \u001b[32mCompiling\u001b[0m k_wb.c\n",
            "x86_64-linux-gnu-gcc -O2   -I\"..\" -I.   -I/usr/local/lib/python3.7/dist-packages/neuron/.data/include  -I/nrnwheel/openmpi/include -fPIC -c k_wb.c -o k_wb.o\n",
            " -> \u001b[32mCompiling\u001b[0m leak.c\n",
            "x86_64-linux-gnu-gcc -O2   -I\"..\" -I.   -I/usr/local/lib/python3.7/dist-packages/neuron/.data/include  -I/nrnwheel/openmpi/include -fPIC -c leak.c -o leak.o\n",
            " -> \u001b[32mCompiling\u001b[0m na_rtm.c\n",
            "x86_64-linux-gnu-gcc -O2   -I\"..\" -I.   -I/usr/local/lib/python3.7/dist-packages/neuron/.data/include  -I/nrnwheel/openmpi/include -fPIC -c na_rtm.c -o na_rtm.o\n",
            " -> \u001b[32mCompiling\u001b[0m na_wb.c\n",
            "x86_64-linux-gnu-gcc -O2   -I\"..\" -I.   -I/usr/local/lib/python3.7/dist-packages/neuron/.data/include  -I/nrnwheel/openmpi/include -fPIC -c na_wb.c -o na_wb.o\n",
            " -> \u001b[32mCompiling\u001b[0m vecevent.c\n",
            "x86_64-linux-gnu-gcc -O2   -I\"..\" -I.   -I/usr/local/lib/python3.7/dist-packages/neuron/.data/include  -I/nrnwheel/openmpi/include -fPIC -c vecevent.c -o vecevent.o\n",
            " => \u001b[32mLINKING\u001b[0m shared library ./libnrnmech.so\n",
            "x86_64-linux-gnu-g++ -O2 -DVERSION_INFO='8.0.0' -std=c++11 -shared -fPIC  -I /usr/local/lib/python3.7/dist-packages/neuron/.data/include -o ./libnrnmech.so -Wl,-soname,libnrnmech.so \\\n",
            "  ./mod_func.o ./gap.o ./k_rtm.o ./k_wb.o ./leak.o ./na_rtm.o ./na_wb.o ./vecevent.o  -L/usr/local/lib/python3.7/dist-packages/neuron/.data/lib -lnrniv -Wl,-rpath,/usr/local/lib/python3.7/dist-packages/neuron/.data/lib   \n",
            "rm -f ./.libs/libnrnmech.so ; mkdir -p ./.libs ; cp ./libnrnmech.so ./.libs/libnrnmech.so\n",
            "Successfully created x86_64/special\n",
            "/content/Borgers-Examples-in-BMTK/33-EI Beta/components\n",
            "/content/Borgers-Examples-in-BMTK/33-EI Beta\n",
            "33_EI_Beta.ipynb  \u001b[0m\u001b[01;34mcomponents\u001b[0m/\n"
          ]
        }
      ],
      "source": [
        "%ls\n",
        "%cd components/mechanisms/\n",
        "!nrnivmodl\n",
        "%cd ..\n",
        "%cd ..\n",
        "%ls"
      ]
    },
    {
      "cell_type": "code",
      "execution_count": 3,
      "metadata": {
        "id": "Qah-6Pf67bin"
      },
      "outputs": [],
      "source": [
        "import numpy as np\n",
        "import logging\n",
        "import math\n",
        "\n",
        "from bmtk.builder.networks import NetworkBuilder\n",
        "\n",
        "# E - Cells\n",
        "n_E = 200\n",
        "\n",
        "net = NetworkBuilder('network')\n",
        "net.add_nodes(N=n_E, pop_name='Exc',     # N = number of excitatory cells\n",
        "        model_type='biophysical',\n",
        "        model_template='hoc:RTMExcCell', # RTMExcCell hoc definition\n",
        "        morphology='blank.swc')\n",
        "\n",
        "# ING network\n",
        "n_I = 50\n",
        "\n",
        "net.add_nodes(N=n_I, pop_name='PING',     # N = number of ING cells\n",
        "        model_type='biophysical',\n",
        "        model_template='hoc:WBInhCell', \n",
        "        morphology='blank.swc')"
      ]
    },
    {
      "cell_type": "markdown",
      "metadata": {
        "id": "eKpoEedx7bin"
      },
      "source": [
        "### Connection rules \n",
        "\n",
        "We add connections based on a probability defined below. To prevent autapses, if the node_id is equal between source and targe cell, no connection is made."
      ]
    },
    {
      "cell_type": "code",
      "execution_count": 4,
      "metadata": {
        "id": "sSAQkNJg7bin"
      },
      "outputs": [],
      "source": [
        "import random\n",
        "\n",
        "def syn_connector(source,target,p):\n",
        "    if source['node_id'] == target['node_id']:\n",
        "        return 0\n",
        "    return 1 if random.random() < p else 0"
      ]
    },
    {
      "cell_type": "markdown",
      "metadata": {
        "id": "vMNFBnEc7bio"
      },
      "source": [
        "### Creating ING Edges\n",
        "\n",
        "Probabilities and conductances that are commented are taken from chapter 33 of Borgers' book. Inhibitory connections between PING cells are added; Inhibitory connections from PING cells to E - cells are added; Excitatory connections between E-cells and PING cells are added."
      ]
    },
    {
      "cell_type": "code",
      "execution_count": 5,
      "metadata": {
        "colab": {
          "base_uri": "https://localhost:8080/"
        },
        "id": "19j_u-Lz7bio",
        "outputId": "3c52c737-0a5a-4fd7-a294-8db722c6cce6"
      },
      "outputs": [
        {
          "output_type": "execute_result",
          "data": {
            "text/plain": [
              "<bmtk.builder.connection_map.ConnectionMap at 0x7fca96bb2690>"
            ]
          },
          "metadata": {},
          "execution_count": 5
        }
      ],
      "source": [
        "g_ee = 0\n",
        "g_ei = 0.1  #0.25\n",
        "g_ie = 0.5  #0.5\n",
        "g_ii = 0.5  #0.5\n",
        "\n",
        "p_ee = 0.5  # 0.5\n",
        "p_ei = 0.5  # 0.5\n",
        "p_ie = 0.5  # 0.5\n",
        "p_ii = 1   # 0.5\n",
        "\n",
        "\n",
        "\n",
        "#E-E connections dont exist (g_ee = 0)\n",
        "         \n",
        "#E-I connections \n",
        "net.add_edges(source={'pop_name':'Exc'}, target={'pop_name':'PING'},\n",
        "                    connection_rule=syn_connector, \n",
        "                    connection_params={'p':p_ei},\n",
        "                    delay=0,\n",
        "                    syn_weight = g_ei/n_E,\n",
        "                    weight_function=None,\n",
        "                    target_sections=['soma'],\n",
        "                    distance_range=[0.0, 0.1],\n",
        "                    dynamics_params='PING_ExcToInh.json',\n",
        "                    model_template='Exp2Syn')\n",
        "\n",
        "#I-I connections\n",
        "net.add_edges(source={'pop_name':'PING'}, target={'pop_name':'PING'},\n",
        "                    connection_rule=syn_connector, \n",
        "                    connection_params={'p':p_ii},\n",
        "                    delay=0,\n",
        "                    syn_weight = g_ii,\n",
        "                    weight_function=None,\n",
        "                    target_sections=['soma'],\n",
        "                    distance_range=[0.0, 0.1],\n",
        "                    dynamics_params='PING_InhToInh.json',\n",
        "                    model_template='Exp2Syn')\n",
        "                    \n",
        "#I-E connections\n",
        "net.add_edges(source={'pop_name':'PING'}, target={'pop_name':'Exc'},\n",
        "                    connection_rule=syn_connector,\n",
        "                    connection_params={'p':p_ie},\n",
        "                    delay=0,\n",
        "                    syn_weight = g_ie,\n",
        "                    weight_function=None,\n",
        "                    target_sections=['soma'],\n",
        "                    distance_range=[0.0, 0.1],\n",
        "                    dynamics_params='PING_InhToExc.json',\n",
        "                    model_template='Exp2Syn')\n"
      ]
    },
    {
      "cell_type": "code",
      "execution_count": 6,
      "metadata": {
        "id": "RrpH_AFG7bip"
      },
      "outputs": [],
      "source": [
        "net.build()\n",
        "net.save_nodes(output_dir='network')\n",
        "net.save_edges(output_dir='network')"
      ]
    },
    {
      "cell_type": "markdown",
      "metadata": {
        "id": "XMGOXKxe7bip"
      },
      "source": [
        "### Current Clamps for E-Cells and ING network"
      ]
    },
    {
      "cell_type": "code",
      "execution_count": 7,
      "metadata": {
        "id": "h9J1jXFE7bip"
      },
      "outputs": [],
      "source": [
        "import h5py\n",
        "import os\n",
        "\n",
        "try:\n",
        "  os.isdir('input')\n",
        "except:\n",
        "  os.makedirs('input')\n",
        "\n",
        "I_bar_E = 1.5      \n",
        "sigma_E = 0.1   \n",
        "I_bar_I = 1.5      \n",
        "sigma_I = 0.1   \n",
        "\n",
        "\n",
        "n_I = 50\n",
        "n_E = 200\n",
        "sim_len = 400\n",
        "dt = 1\n",
        "samples = int(sim_len/dt)\n",
        "amp = np.zeros((n_E+n_I,samples))\n",
        "\n",
        "\n",
        "amp[n_I:,:] = (I_bar_E * (1 + sigma_E*np.random.normal(size=n_E))).reshape(-1,1) # Excitatory Cell Current Injection\n",
        "amp[:n_I,:] = (I_bar_I * (1 + sigma_I*np.random.normal(size=n_I))).reshape(-1,1) # Inhibitory Cell Current Injection\n",
        "\n",
        "\n",
        "dts = [1]\n",
        "gids = \"all\"\n",
        "\n",
        "#hf.close() # Uncomment this line temporarily if you receive 'file already open error'\n",
        "\n",
        "hf = h5py.File(\"input/amps.h5\", 'w')\n",
        "\n",
        "hf.create_dataset(\"amplitudes\", data=[amp])\n",
        "hf.create_dataset(\"gids\", data=gids)\n",
        "hf.create_dataset(\"dts\", data=dts)\n",
        "\n",
        "hf.close()"
      ]
    },
    {
      "cell_type": "code",
      "execution_count": 8,
      "metadata": {
        "colab": {
          "base_uri": "https://localhost:8080/"
        },
        "id": "HL0jrxdp8hka",
        "outputId": "eba378ea-8ca8-4d1b-c26e-d06fdb71c3d9"
      },
      "outputs": [
        {
          "output_type": "stream",
          "name": "stdout",
          "text": [
            "33_EI_Beta.ipynb  \u001b[0m\u001b[01;34mcomponents\u001b[0m/  \u001b[01;34minput\u001b[0m/  \u001b[01;34mnetwork\u001b[0m/\n"
          ]
        }
      ],
      "source": [
        "%ls"
      ]
    },
    {
      "cell_type": "markdown",
      "metadata": {
        "id": "tRbWd8oR7biq"
      },
      "source": [
        "### Set up Simulation Environment"
      ]
    },
    {
      "cell_type": "code",
      "execution_count": 9,
      "metadata": {
        "id": "HXYzBE-f7biq"
      },
      "outputs": [],
      "source": [
        "from bmtk.utils.sim_setup import build_env_bionet\n",
        "\n",
        "build_env_bionet(base_dir='.',\n",
        "                 network_dir='network',\n",
        "                 tstop=400.0, dt=0.1,\n",
        "                 report_vars=['v'],           # Record membrane potential and calcium (default soma)\n",
        "                 #spikes_inputs=[('extnet',   # Name of population which spikes will be generated for\n",
        "                                #'input/ext_inp_poisson.h5')],\n",
        "                 #file_current_clamp={              \n",
        "                      #\"input_type\": \"file_current_clamp\",\n",
        "                      #\"module\": \"FileIClamp\",\n",
        "                      #\"input_file\":\"input/amps.h5\",\n",
        "                      #\"node_set\":\"all\"\n",
        "                # },\n",
        "                 current_clamp={            # Creates a step current from 500.ms to 1500.0 ms\n",
        "                    'amp': 0.400,\n",
        "                    'delay': 0,\n",
        "                    'duration': 30.0\n",
        "                },\n",
        "                 v_init= -65,\n",
        "                 include_examples=False,    # Copies components files\n",
        "                 compile_mechanisms=False,   # Will try to compile NEURON mechanisms\n",
        "                 config_file = 'config.json'\n",
        "                )"
      ]
    },
    {
      "cell_type": "markdown",
      "metadata": {
        "id": "E7NIzJ8M7biq"
      },
      "source": [
        "### Run the Simulation"
      ]
    },
    {
      "cell_type": "code",
      "execution_count": 10,
      "metadata": {
        "colab": {
          "base_uri": "https://localhost:8080/"
        },
        "id": "R5mV-nQc7biq",
        "outputId": "c22b9fcc-1814-4213-af9d-7ed6caede006"
      },
      "outputs": [
        {
          "output_type": "stream",
          "name": "stdout",
          "text": [
            "2022-10-04 02:51:07,692 [INFO] Created log file\n"
          ]
        },
        {
          "output_type": "stream",
          "name": "stderr",
          "text": [
            "INFO:NEURONIOUtils:Created log file\n"
          ]
        },
        {
          "output_type": "stream",
          "name": "stdout",
          "text": [
            "2022-10-04 02:51:07,810 [INFO] Building cells.\n"
          ]
        },
        {
          "output_type": "stream",
          "name": "stderr",
          "text": [
            "INFO:NEURONIOUtils:Building cells.\n"
          ]
        },
        {
          "output_type": "stream",
          "name": "stdout",
          "text": [
            "2022-10-04 02:51:08,362 [INFO] Building recurrent connections\n"
          ]
        },
        {
          "output_type": "stream",
          "name": "stderr",
          "text": [
            "INFO:NEURONIOUtils:Building recurrent connections\n"
          ]
        },
        {
          "output_type": "stream",
          "name": "stdout",
          "text": [
            "2022-10-04 02:51:44,664 [INFO] Running simulation for 400.000 ms with the time step 0.100 ms\n"
          ]
        },
        {
          "output_type": "stream",
          "name": "stderr",
          "text": [
            "INFO:NEURONIOUtils:Running simulation for 400.000 ms with the time step 0.100 ms\n"
          ]
        },
        {
          "output_type": "stream",
          "name": "stdout",
          "text": [
            "2022-10-04 02:51:44,673 [INFO] Starting timestep: 0 at t_sim: 0.000 ms\n"
          ]
        },
        {
          "output_type": "stream",
          "name": "stderr",
          "text": [
            "INFO:NEURONIOUtils:Starting timestep: 0 at t_sim: 0.000 ms\n"
          ]
        },
        {
          "output_type": "stream",
          "name": "stdout",
          "text": [
            "2022-10-04 02:51:44,681 [INFO] Block save every 4000 steps\n"
          ]
        },
        {
          "output_type": "stream",
          "name": "stderr",
          "text": [
            "INFO:NEURONIOUtils:Block save every 4000 steps\n"
          ]
        },
        {
          "output_type": "stream",
          "name": "stdout",
          "text": [
            "2022-10-04 02:52:19,286 [INFO]     step:4000 t_sim:400.00 ms\n"
          ]
        },
        {
          "output_type": "stream",
          "name": "stderr",
          "text": [
            "INFO:NEURONIOUtils:    step:4000 t_sim:400.00 ms\n"
          ]
        },
        {
          "output_type": "stream",
          "name": "stdout",
          "text": [
            "2022-10-04 02:52:19,338 [INFO] Simulation completed in 34.67 seconds \n"
          ]
        },
        {
          "output_type": "stream",
          "name": "stderr",
          "text": [
            "INFO:NEURONIOUtils:Simulation completed in 34.67 seconds \n"
          ]
        }
      ],
      "source": [
        "from bmtk.simulator import bionet\n",
        "\n",
        "\n",
        "conf = bionet.Config.from_json('config.json')\n",
        "conf.build_env()\n",
        "net = bionet.BioNetwork.from_config(conf)\n",
        "sim = bionet.BioSimulator.from_config(conf, network=net)\n",
        "sim.run()"
      ]
    },
    {
      "cell_type": "markdown",
      "metadata": {
        "id": "Oh9iWknT7biq"
      },
      "source": [
        "### Analyze Results"
      ]
    },
    {
      "cell_type": "markdown",
      "metadata": {
        "id": "kjarnBXW7biq"
      },
      "source": [
        "We did not add initial voltage values to the PING network nor the E - cells. Because of a synchronous initialization, only the ING cell entrainment of the E-cells can be observed. The E - cells are already synchronous."
      ]
    },
    {
      "cell_type": "code",
      "execution_count": 11,
      "metadata": {
        "id": "w9gbx2uB7bir",
        "scrolled": false,
        "colab": {
          "base_uri": "https://localhost:8080/",
          "height": 573
        },
        "outputId": "656edfb6-a306-4a6a-996b-1f4e111f7204"
      },
      "outputs": [
        {
          "output_type": "display_data",
          "data": {
            "text/plain": [
              "<Figure size 432x288 with 1 Axes>"
            ],
            "image/png": "[encoded data removed]"
          },
          "metadata": {
            "needs_background": "light"
          }
        },
        {
          "output_type": "execute_result",
          "data": {
            "text/plain": [
              "<Figure size 432x288 with 1 Axes>"
            ],
            "image/png": "[encoded data removed]"
          },
          "metadata": {},
          "execution_count": 11
        }
      ],
      "source": [
        "from bmtk.analyzer.spike_trains import plot_raster,plot_rates_boxplot\n",
        "\n",
        "plot_raster(config_file='config.json', with_histogram=False, population='network', group_by='pop_name')"
      ]
    },
    {
      "cell_type": "code",
      "execution_count": 12,
      "metadata": {
        "id": "aT_b4xMl7bir",
        "colab": {
          "base_uri": "https://localhost:8080/",
          "height": 599
        },
        "outputId": "0f042ca3-c29d-4367-e30d-59d1870fdbfd"
      },
      "outputs": [
        {
          "output_type": "stream",
          "name": "stderr",
          "text": [
            "/usr/local/lib/python3.7/dist-packages/matplotlib/cbook/__init__.py:1376: VisibleDeprecationWarning: Creating an ndarray from ragged nested sequences (which is a list-or-tuple of lists-or-tuples-or ndarrays with different lengths or shapes) is deprecated. If you meant to do this, you must specify 'dtype=object' when creating the ndarray.\n",
            "  X = np.atleast_1d(X.T if isinstance(X, np.ndarray) else np.asarray(X))\n"
          ]
        },
        {
          "output_type": "display_data",
          "data": {
            "text/plain": [
              "<Figure size 432x288 with 1 Axes>"
            ],
            "image/png": "[encoded data removed]"
          },
          "metadata": {
            "needs_background": "light"
          }
        },
        {
          "output_type": "execute_result",
          "data": {
            "text/plain": [
              "<Figure size 432x288 with 1 Axes>"
            ],
            "image/png": "[encoded data removed]"
          },
          "metadata": {},
          "execution_count": 12
        }
      ],
      "source": [
        "plot_rates_boxplot(config_file='config.json', group_by='pop_name')"
      ]
    },
    {
      "cell_type": "markdown",
      "metadata": {
        "id": "VDQtrwrs7bir"
      },
      "source": [
        "The PING network successfully entrained the E-cells (Exc) at ~20 Hz which is in Beta wave range"
      ]
    },
    {
      "cell_type": "code",
      "execution_count": 12,
      "metadata": {
        "id": "6aTJS17H7bir"
      },
      "outputs": [],
      "source": []
    }
  ],
  "metadata": {
    "colab": {
      "provenance": []
    },
    "kernelspec": {
      "display_name": "Python 3",
      "language": "python",
      "name": "python3"
    },
    "language_info": {
      "codemirror_mode": {
        "name": "ipython",
        "version": 3
      },
      "file_extension": ".py",
      "mimetype": "text/x-python",
      "name": "python",
      "nbconvert_exporter": "python",
      "pygments_lexer": "ipython3",
      "version": "3.6.12"
    }
  },
  "nbformat": 4,
  "nbformat_minor": 0
}