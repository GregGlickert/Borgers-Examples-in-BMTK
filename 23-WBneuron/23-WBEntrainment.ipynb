{
 "cells": [
  {
   "cell_type": "markdown",
   "metadata": {},
   "source": [
    "# Modeling Entrainment of a WB Neuron (with BMTK)\n",
    "\n",
    "In this notebook, we model 1:1 entrainment of a standard WB neuron under a constant frequency of excitatory input pulses. The entrainment is 1:1 because the WB neuron will fire at the same frequency as the input.\n"
   ]
  },
  {
   "cell_type": "markdown",
   "metadata": {},
   "source": [
    "## Cell Definition\n",
    "A standard WB cell is used in this example. \n",
    "\n",
    "**WB Cell**\n",
    "* $\\alpha_{n} = -0.01*(v+34)/(e^{-0.1*(v+34)}-1)$\n",
    "* $\\beta_{n} = 0.125*e^{-(v+44)/80}$\n",
    "* $\\alpha_{m} = 0.1*(v+35)/(1-e^{-(v+35)/10})$\n",
    "* $\\beta_{m} = 4*e^{-(v+60)/18}$\n",
    "* $\\alpha_{h} = 0.07*e^{-(v+58)/20}$\n",
    "* $\\beta_{h} = 1/(e^{-0.1*(v+28)}+1)$"
   ]
  },
  {
   "cell_type": "markdown",
   "metadata": {},
   "source": [
    "### 1.Building the Network\n",
    "There is only 1 cell in this network, thus only a WB cell will be added. No network connections are necessary"
   ]
  },
  {
   "cell_type": "code",
   "execution_count": 1,
   "metadata": {},
   "outputs": [],
   "source": [
    "import numpy as np\n",
    "import logging\n",
    "\n",
    "from bmtk.builder.networks import NetworkBuilder\n",
    "\n",
    "net = NetworkBuilder('network')\n",
    "net.add_nodes(N=1,pop_name='WB',     \n",
    "        model_type='biophysical',\n",
    "        model_template='hoc:WBInhCell',  # WBInhCell hoc definition\n",
    "        morphology='blank.swc')"
   ]
  },
  {
   "cell_type": "markdown",
   "metadata": {},
   "source": [
    "#### Building\n",
    "After defining our network, we build and save it in a network folder."
   ]
  },
  {
   "cell_type": "code",
   "execution_count": 2,
   "metadata": {},
   "outputs": [],
   "source": [
    "net.build()\n",
    "net.save_nodes(output_dir='network')"
   ]
  },
  {
   "cell_type": "markdown",
   "metadata": {},
   "source": [
    "#### External Input\n",
    "We then create a 'virtual' cell that supplies the excitatory synaptic input to our WB cell."
   ]
  },
  {
   "cell_type": "code",
   "execution_count": 3,
   "metadata": {},
   "outputs": [],
   "source": [
    "extnet = NetworkBuilder('extnet')\n",
    "extnet.add_nodes(N=1,pop_name='Inp',\n",
    "            potential='exc',\n",
    "            model_type='virtual')"
   ]
  },
  {
   "cell_type": "markdown",
   "metadata": {},
   "source": [
    "Add an excitatory connection from our virtual cell to the WB cell using tau1=0.5 ms and t2=2 ms. These parameters are specified in ExcToInh.json"
   ]
  },
  {
   "cell_type": "code",
   "execution_count": 4,
   "metadata": {},
   "outputs": [
    {
     "data": {
      "text/plain": [
       "<bmtk.builder.connection_map.ConnectionMap at 0x283e80b5c50>"
      ]
     },
     "execution_count": 4,
     "metadata": {},
     "output_type": "execute_result"
    }
   ],
   "source": [
    "extnet.add_edges(source={'pop_name':'Inp'}, target=net.nodes(),\n",
    "                   connection_rule=1,\n",
    "                   syn_weight=0.195,               #synaptic weight specified in Borger's book ch 23\n",
    "                   delay=5,\n",
    "                   weight_function=None,\n",
    "                   target_sections=['soma'],\n",
    "                   distance_range=[0.0, 150.0],\n",
    "                   dynamics_params='ExcToInh.json',\n",
    "                   model_template='exp2syn')"
   ]
  },
  {
   "cell_type": "code",
   "execution_count": 5,
   "metadata": {},
   "outputs": [],
   "source": [
    "extnet.build()\n",
    "extnet.save_nodes(output_dir='network')\n",
    "extnet.save_edges(output_dir='network')"
   ]
  },
  {
   "cell_type": "markdown",
   "metadata": {},
   "source": [
    "#### Adding Spike Train"
   ]
  },
  {
   "cell_type": "code",
   "execution_count": 6,
   "metadata": {},
   "outputs": [],
   "source": [
    "from bmtk.utils.reports.spike_trains import SpikeTrains\n",
    "\n",
    "spikes = SpikeTrains(population='extnet')\n",
    "spikes.add_spikes(node_ids=0, \n",
    "                    timestamps=[50, 100, 150, 200, 250, 300, 350, 400, 450, 500, 550, 600, 650, 700, 750, 800])\n",
    "spikes.to_sonata('input/ConstantSpike.h5')"
   ]
  },
  {
   "cell_type": "code",
   "execution_count": 7,
   "metadata": {},
   "outputs": [
    {
     "data": {
      "text/plain": [
       "'C:\\\\Users\\\\strou\\\\Documents\\\\Git\\\\Borgers-Examples-in-BMTK\\\\23-WBneuron'"
      ]
     },
     "execution_count": 7,
     "metadata": {},
     "output_type": "execute_result"
    }
   ],
   "source": [
    "%pwd"
   ]
  },
  {
   "cell_type": "markdown",
   "metadata": {},
   "source": [
    "This next cell is used to build the simulation. This step is already completed for you."
   ]
  },
  {
   "cell_type": "code",
   "execution_count": 8,
   "metadata": {},
   "outputs": [],
   "source": [
    "from bmtk.utils.sim_setup import build_env_bionet\n",
    "\n",
    "build_env_bionet(base_dir='.\\\\',\n",
    "                network_dir='network',\n",
    "                 tstop=800.0, dt=0.1,\n",
    "                 report_vars=['v'],     # Record membrane potential and calcium (default soma)\n",
    "                 spikes_inputs=[('extnet',   # Name of population which spikes will be generated for\n",
    "                                'input/ConstantSpike.h5')],\n",
    "                 include_examples=False,    # Copies components files\n",
    "                 compile_mechanisms=False,   # Will try to compile NEURON mechanisms\n",
    "                 config_file = 'config.json'\n",
    "                )"
   ]
  },
  {
   "cell_type": "markdown",
   "metadata": {},
   "source": [
    "### Run the Simulation"
   ]
  },
  {
   "cell_type": "code",
   "execution_count": 9,
   "metadata": {},
   "outputs": [
    {
     "name": "stdout",
     "output_type": "stream",
     "text": [
      "2021-03-10 01:01:07,962 [INFO] Created log file\n"
     ]
    },
    {
     "name": "stderr",
     "output_type": "stream",
     "text": [
      "INFO:NEURONIOUtils:Created log file\n"
     ]
    },
    {
     "name": "stdout",
     "output_type": "stream",
     "text": [
      "2021-03-10 01:01:08,008 [ERROR] Could not find any network files. Unable to build network.\n"
     ]
    },
    {
     "name": "stderr",
     "output_type": "stream",
     "text": [
      "ERROR:NEURONIOUtils:Could not find any network files. Unable to build network.\n"
     ]
    },
    {
     "ename": "Exception",
     "evalue": "Could not find any network files. Unable to build network.",
     "output_type": "error",
     "traceback": [
      "\u001b[1;31m---------------------------------------------------------------------------\u001b[0m",
      "\u001b[1;31mException\u001b[0m                                 Traceback (most recent call last)",
      "\u001b[1;32m<ipython-input-9-e745001a236e>\u001b[0m in \u001b[0;36m<module>\u001b[1;34m\u001b[0m\n\u001b[0;32m      4\u001b[0m \u001b[0mconf\u001b[0m \u001b[1;33m=\u001b[0m \u001b[0mbionet\u001b[0m\u001b[1;33m.\u001b[0m\u001b[0mConfig\u001b[0m\u001b[1;33m.\u001b[0m\u001b[0mfrom_json\u001b[0m\u001b[1;33m(\u001b[0m\u001b[1;34m'simulation_config.json'\u001b[0m\u001b[1;33m)\u001b[0m\u001b[1;33m\u001b[0m\u001b[1;33m\u001b[0m\u001b[0m\n\u001b[0;32m      5\u001b[0m \u001b[0mconf\u001b[0m\u001b[1;33m.\u001b[0m\u001b[0mbuild_env\u001b[0m\u001b[1;33m(\u001b[0m\u001b[1;33m)\u001b[0m\u001b[1;33m\u001b[0m\u001b[1;33m\u001b[0m\u001b[0m\n\u001b[1;32m----> 6\u001b[1;33m \u001b[0mnet\u001b[0m \u001b[1;33m=\u001b[0m \u001b[0mbionet\u001b[0m\u001b[1;33m.\u001b[0m\u001b[0mBioNetwork\u001b[0m\u001b[1;33m.\u001b[0m\u001b[0mfrom_config\u001b[0m\u001b[1;33m(\u001b[0m\u001b[0mconf\u001b[0m\u001b[1;33m)\u001b[0m\u001b[1;33m\u001b[0m\u001b[1;33m\u001b[0m\u001b[0m\n\u001b[0m\u001b[0;32m      7\u001b[0m \u001b[0msim\u001b[0m \u001b[1;33m=\u001b[0m \u001b[0mbionet\u001b[0m\u001b[1;33m.\u001b[0m\u001b[0mBioSimulator\u001b[0m\u001b[1;33m.\u001b[0m\u001b[0mfrom_config\u001b[0m\u001b[1;33m(\u001b[0m\u001b[0mconf\u001b[0m\u001b[1;33m,\u001b[0m \u001b[0mnetwork\u001b[0m\u001b[1;33m=\u001b[0m\u001b[0mnet\u001b[0m\u001b[1;33m)\u001b[0m\u001b[1;33m\u001b[0m\u001b[1;33m\u001b[0m\u001b[0m\n\u001b[0;32m      8\u001b[0m \u001b[0msim\u001b[0m\u001b[1;33m.\u001b[0m\u001b[0mrun\u001b[0m\u001b[1;33m(\u001b[0m\u001b[1;33m)\u001b[0m\u001b[1;33m\u001b[0m\u001b[1;33m\u001b[0m\u001b[0m\n",
      "\u001b[1;32m~\\Anaconda3\\envs\\bmtk\\lib\\site-packages\\bmtk\\simulator\\core\\simulator_network.py\u001b[0m in \u001b[0;36mfrom_config\u001b[1;34m(cls, conf, **properties)\u001b[0m\n\u001b[0;32m    225\u001b[0m \u001b[1;33m\u001b[0m\u001b[0m\n\u001b[0;32m    226\u001b[0m         \u001b[1;32mif\u001b[0m \u001b[1;32mnot\u001b[0m \u001b[0mconfig\u001b[0m\u001b[1;33m.\u001b[0m\u001b[0mwith_networks\u001b[0m\u001b[1;33m:\u001b[0m\u001b[1;33m\u001b[0m\u001b[1;33m\u001b[0m\u001b[0m\n\u001b[1;32m--> 227\u001b[1;33m             \u001b[0mnetwork\u001b[0m\u001b[1;33m.\u001b[0m\u001b[0mio\u001b[0m\u001b[1;33m.\u001b[0m\u001b[0mlog_exception\u001b[0m\u001b[1;33m(\u001b[0m\u001b[1;34m'Could not find any network files. Unable to build network.'\u001b[0m\u001b[1;33m)\u001b[0m\u001b[1;33m\u001b[0m\u001b[1;33m\u001b[0m\u001b[0m\n\u001b[0m\u001b[0;32m    228\u001b[0m \u001b[1;33m\u001b[0m\u001b[0m\n\u001b[0;32m    229\u001b[0m         \u001b[1;31m# TODO: These are simulator specific\u001b[0m\u001b[1;33m\u001b[0m\u001b[1;33m\u001b[0m\u001b[1;33m\u001b[0m\u001b[0m\n",
      "\u001b[1;32m~\\Anaconda3\\envs\\bmtk\\lib\\site-packages\\bmtk\\simulator\\core\\io_tools.py\u001b[0m in \u001b[0;36mlog_exception\u001b[1;34m(self, message)\u001b[0m\n\u001b[0;32m    109\u001b[0m \u001b[1;33m\u001b[0m\u001b[0m\n\u001b[0;32m    110\u001b[0m         \u001b[0mself\u001b[0m\u001b[1;33m.\u001b[0m\u001b[0mbarrier\u001b[0m\u001b[1;33m(\u001b[0m\u001b[1;33m)\u001b[0m\u001b[1;33m\u001b[0m\u001b[1;33m\u001b[0m\u001b[0m\n\u001b[1;32m--> 111\u001b[1;33m         \u001b[1;32mraise\u001b[0m \u001b[0mException\u001b[0m\u001b[1;33m(\u001b[0m\u001b[0mmessage\u001b[0m\u001b[1;33m)\u001b[0m\u001b[1;33m\u001b[0m\u001b[1;33m\u001b[0m\u001b[0m\n\u001b[0m\u001b[0;32m    112\u001b[0m \u001b[1;33m\u001b[0m\u001b[0m\n\u001b[0;32m    113\u001b[0m \u001b[1;33m\u001b[0m\u001b[0m\n",
      "\u001b[1;31mException\u001b[0m: Could not find any network files. Unable to build network."
     ]
    }
   ],
   "source": [
    "from bmtk.simulator import bionet\n",
    "\n",
    "\n",
    "conf = bionet.Config.from_json('config.json')\n",
    "conf.build_env()\n",
    "net = bionet.BioNetwork.from_config(conf)\n",
    "sim = bionet.BioSimulator.from_config(conf, network=net)\n",
    "sim.run()"
   ]
  },
  {
   "cell_type": "markdown",
   "metadata": {},
   "source": [
    "If the simulation ran correctly, we can now print out results:"
   ]
  },
  {
   "cell_type": "code",
   "execution_count": null,
   "metadata": {},
   "outputs": [],
   "source": [
    "from bmtk.analyzer.spike_trains import to_dataframe\n",
    "\n",
    "results_df = to_dataframe(config_file='simulation_config.json')\n",
    "print('Number of Spikes: {}'.format(len(results_df)))\n",
    "results_df.head()"
   ]
  },
  {
   "cell_type": "markdown",
   "metadata": {},
   "source": [
    "As you can see, the WB neuron fired ~7.8 ms after the spike in our virtual cell. We defined 5 ms delay in our synapse, so if this delay is set to 0 and the simulation is re-run, the WB neuron would fire ~2.8 ms after the virtual cell spike."
   ]
  },
  {
   "cell_type": "markdown",
   "metadata": {},
   "source": [
    "We can now plot our results using an in built bmtk function plot_traces"
   ]
  },
  {
   "cell_type": "code",
   "execution_count": null,
   "metadata": {
    "scrolled": true
   },
   "outputs": [],
   "source": [
    "from bmtk.analyzer.compartment import plot_traces\n",
    "\n",
    "\n",
    "_ = plot_traces(config_file='simulation_config.json', node_ids=[0], report_name='v_report')\n",
    "\n",
    "#Add verticle lines for when the virtual cell fires\n",
    "\n"
   ]
  },
  {
   "cell_type": "markdown",
   "metadata": {},
   "source": [
    "## Additional Plot Features\n",
    "It is easier to work with this data if we obtain it in array form, and we can use well documented matplotlib features while plotting."
   ]
  },
  {
   "cell_type": "code",
   "execution_count": null,
   "metadata": {},
   "outputs": [],
   "source": [
    "from bmtk.utils.reports.compartment import CompartmentReport\n",
    "\n",
    "pop_name = 'WB'\n",
    "report = CompartmentReport('output/v_report.h5',\n",
    "population=pop_name, mode='r')\n",
    "v_trace = (report.data(node_id=0))\n",
    "time = np.arange(report.tstart(), report.tstop(), report.dt())"
   ]
  },
  {
   "cell_type": "code",
   "execution_count": null,
   "metadata": {},
   "outputs": [],
   "source": [
    "import matplotlib.pyplot as plt\n",
    "plt.plot(time, v_trace)\n",
    "plt.ylabel('Voltage [mv]')\n",
    "plt.xlabel('Time [ms]')\n",
    "plt.title('WB_neuron Voltage')\n",
    "# add red verticle lines that mark when the virtual cell spikes\n",
    "for i in range(15):\n",
    "    plt.axvline(x=50*i+50, linewidth=0.5, color='r')\n",
    "plt.show()"
   ]
  },
  {
   "cell_type": "markdown",
   "metadata": {},
   "source": [
    "After overlaying the virtual cell spike times (vertical red lines) we have created a plot that looks very similar to the example in chapter 23 of Borgers' book, \"An Introduction to Modeling Neuronal Dynamics.\""
   ]
  },
  {
   "cell_type": "code",
   "execution_count": null,
   "metadata": {},
   "outputs": [],
   "source": []
  }
 ],
 "metadata": {
  "kernelspec": {
   "display_name": "Python 3",
   "language": "python",
   "name": "python3"
  },
  "language_info": {
   "codemirror_mode": {
    "name": "ipython",
    "version": 3
   },
   "file_extension": ".py",
   "mimetype": "text/x-python",
   "name": "python",
   "nbconvert_exporter": "python",
   "pygments_lexer": "ipython3",
   "version": "3.6.12"
  }
 },
 "nbformat": 4,
 "nbformat_minor": 2
}
