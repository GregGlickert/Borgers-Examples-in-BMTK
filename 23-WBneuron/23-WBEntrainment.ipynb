{
 "cells": [
  {
   "cell_type": "markdown",
   "metadata": {},
   "source": [
    "# Modeling Entrainment of a WB Neuron (with BMTK)\n",
    "\n",
    "In this notebook, we model 1:1 entrainment of a standard WB neuron under a constant frequency of excitatory input pulses. The entrainment is 1:1 because the WB neuron will fire at the same frequency as the input.\n"
   ]
  },
  {
   "cell_type": "markdown",
   "metadata": {},
   "source": [
    "## Cell Definition\n",
    "A standard WB cell is used in this example. \n",
    "\n",
    "**WB Cell**\n",
    "* $\\alpha_{n} = -0.01*(v+34)/(e^{-0.1*(v+34)}-1)$\n",
    "* $\\beta_{n} = 0.125*e^{-(v+44)/80}$\n",
    "* $\\alpha_{m} = 0.1*(v+35)/(1-e^{-(v+35)/10})$\n",
    "* $\\beta_{m} = 4*e^{-(v+60)/18}$\n",
    "* $\\alpha_{h} = 0.07*e^{-(v+58)/20}$\n",
    "* $\\beta_{h} = 1/(e^{-0.1*(v+28)}+1)$"
   ]
  },
  {
   "cell_type": "markdown",
   "metadata": {},
   "source": [
    "Compile .mod Files"
   ]
  },
  {
   "cell_type": "code",
   "execution_count": 1,
   "metadata": {},
   "outputs": [
    {
     "name": "stdout",
     "output_type": "stream",
     "text": [
      "0\n"
     ]
    }
   ],
   "source": [
    "import os\n",
    "print(os.system('nrnivmodl components\\mechanisms')) # compile modfiles. Return 0 for success, 1 for failure."
   ]
  },
  {
   "cell_type": "markdown",
   "metadata": {},
   "source": [
    "### 1.Building the Network\n",
    "There is only 1 cell in this network, thus only a WB cell will be added. No network connections are necessary"
   ]
  },
  {
   "cell_type": "code",
   "execution_count": 2,
   "metadata": {},
   "outputs": [],
   "source": [
    "import numpy as np\n",
    "import logging\n",
    "\n",
    "from bmtk.builder.networks import NetworkBuilder\n",
    "\n",
    "net = NetworkBuilder('network')\n",
    "net.add_nodes(N=1,pop_name='WB',     \n",
    "        model_type='biophysical',\n",
    "        model_template='hoc:WBInhCell',  # WBInhCell hoc definition\n",
    "        morphology='blank.swc')"
   ]
  },
  {
   "cell_type": "markdown",
   "metadata": {},
   "source": [
    "#### Building\n",
    "After defining our network, we build and save it in a network folder."
   ]
  },
  {
   "cell_type": "code",
   "execution_count": 3,
   "metadata": {},
   "outputs": [],
   "source": [
    "net.build()\n",
    "net.save_nodes(output_dir='network')"
   ]
  },
  {
   "cell_type": "markdown",
   "metadata": {},
   "source": [
    "#### External Input\n",
    "We then create a 'virtual' cell that supplies the excitatory synaptic input to our WB cell."
   ]
  },
  {
   "cell_type": "code",
   "execution_count": 4,
   "metadata": {},
   "outputs": [],
   "source": [
    "extnet = NetworkBuilder('extnet')\n",
    "extnet.add_nodes(N=1,pop_name='Inp',\n",
    "            potential='exc',\n",
    "            model_type='virtual')"
   ]
  },
  {
   "cell_type": "markdown",
   "metadata": {},
   "source": [
    "Add an excitatory connection from our virtual cell to the WB cell using tau1=0.5 ms and t2=2 ms. These parameters are specified in ExcToInh.json"
   ]
  },
  {
   "cell_type": "code",
   "execution_count": 5,
   "metadata": {},
   "outputs": [
    {
     "data": {
      "text/plain": [
       "<bmtk.builder.connection_map.ConnectionMap at 0x2241e434fa0>"
      ]
     },
     "execution_count": 5,
     "metadata": {},
     "output_type": "execute_result"
    }
   ],
   "source": [
    "extnet.add_edges(source={'pop_name':'Inp'}, target=net.nodes(),\n",
    "                   connection_rule=1,\n",
    "                   syn_weight=0.03,               #synaptic weight specified in Borger's book ch 23\n",
    "                   delay=5,\n",
    "                   weight_function=None,\n",
    "                   target_sections=['soma'],\n",
    "                   distance_range=[0.0, 150.0],\n",
    "                   dynamics_params='ExcToInh.json',\n",
    "                   model_template='exp2syn')"
   ]
  },
  {
   "cell_type": "code",
   "execution_count": 6,
   "metadata": {},
   "outputs": [],
   "source": [
    "extnet.build()\n",
    "extnet.save_nodes(output_dir='network')\n",
    "extnet.save_edges(output_dir='network')"
   ]
  },
  {
   "cell_type": "markdown",
   "metadata": {},
   "source": [
    "#### Adding Spike Train"
   ]
  },
  {
   "cell_type": "code",
   "execution_count": 7,
   "metadata": {},
   "outputs": [],
   "source": [
    "from bmtk.utils.reports.spike_trains import SpikeTrains\n",
    "\n",
    "spikes = SpikeTrains(population='extnet')\n",
    "spikes.add_spikes(node_ids=0, \n",
    "                    timestamps=[50, 100, 150, 200, 250, 300, 350, 400, 450, 500, 550, 600, 650, 700, 750, 800])\n",
    "spikes.to_sonata('input/ConstantSpike.h5')"
   ]
  },
  {
   "cell_type": "markdown",
   "metadata": {},
   "source": [
    "This next cell is used to build the simulation. This step is already completed for you."
   ]
  },
  {
   "cell_type": "code",
   "execution_count": 8,
   "metadata": {},
   "outputs": [],
   "source": [
    "from bmtk.utils.sim_setup import build_env_bionet\n",
    "\n",
    "build_env_bionet(base_dir='.',\n",
    "                network_dir='network',\n",
    "                 tstop=800.0, dt=0.1,\n",
    "                 report_vars=['v'],     # Record membrane potential and calcium (default soma)\n",
    "                 spikes_inputs=[('extnet',   # Name of population which spikes will be generated for\n",
    "                                'input/ConstantSpike.h5')],\n",
    "                 include_examples=False,    # Copies components files\n",
    "                 compile_mechanisms=False,   # Will try to compile NEURON mechanisms\n",
    "                 config_file = 'config.json'\n",
    "                )"
   ]
  },
  {
   "cell_type": "markdown",
   "metadata": {},
   "source": [
    "### Run the Simulation"
   ]
  },
  {
   "cell_type": "code",
   "execution_count": 9,
   "metadata": {},
   "outputs": [
    {
     "name": "stdout",
     "output_type": "stream",
     "text": [
      "2021-04-08 16:27:27,579 [INFO] Created log file\n"
     ]
    },
    {
     "name": "stderr",
     "output_type": "stream",
     "text": [
      "INFO:NEURONIOUtils:Created log file\n"
     ]
    },
    {
     "name": "stdout",
     "output_type": "stream",
     "text": [
      "NEURON mechanisms not found in C:\\Users\\Admin\\Documents\\research\\BMTK\\Borgers-Examples-in-BMTK\\23-WBneuron\\components\\mechanisms.\n",
      "2021-04-08 16:27:27,761 [INFO] Building cells.\n"
     ]
    },
    {
     "name": "stderr",
     "output_type": "stream",
     "text": [
      "INFO:NEURONIOUtils:Building cells.\n"
     ]
    },
    {
     "name": "stdout",
     "output_type": "stream",
     "text": [
      "2021-04-08 16:27:27,778 [INFO] Building recurrent connections\n"
     ]
    },
    {
     "name": "stderr",
     "output_type": "stream",
     "text": [
      "INFO:NEURONIOUtils:Building recurrent connections\n"
     ]
    },
    {
     "name": "stdout",
     "output_type": "stream",
     "text": [
      "2021-04-08 16:27:27,780 [INFO] Building virtual cell stimulations for extnet_spikes\n"
     ]
    },
    {
     "name": "stderr",
     "output_type": "stream",
     "text": [
      "INFO:NEURONIOUtils:Building virtual cell stimulations for extnet_spikes\n"
     ]
    },
    {
     "name": "stdout",
     "output_type": "stream",
     "text": [
      "2021-04-08 16:27:27,795 [INFO] Running simulation for 800.000 ms with the time step 0.100 ms\n"
     ]
    },
    {
     "name": "stderr",
     "output_type": "stream",
     "text": [
      "INFO:NEURONIOUtils:Running simulation for 800.000 ms with the time step 0.100 ms\n"
     ]
    },
    {
     "name": "stdout",
     "output_type": "stream",
     "text": [
      "2021-04-08 16:27:27,796 [INFO] Starting timestep: 0 at t_sim: 0.000 ms\n"
     ]
    },
    {
     "name": "stderr",
     "output_type": "stream",
     "text": [
      "INFO:NEURONIOUtils:Starting timestep: 0 at t_sim: 0.000 ms\n"
     ]
    },
    {
     "name": "stdout",
     "output_type": "stream",
     "text": [
      "2021-04-08 16:27:27,796 [INFO] Block save every 5000 steps\n"
     ]
    },
    {
     "name": "stderr",
     "output_type": "stream",
     "text": [
      "INFO:NEURONIOUtils:Block save every 5000 steps\n"
     ]
    },
    {
     "name": "stdout",
     "output_type": "stream",
     "text": [
      "2021-04-08 16:27:27,915 [INFO]     step:5000 t_sim:500.00 ms\n"
     ]
    },
    {
     "name": "stderr",
     "output_type": "stream",
     "text": [
      "INFO:NEURONIOUtils:    step:5000 t_sim:500.00 ms\n"
     ]
    },
    {
     "name": "stdout",
     "output_type": "stream",
     "text": [
      "2021-04-08 16:27:27,987 [INFO]     step:8000 t_sim:800.00 ms\n"
     ]
    },
    {
     "name": "stderr",
     "output_type": "stream",
     "text": [
      "INFO:NEURONIOUtils:    step:8000 t_sim:800.00 ms\n"
     ]
    },
    {
     "name": "stdout",
     "output_type": "stream",
     "text": [
      "2021-04-08 16:27:28,001 [INFO] Simulation completed in 0.2055 seconds \n"
     ]
    },
    {
     "name": "stderr",
     "output_type": "stream",
     "text": [
      "INFO:NEURONIOUtils:Simulation completed in 0.2055 seconds \n"
     ]
    }
   ],
   "source": [
    "from bmtk.simulator import bionet\n",
    "\n",
    "\n",
    "conf = bionet.Config.from_json('config.json')\n",
    "conf.build_env()\n",
    "net = bionet.BioNetwork.from_config(conf)\n",
    "sim = bionet.BioSimulator.from_config(conf, network=net)\n",
    "sim.run()"
   ]
  },
  {
   "cell_type": "markdown",
   "metadata": {},
   "source": [
    "If the simulation ran correctly, we can now print out results:"
   ]
  },
  {
   "cell_type": "code",
   "execution_count": 10,
   "metadata": {},
   "outputs": [
    {
     "name": "stdout",
     "output_type": "stream",
     "text": [
      "Number of Spikes: 5\n"
     ]
    },
    {
     "data": {
      "text/html": [
       "<div>\n",
       "<style scoped>\n",
       "    .dataframe tbody tr th:only-of-type {\n",
       "        vertical-align: middle;\n",
       "    }\n",
       "\n",
       "    .dataframe tbody tr th {\n",
       "        vertical-align: top;\n",
       "    }\n",
       "\n",
       "    .dataframe thead th {\n",
       "        text-align: right;\n",
       "    }\n",
       "</style>\n",
       "<table border=\"1\" class=\"dataframe\">\n",
       "  <thead>\n",
       "    <tr style=\"text-align: right;\">\n",
       "      <th></th>\n",
       "      <th>timestamps</th>\n",
       "      <th>node_ids</th>\n",
       "      <th>population</th>\n",
       "    </tr>\n",
       "  </thead>\n",
       "  <tbody>\n",
       "    <tr>\n",
       "      <th>0</th>\n",
       "      <td>174.5</td>\n",
       "      <td>0</td>\n",
       "      <td>network</td>\n",
       "    </tr>\n",
       "    <tr>\n",
       "      <th>1</th>\n",
       "      <td>322.1</td>\n",
       "      <td>0</td>\n",
       "      <td>network</td>\n",
       "    </tr>\n",
       "    <tr>\n",
       "      <th>2</th>\n",
       "      <td>471.4</td>\n",
       "      <td>0</td>\n",
       "      <td>network</td>\n",
       "    </tr>\n",
       "    <tr>\n",
       "      <th>3</th>\n",
       "      <td>621.2</td>\n",
       "      <td>0</td>\n",
       "      <td>network</td>\n",
       "    </tr>\n",
       "    <tr>\n",
       "      <th>4</th>\n",
       "      <td>771.2</td>\n",
       "      <td>0</td>\n",
       "      <td>network</td>\n",
       "    </tr>\n",
       "  </tbody>\n",
       "</table>\n",
       "</div>"
      ],
      "text/plain": [
       "   timestamps  node_ids population\n",
       "0       174.5         0    network\n",
       "1       322.1         0    network\n",
       "2       471.4         0    network\n",
       "3       621.2         0    network\n",
       "4       771.2         0    network"
      ]
     },
     "execution_count": 10,
     "metadata": {},
     "output_type": "execute_result"
    }
   ],
   "source": [
    "from bmtk.analyzer.spike_trains import to_dataframe\n",
    "\n",
    "results_df = to_dataframe(config_file='config.json')\n",
    "print('Number of Spikes: {}'.format(len(results_df)))\n",
    "results_df.head()"
   ]
  },
  {
   "cell_type": "markdown",
   "metadata": {},
   "source": [
    "As you can see, the WB neuron fired ~7.8 ms after the spike in our virtual cell. We defined 5 ms delay in our synapse, so if this delay is set to 0 and the simulation is re-run, the WB neuron would fire ~2.8 ms after the virtual cell spike."
   ]
  },
  {
   "cell_type": "markdown",
   "metadata": {},
   "source": [
    "We can now plot our results using an in built bmtk function plot_traces"
   ]
  },
  {
   "cell_type": "code",
   "execution_count": 11,
   "metadata": {
    "scrolled": true
   },
   "outputs": [
    {
     "data": {
      "image/png": "[encoded data removed]",
      "text/plain": [
       "<Figure size 432x288 with 1 Axes>"
      ]
     },
     "metadata": {
      "needs_background": "light"
     },
     "output_type": "display_data"
    }
   ],
   "source": [
    "from bmtk.analyzer.compartment import plot_traces\n",
    "_ = plot_traces(config_file='config.json', node_ids=[0], report_name='v_report')\n"
   ]
  },
  {
   "cell_type": "markdown",
   "metadata": {},
   "source": [
    "## Additional Plot Features\n",
    "It is easier to work with this data if we obtain it in array form, and we can use well documented matplotlib features while plotting."
   ]
  },
  {
   "cell_type": "code",
   "execution_count": 12,
   "metadata": {},
   "outputs": [],
   "source": [
    "from bmtk.utils.reports.compartment import CompartmentReport\n",
    "\n",
    "pop_name = 'WB'\n",
    "report = CompartmentReport('output/v_report.h5',\n",
    "population=pop_name, mode='r')\n",
    "v_trace = (report.data(node_id=0))\n",
    "time = np.arange(report.tstart(), report.tstop(), report.dt())"
   ]
  },
  {
   "cell_type": "code",
   "execution_count": 13,
   "metadata": {},
   "outputs": [
    {
     "data": {
      "image/png": "[encoded data removed]",
      "text/plain": [
       "<Figure size 432x288 with 1 Axes>"
      ]
     },
     "metadata": {
      "needs_background": "light"
     },
     "output_type": "display_data"
    }
   ],
   "source": [
    "import matplotlib.pyplot as plt\n",
    "plt.plot(time, v_trace)\n",
    "plt.ylabel('Voltage [mv]')\n",
    "plt.xlabel('Time [ms]')\n",
    "plt.title('WB_neuron Voltage')\n",
    "# add red verticle lines that mark when the virtual cell spikes\n",
    "for i in range(15):\n",
    "    plt.axvline(x=50*i+50, linewidth=0.5, color='r')\n",
    "plt.show()"
   ]
  },
  {
   "cell_type": "markdown",
   "metadata": {},
   "source": [
    "After overlaying the virtual cell spike times (vertical red lines) we have created a plot that looks very similar to the example in chapter 23 of Borgers' book, \"An Introduction to Modeling Neuronal Dynamics.\""
   ]
  },
  {
   "cell_type": "code",
   "execution_count": null,
   "metadata": {},
   "outputs": [],
   "source": []
  }
 ],
 "metadata": {
  "kernelspec": {
   "display_name": "Python 3",
   "language": "python",
   "name": "python3"
  },
  "language_info": {
   "codemirror_mode": {
    "name": "ipython",
    "version": 3
   },
   "file_extension": ".py",
   "mimetype": "text/x-python",
   "name": "python",
   "nbconvert_exporter": "python",
   "pygments_lexer": "ipython3",
   "version": "3.8.5"
  }
 },
 "nbformat": 4,
 "nbformat_minor": 2
}
