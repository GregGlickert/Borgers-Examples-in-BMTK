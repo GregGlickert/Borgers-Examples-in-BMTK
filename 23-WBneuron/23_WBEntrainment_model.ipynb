{
  "cells": [
    {
      "cell_type": "code",
      "source": [
        "! pip install NEURON\n",
        "! pip install bmtk\n",
        "# as new version of neuron and bmtk come out we may need to install a specific version\n",
        "import os\n",
        "from os.path import normpath, sep, join\n",
        "\n",
        "root = 'Borgers-Examples-in-BMTK' # name of github repo\n",
        "folder = '23-WBneuron' # name of folder in Github just change this line \n",
        "pathlist = normpath(os.getcwd()).split(sep)\n",
        "if pathlist[-1] != folder:\n",
        "  rootidx = pathlist.index(root) if root in pathlist else -1\n",
        "  if rootidx>0:\n",
        "    os.chdir(join(sep,*pathlist[:rootidx]))\n",
        "  !git clone https://github.com/GregGlickert/Borgers-Examples-in-BMTK\n",
        "  os.chdir(join(root,folder))\n",
        "print(os.getcwd())\n",
        "%ls"
      ],
      "metadata": {
        "colab": {
          "base_uri": "https://localhost:8080/"
        },
        "id": "FIeweMhfTcWi",
        "outputId": "68cc3393-3365-4c6a-e3e8-3603eb8edf62"
      },
      "execution_count": 1,
      "outputs": [
        {
          "output_type": "stream",
          "name": "stdout",
          "text": [
            "Collecting NEURON\n",
            "  Downloading NEURON-8.0.2-cp37-cp37m-manylinux_2_5_x86_64.manylinux1_x86_64.whl (12.6 MB)\n",
            "\u001b[K     |████████████████████████████████| 12.6 MB 7.5 MB/s \n",
            "\u001b[?25hRequirement already satisfied: numpy>=1.9.3 in /usr/local/lib/python3.7/dist-packages (from NEURON) (1.21.5)\n",
            "Installing collected packages: NEURON\n",
            "Successfully installed NEURON-8.0.2\n",
            "Collecting bmtk\n",
            "  Downloading bmtk-1.0.4-py2.py3-none-any.whl (471 kB)\n",
            "\u001b[K     |████████████████████████████████| 471 kB 8.6 MB/s \n",
            "\u001b[?25hRequirement already satisfied: numpy in /usr/local/lib/python3.7/dist-packages (from bmtk) (1.21.5)\n",
            "Requirement already satisfied: scikit-image in /usr/local/lib/python3.7/dist-packages (from bmtk) (0.18.3)\n",
            "Requirement already satisfied: h5py in /usr/local/lib/python3.7/dist-packages (from bmtk) (3.1.0)\n",
            "Requirement already satisfied: jsonschema in /usr/local/lib/python3.7/dist-packages (from bmtk) (4.3.3)\n",
            "Requirement already satisfied: matplotlib in /usr/local/lib/python3.7/dist-packages (from bmtk) (3.2.2)\n",
            "Requirement already satisfied: scipy in /usr/local/lib/python3.7/dist-packages (from bmtk) (1.4.1)\n",
            "Requirement already satisfied: six in /usr/local/lib/python3.7/dist-packages (from bmtk) (1.15.0)\n",
            "Requirement already satisfied: pandas in /usr/local/lib/python3.7/dist-packages (from bmtk) (1.3.5)\n",
            "Requirement already satisfied: sympy in /usr/local/lib/python3.7/dist-packages (from bmtk) (1.7.1)\n",
            "Requirement already satisfied: cached-property in /usr/local/lib/python3.7/dist-packages (from h5py->bmtk) (1.5.2)\n",
            "Requirement already satisfied: importlib-resources>=1.4.0 in /usr/local/lib/python3.7/dist-packages (from jsonschema->bmtk) (5.4.0)\n",
            "Requirement already satisfied: pyrsistent!=0.17.0,!=0.17.1,!=0.17.2,>=0.14.0 in /usr/local/lib/python3.7/dist-packages (from jsonschema->bmtk) (0.18.1)\n",
            "Requirement already satisfied: typing-extensions in /usr/local/lib/python3.7/dist-packages (from jsonschema->bmtk) (3.10.0.2)\n",
            "Requirement already satisfied: importlib-metadata in /usr/local/lib/python3.7/dist-packages (from jsonschema->bmtk) (4.11.3)\n",
            "Requirement already satisfied: attrs>=17.4.0 in /usr/local/lib/python3.7/dist-packages (from jsonschema->bmtk) (21.4.0)\n",
            "Requirement already satisfied: zipp>=3.1.0 in /usr/local/lib/python3.7/dist-packages (from importlib-resources>=1.4.0->jsonschema->bmtk) (3.7.0)\n",
            "Requirement already satisfied: pyparsing!=2.0.4,!=2.1.2,!=2.1.6,>=2.0.1 in /usr/local/lib/python3.7/dist-packages (from matplotlib->bmtk) (3.0.7)\n",
            "Requirement already satisfied: cycler>=0.10 in /usr/local/lib/python3.7/dist-packages (from matplotlib->bmtk) (0.11.0)\n",
            "Requirement already satisfied: kiwisolver>=1.0.1 in /usr/local/lib/python3.7/dist-packages (from matplotlib->bmtk) (1.4.0)\n",
            "Requirement already satisfied: python-dateutil>=2.1 in /usr/local/lib/python3.7/dist-packages (from matplotlib->bmtk) (2.8.2)\n",
            "Requirement already satisfied: pytz>=2017.3 in /usr/local/lib/python3.7/dist-packages (from pandas->bmtk) (2018.9)\n",
            "Requirement already satisfied: imageio>=2.3.0 in /usr/local/lib/python3.7/dist-packages (from scikit-image->bmtk) (2.4.1)\n",
            "Requirement already satisfied: PyWavelets>=1.1.1 in /usr/local/lib/python3.7/dist-packages (from scikit-image->bmtk) (1.3.0)\n",
            "Requirement already satisfied: pillow!=7.1.0,!=7.1.1,>=4.3.0 in /usr/local/lib/python3.7/dist-packages (from scikit-image->bmtk) (7.1.2)\n",
            "Requirement already satisfied: tifffile>=2019.7.26 in /usr/local/lib/python3.7/dist-packages (from scikit-image->bmtk) (2021.11.2)\n",
            "Requirement already satisfied: networkx>=2.0 in /usr/local/lib/python3.7/dist-packages (from scikit-image->bmtk) (2.6.3)\n",
            "Requirement already satisfied: mpmath>=0.19 in /usr/local/lib/python3.7/dist-packages (from sympy->bmtk) (1.2.1)\n",
            "Installing collected packages: bmtk\n",
            "Successfully installed bmtk-1.0.4\n",
            "Cloning into 'Borgers-Examples-in-BMTK'...\n",
            "remote: Enumerating objects: 849, done.\u001b[K\n",
            "remote: Counting objects: 100% (849/849), done.\u001b[K\n",
            "remote: Compressing objects: 100% (466/466), done.\u001b[K\n",
            "remote: Total 849 (delta 449), reused 724 (delta 357), pack-reused 0\u001b[K\n",
            "Receiving objects: 100% (849/849), 30.76 MiB | 22.82 MiB/s, done.\n",
            "Resolving deltas: 100% (449/449), done.\n",
            "/content/Borgers-Examples-in-BMTK/23-WBneuron\n",
            "23-WBEntrainment.ipynb  \u001b[0m\u001b[01;34mcomponents\u001b[0m/\n"
          ]
        }
      ]
    },
    {
      "cell_type": "markdown",
      "metadata": {
        "id": "ejCxfga2TWrq"
      },
      "source": [
        "# Modeling Entrainment of a WB Neuron (with BMTK)\n",
        "\n",
        "In this notebook, we model 1:1 entrainment of a standard WB neuron under a constant frequency of excitatory input pulses. The entrainment is 1:1 because the WB neuron will fire at the same frequency as the input.\n"
      ]
    },
    {
      "cell_type": "markdown",
      "metadata": {
        "id": "Qi9KqzEUTWrr"
      },
      "source": [
        "## Cell Definition\n",
        "A standard WB cell is used in this example. \n",
        "\n",
        "**WB Cell**\n",
        "* $\\alpha_{n} = -0.01*(v+34)/(e^{-0.1*(v+34)}-1)$\n",
        "* $\\beta_{n} = 0.125*e^{-(v+44)/80}$\n",
        "* $\\alpha_{m} = 0.1*(v+35)/(1-e^{-(v+35)/10})$\n",
        "* $\\beta_{m} = 4*e^{-(v+60)/18}$\n",
        "* $\\alpha_{h} = 0.07*e^{-(v+58)/20}$\n",
        "* $\\beta_{h} = 1/(e^{-0.1*(v+28)}+1)$"
      ]
    },
    {
      "cell_type": "markdown",
      "metadata": {
        "id": "aQfOJROSTWrs"
      },
      "source": [
        "Compile .mod Files"
      ]
    },
    {
      "cell_type": "code",
      "execution_count": 2,
      "metadata": {
        "colab": {
          "base_uri": "https://localhost:8080/"
        },
        "id": "nfPPq1WxTWrs",
        "outputId": "e98e3eba-47a5-43c5-b6ef-ce2076aeed4b"
      },
      "outputs": [
        {
          "output_type": "stream",
          "name": "stdout",
          "text": [
            "0\n"
          ]
        }
      ],
      "source": [
        "import os\n",
        "print(os.system('nrnivmodl components/mechanisms')) # compile modfiles. Return 0 for success, 1 for failure."
      ]
    },
    {
      "cell_type": "markdown",
      "metadata": {
        "id": "42-sihiXTWrt"
      },
      "source": [
        "### 1.Building the Network\n",
        "There is only 1 cell in this network, thus only a WB cell will be added. No network connections are necessary"
      ]
    },
    {
      "cell_type": "code",
      "execution_count": 3,
      "metadata": {
        "id": "oqvWH2CsTWru"
      },
      "outputs": [],
      "source": [
        "import numpy as np\n",
        "import logging\n",
        "\n",
        "from bmtk.builder.networks import NetworkBuilder\n",
        "\n",
        "net = NetworkBuilder('network')\n",
        "net.add_nodes(N=1,pop_name='WB',     \n",
        "        model_type='biophysical',\n",
        "        model_template='hoc:WBInhCell',  # WBInhCell hoc definition\n",
        "        morphology='blank.swc')"
      ]
    },
    {
      "cell_type": "markdown",
      "metadata": {
        "id": "P3gzTqA2TWru"
      },
      "source": [
        "#### Building\n",
        "After defining our network, we build and save it in a network folder."
      ]
    },
    {
      "cell_type": "code",
      "execution_count": 4,
      "metadata": {
        "id": "Rit_yjqZTWrv"
      },
      "outputs": [],
      "source": [
        "net.build()\n",
        "net.save_nodes(output_dir='network')"
      ]
    },
    {
      "cell_type": "markdown",
      "metadata": {
        "id": "Dp4UDA7HTWrv"
      },
      "source": [
        "#### External Input\n",
        "We then create a 'virtual' cell that supplies the excitatory synaptic input to our WB cell."
      ]
    },
    {
      "cell_type": "code",
      "execution_count": 5,
      "metadata": {
        "id": "4ZlO6fESTWrw"
      },
      "outputs": [],
      "source": [
        "extnet = NetworkBuilder('extnet')\n",
        "extnet.add_nodes(N=1,pop_name='Inp',\n",
        "            potential='exc',\n",
        "            model_type='virtual')"
      ]
    },
    {
      "cell_type": "markdown",
      "metadata": {
        "id": "c_gnsnCGTWrw"
      },
      "source": [
        "Add an excitatory connection from our virtual cell to the WB cell using tau1=0.5 ms and t2=2 ms. These parameters are specified in ExcToInh.json"
      ]
    },
    {
      "cell_type": "code",
      "execution_count": 6,
      "metadata": {
        "colab": {
          "base_uri": "https://localhost:8080/"
        },
        "id": "9S-qWIA9TWrw",
        "outputId": "a31f986c-3841-445c-e03d-96e0cd39fd31"
      },
      "outputs": [
        {
          "output_type": "execute_result",
          "data": {
            "text/plain": [
              "<bmtk.builder.connection_map.ConnectionMap at 0x7fc8391d0d10>"
            ]
          },
          "metadata": {},
          "execution_count": 6
        }
      ],
      "source": [
        "extnet.add_edges(source={'pop_name':'Inp'}, target=net.nodes(),\n",
        "                   connection_rule=1,\n",
        "                   syn_weight=0.03,               #synaptic weight specified in Borger's book ch 23\n",
        "                   delay=5,\n",
        "                   weight_function=None,\n",
        "                   target_sections=['soma'],\n",
        "                   distance_range=[0.0, 150.0],\n",
        "                   dynamics_params='ExcToInh.json',\n",
        "                   model_template='exp2syn')"
      ]
    },
    {
      "cell_type": "code",
      "execution_count": 7,
      "metadata": {
        "id": "DTOPGbLwTWrx"
      },
      "outputs": [],
      "source": [
        "extnet.build()\n",
        "extnet.save_nodes(output_dir='network')\n",
        "extnet.save_edges(output_dir='network')"
      ]
    },
    {
      "cell_type": "markdown",
      "metadata": {
        "id": "ptvANn-xTWrx"
      },
      "source": [
        "#### Adding Spike Train"
      ]
    },
    {
      "cell_type": "code",
      "execution_count": 8,
      "metadata": {
        "id": "ko7zW7t8TWry"
      },
      "outputs": [],
      "source": [
        "from bmtk.utils.reports.spike_trains import SpikeTrains\n",
        "\n",
        "spikes = SpikeTrains(population='extnet')\n",
        "spikes.add_spikes(node_ids=0, \n",
        "                    timestamps=[50, 100, 150, 200, 250, 300, 350, 400, 450, 500, 550, 600, 650, 700, 750, 800])\n",
        "spikes.to_sonata('input/ConstantSpike.h5')"
      ]
    },
    {
      "cell_type": "markdown",
      "metadata": {
        "id": "mxy4I7LQTWry"
      },
      "source": [
        "This next cell is used to build the simulation. This step is already completed for you."
      ]
    },
    {
      "cell_type": "code",
      "execution_count": 9,
      "metadata": {
        "id": "yFfkjOL4TWrz"
      },
      "outputs": [],
      "source": [
        "from bmtk.utils.sim_setup import build_env_bionet\n",
        "\n",
        "build_env_bionet(base_dir='.',\n",
        "                network_dir='network',\n",
        "                 tstop=800.0, dt=0.1,\n",
        "                 report_vars=['v'],     # Record membrane potential and calcium (default soma)\n",
        "                 spikes_inputs=[('extnet',   # Name of population which spikes will be generated for\n",
        "                                'input/ConstantSpike.h5')],\n",
        "                 include_examples=False,    # Copies components files\n",
        "                 compile_mechanisms=False,   # Will try to compile NEURON mechanisms\n",
        "                 config_file = 'config.json'\n",
        "                )"
      ]
    },
    {
      "cell_type": "markdown",
      "metadata": {
        "id": "fzp8P37XTWrz"
      },
      "source": [
        "### Run the Simulation"
      ]
    },
    {
      "cell_type": "code",
      "execution_count": 10,
      "metadata": {
        "colab": {
          "base_uri": "https://localhost:8080/"
        },
        "id": "fbe_y4C1TWr0",
        "outputId": "7637d5f8-e464-41af-bb60-9da7d37a28d0"
      },
      "outputs": [
        {
          "output_type": "stream",
          "name": "stdout",
          "text": [
            "2022-03-23 18:10:42,530 [INFO] Created log file\n"
          ]
        },
        {
          "output_type": "stream",
          "name": "stderr",
          "text": [
            "INFO:NEURONIOUtils:Created log file\n"
          ]
        },
        {
          "output_type": "stream",
          "name": "stdout",
          "text": [
            "2022-03-23 18:10:42,612 [INFO] Building cells.\n"
          ]
        },
        {
          "output_type": "stream",
          "name": "stderr",
          "text": [
            "INFO:NEURONIOUtils:Building cells.\n"
          ]
        },
        {
          "output_type": "stream",
          "name": "stdout",
          "text": [
            "2022-03-23 18:10:42,626 [INFO] Building recurrent connections\n"
          ]
        },
        {
          "output_type": "stream",
          "name": "stderr",
          "text": [
            "INFO:NEURONIOUtils:Building recurrent connections\n"
          ]
        },
        {
          "output_type": "stream",
          "name": "stdout",
          "text": [
            "2022-03-23 18:10:42,641 [INFO] Building virtual cell stimulations for extnet_spikes\n"
          ]
        },
        {
          "output_type": "stream",
          "name": "stderr",
          "text": [
            "INFO:NEURONIOUtils:Building virtual cell stimulations for extnet_spikes\n"
          ]
        },
        {
          "output_type": "stream",
          "name": "stdout",
          "text": [
            "2022-03-23 18:10:42,683 [INFO] Running simulation for 800.000 ms with the time step 0.100 ms\n"
          ]
        },
        {
          "output_type": "stream",
          "name": "stderr",
          "text": [
            "INFO:NEURONIOUtils:Running simulation for 800.000 ms with the time step 0.100 ms\n"
          ]
        },
        {
          "output_type": "stream",
          "name": "stdout",
          "text": [
            "2022-03-23 18:10:42,691 [INFO] Starting timestep: 0 at t_sim: 0.000 ms\n"
          ]
        },
        {
          "output_type": "stream",
          "name": "stderr",
          "text": [
            "INFO:NEURONIOUtils:Starting timestep: 0 at t_sim: 0.000 ms\n"
          ]
        },
        {
          "output_type": "stream",
          "name": "stdout",
          "text": [
            "2022-03-23 18:10:42,698 [INFO] Block save every 5000 steps\n"
          ]
        },
        {
          "output_type": "stream",
          "name": "stderr",
          "text": [
            "INFO:NEURONIOUtils:Block save every 5000 steps\n"
          ]
        },
        {
          "output_type": "stream",
          "name": "stdout",
          "text": [
            "2022-03-23 18:10:42,961 [INFO]     step:5000 t_sim:500.00 ms\n"
          ]
        },
        {
          "output_type": "stream",
          "name": "stderr",
          "text": [
            "INFO:NEURONIOUtils:    step:5000 t_sim:500.00 ms\n"
          ]
        },
        {
          "output_type": "stream",
          "name": "stdout",
          "text": [
            "2022-03-23 18:10:43,074 [INFO]     step:8000 t_sim:800.00 ms\n"
          ]
        },
        {
          "output_type": "stream",
          "name": "stderr",
          "text": [
            "INFO:NEURONIOUtils:    step:8000 t_sim:800.00 ms\n"
          ]
        },
        {
          "output_type": "stream",
          "name": "stdout",
          "text": [
            "2022-03-23 18:10:43,097 [INFO] Simulation completed in 0.4137 seconds \n"
          ]
        },
        {
          "output_type": "stream",
          "name": "stderr",
          "text": [
            "INFO:NEURONIOUtils:Simulation completed in 0.4137 seconds \n"
          ]
        }
      ],
      "source": [
        "from bmtk.simulator import bionet\n",
        "\n",
        "\n",
        "conf = bionet.Config.from_json('config.json')\n",
        "conf.build_env()\n",
        "net = bionet.BioNetwork.from_config(conf)\n",
        "sim = bionet.BioSimulator.from_config(conf, network=net)\n",
        "sim.run()"
      ]
    },
    {
      "cell_type": "markdown",
      "metadata": {
        "id": "zK9A7rsJTWr0"
      },
      "source": [
        "If the simulation ran correctly, we can now print out results:"
      ]
    },
    {
      "cell_type": "code",
      "execution_count": 11,
      "metadata": {
        "colab": {
          "base_uri": "https://localhost:8080/",
          "height": 221
        },
        "id": "it-rHYNuTWr0",
        "outputId": "67610f2f-8a4a-4c2a-94de-8df8b3ec45ca"
      },
      "outputs": [
        {
          "output_type": "stream",
          "name": "stdout",
          "text": [
            "Number of Spikes: 5\n"
          ]
        },
        {
          "output_type": "execute_result",
          "data": {
            "text/plain": [
              "   timestamps  node_ids population\n",
              "0       174.5         0    network\n",
              "1       322.1         0    network\n",
              "2       471.4         0    network\n",
              "3       621.2         0    network\n",
              "4       771.2         0    network"
            ],
            "text/html": [
              "\n",
              "  <div id=\"df-f124dcc4-291d-4a0e-92a2-d83c334f528c\">\n",
              "    <div class=\"colab-df-container\">\n",
              "      <div>\n",
              "<style scoped>\n",
              "    .dataframe tbody tr th:only-of-type {\n",
              "        vertical-align: middle;\n",
              "    }\n",
              "\n",
              "    .dataframe tbody tr th {\n",
              "        vertical-align: top;\n",
              "    }\n",
              "\n",
              "    .dataframe thead th {\n",
              "        text-align: right;\n",
              "    }\n",
              "</style>\n",
              "<table border=\"1\" class=\"dataframe\">\n",
              "  <thead>\n",
              "    <tr style=\"text-align: right;\">\n",
              "      <th></th>\n",
              "      <th>timestamps</th>\n",
              "      <th>node_ids</th>\n",
              "      <th>population</th>\n",
              "    </tr>\n",
              "  </thead>\n",
              "  <tbody>\n",
              "    <tr>\n",
              "      <th>0</th>\n",
              "      <td>174.5</td>\n",
              "      <td>0</td>\n",
              "      <td>network</td>\n",
              "    </tr>\n",
              "    <tr>\n",
              "      <th>1</th>\n",
              "      <td>322.1</td>\n",
              "      <td>0</td>\n",
              "      <td>network</td>\n",
              "    </tr>\n",
              "    <tr>\n",
              "      <th>2</th>\n",
              "      <td>471.4</td>\n",
              "      <td>0</td>\n",
              "      <td>network</td>\n",
              "    </tr>\n",
              "    <tr>\n",
              "      <th>3</th>\n",
              "      <td>621.2</td>\n",
              "      <td>0</td>\n",
              "      <td>network</td>\n",
              "    </tr>\n",
              "    <tr>\n",
              "      <th>4</th>\n",
              "      <td>771.2</td>\n",
              "      <td>0</td>\n",
              "      <td>network</td>\n",
              "    </tr>\n",
              "  </tbody>\n",
              "</table>\n",
              "</div>\n",
              "      <button class=\"colab-df-convert\" onclick=\"convertToInteractive('df-f124dcc4-291d-4a0e-92a2-d83c334f528c')\"\n",
              "              title=\"Convert this dataframe to an interactive table.\"\n",
              "              style=\"display:none;\">\n",
              "        \n",
              "  <svg xmlns=\"http://www.w3.org/2000/svg\" height=\"24px\"viewBox=\"0 0 24 24\"\n",
              "       width=\"24px\">\n",
              "    <path d=\"M0 0h24v24H0V0z\" fill=\"none\"/>\n",
              "    <path d=\"M18.56 5.44l.94 2.06.94-2.06 2.06-.94-2.06-.94-.94-2.06-.94 2.06-2.06.94zm-11 1L8.5 8.5l.94-2.06 2.06-.94-2.06-.94L8.5 2.5l-.94 2.06-2.06.94zm10 10l.94 2.06.94-2.06 2.06-.94-2.06-.94-.94-2.06-.94 2.06-2.06.94z\"/><path d=\"M17.41 7.96l-1.37-1.37c-.4-.4-.92-.59-1.43-.59-.52 0-1.04.2-1.43.59L10.3 9.45l-7.72 7.72c-.78.78-.78 2.05 0 2.83L4 21.41c.39.39.9.59 1.41.59.51 0 1.02-.2 1.41-.59l7.78-7.78 2.81-2.81c.8-.78.8-2.07 0-2.86zM5.41 20L4 18.59l7.72-7.72 1.47 1.35L5.41 20z\"/>\n",
              "  </svg>\n",
              "      </button>\n",
              "      \n",
              "  <style>\n",
              "    .colab-df-container {\n",
              "      display:flex;\n",
              "      flex-wrap:wrap;\n",
              "      gap: 12px;\n",
              "    }\n",
              "\n",
              "    .colab-df-convert {\n",
              "      background-color: #E8F0FE;\n",
              "      border: none;\n",
              "      border-radius: 50%;\n",
              "      cursor: pointer;\n",
              "      display: none;\n",
              "      fill: #1967D2;\n",
              "      height: 32px;\n",
              "      padding: 0 0 0 0;\n",
              "      width: 32px;\n",
              "    }\n",
              "\n",
              "    .colab-df-convert:hover {\n",
              "      background-color: #E2EBFA;\n",
              "      box-shadow: 0px 1px 2px rgba(60, 64, 67, 0.3), 0px 1px 3px 1px rgba(60, 64, 67, 0.15);\n",
              "      fill: #174EA6;\n",
              "    }\n",
              "\n",
              "    [theme=dark] .colab-df-convert {\n",
              "      background-color: #3B4455;\n",
              "      fill: #D2E3FC;\n",
              "    }\n",
              "\n",
              "    [theme=dark] .colab-df-convert:hover {\n",
              "      background-color: #434B5C;\n",
              "      box-shadow: 0px 1px 3px 1px rgba(0, 0, 0, 0.15);\n",
              "      filter: drop-shadow(0px 1px 2px rgba(0, 0, 0, 0.3));\n",
              "      fill: #FFFFFF;\n",
              "    }\n",
              "  </style>\n",
              "\n",
              "      <script>\n",
              "        const buttonEl =\n",
              "          document.querySelector('#df-f124dcc4-291d-4a0e-92a2-d83c334f528c button.colab-df-convert');\n",
              "        buttonEl.style.display =\n",
              "          google.colab.kernel.accessAllowed ? 'block' : 'none';\n",
              "\n",
              "        async function convertToInteractive(key) {\n",
              "          const element = document.querySelector('#df-f124dcc4-291d-4a0e-92a2-d83c334f528c');\n",
              "          const dataTable =\n",
              "            await google.colab.kernel.invokeFunction('convertToInteractive',\n",
              "                                                     [key], {});\n",
              "          if (!dataTable) return;\n",
              "\n",
              "          const docLinkHtml = 'Like what you see? Visit the ' +\n",
              "            '<a target=\"_blank\" href=https://colab.research.google.com/notebooks/data_table.ipynb>data table notebook</a>'\n",
              "            + ' to learn more about interactive tables.';\n",
              "          element.innerHTML = '';\n",
              "          dataTable['output_type'] = 'display_data';\n",
              "          await google.colab.output.renderOutput(dataTable, element);\n",
              "          const docLink = document.createElement('div');\n",
              "          docLink.innerHTML = docLinkHtml;\n",
              "          element.appendChild(docLink);\n",
              "        }\n",
              "      </script>\n",
              "    </div>\n",
              "  </div>\n",
              "  "
            ]
          },
          "metadata": {},
          "execution_count": 11
        }
      ],
      "source": [
        "from bmtk.analyzer.spike_trains import to_dataframe\n",
        "\n",
        "results_df = to_dataframe(config_file='config.json')\n",
        "print('Number of Spikes: {}'.format(len(results_df)))\n",
        "results_df.head()"
      ]
    },
    {
      "cell_type": "markdown",
      "metadata": {
        "id": "AKiHSLbkTWr1"
      },
      "source": [
        "As you can see, the WB neuron fired ~7.8 ms after the spike in our virtual cell. We defined 5 ms delay in our synapse, so if this delay is set to 0 and the simulation is re-run, the WB neuron would fire ~2.8 ms after the virtual cell spike."
      ]
    },
    {
      "cell_type": "markdown",
      "metadata": {
        "id": "4eXA53eVTWr1"
      },
      "source": [
        "We can now plot our results using an in built bmtk function plot_traces"
      ]
    },
    {
      "cell_type": "code",
      "execution_count": 12,
      "metadata": {
        "scrolled": true,
        "colab": {
          "base_uri": "https://localhost:8080/",
          "height": 295
        },
        "id": "foZyox8UTWr1",
        "outputId": "a8c62c08-7aed-463e-ec5b-e1f3db5ce2c0"
      },
      "outputs": [
        {
          "output_type": "display_data",
          "data": {
            "text/plain": [
              "<Figure size 432x288 with 1 Axes>"
            ],
            "image/png": "[encoded data removed]"
          },
          "metadata": {
            "needs_background": "light"
          }
        }
      ],
      "source": [
        "from bmtk.analyzer.compartment import plot_traces\n",
        "_ = plot_traces(config_file='config.json', node_ids=[0], report_name='v_report')\n"
      ]
    },
    {
      "cell_type": "markdown",
      "metadata": {
        "id": "1qr-4pufTWr2"
      },
      "source": [
        "## Additional Plot Features\n",
        "It is easier to work with this data if we obtain it in array form, and we can use well documented matplotlib features while plotting."
      ]
    },
    {
      "cell_type": "code",
      "execution_count": 13,
      "metadata": {
        "id": "nPESGp1MTWr2"
      },
      "outputs": [],
      "source": [
        "from bmtk.utils.reports.compartment import CompartmentReport\n",
        "\n",
        "pop_name = 'WB'\n",
        "report = CompartmentReport('output/v_report.h5',\n",
        "population=pop_name, mode='r')\n",
        "v_trace = (report.data(node_id=0))\n",
        "time = np.arange(report.tstart(), report.tstop(), report.dt())"
      ]
    },
    {
      "cell_type": "code",
      "execution_count": 14,
      "metadata": {
        "colab": {
          "base_uri": "https://localhost:8080/",
          "height": 295
        },
        "id": "WDDG7wQnTWr2",
        "outputId": "0357a326-f313-4db4-84a3-16abb19c0ce4"
      },
      "outputs": [
        {
          "output_type": "display_data",
          "data": {
            "text/plain": [
              "<Figure size 432x288 with 1 Axes>"
            ],
            "image/png": "[encoded data removed]"
          },
          "metadata": {
            "needs_background": "light"
          }
        }
      ],
      "source": [
        "import matplotlib.pyplot as plt\n",
        "plt.plot(time, v_trace)\n",
        "plt.ylabel('Voltage [mv]')\n",
        "plt.xlabel('Time [ms]')\n",
        "plt.title('WB_neuron Voltage')\n",
        "# add red verticle lines that mark when the virtual cell spikes\n",
        "for i in range(15):\n",
        "    plt.axvline(x=50*i+50, linewidth=0.5, color='r')\n",
        "plt.show()"
      ]
    },
    {
      "cell_type": "markdown",
      "metadata": {
        "id": "cV1jHeaXTWr3"
      },
      "source": [
        "After overlaying the virtual cell spike times (vertical red lines) we have created a plot that looks very similar to the example in chapter 23 of Borgers' book, \"An Introduction to Modeling Neuronal Dynamics.\""
      ]
    },
    {
      "cell_type": "code",
      "execution_count": 14,
      "metadata": {
        "id": "goDER9HvTWr3"
      },
      "outputs": [],
      "source": [
        ""
      ]
    }
  ],
  "metadata": {
    "kernelspec": {
      "display_name": "Python 3 (ipykernel)",
      "language": "python",
      "name": "python3"
    },
    "language_info": {
      "codemirror_mode": {
        "name": "ipython",
        "version": 3
      },
      "file_extension": ".py",
      "mimetype": "text/x-python",
      "name": "python",
      "nbconvert_exporter": "python",
      "pygments_lexer": "ipython3",
      "version": "3.9.7"
    },
    "colab": {
      "name": "23_WBEntrainment_model.ipynb",
      "provenance": []
    }
  },
  "nbformat": 4,
  "nbformat_minor": 0
}