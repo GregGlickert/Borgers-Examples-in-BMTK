{
  "cells": [
    {
      "cell_type": "markdown",
      "metadata": {
        "id": "gx_9PDRX8r4C"
      },
      "source": [
        "# Chapter 26 - Two Pulse Coupled Oscillators\n",
        "In this notebook, two g functions are explored that give very different spiking behavior: synchronization and anti-synchronization"
      ]
    },
    {
      "cell_type": "markdown",
      "metadata": {
        "id": "AN0ESWpc8r4D"
      },
      "source": [
        "This notebook does not use BMTK."
      ]
    },
    {
      "cell_type": "markdown",
      "metadata": {
        "id": "3ywSYSKa8r4D"
      },
      "source": [
        "## 1) g=phi^2 * (1-phi)"
      ]
    },
    {
      "cell_type": "markdown",
      "metadata": {
        "id": "bqUg6qMs8r4E"
      },
      "source": [
        "We initialize phi for cell A and B with cell A firing once at time 0."
      ]
    },
    {
      "cell_type": "code",
      "execution_count": 2,
      "metadata": {
        "id": "tOJki3Rl8r4E"
      },
      "outputs": [],
      "source": [
        "phi_A=0\n",
        "phi_B=0.5             \n",
        "num_spikes_A=1\n",
        "num_spikes_B=0 \n",
        "t_spikes_A=[0]\n",
        "t_spikes_B=[]   "
      ]
    },
    {
      "cell_type": "markdown",
      "metadata": {
        "id": "UFTIZ0fH8r4E"
      },
      "source": [
        "We need to define g and f functions:"
      ]
    },
    {
      "cell_type": "code",
      "execution_count": 3,
      "metadata": {
        "id": "rpri_Naq8r4E"
      },
      "outputs": [],
      "source": [
        "def g(phi):\n",
        "    return (phi**2) *(1-phi)\n",
        "\n",
        "\n",
        "def f(phi):\n",
        "    return phi + g(phi)"
      ]
    },
    {
      "cell_type": "markdown",
      "metadata": {
        "id": "V0vNAdpk8r4F"
      },
      "source": [
        "Update both cells sequentially 12 times."
      ]
    },
    {
      "cell_type": "code",
      "execution_count": 4,
      "metadata": {
        "id": "H70ErNh_8r4F"
      },
      "outputs": [],
      "source": [
        "N=12                          \n",
        "t=0\n",
        "for n in range(N):\n",
        "   t = t+(1-phi_B)               \n",
        "   num_spikes_B = num_spikes_B+1\n",
        "   t_spikes_B.append(t)\n",
        "   phi_A = f(1-phi_B)            \n",
        "   phi_B = 0                    \n",
        "   t=t+(1-phi_A)             \n",
        "   num_spikes_A = num_spikes_A+1\n",
        "   t_spikes_A.append(t)\n",
        "   phi_B=f(1- phi_A)\n",
        "   phi_A=0\n"
      ]
    },
    {
      "cell_type": "markdown",
      "metadata": {
        "id": "6hQcAxVs8r4F"
      },
      "source": [
        "Displaying the cell spikes:"
      ]
    },
    {
      "cell_type": "code",
      "execution_count": 5,
      "metadata": {
        "colab": {
          "base_uri": "https://localhost:8080/",
          "height": 312
        },
        "id": "Hifji5-V8r4G",
        "outputId": "da04834a-63f0-40d8-fda5-d9c62645576d"
      },
      "outputs": [
        {
          "data": {
            "text/plain": [
              "Text(0.5, 1.0, 'spike times of A(blue) and B(orange)')"
            ]
          },
          "execution_count": 5,
          "metadata": {},
          "output_type": "execute_result"
        },
        {
          "data": {
            "image/png": "[encoded data removed]",
            "text/plain": [
              "<Figure size 432x288 with 1 Axes>"
            ]
          },
          "metadata": {
            "needs_background": "light"
          },
          "output_type": "display_data"
        }
      ],
      "source": [
        "import matplotlib.pyplot as plt\n",
        "import numpy as np\n",
        "\n",
        "plt.plot(t_spikes_A,np.ones((num_spikes_A,1)),'o')\n",
        "\n",
        "plt.plot(t_spikes_B,2*np.ones((num_spikes_B,1)),'o')\n",
        "\n",
        "plt.ylim([-1,4])\n",
        "frame1 = plt.gca()\n",
        "frame1.axes.get_yaxis().set_visible(False)\n",
        "plt.xlabel('t [ units of T]')\n",
        "plt.title('spike times of A(blue) and B(orange)')"
      ]
    },
    {
      "cell_type": "markdown",
      "metadata": {
        "id": "JUDz4iP18r4G"
      },
      "source": [
        "Two pulse coupled oscillators synchronize "
      ]
    },
    {
      "cell_type": "markdown",
      "metadata": {
        "id": "l1Eh8L2n8r4H"
      },
      "source": [
        "### 2)  g(phi) = 2phi*(1-phi)^3"
      ]
    },
    {
      "cell_type": "code",
      "execution_count": 6,
      "metadata": {
        "id": "HQV-Bz7I8r4H"
      },
      "outputs": [],
      "source": [
        "phi_A=0\n",
        "phi_B=0.5             \n",
        "num_spikes_A=1\n",
        "num_spikes_B=0 \n",
        "t_spikes_A=[0]\n",
        "t_spikes_B=[]   "
      ]
    },
    {
      "cell_type": "code",
      "execution_count": 7,
      "metadata": {
        "id": "m9bkBnfj8r4H"
      },
      "outputs": [],
      "source": [
        "def g(phi):\n",
        "    return phi*2*(1-phi)**3\n",
        "\n",
        "\n",
        "def f(phi):\n",
        "    return phi + g(phi)"
      ]
    },
    {
      "cell_type": "code",
      "execution_count": 8,
      "metadata": {
        "id": "F0iSTzxk8r4I"
      },
      "outputs": [],
      "source": [
        "N=12                          \n",
        "t=0\n",
        "for n in range(N):\n",
        "   t = t+(1-phi_B)               \n",
        "   num_spikes_B = num_spikes_B+1\n",
        "   t_spikes_B.append(t)\n",
        "   phi_A = f(1-phi_B)            \n",
        "   phi_B = 0                    \n",
        "   t=t+(1-phi_A)             \n",
        "   num_spikes_A = num_spikes_A+1\n",
        "   t_spikes_A.append(t)\n",
        "   phi_B=f(1- phi_A)\n",
        "   phi_A=0"
      ]
    },
    {
      "cell_type": "code",
      "execution_count": 9,
      "metadata": {
        "colab": {
          "base_uri": "https://localhost:8080/",
          "height": 312
        },
        "id": "80ZZTRku8r4I",
        "outputId": "26b90346-15db-46c1-c8d5-488f4104b229"
      },
      "outputs": [
        {
          "data": {
            "text/plain": [
              "Text(0.5, 1.0, 'spike times of A(blue) and B(orange)')"
            ]
          },
          "execution_count": 9,
          "metadata": {},
          "output_type": "execute_result"
        },
        {
          "data": {
            "image/png": "[encoded data removed]",
            "text/plain": [
              "<Figure size 432x288 with 1 Axes>"
            ]
          },
          "metadata": {
            "needs_background": "light"
          },
          "output_type": "display_data"
        }
      ],
      "source": [
        "import matplotlib.pyplot as plt\n",
        "import numpy as np\n",
        "\n",
        "plt.plot(t_spikes_A,np.ones((num_spikes_A,1)),'o')\n",
        "\n",
        "plt.plot(t_spikes_B,2*np.ones((num_spikes_B,1)),'o')\n",
        "\n",
        "plt.ylim([-1,4])\n",
        "frame1 = plt.gca()\n",
        "frame1.axes.get_yaxis().set_visible(False)\n",
        "plt.xlabel('t [ units of T]')\n",
        "plt.title('spike times of A(blue) and B(orange)')"
      ]
    },
    {
      "cell_type": "markdown",
      "metadata": {
        "id": "fqyJWcjQ8r4I"
      },
      "source": [
        "Two oscillators with new g function anti-synchronize"
      ]
    },
    {
      "cell_type": "code",
      "execution_count": 9,
      "metadata": {
        "id": "Bon1Mwu78r4J"
      },
      "outputs": [],
      "source": []
    }
  ],
  "metadata": {
    "colab": {
      "name": "Copy of 26-Pulse_Coupled.ipynb",
      "provenance": []
    },
    "kernelspec": {
      "display_name": "Python 2",
      "language": "python",
      "name": "python2"
    },
    "language_info": {
      "codemirror_mode": {
        "name": "ipython",
        "version": 2
      },
      "file_extension": ".py",
      "mimetype": "text/x-python",
      "name": "python",
      "nbconvert_exporter": "python",
      "pygments_lexer": "ipython2",
      "version": "2.7.18"
    }
  },
  "nbformat": 4,
  "nbformat_minor": 0
}
