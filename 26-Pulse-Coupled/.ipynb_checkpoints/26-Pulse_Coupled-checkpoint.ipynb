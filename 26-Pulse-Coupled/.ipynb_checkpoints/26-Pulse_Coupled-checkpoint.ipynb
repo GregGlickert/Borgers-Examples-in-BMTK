{
 "cells": [
  {
   "cell_type": "markdown",
   "metadata": {},
   "source": [
    "# Chapter 26 - Two Pulse Coupled Oscillators\n",
    "In this notebook, two g functions are explored that give very different spiking behavior: synchronization and anti-synchronization"
   ]
  },
  {
   "cell_type": "markdown",
   "metadata": {},
   "source": [
    "This notebook does not use BMTK."
   ]
  },
  {
   "cell_type": "markdown",
   "metadata": {},
   "source": [
    "## 1) g=phi^2 * (1-phi)"
   ]
  },
  {
   "cell_type": "markdown",
   "metadata": {},
   "source": [
    "We initialize phi for cell A and B with cell A firing once at time 0."
   ]
  },
  {
   "cell_type": "code",
   "execution_count": 11,
   "metadata": {},
   "outputs": [],
   "source": [
    "phi_A=0\n",
    "phi_B=0.5             \n",
    "num_spikes_A=1\n",
    "num_spikes_B=0 \n",
    "t_spikes_A=[0]\n",
    "t_spikes_B=[]   "
   ]
  },
  {
   "cell_type": "markdown",
   "metadata": {},
   "source": [
    "We need to define g and f functions:"
   ]
  },
  {
   "cell_type": "code",
   "execution_count": 13,
   "metadata": {},
   "outputs": [],
   "source": [
    "def g(phi):\n",
    "    return (phi**2) *(1-phi)\n",
    "\n",
    "\n",
    "def f(phi):\n",
    "    return phi + g(phi)"
   ]
  },
  {
   "cell_type": "markdown",
   "metadata": {},
   "source": [
    "Update both cells sequentially 12 times."
   ]
  },
  {
   "cell_type": "code",
   "execution_count": 14,
   "metadata": {},
   "outputs": [],
   "source": [
    "N=12                          \n",
    "t=0\n",
    "for n in range(N):\n",
    "   t = t+(1-phi_B)               \n",
    "   num_spikes_B = num_spikes_B+1\n",
    "   t_spikes_B.append(t)\n",
    "   phi_A = f(1-phi_B)            \n",
    "   phi_B = 0                    \n",
    "   t=t+(1-phi_A)             \n",
    "   num_spikes_A = num_spikes_A+1\n",
    "   t_spikes_A.append(t)\n",
    "   phi_B=f(1- phi_A)\n",
    "   phi_A=0\n"
   ]
  },
  {
   "cell_type": "markdown",
   "metadata": {},
   "source": [
    "Displaying the cell spikes:"
   ]
  },
  {
   "cell_type": "code",
   "execution_count": 38,
   "metadata": {},
   "outputs": [
    {
     "data": {
      "text/plain": [
       "Text(0.5,1,'spike times of A(blue) and B(orange)')"
      ]
     },
     "execution_count": 38,
     "metadata": {},
     "output_type": "execute_result"
    },
    {
     "data": {
      "image/png": "[encoded data removed]",
      "text/plain": [
       "<Figure size 432x288 with 1 Axes>"
      ]
     },
     "metadata": {
      "needs_background": "light"
     },
     "output_type": "display_data"
    }
   ],
   "source": [
    "import matplotlib.pyplot as plt\n",
    "import numpy as np\n",
    "\n",
    "plt.plot(t_spikes_A,np.ones((num_spikes_A,1)),'o')\n",
    "\n",
    "plt.plot(t_spikes_B,2*np.ones((num_spikes_B,1)),'o')\n",
    "\n",
    "plt.ylim([-1,4])\n",
    "frame1 = plt.gca()\n",
    "frame1.axes.get_yaxis().set_visible(False)\n",
    "plt.xlabel('t [ units of T]')\n",
    "plt.title('spike times of A(blue) and B(orange)')"
   ]
  },
  {
   "cell_type": "markdown",
   "metadata": {},
   "source": [
    "Two pulse coupled oscillators synchronize "
   ]
  },
  {
   "cell_type": "markdown",
   "metadata": {},
   "source": [
    "### 2)  g(phi) = 2phi*(1-phi)^3"
   ]
  },
  {
   "cell_type": "code",
   "execution_count": 39,
   "metadata": {},
   "outputs": [],
   "source": [
    "phi_A=0\n",
    "phi_B=0.5             \n",
    "num_spikes_A=1\n",
    "num_spikes_B=0 \n",
    "t_spikes_A=[0]\n",
    "t_spikes_B=[]   "
   ]
  },
  {
   "cell_type": "code",
   "execution_count": 40,
   "metadata": {},
   "outputs": [],
   "source": [
    "def g(phi):\n",
    "    return phi*2*(1-phi)**3\n",
    "\n",
    "\n",
    "def f(phi):\n",
    "    return phi + g(phi)"
   ]
  },
  {
   "cell_type": "code",
   "execution_count": 41,
   "metadata": {},
   "outputs": [],
   "source": [
    "N=12                          \n",
    "t=0\n",
    "for n in range(N):\n",
    "   t = t+(1-phi_B)               \n",
    "   num_spikes_B = num_spikes_B+1\n",
    "   t_spikes_B.append(t)\n",
    "   phi_A = f(1-phi_B)            \n",
    "   phi_B = 0                    \n",
    "   t=t+(1-phi_A)             \n",
    "   num_spikes_A = num_spikes_A+1\n",
    "   t_spikes_A.append(t)\n",
    "   phi_B=f(1- phi_A)\n",
    "   phi_A=0"
   ]
  },
  {
   "cell_type": "code",
   "execution_count": 42,
   "metadata": {},
   "outputs": [
    {
     "data": {
      "text/plain": [
       "Text(0.5,1,'spike times of A(blue) and B(orange)')"
      ]
     },
     "execution_count": 42,
     "metadata": {},
     "output_type": "execute_result"
    },
    {
     "data": {
      "image/png": "[encoded data removed]",
      "text/plain": [
       "<Figure size 432x288 with 1 Axes>"
      ]
     },
     "metadata": {
      "needs_background": "light"
     },
     "output_type": "display_data"
    }
   ],
   "source": [
    "import matplotlib.pyplot as plt\n",
    "import numpy as np\n",
    "\n",
    "plt.plot(t_spikes_A,np.ones((num_spikes_A,1)),'o')\n",
    "\n",
    "plt.plot(t_spikes_B,2*np.ones((num_spikes_B,1)),'o')\n",
    "\n",
    "plt.ylim([-1,4])\n",
    "frame1 = plt.gca()\n",
    "frame1.axes.get_yaxis().set_visible(False)\n",
    "plt.xlabel('t [ units of T]')\n",
    "plt.title('spike times of A(blue) and B(orange)')"
   ]
  },
  {
   "cell_type": "markdown",
   "metadata": {},
   "source": [
    "Two oscillators with new g function anti-synchronize"
   ]
  },
  {
   "cell_type": "code",
   "execution_count": null,
   "metadata": {},
   "outputs": [],
   "source": []
  }
 ],
 "metadata": {
  "kernelspec": {
   "display_name": "Python 2",
   "language": "python",
   "name": "python2"
  },
  "language_info": {
   "codemirror_mode": {
    "name": "ipython",
    "version": 2
   },
   "file_extension": ".py",
   "mimetype": "text/x-python",
   "name": "python",
   "nbconvert_exporter": "python",
   "pygments_lexer": "ipython2",
   "version": "2.7.18"
  }
 },
 "nbformat": 4,
 "nbformat_minor": 2
}
