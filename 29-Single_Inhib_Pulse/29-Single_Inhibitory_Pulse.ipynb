{
 "cells": [
  {
   "cell_type": "markdown",
   "metadata": {},
   "source": [
    "# Chapter 29 - Approximate Synchronization by Single Inhibitory Pulse\n",
    "\n",
    "This notebook is a translation of an example in Christophe Borgers' book, \"An Introduction to Modeling Neuronal Dynamics\"\n",
    "\n",
    "This example comes in 3 parts: \n",
    "\n",
    "1) 10 Splayed RTM neurons with regular firing\n",
    "\n",
    "2) First set-up but with an inhibitory pulse that is weak with long time constant\n",
    "\n",
    "3) First set-up but with an inhibitory pulse that is strong with short time constant\n",
    "\n",
    "Bold sections are labelled with a 1), 2), or 3) to help you keep track of where you are in the notebook.\n",
    "\n"
   ]
  },
  {
   "cell_type": "markdown",
   "metadata": {},
   "source": [
    "requirements:\n",
    "\n",
    " bmtk\n",
    "\n",
    " NEURON 7.4+"
   ]
  },
  {
   "cell_type": "markdown",
   "metadata": {},
   "source": [
    "# Part 1: Regular firing of RTM neurons"
   ]
  },
  {
   "cell_type": "markdown",
   "metadata": {},
   "source": [
    "### 1) Create our 10 cell RTM network "
   ]
  },
  {
   "cell_type": "code",
   "execution_count": 1,
   "metadata": {},
   "outputs": [],
   "source": [
    "import numpy as np\n",
    "import logging\n",
    "import math\n",
    "\n",
    "from bmtk.builder.networks import NetworkBuilder\n",
    "\n",
    "n_E =10\n",
    "\n",
    "net = NetworkBuilder('network')\n",
    "net.add_nodes(N=n_E, pop_name='Exc',     # N = number of excitatory cells\n",
    "        model_type='biophysical',\n",
    "        model_template='hoc:RTMExcCell', # RTMExcCell hoc definition\n",
    "        morphology='blank.swc')"
   ]
  },
  {
   "cell_type": "code",
   "execution_count": 2,
   "metadata": {},
   "outputs": [],
   "source": [
    "net.build()\n",
    "net.save_nodes(output_dir='network')"
   ]
  },
  {
   "cell_type": "markdown",
   "metadata": {},
   "source": [
    "### 1) Create an external network to change the initial voltage of each RTM cell"
   ]
  },
  {
   "cell_type": "code",
   "execution_count": 3,
   "metadata": {},
   "outputs": [],
   "source": [
    "n_In=10\n",
    "extnet = NetworkBuilder('extnet')\n",
    "extnet.add_nodes(N=n_In,pop_name='Inp',\n",
    "            potential='exc',\n",
    "            model_type='virtual')"
   ]
  },
  {
   "cell_type": "markdown",
   "metadata": {},
   "source": [
    "## 1) Function for voltage from node id"
   ]
  },
  {
   "cell_type": "markdown",
   "metadata": {},
   "source": [
    "BMTK does not allow individual nodes to start with distinct initial voltages. This is exactly what we need. To accomplish this, we will add a unique synaptic input to all of our cells to create initial voltages.\n",
    "\n",
    "First, we need an equation that will match a node id with the initial voltages in Borger's example. The initial voltages are given in the first vector. "
   ]
  },
  {
   "cell_type": "markdown",
   "metadata": {},
   "source": [
    " init_volt=[-58.6290, -62.4873, -64.7941, -67.1735, -69.9618, -73.3491, -77.4968, -82.5814, -88.8151, -96.3579]\n",
    "\n",
    "graphing and fitting a 4th order polynomial to this data yields the following equation:\n",
    "\n",
    "      v = 0.0044675117*x**4 - 0.1256364996*x**3 + 0.7666447261*x**2 - 4.1554128011*x - 58.7232615386\n",
    "    "
   ]
  },
  {
   "cell_type": "markdown",
   "metadata": {},
   "source": [
    "## 1) Function for synaptic weight from desired initial voltages"
   ]
  },
  {
   "cell_type": "markdown",
   "metadata": {},
   "source": [
    "After obtaining 10 data points of the resulting initial voltage to given synaptic weights, the following data was obtained:\n",
    "\n",
    "Syn\n",
    "-1.042198669\n",
    "-0.484461009\n",
    "-0.141396242\n",
    "0\n",
    "0.349858808\n",
    "0.8221188\n",
    "1.459603111\n",
    "2.320116923\n",
    "3.48168907\n",
    "5.049647464\n",
    "7.166169913\n",
    "10.02317638\n",
    "13.87973172\n",
    "\n",
    "Voltage\n",
    "-51.24979369\n",
    "-61.37777297\n",
    "-65.0976558\n",
    "-66.04203933\n",
    "-69.29723967\n",
    "-73.30734354\n",
    "-78.16310347\n",
    "-83.87310562\n",
    "-90.32510651\n",
    "-97.25873706\n",
    "-104.2704826\n",
    "-110.8721422\n",
    "-116.6017564\n",
    "\n",
    "\n",
    "\n",
    "\n",
    "A 6th degree polynomial was fit to this data to yield the following equation: \n",
    "\n",
    "    syn_weight = 0.000000019395603*v**6 + 0.000008466808328*v**5 + 0.001546246691387*v**4 + 0.150852024612194*v**3 + 8.291209035520400*v**2 + 242.792603083843000*v + 2937.206029698790000\n",
    "\n",
    "\n",
    "Using this equation, we can plug in our desired voltages derived from the first equation into this equation."
   ]
  },
  {
   "cell_type": "markdown",
   "metadata": {},
   "source": [
    "## 1) Add connections from our external network to our RTM cells"
   ]
  },
  {
   "cell_type": "code",
   "execution_count": 4,
   "metadata": {},
   "outputs": [],
   "source": [
    "def one_each(source, target):\n",
    "    if source['node_id']==target['node_id']:\n",
    "        return 1\n",
    "    return 0\n",
    "\n",
    "def set_syn_weight(source, target):\n",
    "    sec_x = 0.5\n",
    "    sec_id = 0\n",
    "    x=target['node_id']\n",
    "    a=1\n",
    "    v = 0.0044675117*x**4 - 0.1256364996*x**3 + 0.7666447261*x**2 - 4.1554128011*x - 58.7232615386\n",
    "    syn_weight = 0.000000019395603*v**6 + 0.000008466808328*v**5 + 0.001546246691387*v**4 + 0.150852024612194*v**3 + 8.291209035520400*v**2 + 242.792603083843000*v + 2937.206029698790000\n",
    "    #syn_weight = math.exp(target['node_id']*(0.5))-1\n",
    "    #print(target['node_id'])\n",
    "    #print(v)\n",
    "    print(syn_weight)\n",
    "    return syn_weight, sec_x, sec_id\n",
    "\n",
    "conn=extnet.add_edges(source={'pop_name':'Inp'}, target=net.nodes(),\n",
    "                    connection_rule=one_each,              \n",
    "                    delay=0,\n",
    "                    weight_function=None,\n",
    "                    target_sections=['soma'],\n",
    "                    distance_range=[0.0, 0.00000000001],\n",
    "                    dynamics_params='Voltage_Set.json',\n",
    "                    model_template='Exp2Syn')\n",
    "\n",
    "conn.add_properties(['syn_weight','sec_x','sec_id'],\n",
    "                    rule=set_syn_weight, \n",
    "                    dtypes=[np.float, np.uint, np.uint])"
   ]
  },
  {
   "cell_type": "code",
   "execution_count": 5,
   "metadata": {
    "scrolled": true
   },
   "outputs": [
    {
     "name": "stdout",
     "output_type": "stream",
     "text": [
      "-6.472502449948479\n",
      "-3.7829508190416163\n",
      "-1.4752524583973354\n",
      "0.7890113633902729\n",
      "3.4696604722912525\n",
      "7.088059843898918\n",
      "12.295327520622777\n",
      "20.06122493319981\n",
      "32.2406885789087\n",
      "53.75574294141825\n"
     ]
    }
   ],
   "source": [
    "extnet.build()\n",
    "extnet.save_nodes(output_dir='network')\n",
    "extnet.save_edges(output_dir='network')"
   ]
  },
  {
   "cell_type": "markdown",
   "metadata": {},
   "source": [
    "### 1) Add a spike train to our external network (only at the beginning of the simulation)"
   ]
  },
  {
   "cell_type": "code",
   "execution_count": 6,
   "metadata": {},
   "outputs": [],
   "source": [
    "from bmtk.utils.reports.spike_trains import SpikeTrains\n",
    "\n",
    "spikes = SpikeTrains(population='extnet')\n",
    "for i in range(10):\n",
    "    spikes.add_spike(node_id=i,timestamp=0)\n",
    "spikes.to_sonata('input/Splay.h5')"
   ]
  },
  {
   "cell_type": "markdown",
   "metadata": {},
   "source": [
    "### 1) Add a current clamp\n",
    "This current clamp will last the duration of the simulation with amplitude = 1.2 amp"
   ]
  },
  {
   "cell_type": "code",
   "execution_count": 7,
   "metadata": {},
   "outputs": [],
   "source": [
    "import h5py\n",
    "\n",
    "\n",
    "i_ext=[0]\n",
    "for i in range(29):\n",
    "    i_ext.append(1.2)\n",
    "\n",
    "dts = [1]\n",
    "gids = 'all'\n",
    "\n",
    "#hf.close() # Uncomment this line temporarily if you receive 'file already open error'\n",
    "\n",
    "hf = h5py.File(\"input/amps.h5\", 'w')\n",
    "\n",
    "hf.create_dataset(\"amplitudes\", data=[i_ext])\n",
    "hf.create_dataset(\"gids\", data=gids)\n",
    "hf.create_dataset(\"dts\", data=dts)\n",
    "\n",
    "hf.close()"
   ]
  },
  {
   "cell_type": "markdown",
   "metadata": {},
   "source": [
    "### 1) Build the simulation environment"
   ]
  },
  {
   "cell_type": "code",
   "execution_count": 8,
   "metadata": {},
   "outputs": [],
   "source": [
    "from bmtk.utils.sim_setup import build_env_bionet\n",
    "\n",
    "build_env_bionet(base_dir='.',\n",
    "                 network_dir='network',\n",
    "                 tstop=30.0, dt=0.01,\n",
    "                 report_vars=['v'],           # Record membrane potential and calcium (default soma)\n",
    "                 spikes_inputs=[('extnet',    # Name of population which spikes will be generated for\n",
    "                                'input/Splay.h5')],\n",
    "                 file_current_clamp={              \n",
    "                      \"input_type\": \"file_current_clamp\",\n",
    "                      \"module\": \"FileIClamp\",\n",
    "                      \"input_file\":\"input/amps.h5\",\n",
    "                      \"node_set\":\"network\"\n",
    "                 },\n",
    "                 v_init=-66.5,\n",
    "                 include_examples=False,    # Copies components files\n",
    "                 compile_mechanisms=False,   # Will try to compile NEURON mechanisms\n",
    "                 config_file='config.json'\n",
    "                )"
   ]
  },
  {
   "cell_type": "markdown",
   "metadata": {},
   "source": [
    "### 1) Run the Simulation"
   ]
  },
  {
   "cell_type": "code",
   "execution_count": 9,
   "metadata": {},
   "outputs": [
    {
     "name": "stdout",
     "output_type": "stream",
     "text": [
      "2021-03-10 16:15:05,576 [INFO] Created log file\n"
     ]
    },
    {
     "name": "stderr",
     "output_type": "stream",
     "text": [
      "INFO:NEURONIOUtils:Created log file\n"
     ]
    },
    {
     "name": "stdout",
     "output_type": "stream",
     "text": [
      "2021-03-10 16:15:05,671 [INFO] Building cells.\n"
     ]
    },
    {
     "name": "stderr",
     "output_type": "stream",
     "text": [
      "INFO:NEURONIOUtils:Building cells.\n"
     ]
    },
    {
     "name": "stdout",
     "output_type": "stream",
     "text": [
      "2021-03-10 16:15:05,694 [INFO] Building recurrent connections\n"
     ]
    },
    {
     "name": "stderr",
     "output_type": "stream",
     "text": [
      "INFO:NEURONIOUtils:Building recurrent connections\n"
     ]
    },
    {
     "name": "stdout",
     "output_type": "stream",
     "text": [
      "2021-03-10 16:15:05,700 [INFO] Building virtual cell stimulations for extnet_spikes\n"
     ]
    },
    {
     "name": "stderr",
     "output_type": "stream",
     "text": [
      "C:\\Users\\strou\\Anaconda3\\envs\\bmtk\\lib\\site-packages\\bmtk\\simulator\\bionet\\biosimulator.py:229: H5pyDeprecationWarning: dataset.value has been deprecated. Use dataset[()] instead.\n",
      "  if \"gids\" not in list(file.keys()) or file[\"gids\"].value == 'all':\n",
      "C:\\Users\\strou\\Anaconda3\\envs\\bmtk\\lib\\site-packages\\bmtk\\simulator\\bionet\\biosimulator.py:243: H5pyDeprecationWarning: dataset.value has been deprecated. Use dataset[()] instead.\n",
      "  amplitudes = file[\"amplitudes\"].value\n",
      "C:\\Users\\strou\\Anaconda3\\envs\\bmtk\\lib\\site-packages\\bmtk\\simulator\\bionet\\biosimulator.py:248: H5pyDeprecationWarning: dataset.value has been deprecated. Use dataset[()] instead.\n",
      "  dts = file[\"dts\"].value\n",
      "INFO:NEURONIOUtils:Building virtual cell stimulations for extnet_spikes\n"
     ]
    },
    {
     "name": "stdout",
     "output_type": "stream",
     "text": [
      "2021-03-10 16:15:05,741 [INFO] Running simulation for 30.000 ms with the time step 0.010 ms\n"
     ]
    },
    {
     "name": "stderr",
     "output_type": "stream",
     "text": [
      "INFO:NEURONIOUtils:Running simulation for 30.000 ms with the time step 0.010 ms\n"
     ]
    },
    {
     "name": "stdout",
     "output_type": "stream",
     "text": [
      "2021-03-10 16:15:05,743 [INFO] Starting timestep: 0 at t_sim: 0.000 ms\n"
     ]
    },
    {
     "name": "stderr",
     "output_type": "stream",
     "text": [
      "INFO:NEURONIOUtils:Starting timestep: 0 at t_sim: 0.000 ms\n"
     ]
    },
    {
     "name": "stdout",
     "output_type": "stream",
     "text": [
      "2021-03-10 16:15:05,744 [INFO] Block save every 3000 steps\n"
     ]
    },
    {
     "name": "stderr",
     "output_type": "stream",
     "text": [
      "INFO:NEURONIOUtils:Block save every 3000 steps\n"
     ]
    },
    {
     "name": "stdout",
     "output_type": "stream",
     "text": [
      "2021-03-10 16:15:06,367 [INFO]     step:3000 t_sim:30.00 ms\n"
     ]
    },
    {
     "name": "stderr",
     "output_type": "stream",
     "text": [
      "INFO:NEURONIOUtils:    step:3000 t_sim:30.00 ms\n"
     ]
    },
    {
     "name": "stdout",
     "output_type": "stream",
     "text": [
      "2021-03-10 16:15:06,384 [INFO] Simulation completed in 0.643 seconds \n"
     ]
    },
    {
     "name": "stderr",
     "output_type": "stream",
     "text": [
      "INFO:NEURONIOUtils:Simulation completed in 0.643 seconds \n"
     ]
    }
   ],
   "source": [
    "from bmtk.simulator import bionet\n",
    "\n",
    "\n",
    "conf = bionet.Config.from_json('config.json')\n",
    "conf.build_env()\n",
    "net = bionet.BioNetwork.from_config(conf)\n",
    "sim = bionet.BioSimulator.from_config(conf, network=net)\n",
    "sim.run()"
   ]
  },
  {
   "cell_type": "markdown",
   "metadata": {},
   "source": [
    "### 1) Display the Results"
   ]
  },
  {
   "cell_type": "code",
   "execution_count": 10,
   "metadata": {},
   "outputs": [
    {
     "name": "stdout",
     "output_type": "stream",
     "text": [
      "[-58.72418018]\n",
      "[-62.23170677]\n",
      "[-64.90271084]\n",
      "[-67.32161817]\n",
      "[-69.9750803]\n",
      "[-73.24455421]\n",
      "[-77.40515703]\n",
      "[-82.61406985]\n",
      "[-88.92350271]\n",
      "[-96.32422798]\n"
     ]
    }
   ],
   "source": [
    "from bmtk.utils.reports.compartment import CompartmentReport\n",
    "\n",
    "pop_name = 'Exc'\n",
    "report = CompartmentReport('output/v_report.h5',\n",
    "population=pop_name, mode='r')\n",
    "v_trace=[]\n",
    "for i in range(10):\n",
    "    v_trace.append(report.data(population='network', node_id=i))\n",
    "    print(v_trace[i][12])\n",
    "time = np.arange(report.tstart(population='network'), report.tstop(population='network'), report.dt(population='network'))\n"
   ]
  },
  {
   "cell_type": "markdown",
   "metadata": {},
   "source": [
    "The voltage at the beginning of the simulation is printed for each cell. These voltages make fairly well with our desired initial voltages with some discrepancy"
   ]
  },
  {
   "cell_type": "code",
   "execution_count": 11,
   "metadata": {},
   "outputs": [
    {
     "data": {
      "image/png": "[encoded data removed]",
      "text/plain": [
       "<Figure size 432x288 with 1 Axes>"
      ]
     },
     "metadata": {
      "needs_background": "light"
     },
     "output_type": "display_data"
    }
   ],
   "source": [
    "import matplotlib.pyplot as plt\n",
    "for i in range(10):\n",
    "    plt.plot(time, v_trace[i])\n",
    "plt.ylabel('Voltage [mv]')\n",
    "plt.xlabel('Time [ms]')\n",
    "plt.title('RTM_neuron Voltage')\n",
    "plt.xlim([0,30])\n",
    "#plt.ylim([-75,-65])\n",
    "plt.show()\n",
    "\n",
    "# If plot does not show run the cell again."
   ]
  },
  {
   "cell_type": "markdown",
   "metadata": {},
   "source": [
    "Besides some initial discrepancy, regular firing has been shown. \n",
    "\n",
    "The initial period is long and can be explained by our synaptic weight function to set the initial voltages for the different neurons. Our functions were derived from data points from previous runs not shown and fit into 4th an 6th order polynomials. Because these functions are approximations of other data, the initial conditions are slightly different than our desired set points. "
   ]
  },
  {
   "cell_type": "markdown",
   "metadata": {},
   "source": [
    "# Part 2: You Must Restart Kernel To Proceed\n",
    "The notebook continues to access log.txt after the simulation is run. This access does not allow another simulation to run in the same notebook which is why a kernel restart is needed if you would like to run the code below. You can still see plots from previous simulations after you restart the kernel. "
   ]
  },
  {
   "cell_type": "markdown",
   "metadata": {},
   "source": [
    "### 2) Add Inhibitory Pulse that is weak with long time constant"
   ]
  },
  {
   "cell_type": "markdown",
   "metadata": {},
   "source": [
    "We must create a second network that copies features from the previous network and also adds an inhibitory spike"
   ]
  },
  {
   "cell_type": "markdown",
   "metadata": {},
   "source": [
    "### 2) RTM Network (copied from previous simulation)"
   ]
  },
  {
   "cell_type": "code",
   "execution_count": 1,
   "metadata": {},
   "outputs": [],
   "source": [
    "import numpy as np\n",
    "import logging\n",
    "import math\n",
    "\n",
    "from bmtk.builder.networks import NetworkBuilder\n",
    "\n",
    "n_E =10\n",
    "\n",
    "net = NetworkBuilder('network')\n",
    "net.add_nodes(N=n_E, pop_name='Exc',     # N = number of excitatory cells\n",
    "        model_type='biophysical',\n",
    "        model_template='hoc:RTMExcCell', # RTMExcCell hoc definition\n",
    "        morphology='blank.swc')"
   ]
  },
  {
   "cell_type": "code",
   "execution_count": 2,
   "metadata": {},
   "outputs": [],
   "source": [
    "net.build()\n",
    "net.save_nodes(output_dir='network')"
   ]
  },
  {
   "cell_type": "markdown",
   "metadata": {},
   "source": [
    "### 2) External Network(copied from previous simulation)"
   ]
  },
  {
   "cell_type": "code",
   "execution_count": 3,
   "metadata": {},
   "outputs": [],
   "source": [
    "n_In=10\n",
    "extnet = NetworkBuilder('extnet')\n",
    "extnet.add_nodes(N=n_In,pop_name='Inp',\n",
    "            potential='exc',\n",
    "            model_type='virtual')"
   ]
  },
  {
   "cell_type": "code",
   "execution_count": 4,
   "metadata": {},
   "outputs": [],
   "source": [
    "def one_each(source, target):\n",
    "    if source['node_id']==target['node_id']:\n",
    "        return 1\n",
    "    return 0\n",
    "\n",
    "def set_syn_weight(source, target):\n",
    "    sec_x = 0.5\n",
    "    sec_id = 0\n",
    "    x=target['node_id']\n",
    "    a=1\n",
    "    v = 0.0044675117*x**4 - 0.1256364996*x**3 + 0.7666447261*x**2 - 4.1554128011*x - 58.7232615386\n",
    "    syn_weight = 0.000000019395603*v**6 + 0.000008466808328*v**5 + 0.001546246691387*v**4 + 0.150852024612194*v**3 + 8.291209035520400*v**2 + 242.792603083843000*v + 2937.206029698790000\n",
    "    #syn_weight = math.exp(target['node_id']*(0.5))-1\n",
    "    #print(target['node_id'])\n",
    "    #print(v)\n",
    "    print(syn_weight)\n",
    "    return syn_weight, sec_x, sec_id\n",
    "\n",
    "conn=extnet.add_edges(source={'pop_name':'Inp'}, target=net.nodes(),\n",
    "                    connection_rule=one_each,              \n",
    "                    delay=0,\n",
    "                    weight_function=None,\n",
    "                    target_sections=['soma'],\n",
    "                    distance_range=[0.0, 0.00000000001],\n",
    "                    dynamics_params='Voltage_Set.json',\n",
    "                    model_template='Exp2Syn')\n",
    "\n",
    "conn.add_properties(['syn_weight','sec_x','sec_id'],\n",
    "                    rule=set_syn_weight, \n",
    "                    dtypes=[np.float, np.uint, np.uint])"
   ]
  },
  {
   "cell_type": "code",
   "execution_count": 5,
   "metadata": {},
   "outputs": [
    {
     "name": "stdout",
     "output_type": "stream",
     "text": [
      "-6.472502449948479\n",
      "-3.7829508190416163\n",
      "-1.4752524583973354\n",
      "0.7890113633902729\n",
      "3.4696604722912525\n",
      "7.088059843898918\n",
      "12.295327520622777\n",
      "20.06122493319981\n",
      "32.2406885789087\n",
      "53.75574294141825\n"
     ]
    }
   ],
   "source": [
    "extnet.build()\n",
    "extnet.save_nodes(output_dir='network')\n",
    "extnet.save_edges(output_dir='network')"
   ]
  },
  {
   "cell_type": "markdown",
   "metadata": {},
   "source": [
    "### Initial voltage set"
   ]
  },
  {
   "cell_type": "code",
   "execution_count": 6,
   "metadata": {},
   "outputs": [],
   "source": [
    "from bmtk.utils.reports.spike_trains import SpikeTrains\n",
    "\n",
    "spikes = SpikeTrains(population='extnet')\n",
    "for i in range(10):\n",
    "    spikes.add_spike(node_id=i,timestamp=0)\n",
    "spikes.to_sonata('input/Splay.h5')"
   ]
  },
  {
   "cell_type": "markdown",
   "metadata": {},
   "source": [
    "### 2) Current Clamp (same as before)"
   ]
  },
  {
   "cell_type": "code",
   "execution_count": 7,
   "metadata": {},
   "outputs": [],
   "source": [
    "import h5py\n",
    "\n",
    "\n",
    "i_ext=[0]\n",
    "for i in range(29):\n",
    "    i_ext.append(1.2)\n",
    "\n",
    "dts = [1]\n",
    "gids = 'all'\n",
    "\n",
    "#hf.close() # Uncomment this line temporarily if you receive 'file already open error'\n",
    "\n",
    "hf = h5py.File(\"input/amps.h5\", 'w')\n",
    "\n",
    "hf.create_dataset(\"amplitudes\", data=[i_ext])\n",
    "hf.create_dataset(\"gids\", data=gids)\n",
    "hf.create_dataset(\"dts\", data=dts)\n",
    "\n",
    "hf.close()"
   ]
  },
  {
   "cell_type": "markdown",
   "metadata": {},
   "source": [
    "# 2) Add Inhibitory Pulse #1\n",
    "This pulse is meant to go to all RTM neurons at the same time and only once. The pulse is supposed to be weighed weakly with long time constant."
   ]
  },
  {
   "cell_type": "markdown",
   "metadata": {},
   "source": [
    "#### 2) First create a second external network \"inhib\" to give each RTM neuron a single pulse"
   ]
  },
  {
   "cell_type": "code",
   "execution_count": 8,
   "metadata": {},
   "outputs": [],
   "source": [
    "n_In=10\n",
    "inhib = NetworkBuilder('inhib')\n",
    "inhib.add_nodes(N=n_In,pop_name='Inp_inh',\n",
    "            potential='inh',\n",
    "            model_type='virtual')"
   ]
  },
  {
   "cell_type": "markdown",
   "metadata": {},
   "source": [
    "The dynamic parameters of the synaptic pulse are set in \"Weak_Long.json\" where tau1 = 9 ms and tau2 = 0.1 ms. g_syn = 0.3 mS/cm^2"
   ]
  },
  {
   "cell_type": "code",
   "execution_count": 9,
   "metadata": {},
   "outputs": [
    {
     "data": {
      "text/plain": [
       "<bmtk.builder.connection_map.ConnectionMap at 0x240776bba58>"
      ]
     },
     "execution_count": 9,
     "metadata": {},
     "output_type": "execute_result"
    }
   ],
   "source": [
    "inhib.add_edges(source={'pop_name':'Inp_inh'}, target=net.nodes(),\n",
    "                    connection_rule=one_each,              \n",
    "                    delay=0,\n",
    "                    syn_weight = 0.3,\n",
    "                    weight_function=None,\n",
    "                    target_sections=['soma'],\n",
    "                    distance_range=[0.0, 1.0],\n",
    "                    dynamics_params='Weak_Long.json',\n",
    "                    model_template='expsyn')"
   ]
  },
  {
   "cell_type": "code",
   "execution_count": 10,
   "metadata": {},
   "outputs": [],
   "source": [
    "inhib.build()\n",
    "inhib.save_nodes(output_dir='network')\n",
    "inhib.save_edges(output_dir='network')"
   ]
  },
  {
   "cell_type": "markdown",
   "metadata": {},
   "source": [
    "#### 2) Give spike to all inhib neurons "
   ]
  },
  {
   "cell_type": "code",
   "execution_count": 11,
   "metadata": {},
   "outputs": [],
   "source": [
    "from bmtk.utils.reports.spike_trains import SpikeTrains\n",
    "\n",
    "spikes = SpikeTrains(population='inhib')\n",
    "for i in range(10):\n",
    "    spikes.add_spike(node_id=i,timestamp=0.2)\n",
    "spikes.to_sonata('input/Inhib.h5')"
   ]
  },
  {
   "cell_type": "markdown",
   "metadata": {},
   "source": [
    "## 2) Set up the simulation environment"
   ]
  },
  {
   "cell_type": "code",
   "execution_count": 12,
   "metadata": {},
   "outputs": [],
   "source": [
    "from bmtk.utils.sim_setup import build_env_bionet\n",
    "\n",
    "build_env_bionet(base_dir='.',\n",
    "                 network_dir='network',\n",
    "                 tstop=30.0, dt=0.01,\n",
    "                 report_vars=['v'],           # Record membrane potential and calcium (default soma)\n",
    "                 spikes_inputs=[('extnet',    # Name of population which spikes will be generated for\n",
    "                                'input/Splay.h5'),('inhib', 'input/Inhib.h5')],\n",
    "                 file_current_clamp={              # Creates a step current from 500.ms to 1500.0 ms\n",
    "                      \"input_type\": \"file_current_clamp\",\n",
    "                      \"module\": \"FileIClamp\",\n",
    "                      \"input_file\":\"input/amps.h5\",\n",
    "                      \"node_set\":\"network\"\n",
    "                 },\n",
    "                 v_init=-66.5,\n",
    "                 include_examples=False,    # Copies components files\n",
    "                 compile_mechanisms=False,   # Will try to compile NEURON mechanisms\n",
    "                 config_file='config.json'\n",
    "                )"
   ]
  },
  {
   "cell_type": "markdown",
   "metadata": {},
   "source": [
    "## 2) Run the Simulation"
   ]
  },
  {
   "cell_type": "code",
   "execution_count": 13,
   "metadata": {
    "collapsed": true
   },
   "outputs": [
    {
     "name": "stdout",
     "output_type": "stream",
     "text": [
      "2021-03-10 16:15:55,503 [INFO] Created log file\n"
     ]
    },
    {
     "name": "stderr",
     "output_type": "stream",
     "text": [
      "INFO:NEURONIOUtils:Created log file\n"
     ]
    },
    {
     "name": "stdout",
     "output_type": "stream",
     "text": [
      "2021-03-10 16:15:55,585 [INFO] Building cells.\n"
     ]
    },
    {
     "name": "stderr",
     "output_type": "stream",
     "text": [
      "INFO:NEURONIOUtils:Building cells.\n"
     ]
    },
    {
     "name": "stdout",
     "output_type": "stream",
     "text": [
      "2021-03-10 16:15:55,604 [INFO] Building recurrent connections\n"
     ]
    },
    {
     "name": "stderr",
     "output_type": "stream",
     "text": [
      "INFO:NEURONIOUtils:Building recurrent connections\n"
     ]
    },
    {
     "name": "stdout",
     "output_type": "stream",
     "text": [
      "2021-03-10 16:15:55,611 [INFO] Building virtual cell stimulations for extnet_spikes\n"
     ]
    },
    {
     "name": "stderr",
     "output_type": "stream",
     "text": [
      "C:\\Users\\strou\\Anaconda3\\envs\\bmtk\\lib\\site-packages\\bmtk\\simulator\\bionet\\biosimulator.py:229: H5pyDeprecationWarning: dataset.value has been deprecated. Use dataset[()] instead.\n",
      "  if \"gids\" not in list(file.keys()) or file[\"gids\"].value == 'all':\n",
      "C:\\Users\\strou\\Anaconda3\\envs\\bmtk\\lib\\site-packages\\bmtk\\simulator\\bionet\\biosimulator.py:243: H5pyDeprecationWarning: dataset.value has been deprecated. Use dataset[()] instead.\n",
      "  amplitudes = file[\"amplitudes\"].value\n",
      "C:\\Users\\strou\\Anaconda3\\envs\\bmtk\\lib\\site-packages\\bmtk\\simulator\\bionet\\biosimulator.py:248: H5pyDeprecationWarning: dataset.value has been deprecated. Use dataset[()] instead.\n",
      "  dts = file[\"dts\"].value\n",
      "INFO:NEURONIOUtils:Building virtual cell stimulations for extnet_spikes\n"
     ]
    },
    {
     "name": "stdout",
     "output_type": "stream",
     "text": [
      "2021-03-10 16:15:55,639 [INFO] Building virtual cell stimulations for inhib_spikes\n"
     ]
    },
    {
     "name": "stderr",
     "output_type": "stream",
     "text": [
      "INFO:NEURONIOUtils:Building virtual cell stimulations for inhib_spikes\n"
     ]
    },
    {
     "name": "stdout",
     "output_type": "stream",
     "text": [
      "2021-03-10 16:15:55,686 [INFO] Running simulation for 30.000 ms with the time step 0.010 ms\n"
     ]
    },
    {
     "name": "stderr",
     "output_type": "stream",
     "text": [
      "INFO:NEURONIOUtils:Running simulation for 30.000 ms with the time step 0.010 ms\n"
     ]
    },
    {
     "name": "stdout",
     "output_type": "stream",
     "text": [
      "2021-03-10 16:15:55,687 [INFO] Starting timestep: 0 at t_sim: 0.000 ms\n"
     ]
    },
    {
     "name": "stderr",
     "output_type": "stream",
     "text": [
      "INFO:NEURONIOUtils:Starting timestep: 0 at t_sim: 0.000 ms\n"
     ]
    },
    {
     "name": "stdout",
     "output_type": "stream",
     "text": [
      "2021-03-10 16:15:55,689 [INFO] Block save every 3000 steps\n"
     ]
    },
    {
     "name": "stderr",
     "output_type": "stream",
     "text": [
      "INFO:NEURONIOUtils:Block save every 3000 steps\n"
     ]
    },
    {
     "name": "stdout",
     "output_type": "stream",
     "text": [
      "2021-03-10 16:15:56,287 [INFO]     step:3000 t_sim:30.00 ms\n"
     ]
    },
    {
     "name": "stderr",
     "output_type": "stream",
     "text": [
      "INFO:NEURONIOUtils:    step:3000 t_sim:30.00 ms\n"
     ]
    },
    {
     "name": "stdout",
     "output_type": "stream",
     "text": [
      "2021-03-10 16:15:56,302 [INFO] Simulation completed in 0.616 seconds \n"
     ]
    },
    {
     "name": "stderr",
     "output_type": "stream",
     "text": [
      "INFO:NEURONIOUtils:Simulation completed in 0.616 seconds \n"
     ]
    }
   ],
   "source": [
    "from bmtk.simulator import bionet\n",
    "\n",
    "\n",
    "conf = bionet.Config.from_json('config.json')\n",
    "conf.build_env()\n",
    "net = bionet.BioNetwork.from_config(conf)\n",
    "sim = bionet.BioSimulator.from_config(conf, network=net)\n",
    "sim.run()"
   ]
  },
  {
   "cell_type": "markdown",
   "metadata": {},
   "source": [
    "## 2) Display the Results"
   ]
  },
  {
   "cell_type": "code",
   "execution_count": 14,
   "metadata": {},
   "outputs": [
    {
     "name": "stdout",
     "output_type": "stream",
     "text": [
      "[-59.93184758]\n",
      "[-62.81000859]\n",
      "[-65.10622273]\n",
      "[-67.22204157]\n",
      "[-69.5675704]\n",
      "[-72.48542234]\n",
      "[-76.24143521]\n",
      "[-81.01969413]\n",
      "[-86.94887874]\n",
      "[-94.18571763]\n"
     ]
    }
   ],
   "source": [
    "from bmtk.utils.reports.compartment import CompartmentReport\n",
    "\n",
    "pop_name = 'Exc'\n",
    "report = CompartmentReport('output/v_report.h5',\n",
    "population=pop_name, mode='r')\n",
    "v_trace=[]\n",
    "for i in range(10):\n",
    "    v_trace.append(report.data(population='network', node_id=i))\n",
    "    print(v_trace[i][5])\n",
    "time = np.arange(report.tstart(population='network'), report.tstop(population='network'), report.dt(population='network'))"
   ]
  },
  {
   "cell_type": "code",
   "execution_count": 16,
   "metadata": {},
   "outputs": [
    {
     "data": {
      "image/png": "[encoded data removed]",
      "text/plain": [
       "<Figure size 432x288 with 1 Axes>"
      ]
     },
     "metadata": {
      "needs_background": "light"
     },
     "output_type": "display_data"
    }
   ],
   "source": [
    "import matplotlib.pyplot as plt\n",
    "for i in range(10):\n",
    "    plt.plot(time, v_trace[i])\n",
    "plt.ylabel('Voltage [mv]')\n",
    "plt.xlabel('Time [ms]')\n",
    "plt.title('RTM_neuron Voltage')\n",
    "plt.xlim([0,30])\n",
    "#plt.ylim([-70,-65])\n",
    "plt.show()\n",
    "\n",
    "# If plot does not show run the cell again."
   ]
  },
  {
   "cell_type": "markdown",
   "metadata": {},
   "source": [
    "The single inhibitory pulse with a synaptic weight of 0.3 mS/cm^2 and tau1:0.1 ms tau2:9 ms will cause the unconnected RTM neurons to synchronize. \n",
    "\n",
    "As you can see, the first neuron fired at about the same time as without the inhibitory spike. This is because it's initial condition is so close to threshold the neuron was poised to spike. \n",
    "\n",
    "The other neurons less influenced by initial conditions synchronized."
   ]
  },
  {
   "cell_type": "markdown",
   "metadata": {},
   "source": [
    "# Part 3: You Must Restart Kernel To Proceed\n",
    "A third simulation can be performed that shows an inhibitory synapse with strong synaptic weight but short time constant. Again the single inhibitory pulse can cause the unconnected RTM neurons to synchronize."
   ]
  },
  {
   "cell_type": "markdown",
   "metadata": {},
   "source": [
    "First we copy our original network from Part 1:"
   ]
  },
  {
   "cell_type": "code",
   "execution_count": 1,
   "metadata": {},
   "outputs": [],
   "source": [
    "import numpy as np\n",
    "import logging\n",
    "import math\n",
    "\n",
    "from bmtk.builder.networks import NetworkBuilder\n",
    "\n",
    "n_E =10\n",
    "\n",
    "net = NetworkBuilder('network')\n",
    "net.add_nodes(N=n_E, pop_name='Exc',     # N = number of excitatory cells\n",
    "        model_type='biophysical',\n",
    "        model_template='hoc:RTMExcCell', # RTMExcCell hoc definition\n",
    "        morphology='blank.swc')"
   ]
  },
  {
   "cell_type": "code",
   "execution_count": 2,
   "metadata": {},
   "outputs": [],
   "source": [
    "net.build()\n",
    "net.save_nodes(output_dir='network')"
   ]
  },
  {
   "cell_type": "code",
   "execution_count": 3,
   "metadata": {},
   "outputs": [],
   "source": [
    "n_In=10\n",
    "extnet = NetworkBuilder('extnet')\n",
    "extnet.add_nodes(N=n_In,pop_name='Inp',\n",
    "            potential='exc',\n",
    "            model_type='virtual')"
   ]
  },
  {
   "cell_type": "code",
   "execution_count": 4,
   "metadata": {},
   "outputs": [],
   "source": [
    "def one_each(source, target):\n",
    "    if source['node_id']==target['node_id']:\n",
    "        return 1\n",
    "    return 0\n",
    "\n",
    "def set_syn_weight(source, target):\n",
    "    sec_x = 0.5\n",
    "    sec_id = 0\n",
    "    x=target['node_id']\n",
    "    a=1\n",
    "    v = 0.0044675117*x**4 - 0.1256364996*x**3 + 0.7666447261*x**2 - 4.1554128011*x - 58.7232615386\n",
    "    syn_weight = 0.000000019395603*v**6 + 0.000008466808328*v**5 + 0.001546246691387*v**4 + 0.150852024612194*v**3 + 8.291209035520400*v**2 + 242.792603083843000*v + 2937.206029698790000\n",
    "    #syn_weight = math.exp(target['node_id']*(0.5))-1\n",
    "    #print(target['node_id'])\n",
    "    #print(v)\n",
    "    print(syn_weight)\n",
    "    return syn_weight, sec_x, sec_id\n",
    "\n",
    "conn=extnet.add_edges(source={'pop_name':'Inp'}, target=net.nodes(),\n",
    "                    connection_rule=one_each,              \n",
    "                    delay=0,\n",
    "                    weight_function=None,\n",
    "                    target_sections=['soma'],\n",
    "                    distance_range=[0.0, 0.00000000001],\n",
    "                    dynamics_params='Voltage_Set.json',\n",
    "                    model_template='Exp2Syn')\n",
    "\n",
    "conn.add_properties(['syn_weight','sec_x','sec_id'],\n",
    "                    rule=set_syn_weight, \n",
    "                    dtypes=[np.float, np.uint, np.uint])"
   ]
  },
  {
   "cell_type": "code",
   "execution_count": 5,
   "metadata": {},
   "outputs": [
    {
     "name": "stdout",
     "output_type": "stream",
     "text": [
      "-6.472502449948479\n",
      "-3.7829508190416163\n",
      "-1.4752524583973354\n",
      "0.7890113633902729\n",
      "3.4696604722912525\n",
      "7.088059843898918\n",
      "12.295327520622777\n",
      "20.06122493319981\n",
      "32.2406885789087\n",
      "53.75574294141825\n"
     ]
    }
   ],
   "source": [
    "extnet.build()\n",
    "extnet.save_nodes(output_dir='network')\n",
    "extnet.save_edges(output_dir='network')"
   ]
  },
  {
   "cell_type": "code",
   "execution_count": 6,
   "metadata": {},
   "outputs": [],
   "source": [
    "from bmtk.utils.reports.spike_trains import SpikeTrains\n",
    "\n",
    "spikes = SpikeTrains(population='extnet')\n",
    "for i in range(10):\n",
    "    spikes.add_spike(node_id=i,timestamp=0)\n",
    "spikes.to_sonata('input/Splay.h5')"
   ]
  },
  {
   "cell_type": "markdown",
   "metadata": {},
   "source": [
    "### 3) Current Clamp"
   ]
  },
  {
   "cell_type": "code",
   "execution_count": 7,
   "metadata": {},
   "outputs": [],
   "source": [
    "import h5py\n",
    "\n",
    "\n",
    "i_ext=[0]\n",
    "for i in range(29):\n",
    "    i_ext.append(1.2)\n",
    "\n",
    "dts = [1]\n",
    "gids = 'all'\n",
    "\n",
    "#hf.close() # Uncomment this line temporarily if you receive 'file already open error'\n",
    "\n",
    "hf = h5py.File(\"input/amps.h5\", 'w')\n",
    "\n",
    "hf.create_dataset(\"amplitudes\", data=[i_ext])\n",
    "hf.create_dataset(\"gids\", data=gids)\n",
    "hf.create_dataset(\"dts\", data=dts)\n",
    "\n",
    "hf.close()"
   ]
  },
  {
   "cell_type": "markdown",
   "metadata": {},
   "source": [
    "# 3) Add Inhibitory Pulse #2 "
   ]
  },
  {
   "cell_type": "markdown",
   "metadata": {},
   "source": [
    "We add 10 neurons to give a single inhibitory spike into each cell of our network. We change the parameters of th."
   ]
  },
  {
   "cell_type": "code",
   "execution_count": 8,
   "metadata": {},
   "outputs": [],
   "source": [
    "n_In=10\n",
    "inhib = NetworkBuilder('inhib')\n",
    "inhib.add_nodes(N=n_In,pop_name='Inp_inh',\n",
    "            potential='inh',\n",
    "            model_type='virtual')"
   ]
  },
  {
   "cell_type": "markdown",
   "metadata": {},
   "source": [
    "The dynamic parameters are set in \"Strong_Short.json\" which gives a tau1 of 1 ms and tau2 of 0.1 ms"
   ]
  },
  {
   "cell_type": "code",
   "execution_count": 9,
   "metadata": {},
   "outputs": [
    {
     "data": {
      "text/plain": [
       "<bmtk.builder.connection_map.ConnectionMap at 0x261edb8aa20>"
      ]
     },
     "execution_count": 9,
     "metadata": {},
     "output_type": "execute_result"
    }
   ],
   "source": [
    "inhib.add_edges(source={'pop_name':'Inp_inh'}, target=net.nodes(),\n",
    "                    connection_rule=one_each,              \n",
    "                    delay=0,\n",
    "                    syn_weight = 2.25,\n",
    "                    weight_function=None,\n",
    "                    target_sections=['soma'],\n",
    "                    distance_range=[0.0, 1.0],\n",
    "                    dynamics_params='Strong_Short.json',\n",
    "                    model_template='expsyn')"
   ]
  },
  {
   "cell_type": "markdown",
   "metadata": {},
   "source": [
    "Build and save our inhibitory neurons"
   ]
  },
  {
   "cell_type": "code",
   "execution_count": 10,
   "metadata": {},
   "outputs": [],
   "source": [
    "inhib.build()\n",
    "inhib.save_nodes(output_dir='network')\n",
    "inhib.save_edges(output_dir='network')"
   ]
  },
  {
   "cell_type": "markdown",
   "metadata": {},
   "source": [
    "#### Give 1 spike to the inhibitory neurons that feed into our network"
   ]
  },
  {
   "cell_type": "code",
   "execution_count": 11,
   "metadata": {},
   "outputs": [],
   "source": [
    "from bmtk.utils.reports.spike_trains import SpikeTrains\n",
    "\n",
    "spikes = SpikeTrains(population='inhib')\n",
    "for i in range(10):\n",
    "    spikes.add_spike(node_id=i,timestamp=0.2)\n",
    "spikes.to_sonata('input/Inhib.h5')"
   ]
  },
  {
   "cell_type": "markdown",
   "metadata": {},
   "source": [
    "## 3) Setting up the Simulation Environment"
   ]
  },
  {
   "cell_type": "code",
   "execution_count": 12,
   "metadata": {},
   "outputs": [],
   "source": [
    "from bmtk.utils.sim_setup import build_env_bionet\n",
    "\n",
    "build_env_bionet(base_dir='.',\n",
    "                 network_dir='network',\n",
    "                 tstop=30.0, dt=0.01,\n",
    "                 report_vars=['v'],           # Record membrane potential and calcium (default soma)\n",
    "                 spikes_inputs=[('extnet',    # Name of population which spikes will be generated for\n",
    "                                'input/Splay.h5'), ('inhib', 'input/Inhib.h5')],\n",
    "                 file_current_clamp={              # Creates a step current from 500.ms to 1500.0 ms\n",
    "                      \"input_type\": \"file_current_clamp\",\n",
    "                      \"module\": \"FileIClamp\",\n",
    "                      \"input_file\":\"input/amps.h5\",\n",
    "                      \"node_set\":\"network\"\n",
    "                 },\n",
    "                 v_init=-66.5,\n",
    "                 include_examples=False,    # Copies components files\n",
    "                 compile_mechanisms=False,   # Will try to compile NEURON mechanisms\n",
    "                 config_file='config.json'\n",
    "                )"
   ]
  },
  {
   "cell_type": "markdown",
   "metadata": {},
   "source": [
    "## 3) Running the Simulation"
   ]
  },
  {
   "cell_type": "code",
   "execution_count": 13,
   "metadata": {},
   "outputs": [
    {
     "name": "stdout",
     "output_type": "stream",
     "text": [
      "2021-03-10 16:16:45,098 [INFO] Created log file\n"
     ]
    },
    {
     "name": "stderr",
     "output_type": "stream",
     "text": [
      "INFO:NEURONIOUtils:Created log file\n"
     ]
    },
    {
     "name": "stdout",
     "output_type": "stream",
     "text": [
      "2021-03-10 16:16:45,186 [INFO] Building cells.\n"
     ]
    },
    {
     "name": "stderr",
     "output_type": "stream",
     "text": [
      "INFO:NEURONIOUtils:Building cells.\n"
     ]
    },
    {
     "name": "stdout",
     "output_type": "stream",
     "text": [
      "2021-03-10 16:16:45,200 [INFO] Building recurrent connections\n"
     ]
    },
    {
     "name": "stderr",
     "output_type": "stream",
     "text": [
      "INFO:NEURONIOUtils:Building recurrent connections\n"
     ]
    },
    {
     "name": "stdout",
     "output_type": "stream",
     "text": [
      "2021-03-10 16:16:45,206 [INFO] Building virtual cell stimulations for extnet_spikes\n"
     ]
    },
    {
     "name": "stderr",
     "output_type": "stream",
     "text": [
      "C:\\Users\\strou\\Anaconda3\\envs\\bmtk\\lib\\site-packages\\bmtk\\simulator\\bionet\\biosimulator.py:229: H5pyDeprecationWarning: dataset.value has been deprecated. Use dataset[()] instead.\n",
      "  if \"gids\" not in list(file.keys()) or file[\"gids\"].value == 'all':\n",
      "C:\\Users\\strou\\Anaconda3\\envs\\bmtk\\lib\\site-packages\\bmtk\\simulator\\bionet\\biosimulator.py:243: H5pyDeprecationWarning: dataset.value has been deprecated. Use dataset[()] instead.\n",
      "  amplitudes = file[\"amplitudes\"].value\n",
      "C:\\Users\\strou\\Anaconda3\\envs\\bmtk\\lib\\site-packages\\bmtk\\simulator\\bionet\\biosimulator.py:248: H5pyDeprecationWarning: dataset.value has been deprecated. Use dataset[()] instead.\n",
      "  dts = file[\"dts\"].value\n",
      "INFO:NEURONIOUtils:Building virtual cell stimulations for extnet_spikes\n"
     ]
    },
    {
     "name": "stdout",
     "output_type": "stream",
     "text": [
      "2021-03-10 16:16:45,232 [INFO] Building virtual cell stimulations for inhib_spikes\n"
     ]
    },
    {
     "name": "stderr",
     "output_type": "stream",
     "text": [
      "INFO:NEURONIOUtils:Building virtual cell stimulations for inhib_spikes\n"
     ]
    },
    {
     "name": "stdout",
     "output_type": "stream",
     "text": [
      "2021-03-10 16:16:45,274 [INFO] Running simulation for 30.000 ms with the time step 0.010 ms\n"
     ]
    },
    {
     "name": "stderr",
     "output_type": "stream",
     "text": [
      "INFO:NEURONIOUtils:Running simulation for 30.000 ms with the time step 0.010 ms\n"
     ]
    },
    {
     "name": "stdout",
     "output_type": "stream",
     "text": [
      "2021-03-10 16:16:45,275 [INFO] Starting timestep: 0 at t_sim: 0.000 ms\n"
     ]
    },
    {
     "name": "stderr",
     "output_type": "stream",
     "text": [
      "INFO:NEURONIOUtils:Starting timestep: 0 at t_sim: 0.000 ms\n"
     ]
    },
    {
     "name": "stdout",
     "output_type": "stream",
     "text": [
      "2021-03-10 16:16:45,276 [INFO] Block save every 3000 steps\n"
     ]
    },
    {
     "name": "stderr",
     "output_type": "stream",
     "text": [
      "INFO:NEURONIOUtils:Block save every 3000 steps\n"
     ]
    },
    {
     "name": "stdout",
     "output_type": "stream",
     "text": [
      "2021-03-10 16:16:45,899 [INFO]     step:3000 t_sim:30.00 ms\n"
     ]
    },
    {
     "name": "stderr",
     "output_type": "stream",
     "text": [
      "INFO:NEURONIOUtils:    step:3000 t_sim:30.00 ms\n"
     ]
    },
    {
     "name": "stdout",
     "output_type": "stream",
     "text": [
      "2021-03-10 16:16:45,914 [INFO] Simulation completed in 0.64 seconds \n"
     ]
    },
    {
     "name": "stderr",
     "output_type": "stream",
     "text": [
      "INFO:NEURONIOUtils:Simulation completed in 0.64 seconds \n"
     ]
    }
   ],
   "source": [
    "from bmtk.simulator import bionet\n",
    "\n",
    "\n",
    "conf = bionet.Config.from_json('config.json')\n",
    "conf.build_env()\n",
    "net = bionet.BioNetwork.from_config(conf)\n",
    "sim = bionet.BioSimulator.from_config(conf, network=net)\n",
    "sim.run()"
   ]
  },
  {
   "cell_type": "markdown",
   "metadata": {},
   "source": [
    "## 3) Displaying the Results"
   ]
  },
  {
   "cell_type": "code",
   "execution_count": 14,
   "metadata": {},
   "outputs": [
    {
     "name": "stdout",
     "output_type": "stream",
     "text": [
      "[-59.93184758]\n",
      "[-62.81000859]\n",
      "[-65.10622273]\n",
      "[-67.22204157]\n",
      "[-69.5675704]\n",
      "[-72.48542234]\n",
      "[-76.24143521]\n",
      "[-81.01969413]\n",
      "[-86.94887874]\n",
      "[-94.18571763]\n"
     ]
    }
   ],
   "source": [
    "from bmtk.utils.reports.compartment import CompartmentReport\n",
    "\n",
    "pop_name = 'Exc'\n",
    "report = CompartmentReport('output/v_report.h5',\n",
    "population=pop_name, mode='r')\n",
    "v_trace=[]\n",
    "for i in range(10):\n",
    "    v_trace.append(report.data(population='network', node_id=i))\n",
    "    print(v_trace[i][5])\n",
    "time = np.arange(report.tstart(population='network'), report.tstop(population='network'), report.dt(population='network'))"
   ]
  },
  {
   "cell_type": "code",
   "execution_count": 15,
   "metadata": {},
   "outputs": [
    {
     "data": {
      "image/png": "[encoded data removed]",
      "text/plain": [
       "<Figure size 432x288 with 1 Axes>"
      ]
     },
     "metadata": {
      "needs_background": "light"
     },
     "output_type": "display_data"
    }
   ],
   "source": [
    "import matplotlib.pyplot as plt\n",
    "for i in range(10):\n",
    "    plt.plot(time, v_trace[i])\n",
    "plt.ylabel('Voltage [mv]')\n",
    "plt.xlabel('Time [ms]')\n",
    "plt.title('RTM_neuron Voltage')\n",
    "plt.xlim([0,30])\n",
    "#plt.ylim([-70,-65])\n",
    "plt.show()\n",
    "\n",
    "\n",
    "# If plot does not show run the cell again."
   ]
  },
  {
   "cell_type": "markdown",
   "metadata": {},
   "source": [
    "The strong inhibitory pulse with small time constant also is able to synchronize the unconnected RTM neurons."
   ]
  },
  {
   "cell_type": "code",
   "execution_count": null,
   "metadata": {},
   "outputs": [],
   "source": []
  }
 ],
 "metadata": {
  "kernelspec": {
   "display_name": "Python 3",
   "language": "python",
   "name": "python3"
  },
  "language_info": {
   "codemirror_mode": {
    "name": "ipython",
    "version": 3
   },
   "file_extension": ".py",
   "mimetype": "text/x-python",
   "name": "python",
   "nbconvert_exporter": "python",
   "pygments_lexer": "ipython3",
   "version": "3.6.12"
  }
 },
 "nbformat": 4,
 "nbformat_minor": 2
}
