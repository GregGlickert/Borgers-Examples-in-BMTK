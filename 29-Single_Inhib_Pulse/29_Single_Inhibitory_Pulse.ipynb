{
  "cells": [
    {
      "cell_type": "markdown",
      "metadata": {
        "id": "Pg3Uz_rilw7y"
      },
      "source": [
        "# Chapter 29 - Approximate Synchronization by Single Inhibitory Pulse\n",
        "\n",
        "This notebook is a translation of an example in Christophe Borgers' book, \"An Introduction to Modeling Neuronal Dynamics\"\n",
        "\n",
        "This example comes in 3 parts: \n",
        "\n",
        "1) 10 Splayed RTM neurons with regular firing\n",
        "\n",
        "2) First set-up but with an inhibitory pulse that is weak with long time constant\n",
        "\n",
        "3) First set-up but with an inhibitory pulse that is strong with short time constant\n",
        "\n",
        "Bold sections are labelled with a 1), 2), or 3) to help you keep track of where you are in the notebook.\n",
        "\n"
      ]
    },
    {
      "cell_type": "markdown",
      "metadata": {
        "id": "IcHVyghvlw70"
      },
      "source": [
        "requirements:\n",
        "\n",
        " bmtk\n",
        "\n",
        " NEURON 7.4+"
      ]
    },
    {
      "cell_type": "markdown",
      "metadata": {
        "id": "dnd0HetVlw70"
      },
      "source": [
        "# Part 1: Regular firing of RTM neurons"
      ]
    },
    {
      "cell_type": "markdown",
      "metadata": {
        "id": "VXmP6xvulw70"
      },
      "source": [
        "### 1) Create our 10 cell RTM network "
      ]
    },
    {
      "cell_type": "code",
      "source": [
        "! pip install NEURON\n",
        "! pip install bmtk\n",
        "# as new version of neuron and bmtk come out we may need to install a specific version\n",
        "import os\n",
        "from os.path import normpath, sep, join\n",
        "\n",
        "root = 'Borgers-Examples-in-BMTK' # name of github repo\n",
        "folder = '29-Single_Inhib_Pulse' # name of folder in Github just change this line \n",
        "pathlist = normpath(os.getcwd()).split(sep)\n",
        "if pathlist[-1] != folder:\n",
        "  rootidx = pathlist.index(root) if root in pathlist else -1\n",
        "  if rootidx>0:\n",
        "    os.chdir(join(sep,*pathlist[:rootidx]))\n",
        "  !git clone https://github.com/GregGlickert/Borgers-Examples-in-BMTK\n",
        "  os.chdir(join(root,folder))\n",
        "print(os.getcwd())\n",
        "%ls"
      ],
      "metadata": {
        "id": "q0LznUeWlz2b",
        "outputId": "d5827719-32b3-4d20-dd66-127ad6842e48",
        "colab": {
          "base_uri": "https://localhost:8080/"
        }
      },
      "execution_count": 18,
      "outputs": [
        {
          "output_type": "stream",
          "name": "stdout",
          "text": [
            "Requirement already satisfied: NEURON in /usr/local/lib/python3.7/dist-packages (8.1.0)\n",
            "Requirement already satisfied: numpy>=1.9.3 in /usr/local/lib/python3.7/dist-packages (from NEURON) (1.21.5)\n",
            "Requirement already satisfied: bmtk in /usr/local/lib/python3.7/dist-packages (1.0.5)\n",
            "Requirement already satisfied: pandas in /usr/local/lib/python3.7/dist-packages (from bmtk) (1.3.5)\n",
            "Requirement already satisfied: numpy in /usr/local/lib/python3.7/dist-packages (from bmtk) (1.21.5)\n",
            "Requirement already satisfied: h5py in /usr/local/lib/python3.7/dist-packages (from bmtk) (3.1.0)\n",
            "Requirement already satisfied: matplotlib in /usr/local/lib/python3.7/dist-packages (from bmtk) (3.2.2)\n",
            "Requirement already satisfied: six in /usr/local/lib/python3.7/dist-packages (from bmtk) (1.15.0)\n",
            "Requirement already satisfied: scipy in /usr/local/lib/python3.7/dist-packages (from bmtk) (1.4.1)\n",
            "Requirement already satisfied: scikit-image in /usr/local/lib/python3.7/dist-packages (from bmtk) (0.18.3)\n",
            "Requirement already satisfied: sympy in /usr/local/lib/python3.7/dist-packages (from bmtk) (1.7.1)\n",
            "Requirement already satisfied: jsonschema in /usr/local/lib/python3.7/dist-packages (from bmtk) (4.3.3)\n",
            "Requirement already satisfied: cached-property in /usr/local/lib/python3.7/dist-packages (from h5py->bmtk) (1.5.2)\n",
            "Requirement already satisfied: attrs>=17.4.0 in /usr/local/lib/python3.7/dist-packages (from jsonschema->bmtk) (21.4.0)\n",
            "Requirement already satisfied: importlib-metadata in /usr/local/lib/python3.7/dist-packages (from jsonschema->bmtk) (4.11.3)\n",
            "Requirement already satisfied: typing-extensions in /usr/local/lib/python3.7/dist-packages (from jsonschema->bmtk) (3.10.0.2)\n",
            "Requirement already satisfied: pyrsistent!=0.17.0,!=0.17.1,!=0.17.2,>=0.14.0 in /usr/local/lib/python3.7/dist-packages (from jsonschema->bmtk) (0.18.1)\n",
            "Requirement already satisfied: importlib-resources>=1.4.0 in /usr/local/lib/python3.7/dist-packages (from jsonschema->bmtk) (5.4.0)\n",
            "Requirement already satisfied: zipp>=3.1.0 in /usr/local/lib/python3.7/dist-packages (from importlib-resources>=1.4.0->jsonschema->bmtk) (3.7.0)\n",
            "Requirement already satisfied: cycler>=0.10 in /usr/local/lib/python3.7/dist-packages (from matplotlib->bmtk) (0.11.0)\n",
            "Requirement already satisfied: python-dateutil>=2.1 in /usr/local/lib/python3.7/dist-packages (from matplotlib->bmtk) (2.8.2)\n",
            "Requirement already satisfied: pyparsing!=2.0.4,!=2.1.2,!=2.1.6,>=2.0.1 in /usr/local/lib/python3.7/dist-packages (from matplotlib->bmtk) (3.0.7)\n",
            "Requirement already satisfied: kiwisolver>=1.0.1 in /usr/local/lib/python3.7/dist-packages (from matplotlib->bmtk) (1.4.0)\n",
            "Requirement already satisfied: pytz>=2017.3 in /usr/local/lib/python3.7/dist-packages (from pandas->bmtk) (2018.9)\n",
            "Requirement already satisfied: tifffile>=2019.7.26 in /usr/local/lib/python3.7/dist-packages (from scikit-image->bmtk) (2021.11.2)\n",
            "Requirement already satisfied: networkx>=2.0 in /usr/local/lib/python3.7/dist-packages (from scikit-image->bmtk) (2.6.3)\n",
            "Requirement already satisfied: pillow!=7.1.0,!=7.1.1,>=4.3.0 in /usr/local/lib/python3.7/dist-packages (from scikit-image->bmtk) (7.1.2)\n",
            "Requirement already satisfied: imageio>=2.3.0 in /usr/local/lib/python3.7/dist-packages (from scikit-image->bmtk) (2.4.1)\n",
            "Requirement already satisfied: PyWavelets>=1.1.1 in /usr/local/lib/python3.7/dist-packages (from scikit-image->bmtk) (1.3.0)\n",
            "Requirement already satisfied: mpmath>=0.19 in /usr/local/lib/python3.7/dist-packages (from sympy->bmtk) (1.2.1)\n",
            "/content/Borgers-Examples-in-BMTK/29-Single_Inhib_Pulse\n",
            "29-Single_Inhibitory_Pulse.ipynb  \u001b[0m\u001b[01;34minput\u001b[0m/          run_bionet.py\n",
            "circuit_config.json               \u001b[01;34mnetwork\u001b[0m/        simulation_config.json\n",
            "\u001b[01;34mcomponents\u001b[0m/                       node_sets.json  Voltage_2_Syn.xlsx\n",
            "config.json                       \u001b[01;34moutput\u001b[0m/         \u001b[01;34mx86_64\u001b[0m/\n"
          ]
        }
      ]
    },
    {
      "cell_type": "code",
      "source": [
        "import os\n",
        "print(os.system('nrnivmodl components/mechanisms')) # compile modfiles. Return 0 for success, 1 for failure."
      ],
      "metadata": {
        "id": "WypLOofIntBl",
        "colab": {
          "base_uri": "https://localhost:8080/"
        },
        "outputId": "d6282a7f-d79f-4240-d5b9-efbcaa1906e4"
      },
      "execution_count": 19,
      "outputs": [
        {
          "output_type": "stream",
          "name": "stdout",
          "text": [
            "0\n"
          ]
        }
      ]
    },
    {
      "cell_type": "code",
      "execution_count": 20,
      "metadata": {
        "id": "duJGWqoPlw70"
      },
      "outputs": [],
      "source": [
        "import numpy as np\n",
        "import logging\n",
        "import math\n",
        "\n",
        "from bmtk.builder.networks import NetworkBuilder\n",
        "\n",
        "n_E =10\n",
        "\n",
        "net = NetworkBuilder('network')\n",
        "net.add_nodes(N=n_E, pop_name='Exc',     # N = number of excitatory cells\n",
        "        model_type='biophysical',\n",
        "        model_template='hoc:RTMExcCell', # RTMExcCell hoc definition\n",
        "        morphology='blank.swc')"
      ]
    },
    {
      "cell_type": "code",
      "execution_count": 21,
      "metadata": {
        "id": "fRZYzHqslw71",
        "colab": {
          "base_uri": "https://localhost:8080/",
          "height": 460
        },
        "outputId": "a80e7439-d6c5-4698-cd6b-7c4008f4d6ec"
      },
      "outputs": [
        {
          "output_type": "error",
          "ename": "OSError",
          "evalue": "ignored",
          "traceback": [
            "\u001b[0;31m---------------------------------------------------------------------------\u001b[0m",
            "\u001b[0;31mOSError\u001b[0m                                   Traceback (most recent call last)",
            "\u001b[0;32m<ipython-input-21-c5be7cef668b>\u001b[0m in \u001b[0;36m<module>\u001b[0;34m()\u001b[0m\n\u001b[1;32m      1\u001b[0m \u001b[0mnet\u001b[0m\u001b[0;34m.\u001b[0m\u001b[0mbuild\u001b[0m\u001b[0;34m(\u001b[0m\u001b[0;34m)\u001b[0m\u001b[0;34m\u001b[0m\u001b[0;34m\u001b[0m\u001b[0m\n\u001b[0;32m----> 2\u001b[0;31m \u001b[0mnet\u001b[0m\u001b[0;34m.\u001b[0m\u001b[0msave_nodes\u001b[0m\u001b[0;34m(\u001b[0m\u001b[0moutput_dir\u001b[0m\u001b[0;34m=\u001b[0m\u001b[0;34m'network'\u001b[0m\u001b[0;34m)\u001b[0m\u001b[0;34m\u001b[0m\u001b[0;34m\u001b[0m\u001b[0m\n\u001b[0m",
            "\u001b[0;32m/usr/local/lib/python3.7/dist-packages/bmtk/builder/network_builder.py\u001b[0m in \u001b[0;36msave_nodes\u001b[0;34m(self, nodes_file_name, node_types_file_name, output_dir, force_overwrite)\u001b[0m\n\u001b[1;32m    308\u001b[0m             \u001b[0mnode_types_file_name\u001b[0m\u001b[0;34m=\u001b[0m\u001b[0mnode_types_file_name\u001b[0m\u001b[0;34m,\u001b[0m\u001b[0;34m\u001b[0m\u001b[0;34m\u001b[0m\u001b[0m\n\u001b[1;32m    309\u001b[0m             \u001b[0moutput_dir\u001b[0m\u001b[0;34m=\u001b[0m\u001b[0moutput_dir\u001b[0m\u001b[0;34m,\u001b[0m\u001b[0;34m\u001b[0m\u001b[0;34m\u001b[0m\u001b[0m\n\u001b[0;32m--> 310\u001b[0;31m             \u001b[0mforce_overwrite\u001b[0m\u001b[0;34m=\u001b[0m\u001b[0mforce_overwrite\u001b[0m\u001b[0;34m\u001b[0m\u001b[0;34m\u001b[0m\u001b[0m\n\u001b[0m\u001b[1;32m    311\u001b[0m         )\n\u001b[1;32m    312\u001b[0m \u001b[0;34m\u001b[0m\u001b[0m\n",
            "\u001b[0;32m/usr/local/lib/python3.7/dist-packages/bmtk/builder/network_adaptors/network.py\u001b[0m in \u001b[0;36msave_nodes\u001b[0;34m(self, nodes_file_name, node_types_file_name, output_dir, force_overwrite)\u001b[0m\n\u001b[1;32m    584\u001b[0m         \u001b[0mbarrier\u001b[0m\u001b[0;34m(\u001b[0m\u001b[0;34m)\u001b[0m\u001b[0;34m\u001b[0m\u001b[0;34m\u001b[0m\u001b[0m\n\u001b[1;32m    585\u001b[0m \u001b[0;34m\u001b[0m\u001b[0m\n\u001b[0;32m--> 586\u001b[0;31m         \u001b[0mself\u001b[0m\u001b[0;34m.\u001b[0m\u001b[0m_save_nodes\u001b[0m\u001b[0;34m(\u001b[0m\u001b[0mnodes_file\u001b[0m\u001b[0;34m)\u001b[0m\u001b[0;34m\u001b[0m\u001b[0;34m\u001b[0m\u001b[0m\n\u001b[0m\u001b[1;32m    587\u001b[0m         \u001b[0mself\u001b[0m\u001b[0;34m.\u001b[0m\u001b[0m_save_node_types\u001b[0m\u001b[0;34m(\u001b[0m\u001b[0mnode_types_file\u001b[0m\u001b[0;34m)\u001b[0m\u001b[0;34m\u001b[0m\u001b[0;34m\u001b[0m\u001b[0m\n\u001b[1;32m    588\u001b[0m \u001b[0;34m\u001b[0m\u001b[0m\n",
            "\u001b[0;32m/usr/local/lib/python3.7/dist-packages/bmtk/builder/network_adaptors/dm_network.py\u001b[0m in \u001b[0;36m_save_nodes\u001b[0;34m(self, nodes_file_name)\u001b[0m\n\u001b[1;32m     99\u001b[0m \u001b[0;34m\u001b[0m\u001b[0m\n\u001b[1;32m    100\u001b[0m         \u001b[0;32mif\u001b[0m \u001b[0mmpi_rank\u001b[0m \u001b[0;34m==\u001b[0m \u001b[0;36m0\u001b[0m\u001b[0;34m:\u001b[0m\u001b[0;34m\u001b[0m\u001b[0;34m\u001b[0m\u001b[0m\n\u001b[0;32m--> 101\u001b[0;31m             \u001b[0;32mwith\u001b[0m \u001b[0mh5py\u001b[0m\u001b[0;34m.\u001b[0m\u001b[0mFile\u001b[0m\u001b[0;34m(\u001b[0m\u001b[0mnodes_file_name\u001b[0m\u001b[0;34m,\u001b[0m \u001b[0;34m'w'\u001b[0m\u001b[0;34m)\u001b[0m \u001b[0;32mas\u001b[0m \u001b[0mhf\u001b[0m\u001b[0;34m:\u001b[0m\u001b[0;34m\u001b[0m\u001b[0;34m\u001b[0m\u001b[0m\n\u001b[0m\u001b[1;32m    102\u001b[0m                 \u001b[0;31m# Add magic and version attribute\u001b[0m\u001b[0;34m\u001b[0m\u001b[0;34m\u001b[0m\u001b[0;34m\u001b[0m\u001b[0m\n\u001b[1;32m    103\u001b[0m                 \u001b[0madd_hdf5_attrs\u001b[0m\u001b[0;34m(\u001b[0m\u001b[0mhf\u001b[0m\u001b[0;34m)\u001b[0m\u001b[0;34m\u001b[0m\u001b[0;34m\u001b[0m\u001b[0m\n",
            "\u001b[0;32m/usr/local/lib/python3.7/dist-packages/h5py/_hl/files.py\u001b[0m in \u001b[0;36m__init__\u001b[0;34m(self, name, mode, driver, libver, userblock_size, swmr, rdcc_nslots, rdcc_nbytes, rdcc_w0, track_order, fs_strategy, fs_persist, fs_threshold, **kwds)\u001b[0m\n\u001b[1;32m    425\u001b[0m                                fapl, fcpl=make_fcpl(track_order=track_order, fs_strategy=fs_strategy,\n\u001b[1;32m    426\u001b[0m                                fs_persist=fs_persist, fs_threshold=fs_threshold),\n\u001b[0;32m--> 427\u001b[0;31m                                swmr=swmr)\n\u001b[0m\u001b[1;32m    428\u001b[0m \u001b[0;34m\u001b[0m\u001b[0m\n\u001b[1;32m    429\u001b[0m             \u001b[0;32mif\u001b[0m \u001b[0misinstance\u001b[0m\u001b[0;34m(\u001b[0m\u001b[0mlibver\u001b[0m\u001b[0;34m,\u001b[0m \u001b[0mtuple\u001b[0m\u001b[0;34m)\u001b[0m\u001b[0;34m:\u001b[0m\u001b[0;34m\u001b[0m\u001b[0;34m\u001b[0m\u001b[0m\n",
            "\u001b[0;32m/usr/local/lib/python3.7/dist-packages/h5py/_hl/files.py\u001b[0m in \u001b[0;36mmake_fid\u001b[0;34m(name, mode, userblock_size, fapl, fcpl, swmr)\u001b[0m\n\u001b[1;32m    194\u001b[0m         \u001b[0mfid\u001b[0m \u001b[0;34m=\u001b[0m \u001b[0mh5f\u001b[0m\u001b[0;34m.\u001b[0m\u001b[0mcreate\u001b[0m\u001b[0;34m(\u001b[0m\u001b[0mname\u001b[0m\u001b[0;34m,\u001b[0m \u001b[0mh5f\u001b[0m\u001b[0;34m.\u001b[0m\u001b[0mACC_EXCL\u001b[0m\u001b[0;34m,\u001b[0m \u001b[0mfapl\u001b[0m\u001b[0;34m=\u001b[0m\u001b[0mfapl\u001b[0m\u001b[0;34m,\u001b[0m \u001b[0mfcpl\u001b[0m\u001b[0;34m=\u001b[0m\u001b[0mfcpl\u001b[0m\u001b[0;34m)\u001b[0m\u001b[0;34m\u001b[0m\u001b[0;34m\u001b[0m\u001b[0m\n\u001b[1;32m    195\u001b[0m     \u001b[0;32melif\u001b[0m \u001b[0mmode\u001b[0m \u001b[0;34m==\u001b[0m \u001b[0;34m'w'\u001b[0m\u001b[0;34m:\u001b[0m\u001b[0;34m\u001b[0m\u001b[0;34m\u001b[0m\u001b[0m\n\u001b[0;32m--> 196\u001b[0;31m         \u001b[0mfid\u001b[0m \u001b[0;34m=\u001b[0m \u001b[0mh5f\u001b[0m\u001b[0;34m.\u001b[0m\u001b[0mcreate\u001b[0m\u001b[0;34m(\u001b[0m\u001b[0mname\u001b[0m\u001b[0;34m,\u001b[0m \u001b[0mh5f\u001b[0m\u001b[0;34m.\u001b[0m\u001b[0mACC_TRUNC\u001b[0m\u001b[0;34m,\u001b[0m \u001b[0mfapl\u001b[0m\u001b[0;34m=\u001b[0m\u001b[0mfapl\u001b[0m\u001b[0;34m,\u001b[0m \u001b[0mfcpl\u001b[0m\u001b[0;34m=\u001b[0m\u001b[0mfcpl\u001b[0m\u001b[0;34m)\u001b[0m\u001b[0;34m\u001b[0m\u001b[0;34m\u001b[0m\u001b[0m\n\u001b[0m\u001b[1;32m    197\u001b[0m     \u001b[0;32melif\u001b[0m \u001b[0mmode\u001b[0m \u001b[0;34m==\u001b[0m \u001b[0;34m'a'\u001b[0m\u001b[0;34m:\u001b[0m\u001b[0;34m\u001b[0m\u001b[0;34m\u001b[0m\u001b[0m\n\u001b[1;32m    198\u001b[0m         \u001b[0;31m# Open in append mode (read/write).\u001b[0m\u001b[0;34m\u001b[0m\u001b[0;34m\u001b[0m\u001b[0;34m\u001b[0m\u001b[0m\n",
            "\u001b[0;32mh5py/_objects.pyx\u001b[0m in \u001b[0;36mh5py._objects.with_phil.wrapper\u001b[0;34m()\u001b[0m\n",
            "\u001b[0;32mh5py/_objects.pyx\u001b[0m in \u001b[0;36mh5py._objects.with_phil.wrapper\u001b[0;34m()\u001b[0m\n",
            "\u001b[0;32mh5py/h5f.pyx\u001b[0m in \u001b[0;36mh5py.h5f.create\u001b[0;34m()\u001b[0m\n",
            "\u001b[0;31mOSError\u001b[0m: Unable to create file (unable to truncate a file which is already open)"
          ]
        }
      ],
      "source": [
        "net.build()\n",
        "net.save_nodes(output_dir='network')"
      ]
    },
    {
      "cell_type": "markdown",
      "metadata": {
        "id": "Ed8CHl9ilw71"
      },
      "source": [
        "### 1) Create an external network to change the initial voltage of each RTM cell"
      ]
    },
    {
      "cell_type": "code",
      "execution_count": null,
      "metadata": {
        "id": "xCQ3uKHVlw72"
      },
      "outputs": [],
      "source": [
        "n_In=10\n",
        "extnet = NetworkBuilder('extnet')\n",
        "extnet.add_nodes(N=n_In,pop_name='Inp',\n",
        "            potential='exc',\n",
        "            model_type='virtual')"
      ]
    },
    {
      "cell_type": "markdown",
      "metadata": {
        "id": "Xc9Qb-w6lw72"
      },
      "source": [
        "## 1) Function for voltage from node id"
      ]
    },
    {
      "cell_type": "markdown",
      "metadata": {
        "id": "kXWnA4uzlw72"
      },
      "source": [
        "BMTK does not allow individual nodes to start with distinct initial voltages. This is exactly what we need. To accomplish this, we will add a unique synaptic input to all of our cells to create initial voltages.\n",
        "\n",
        "First, we need an equation that will match a node id with the initial voltages in Borger's example. The initial voltages are given in the first vector. "
      ]
    },
    {
      "cell_type": "markdown",
      "metadata": {
        "id": "iaY2s7ohlw72"
      },
      "source": [
        " init_volt=[-58.6290, -62.4873, -64.7941, -67.1735, -69.9618, -73.3491, -77.4968, -82.5814, -88.8151, -96.3579]\n",
        "\n",
        "graphing and fitting a 4th order polynomial to this data yields the following equation:\n",
        "\n",
        "      v = 0.0044675117*x**4 - 0.1256364996*x**3 + 0.7666447261*x**2 - 4.1554128011*x - 58.7232615386\n",
        "    "
      ]
    },
    {
      "cell_type": "markdown",
      "metadata": {
        "id": "ClsoKHG7lw73"
      },
      "source": [
        "## 1) Function for synaptic weight from desired initial voltages"
      ]
    },
    {
      "cell_type": "markdown",
      "metadata": {
        "id": "3lYrQl3xlw73"
      },
      "source": [
        "After obtaining 10 data points of the resulting initial voltage to given synaptic weights, the following data was obtained:\n",
        "\n",
        "Syn\n",
        "-1.042198669\n",
        "-0.484461009\n",
        "-0.141396242\n",
        "0\n",
        "0.349858808\n",
        "0.8221188\n",
        "1.459603111\n",
        "2.320116923\n",
        "3.48168907\n",
        "5.049647464\n",
        "7.166169913\n",
        "10.02317638\n",
        "13.87973172\n",
        "\n",
        "Voltage\n",
        "-51.24979369\n",
        "-61.37777297\n",
        "-65.0976558\n",
        "-66.04203933\n",
        "-69.29723967\n",
        "-73.30734354\n",
        "-78.16310347\n",
        "-83.87310562\n",
        "-90.32510651\n",
        "-97.25873706\n",
        "-104.2704826\n",
        "-110.8721422\n",
        "-116.6017564\n",
        "\n",
        "\n",
        "\n",
        "\n",
        "A 6th degree polynomial was fit to this data to yield the following equation: \n",
        "\n",
        "    syn_weight = 0.000000019395603*v**6 + 0.000008466808328*v**5 + 0.001546246691387*v**4 + 0.150852024612194*v**3 + 8.291209035520400*v**2 + 242.792603083843000*v + 2937.206029698790000\n",
        "\n",
        "\n",
        "Using this equation, we can plug in our desired voltages derived from the first equation into this equation."
      ]
    },
    {
      "cell_type": "markdown",
      "metadata": {
        "id": "dbrX7iOplw73"
      },
      "source": [
        "## 1) Add connections from our external network to our RTM cells"
      ]
    },
    {
      "cell_type": "code",
      "execution_count": null,
      "metadata": {
        "id": "gJfK1sG-lw73"
      },
      "outputs": [],
      "source": [
        "def one_each(source, target):\n",
        "    if source['node_id']==target['node_id']:\n",
        "        return 1\n",
        "    return 0\n",
        "\n",
        "def set_syn_weight(source, target):\n",
        "    sec_x = 0.5\n",
        "    sec_id = 0\n",
        "    x=target['node_id']\n",
        "    a=1\n",
        "    v = 0.0044675117*x**4 - 0.1256364996*x**3 + 0.7666447261*x**2 - 4.1554128011*x - 58.7232615386\n",
        "    syn_weight = 0.000000019395603*v**6 + 0.000008466808328*v**5 + 0.001546246691387*v**4 + 0.150852024612194*v**3 + 8.291209035520400*v**2 + 242.792603083843000*v + 2937.206029698790000\n",
        "    #syn_weight = math.exp(target['node_id']*(0.5))-1\n",
        "    #print(target['node_id'])\n",
        "    #print(v)\n",
        "    print(syn_weight)\n",
        "    return syn_weight, sec_x, sec_id\n",
        "\n",
        "conn=extnet.add_edges(source={'pop_name':'Inp'}, target=net.nodes(),\n",
        "                    connection_rule=one_each,              \n",
        "                    delay=0,\n",
        "                    weight_function=None,\n",
        "                    target_sections=['soma'],\n",
        "                    distance_range=[0.0, 0.00000000001],\n",
        "                    dynamics_params='Voltage_Set.json',\n",
        "                    model_template='Exp2Syn')\n",
        "\n",
        "conn.add_properties(['syn_weight','sec_x','sec_id'],\n",
        "                    rule=set_syn_weight, \n",
        "                    dtypes=[np.float, np.uint, np.uint])"
      ]
    },
    {
      "cell_type": "code",
      "execution_count": null,
      "metadata": {
        "scrolled": true,
        "id": "ao1Bl6sqlw74"
      },
      "outputs": [],
      "source": [
        "extnet.build()\n",
        "extnet.save_nodes(output_dir='network')\n",
        "extnet.save_edges(output_dir='network')"
      ]
    },
    {
      "cell_type": "markdown",
      "metadata": {
        "id": "X-OTMbNplw74"
      },
      "source": [
        "### 1) Add a spike train to our external network (only at the beginning of the simulation)"
      ]
    },
    {
      "cell_type": "code",
      "execution_count": null,
      "metadata": {
        "id": "i-lWwwyllw74"
      },
      "outputs": [],
      "source": [
        "from bmtk.utils.reports.spike_trains import SpikeTrains\n",
        "\n",
        "spikes = SpikeTrains(population='extnet')\n",
        "for i in range(10):\n",
        "    spikes.add_spike(node_id=i,timestamp=0)\n",
        "spikes.to_sonata('input/Splay.h5')"
      ]
    },
    {
      "cell_type": "markdown",
      "metadata": {
        "id": "otVKNurtlw75"
      },
      "source": [
        "### 1) Add a current clamp\n",
        "This current clamp will last the duration of the simulation with amplitude = 1.2 amp"
      ]
    },
    {
      "cell_type": "code",
      "execution_count": null,
      "metadata": {
        "id": "TfkS0LW8lw75"
      },
      "outputs": [],
      "source": [
        "import h5py\n",
        "\n",
        "\n",
        "i_ext=[0]\n",
        "for i in range(29):\n",
        "    i_ext.append(1.2)\n",
        "\n",
        "dts = [1]\n",
        "gids = 'all'\n",
        "\n",
        "#hf.close() # Uncomment this line temporarily if you receive 'file already open error'\n",
        "\n",
        "hf = h5py.File(\"input/amps.h5\", 'w')\n",
        "\n",
        "hf.create_dataset(\"amplitudes\", data=[i_ext])\n",
        "hf.create_dataset(\"gids\", data=gids)\n",
        "hf.create_dataset(\"dts\", data=dts)\n",
        "\n",
        "hf.close()"
      ]
    },
    {
      "cell_type": "markdown",
      "metadata": {
        "id": "DVAc7yiKlw75"
      },
      "source": [
        "### 1) Build the simulation environment"
      ]
    },
    {
      "cell_type": "code",
      "execution_count": null,
      "metadata": {
        "id": "ORRYbNg5lw75"
      },
      "outputs": [],
      "source": [
        "from bmtk.utils.sim_setup import build_env_bionet\n",
        "\n",
        "build_env_bionet(base_dir='.',\n",
        "                 network_dir='network',\n",
        "                 tstop=30.0, dt=0.01,\n",
        "                 report_vars=['v'],           # Record membrane potential and calcium (default soma)\n",
        "                 spikes_inputs=[('extnet',    # Name of population which spikes will be generated for\n",
        "                                'input/Splay.h5')],\n",
        "                 #file_current_clamp={              \n",
        "                      #\"input_type\": \"file_current_clamp\",\n",
        "                      #\"module\": \"FileIClamp\",\n",
        "                      #\"input_file\":\"input/amps.h5\",\n",
        "                      #\"node_set\":\"network\"\n",
        "                 #},\n",
        "                  current_clamp={            # Creates a step current from 500.ms to 1500.0 ms\n",
        "                    'amp': 0.600,\n",
        "                    'delay': 0,\n",
        "                    'duration': 30.0\n",
        "                  },\n",
        "                 v_init=-66.5,\n",
        "                 include_examples=False,    # Copies components files\n",
        "                 compile_mechanisms=False,   # Will try to compile NEURON mechanisms\n",
        "                 config_file='config.json'\n",
        "                )"
      ]
    },
    {
      "cell_type": "markdown",
      "metadata": {
        "id": "_s-9VbKplw75"
      },
      "source": [
        "### 1) Run the Simulation"
      ]
    },
    {
      "cell_type": "code",
      "execution_count": null,
      "metadata": {
        "id": "WDdYqkT4lw75"
      },
      "outputs": [],
      "source": [
        "from bmtk.simulator import bionet\n",
        "\n",
        "\n",
        "conf = bionet.Config.from_json('config.json')\n",
        "conf.build_env()\n",
        "net = bionet.BioNetwork.from_config(conf)\n",
        "sim = bionet.BioSimulator.from_config(conf, network=net)\n",
        "sim.run()"
      ]
    },
    {
      "cell_type": "markdown",
      "metadata": {
        "id": "-k4fotIalw75"
      },
      "source": [
        "### 1) Display the Results"
      ]
    },
    {
      "cell_type": "code",
      "execution_count": null,
      "metadata": {
        "id": "nCVgokHSlw75"
      },
      "outputs": [],
      "source": [
        "from bmtk.utils.reports.compartment import CompartmentReport\n",
        "\n",
        "pop_name = 'Exc'\n",
        "report = CompartmentReport('output/v_report.h5', population='pop_name', mode='r')\n",
        "v_trace=[]\n",
        "for i in range(10):\n",
        "    v_trace.append(report.data(population='network', node_id=i))\n",
        "    print(v_trace[i][12])\n",
        "time = np.arange(report.tstart(population='network'), report.tstop(population='network'), report.dt(population='network'))\n"
      ]
    },
    {
      "cell_type": "markdown",
      "metadata": {
        "id": "SXNLb6nElw75"
      },
      "source": [
        "The voltage at the beginning of the simulation is printed for each cell. These voltages make fairly well with our desired initial voltages with some discrepancy"
      ]
    },
    {
      "cell_type": "code",
      "execution_count": null,
      "metadata": {
        "id": "Oo1N_ynjlw76"
      },
      "outputs": [],
      "source": [
        "import matplotlib.pyplot as plt\n",
        "for i in range(10):\n",
        "    plt.plot(time, v_trace[i])\n",
        "plt.ylabel('Voltage [mv]')\n",
        "plt.xlabel('Time [ms]')\n",
        "plt.title('RTM_neuron Voltage')\n",
        "plt.xlim([0,30])\n",
        "#plt.ylim([-75,-65])\n",
        "plt.show()\n",
        "\n",
        "# If plot does not show run the cell again."
      ]
    },
    {
      "cell_type": "markdown",
      "metadata": {
        "id": "AlIaIo_jlw76"
      },
      "source": [
        "Besides some initial discrepancy, regular firing has been shown. \n",
        "\n",
        "The initial period is long and can be explained by our synaptic weight function to set the initial voltages for the different neurons. Our functions were derived from data points from previous runs not shown and fit into 4th an 6th order polynomials. Because these functions are approximations of other data, the initial conditions are slightly different than our desired set points. "
      ]
    },
    {
      "cell_type": "markdown",
      "metadata": {
        "id": "-anMVNvXlw76"
      },
      "source": [
        "# Part 2: You Must Restart Kernel To Proceed\n",
        "The notebook continues to access log.txt after the simulation is run. This access does not allow another simulation to run in the same notebook which is why a kernel restart is needed if you would like to run the code below. You can still see plots from previous simulations after you restart the kernel. "
      ]
    },
    {
      "cell_type": "markdown",
      "metadata": {
        "id": "I8fgFTF1lw76"
      },
      "source": [
        "### 2) Add Inhibitory Pulse that is weak with long time constant"
      ]
    },
    {
      "cell_type": "markdown",
      "metadata": {
        "id": "bVokIHq5lw76"
      },
      "source": [
        "We must create a second network that copies features from the previous network and also adds an inhibitory spike"
      ]
    },
    {
      "cell_type": "markdown",
      "metadata": {
        "id": "NsGHBUUolw76"
      },
      "source": [
        "### 2) RTM Network (copied from previous simulation)"
      ]
    },
    {
      "cell_type": "markdown",
      "metadata": {
        "id": "EpuqgDGLlw76"
      },
      "source": [
        "### 2) External Network(copied from previous simulation)"
      ]
    },
    {
      "cell_type": "code",
      "source": [
        "! pip install NEURON\n",
        "! pip install bmtk\n",
        "# as new version of neuron and bmtk come out we may need to install a specific version\n",
        "import os\n",
        "from os.path import normpath, sep, join\n",
        "\n",
        "root = 'Borgers-Examples-in-BMTK' # name of github repo\n",
        "folder = '29-Single_Inhib_Pulse' # name of folder in Github just change this line \n",
        "pathlist = normpath(os.getcwd()).split(sep)\n",
        "if pathlist[-1] != folder:\n",
        "  rootidx = pathlist.index(root) if root in pathlist else -1\n",
        "  if rootidx>0:\n",
        "    os.chdir(join(sep,*pathlist[:rootidx]))\n",
        "  !git clone https://github.com/GregGlickert/Borgers-Examples-in-BMTK\n",
        "  os.chdir(join(root,folder))\n",
        "print(os.getcwd())\n",
        "%ls"
      ],
      "metadata": {
        "id": "SRT_4AoJctF2"
      },
      "execution_count": null,
      "outputs": []
    },
    {
      "cell_type": "code",
      "source": [
        "import os\n",
        "print(os.system('nrnivmodl components/mechanisms')) # compile modfiles. Return 0 for success, 1 for failure."
      ],
      "metadata": {
        "id": "ksxom-dfc6eA"
      },
      "execution_count": null,
      "outputs": []
    },
    {
      "cell_type": "code",
      "source": [
        "import numpy as np\n",
        "import logging\n",
        "import math\n",
        "\n",
        "from bmtk.builder.networks import NetworkBuilder\n",
        "n_E =10\n",
        "\n",
        "net = NetworkBuilder('network')\n",
        "net.add_nodes(N=n_E, pop_name='Exc',     # N = number of excitatory cells\n",
        "        model_type='biophysical',\n",
        "        model_template='hoc:RTMExcCell', # RTMExcCell hoc definition\n",
        "        morphology='blank.swc')"
      ],
      "metadata": {
        "id": "yvHtjzzMTGxf"
      },
      "execution_count": null,
      "outputs": []
    },
    {
      "cell_type": "code",
      "source": [
        "net.build()\n",
        "net.save_nodes(output_dir='network')"
      ],
      "metadata": {
        "id": "uB__KEGmTFAf"
      },
      "execution_count": null,
      "outputs": []
    },
    {
      "cell_type": "code",
      "execution_count": null,
      "metadata": {
        "id": "dhFe8lqAlw76"
      },
      "outputs": [],
      "source": [
        "n_In=10\n",
        "extnet = NetworkBuilder('extnet')\n",
        "extnet.add_nodes(N=n_In,pop_name='Inp',\n",
        "            potential='exc',\n",
        "            model_type='virtual')"
      ]
    },
    {
      "cell_type": "code",
      "execution_count": null,
      "metadata": {
        "id": "0DP_2eaflw76"
      },
      "outputs": [],
      "source": [
        "def one_each(source, target):\n",
        "    if source['node_id']==target['node_id']:\n",
        "        return 1\n",
        "    return 0\n",
        "\n",
        "def set_syn_weight(source, target):\n",
        "    sec_x = 0.5\n",
        "    sec_id = 0\n",
        "    x=target['node_id']\n",
        "    a=1\n",
        "    v = 0.0044675117*x**4 - 0.1256364996*x**3 + 0.7666447261*x**2 - 4.1554128011*x - 58.7232615386\n",
        "    syn_weight = 0.000000019395603*v**6 + 0.000008466808328*v**5 + 0.001546246691387*v**4 + 0.150852024612194*v**3 + 8.291209035520400*v**2 + 242.792603083843000*v + 2937.206029698790000\n",
        "    #syn_weight = math.exp(target['node_id']*(0.5))-1\n",
        "    #print(target['node_id'])\n",
        "    #print(v)\n",
        "    print(syn_weight)\n",
        "    return syn_weight, sec_x, sec_id\n",
        "\n",
        "conn=extnet.add_edges(source={'pop_name':'Inp'}, target=net.nodes(),\n",
        "                    connection_rule=one_each,              \n",
        "                    delay=0,\n",
        "                    weight_function=None,\n",
        "                    target_sections=['soma'],\n",
        "                    distance_range=[0.0, 0.00000000001],\n",
        "                    dynamics_params='Voltage_Set.json',\n",
        "                    model_template='Exp2Syn')\n",
        "\n",
        "conn.add_properties(['syn_weight','sec_x','sec_id'],\n",
        "                    rule=set_syn_weight, \n",
        "                    dtypes=[np.float, np.uint, np.uint])"
      ]
    },
    {
      "cell_type": "code",
      "execution_count": null,
      "metadata": {
        "id": "CRdotzrKlw76"
      },
      "outputs": [],
      "source": [
        "extnet.build()\n",
        "extnet.save_nodes(output_dir='network')\n",
        "extnet.save_edges(output_dir='network')"
      ]
    },
    {
      "cell_type": "markdown",
      "metadata": {
        "id": "R7y9bOC1lw76"
      },
      "source": [
        "### Initial voltage set"
      ]
    },
    {
      "cell_type": "code",
      "execution_count": null,
      "metadata": {
        "id": "3BzwYYHplw76"
      },
      "outputs": [],
      "source": [
        "from bmtk.utils.reports.spike_trains import SpikeTrains\n",
        "\n",
        "spikes = SpikeTrains(population='extnet')\n",
        "for i in range(10):\n",
        "    spikes.add_spike(node_id=i,timestamp=0)\n",
        "spikes.to_sonata('input/Splay.h5')"
      ]
    },
    {
      "cell_type": "markdown",
      "metadata": {
        "id": "7THg_Y6olw77"
      },
      "source": [
        "### 2) Current Clamp (same as before)"
      ]
    },
    {
      "cell_type": "code",
      "execution_count": null,
      "metadata": {
        "id": "4BejYfoClw77"
      },
      "outputs": [],
      "source": [
        "import h5py\n",
        "\n",
        "\n",
        "i_ext=[0]\n",
        "for i in range(29):\n",
        "    i_ext.append(1.2)\n",
        "\n",
        "dts = [1]\n",
        "gids = 'all'\n",
        "\n",
        "#hf.close() # Uncomment this line temporarily if you receive 'file already open error'\n",
        "\n",
        "hf = h5py.File(\"input/amps.h5\", 'w')\n",
        "\n",
        "hf.create_dataset(\"amplitudes\", data=[i_ext])\n",
        "hf.create_dataset(\"gids\", data=gids)\n",
        "hf.create_dataset(\"dts\", data=dts)\n",
        "\n",
        "hf.close()"
      ]
    },
    {
      "cell_type": "markdown",
      "metadata": {
        "id": "nKnAGfYIlw77"
      },
      "source": [
        "# 2) Add Inhibitory Pulse #1\n",
        "This pulse is meant to go to all RTM neurons at the same time and only once. The pulse is supposed to be weighed weakly with long time constant."
      ]
    },
    {
      "cell_type": "markdown",
      "metadata": {
        "id": "H63IJV0mlw77"
      },
      "source": [
        "#### 2) First create a second external network \"inhib\" to give each RTM neuron a single pulse"
      ]
    },
    {
      "cell_type": "code",
      "execution_count": null,
      "metadata": {
        "id": "dS9K8Zd-lw77"
      },
      "outputs": [],
      "source": [
        "n_In=10\n",
        "inhib = NetworkBuilder('inhib')\n",
        "inhib.add_nodes(N=n_In,pop_name='Inp_inh',\n",
        "            potential='inh',\n",
        "            model_type='virtual')"
      ]
    },
    {
      "cell_type": "markdown",
      "metadata": {
        "id": "DT5BTiC5lw77"
      },
      "source": [
        "The dynamic parameters of the synaptic pulse are set in \"Weak_Long.json\" where tau1 = 9 ms and tau2 = 0.1 ms. g_syn = 0.3 mS/cm^2"
      ]
    },
    {
      "cell_type": "code",
      "execution_count": null,
      "metadata": {
        "id": "m9Dqfulylw77"
      },
      "outputs": [],
      "source": [
        "inhib.add_edges(source={'pop_name':'Inp_inh'}, target=net.nodes(),\n",
        "                    connection_rule=one_each,              \n",
        "                    delay=0,\n",
        "                    syn_weight = 0.3,\n",
        "                    weight_function=None,\n",
        "                    target_sections=['soma'],\n",
        "                    distance_range=[0.0, 1.0],\n",
        "                    dynamics_params='Weak_Long.json',\n",
        "                    model_template='expsyn')"
      ]
    },
    {
      "cell_type": "code",
      "execution_count": null,
      "metadata": {
        "id": "2Z3hwjQ4lw77"
      },
      "outputs": [],
      "source": [
        "inhib.build()\n",
        "inhib.save_nodes(output_dir='network')\n",
        "inhib.save_edges(output_dir='network')"
      ]
    },
    {
      "cell_type": "markdown",
      "metadata": {
        "id": "Ar0QmSF4lw77"
      },
      "source": [
        "#### 2) Give spike to all inhib neurons "
      ]
    },
    {
      "cell_type": "code",
      "execution_count": null,
      "metadata": {
        "id": "uuHqMd3elw77"
      },
      "outputs": [],
      "source": [
        "from bmtk.utils.reports.spike_trains import SpikeTrains\n",
        "\n",
        "spikes = SpikeTrains(population='inhib')\n",
        "for i in range(10):\n",
        "    spikes.add_spike(node_id=i,timestamp=0.2)\n",
        "spikes.to_sonata('input/Inhib.h5')"
      ]
    },
    {
      "cell_type": "markdown",
      "metadata": {
        "id": "wbAdHWfmlw77"
      },
      "source": [
        "## 2) Set up the simulation environment"
      ]
    },
    {
      "cell_type": "code",
      "execution_count": null,
      "metadata": {
        "id": "Bk72Sa2Ulw77"
      },
      "outputs": [],
      "source": [
        "from bmtk.utils.sim_setup import build_env_bionet\n",
        "\n",
        "build_env_bionet(base_dir='.',\n",
        "                 network_dir='network',\n",
        "                 tstop=30.0, dt=0.01,\n",
        "                 report_vars=['v'],           # Record membrane potential and calcium (default soma)\n",
        "                 spikes_inputs=[('extnet',    # Name of population which spikes will be generated for\n",
        "                                'input/Splay.h5'),('inhib', 'input/Inhib.h5')],\n",
        "                 #file_current_clamp={              # Creates a step current from 500.ms to 1500.0 ms\n",
        "                      #\"input_type\": \"file_current_clamp\",\n",
        "                      #\"module\": \"FileIClamp\",\n",
        "                      #\"input_file\":\"input/amps.h5\",\n",
        "                      #\"node_set\":\"network\"\n",
        "                 #},\n",
        "                 current_clamp={            # Creates a step current from 500.ms to 1500.0 ms\n",
        "                    'amp': 0.400,\n",
        "                    'delay': 0,\n",
        "                    'duration': 30.0\n",
        "                  },\n",
        "                 v_init=-66.5,\n",
        "                 include_examples=False,    # Copies components files\n",
        "                 compile_mechanisms=False,   # Will try to compile NEURON mechanisms\n",
        "                 config_file='config.json'\n",
        "                )"
      ]
    },
    {
      "cell_type": "markdown",
      "metadata": {
        "id": "9iREG-pElw77"
      },
      "source": [
        "## 2) Run the Simulation"
      ]
    },
    {
      "cell_type": "code",
      "execution_count": null,
      "metadata": {
        "collapsed": true,
        "id": "fDyDxObllw77"
      },
      "outputs": [],
      "source": [
        "from bmtk.simulator import bionet\n",
        "\n",
        "\n",
        "conf = bionet.Config.from_json('config.json')\n",
        "conf.build_env()\n",
        "net = bionet.BioNetwork.from_config(conf)\n",
        "sim = bionet.BioSimulator.from_config(conf, network=net)\n",
        "sim.run()"
      ]
    },
    {
      "cell_type": "markdown",
      "metadata": {
        "id": "RcJHkyrFlw77"
      },
      "source": [
        "## 2) Display the Results"
      ]
    },
    {
      "cell_type": "code",
      "execution_count": null,
      "metadata": {
        "id": "3Y9dvLTIlw77"
      },
      "outputs": [],
      "source": [
        "from bmtk.utils.reports.compartment import CompartmentReport\n",
        "\n",
        "pop_name = 'Exc'\n",
        "report = CompartmentReport('output/v_report.h5',\n",
        "population=pop_name, mode='r')\n",
        "v_trace=[]\n",
        "for i in range(10):\n",
        "    v_trace.append(report.data(population='network', node_id=i))\n",
        "    print(v_trace[i][5])\n",
        "time = np.arange(report.tstart(population='network'), report.tstop(population='network'), report.dt(population='network'))"
      ]
    },
    {
      "cell_type": "code",
      "execution_count": null,
      "metadata": {
        "id": "gK0qcg5Blw78"
      },
      "outputs": [],
      "source": [
        "import matplotlib.pyplot as plt\n",
        "for i in range(10):\n",
        "    plt.plot(time, v_trace[i])\n",
        "plt.ylabel('Voltage [mv]')\n",
        "plt.xlabel('Time [ms]')\n",
        "plt.title('RTM_neuron Voltage')\n",
        "plt.xlim([0,30])\n",
        "#plt.ylim([-70,-65])\n",
        "plt.show()\n",
        "\n",
        "# If plot does not show run the cell again."
      ]
    },
    {
      "cell_type": "markdown",
      "metadata": {
        "id": "RRnTQBfTlw78"
      },
      "source": [
        "The single inhibitory pulse with a synaptic weight of 0.3 mS/cm^2 and tau1:0.1 ms tau2:9 ms will cause the unconnected RTM neurons to synchronize. \n",
        "\n",
        "As you can see, the first neuron fired at about the same time as without the inhibitory spike. This is because it's initial condition is so close to threshold the neuron was poised to spike. \n",
        "\n",
        "The other neurons less influenced by initial conditions synchronized."
      ]
    },
    {
      "cell_type": "markdown",
      "metadata": {
        "id": "1OmM-bgYlw78"
      },
      "source": [
        "# Part 3: You Must Restart Kernel To Proceed\n",
        "A third simulation can be performed that shows an inhibitory synapse with strong synaptic weight but short time constant. Again the single inhibitory pulse can cause the unconnected RTM neurons to synchronize."
      ]
    },
    {
      "cell_type": "markdown",
      "metadata": {
        "id": "bRPgT6cjlw78"
      },
      "source": [
        "First we copy our original network from Part 1:"
      ]
    },
    {
      "cell_type": "code",
      "source": [
        "! pip install NEURON\n",
        "! pip install bmtk\n",
        "# as new version of neuron and bmtk come out we may need to install a specific version\n",
        "import os\n",
        "from os.path import normpath, sep, join\n",
        "\n",
        "root = 'Borgers-Examples-in-BMTK' # name of github repo\n",
        "folder = '29-Single_Inhib_Pulse' # name of folder in Github just change this line \n",
        "pathlist = normpath(os.getcwd()).split(sep)\n",
        "if pathlist[-1] != folder:\n",
        "  rootidx = pathlist.index(root) if root in pathlist else -1\n",
        "  if rootidx>0:\n",
        "    os.chdir(join(sep,*pathlist[:rootidx]))\n",
        "  !git clone https://github.com/GregGlickert/Borgers-Examples-in-BMTK\n",
        "  os.chdir(join(root,folder))\n",
        "print(os.getcwd())\n",
        "%ls"
      ],
      "metadata": {
        "id": "Vy4nam6LdahP"
      },
      "execution_count": null,
      "outputs": []
    },
    {
      "cell_type": "code",
      "source": [
        "import os\n",
        "print(os.system('nrnivmodl components/mechanisms')) # compile modfiles. Return 0 for success, 1 for failure."
      ],
      "metadata": {
        "id": "-WiihhXndcOD"
      },
      "execution_count": null,
      "outputs": []
    },
    {
      "cell_type": "code",
      "execution_count": null,
      "metadata": {
        "id": "KCZ91sfolw78"
      },
      "outputs": [],
      "source": [
        "import numpy as np\n",
        "import logging\n",
        "import math\n",
        "\n",
        "from bmtk.builder.networks import NetworkBuilder\n",
        "\n",
        "n_E =10\n",
        "\n",
        "net = NetworkBuilder('network')\n",
        "net.add_nodes(N=n_E, pop_name='Exc',     # N = number of excitatory cells\n",
        "        model_type='biophysical',\n",
        "        model_template='hoc:RTMExcCell', # RTMExcCell hoc definition\n",
        "        morphology='blank.swc')"
      ]
    },
    {
      "cell_type": "code",
      "execution_count": null,
      "metadata": {
        "id": "yVcUnltblw78"
      },
      "outputs": [],
      "source": [
        "net.build()\n",
        "net.save_nodes(output_dir='network')"
      ]
    },
    {
      "cell_type": "code",
      "execution_count": null,
      "metadata": {
        "id": "l1HKELjBlw78"
      },
      "outputs": [],
      "source": [
        "n_In=10\n",
        "extnet = NetworkBuilder('extnet')\n",
        "extnet.add_nodes(N=n_In,pop_name='Inp',\n",
        "            potential='exc',\n",
        "            model_type='virtual')"
      ]
    },
    {
      "cell_type": "code",
      "execution_count": null,
      "metadata": {
        "id": "8HVcP9Bylw78"
      },
      "outputs": [],
      "source": [
        "def one_each(source, target):\n",
        "    if source['node_id']==target['node_id']:\n",
        "        return 1\n",
        "    return 0\n",
        "\n",
        "def set_syn_weight(source, target):\n",
        "    sec_x = 0.5\n",
        "    sec_id = 0\n",
        "    x=target['node_id']\n",
        "    a=1\n",
        "    v = 0.0044675117*x**4 - 0.1256364996*x**3 + 0.7666447261*x**2 - 4.1554128011*x - 58.7232615386\n",
        "    syn_weight = 0.000000019395603*v**6 + 0.000008466808328*v**5 + 0.001546246691387*v**4 + 0.150852024612194*v**3 + 8.291209035520400*v**2 + 242.792603083843000*v + 2937.206029698790000\n",
        "    #syn_weight = math.exp(target['node_id']*(0.5))-1\n",
        "    #print(target['node_id'])\n",
        "    #print(v)\n",
        "    print(syn_weight)\n",
        "    return syn_weight, sec_x, sec_id\n",
        "\n",
        "conn=extnet.add_edges(source={'pop_name':'Inp'}, target=net.nodes(),\n",
        "                    connection_rule=one_each,              \n",
        "                    delay=0,\n",
        "                    weight_function=None,\n",
        "                    target_sections=['soma'],\n",
        "                    distance_range=[0.0, 0.00000000001],\n",
        "                    dynamics_params='Voltage_Set.json',\n",
        "                    model_template='Exp2Syn')\n",
        "\n",
        "conn.add_properties(['syn_weight','sec_x','sec_id'],\n",
        "                    rule=set_syn_weight, \n",
        "                    dtypes=[np.float, np.uint, np.uint])"
      ]
    },
    {
      "cell_type": "code",
      "execution_count": null,
      "metadata": {
        "id": "gAWnFvVDlw78"
      },
      "outputs": [],
      "source": [
        "extnet.build()\n",
        "extnet.save_nodes(output_dir='network')\n",
        "extnet.save_edges(output_dir='network')"
      ]
    },
    {
      "cell_type": "code",
      "execution_count": null,
      "metadata": {
        "id": "EPbBXe-5lw78"
      },
      "outputs": [],
      "source": [
        "from bmtk.utils.reports.spike_trains import SpikeTrains\n",
        "\n",
        "spikes = SpikeTrains(population='extnet')\n",
        "for i in range(10):\n",
        "    spikes.add_spike(node_id=i,timestamp=0)\n",
        "spikes.to_sonata('input/Splay.h5')"
      ]
    },
    {
      "cell_type": "markdown",
      "metadata": {
        "id": "QkmXBGZ8lw78"
      },
      "source": [
        "### 3) Current Clamp"
      ]
    },
    {
      "cell_type": "code",
      "execution_count": null,
      "metadata": {
        "id": "DHRV-IRylw78"
      },
      "outputs": [],
      "source": [
        "import h5py\n",
        "\n",
        "\n",
        "i_ext=[0]\n",
        "for i in range(29):\n",
        "    i_ext.append(1.2)\n",
        "\n",
        "dts = [1]\n",
        "gids = 'all'\n",
        "\n",
        "#hf.close() # Uncomment this line temporarily if you receive 'file already open error'\n",
        "\n",
        "hf = h5py.File(\"input/amps.h5\", 'w')\n",
        "\n",
        "hf.create_dataset(\"amplitudes\", data=[i_ext])\n",
        "hf.create_dataset(\"gids\", data=gids)\n",
        "hf.create_dataset(\"dts\", data=dts)\n",
        "\n",
        "hf.close()"
      ]
    },
    {
      "cell_type": "markdown",
      "metadata": {
        "id": "F7cPXA2Elw79"
      },
      "source": [
        "# 3) Add Inhibitory Pulse #2 "
      ]
    },
    {
      "cell_type": "markdown",
      "metadata": {
        "id": "UwCzcA1Klw79"
      },
      "source": [
        "We add 10 neurons to give a single inhibitory spike into each cell of our network. We change the parameters of th."
      ]
    },
    {
      "cell_type": "code",
      "execution_count": null,
      "metadata": {
        "id": "BtKJQOUblw79"
      },
      "outputs": [],
      "source": [
        "n_In=10\n",
        "inhib = NetworkBuilder('inhib')\n",
        "inhib.add_nodes(N=n_In,pop_name='Inp_inh',\n",
        "            potential='inh',\n",
        "            model_type='virtual')"
      ]
    },
    {
      "cell_type": "markdown",
      "metadata": {
        "id": "ntZlQhSGlw79"
      },
      "source": [
        "The dynamic parameters are set in \"Strong_Short.json\" which gives a tau1 of 1 ms and tau2 of 0.1 ms"
      ]
    },
    {
      "cell_type": "code",
      "execution_count": null,
      "metadata": {
        "id": "tchzsu3slw79"
      },
      "outputs": [],
      "source": [
        "inhib.add_edges(source={'pop_name':'Inp_inh'}, target=net.nodes(),\n",
        "                    connection_rule=one_each,              \n",
        "                    delay=0,\n",
        "                    syn_weight = 2.25,\n",
        "                    weight_function=None,\n",
        "                    target_sections=['soma'],\n",
        "                    distance_range=[0.0, 1.0],\n",
        "                    dynamics_params='Strong_Short.json',\n",
        "                    model_template='expsyn')"
      ]
    },
    {
      "cell_type": "markdown",
      "metadata": {
        "id": "l5vhWOBklw79"
      },
      "source": [
        "Build and save our inhibitory neurons"
      ]
    },
    {
      "cell_type": "code",
      "execution_count": null,
      "metadata": {
        "id": "bWA-Uahflw79"
      },
      "outputs": [],
      "source": [
        "inhib.build()\n",
        "inhib.save_nodes(output_dir='network')\n",
        "inhib.save_edges(output_dir='network')"
      ]
    },
    {
      "cell_type": "markdown",
      "metadata": {
        "id": "2_a7i0bmlw79"
      },
      "source": [
        "#### Give 1 spike to the inhibitory neurons that feed into our network"
      ]
    },
    {
      "cell_type": "code",
      "execution_count": null,
      "metadata": {
        "id": "HBK8zBVmlw79"
      },
      "outputs": [],
      "source": [
        "from bmtk.utils.reports.spike_trains import SpikeTrains\n",
        "\n",
        "spikes = SpikeTrains(population='inhib')\n",
        "for i in range(10):\n",
        "    spikes.add_spike(node_id=i,timestamp=0.2)\n",
        "spikes.to_sonata('input/Inhib.h5')"
      ]
    },
    {
      "cell_type": "markdown",
      "metadata": {
        "id": "23ux1yjclw79"
      },
      "source": [
        "## 3) Setting up the Simulation Environment"
      ]
    },
    {
      "cell_type": "code",
      "execution_count": null,
      "metadata": {
        "id": "jBklBx-Tlw79"
      },
      "outputs": [],
      "source": [
        "from bmtk.utils.sim_setup import build_env_bionet\n",
        "\n",
        "build_env_bionet(base_dir='.',\n",
        "                 network_dir='network',\n",
        "                 tstop=30.0, dt=0.01,\n",
        "                 report_vars=['v'],           # Record membrane potential and calcium (default soma)\n",
        "                 spikes_inputs=[('extnet',    # Name of population which spikes will be generated for\n",
        "                                'input/Splay.h5'), ('inhib', 'input/Inhib.h5')],\n",
        "                 #file_current_clamp={              # Creates a step current from 500.ms to 1500.0 ms\n",
        "                     # \"input_type\": \"file_current_clamp\",\n",
        "                      #\"module\": \"FileIClamp\",\n",
        "                     # \"input_file\":\"input/amps.h5\",\n",
        "                      #\"node_set\":\"network\"\n",
        "                # },\n",
        "                 current_clamp={            # Creates a step current from 500.ms to 1500.0 ms\n",
        "                    'amp': 0.400,\n",
        "                    'delay': 0,\n",
        "                    'duration': 30.0\n",
        "                  },\n",
        "                 v_init=-66.5,\n",
        "                 include_examples=False,    # Copies components files\n",
        "                 compile_mechanisms=False,   # Will try to compile NEURON mechanisms\n",
        "                 config_file='config.json'\n",
        "                )"
      ]
    },
    {
      "cell_type": "markdown",
      "metadata": {
        "id": "qgeS4ufIlw79"
      },
      "source": [
        "## 3) Running the Simulation"
      ]
    },
    {
      "cell_type": "code",
      "execution_count": null,
      "metadata": {
        "id": "h4UblEEMlw79"
      },
      "outputs": [],
      "source": [
        "from bmtk.simulator import bionet\n",
        "\n",
        "\n",
        "conf = bionet.Config.from_json('config.json')\n",
        "conf.build_env()\n",
        "net = bionet.BioNetwork.from_config(conf)\n",
        "sim = bionet.BioSimulator.from_config(conf, network=net)\n",
        "sim.run()"
      ]
    },
    {
      "cell_type": "markdown",
      "metadata": {
        "id": "-Ain8Atflw79"
      },
      "source": [
        "## 3) Displaying the Results"
      ]
    },
    {
      "cell_type": "code",
      "execution_count": null,
      "metadata": {
        "id": "R9EsdkYZlw79"
      },
      "outputs": [],
      "source": [
        "from bmtk.utils.reports.compartment import CompartmentReport\n",
        "\n",
        "pop_name = 'Exc'\n",
        "report = CompartmentReport('output/v_report.h5',\n",
        "population=pop_name, mode='r')\n",
        "v_trace=[]\n",
        "for i in range(10):\n",
        "    v_trace.append(report.data(population='network', node_id=i))\n",
        "    print(v_trace[i][5])\n",
        "time = np.arange(report.tstart(population='network'), report.tstop(population='network'), report.dt(population='network'))"
      ]
    },
    {
      "cell_type": "code",
      "execution_count": null,
      "metadata": {
        "id": "D9uIPz6klw79"
      },
      "outputs": [],
      "source": [
        "import matplotlib.pyplot as plt\n",
        "for i in range(10):\n",
        "    plt.plot(time, v_trace[i])\n",
        "plt.ylabel('Voltage [mv]')\n",
        "plt.xlabel('Time [ms]')\n",
        "plt.title('RTM_neuron Voltage')\n",
        "plt.xlim([0,30])\n",
        "#plt.ylim([-70,-65])\n",
        "plt.show()\n",
        "\n",
        "\n",
        "# If plot does not show run the cell again."
      ]
    },
    {
      "cell_type": "markdown",
      "metadata": {
        "id": "uNSi8rWLlw79"
      },
      "source": [
        "The strong inhibitory pulse with small time constant also is able to synchronize the unconnected RTM neurons."
      ]
    },
    {
      "cell_type": "code",
      "execution_count": null,
      "metadata": {
        "id": "dMBhDptVlw79"
      },
      "outputs": [],
      "source": [
        ""
      ]
    }
  ],
  "metadata": {
    "kernelspec": {
      "display_name": "Python 3",
      "language": "python",
      "name": "python3"
    },
    "language_info": {
      "codemirror_mode": {
        "name": "ipython",
        "version": 3
      },
      "file_extension": ".py",
      "mimetype": "text/x-python",
      "name": "python",
      "nbconvert_exporter": "python",
      "pygments_lexer": "ipython3",
      "version": "3.6.12"
    },
    "colab": {
      "name": "New_29_Single_Inhibitory_Pulse.ipynb",
      "provenance": []
    }
  },
  "nbformat": 4,
  "nbformat_minor": 0
}