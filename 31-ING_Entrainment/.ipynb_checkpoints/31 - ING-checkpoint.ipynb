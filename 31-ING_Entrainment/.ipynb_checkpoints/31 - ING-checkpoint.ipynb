{
 "cells": [
  {
   "cell_type": "markdown",
   "metadata": {},
   "source": [
    "# Chapter 31- ING Entrainment of E - Cells"
   ]
  },
  {
   "cell_type": "code",
   "execution_count": null,
   "metadata": {},
   "outputs": [],
   "source": []
  },
  {
   "cell_type": "markdown",
   "metadata": {},
   "source": [
    "### Create nodes\n",
    "The ING network, E-cells, and external input nodes are defined"
   ]
  },
  {
   "cell_type": "code",
   "execution_count": 1,
   "metadata": {},
   "outputs": [
    {
     "name": "stderr",
     "output_type": "stream",
     "text": [
      "c:\\users\\strou\\anaconda3\\envs\\py2env\\lib\\site-packages\\h5py\\__init__.py:34: FutureWarning: Conversion of the second argument of issubdtype from `float` to `np.floating` is deprecated. In future, it will be treated as `np.float64 == np.dtype(float).type`.\n",
      "  from ._conv import register_converters as _register_converters\n"
     ]
    }
   ],
   "source": [
    "import numpy as np\n",
    "import logging\n",
    "import math\n",
    "\n",
    "from bmtk.builder.networks import NetworkBuilder\n",
    "\n",
    "# E - Cells\n",
    "n_E = 400\n",
    "\n",
    "net = NetworkBuilder('network')\n",
    "net.add_nodes(N=n_E, pop_name='Exc',     # N = number of excitatory cells\n",
    "        model_type='biophysical',\n",
    "        model_template='hoc:RTMExcCell', # RTMExcCell hoc definition\n",
    "        morphology='blank.swc')"
   ]
  },
  {
   "cell_type": "markdown",
   "metadata": {},
   "source": [
    "### Save E - Cell Nodes"
   ]
  },
  {
   "cell_type": "code",
   "execution_count": 2,
   "metadata": {},
   "outputs": [],
   "source": [
    "net.build()\n",
    "net.save_nodes(output_dir='network')"
   ]
  },
  {
   "cell_type": "markdown",
   "metadata": {},
   "source": [
    "### Creating ING network"
   ]
  },
  {
   "cell_type": "code",
   "execution_count": 3,
   "metadata": {},
   "outputs": [],
   "source": [
    "# ING network\n",
    "n_ING = 100\n",
    "\n",
    "INGnet = NetworkBuilder('INGnet')\n",
    "INGnet.add_nodes(N=n_ING, pop_name='ING',     # N = number of ING cells\n",
    "        model_type='biophysical',\n",
    "        model_template='hoc:WBInhCell', \n",
    "        morphology='blank.swc')"
   ]
  },
  {
   "cell_type": "markdown",
   "metadata": {},
   "source": [
    "### Connection rules"
   ]
  },
  {
   "cell_type": "code",
   "execution_count": 4,
   "metadata": {},
   "outputs": [],
   "source": [
    "import random\n",
    "\n",
    "def syn_connector(source,target,p):\n",
    "    if source['node_id'] == target['node_id']:\n",
    "        return 0\n",
    "    return 1 if random.random() < p else 0\n",
    "\n",
    "def one_each(source, target):\n",
    "    if source['node_id']==target['node_id']:\n",
    "        return 0\n",
    "    return 1"
   ]
  },
  {
   "cell_type": "markdown",
   "metadata": {},
   "source": [
    "### Creating ING Edges"
   ]
  },
  {
   "cell_type": "code",
   "execution_count": 5,
   "metadata": {},
   "outputs": [
    {
     "data": {
      "text/plain": [
       "<bmtk.builder.connection_map.ConnectionMap at 0x204608c8>"
      ]
     },
     "execution_count": 5,
     "metadata": {},
     "output_type": "execute_result"
    }
   ],
   "source": [
    "g_ee = 0\n",
    "g_ei = 0\n",
    "g_ie = 0.5\n",
    "g_ii = 0.5\n",
    "g_gap = 0.1\n",
    "\n",
    "p_gap = 0.05\n",
    "p_ee = 1\n",
    "p_ei = 0.5\n",
    "p_ie = 0.5\n",
    "p_ii = 0.5\n",
    "\n",
    "\n",
    "\n",
    "#E-E connections dont exist (g_ee = 0)\n",
    "         \n",
    "#E-I connections dont exist (g_ei = 0)\n",
    "\n",
    "#I-I connections\n",
    "INGnet.add_edges(source={'pop_name':'ING'}, target={'pop_name':'ING'},\n",
    "                    connection_rule=syn_connector, \n",
    "                    connection_params={'p':p_ii},\n",
    "                    delay=0,\n",
    "                    syn_weight = g_ii,\n",
    "                    weight_function=None,\n",
    "                    target_sections=['soma'],\n",
    "                    distance_range=[0.0, 0.1],\n",
    "                    dynamics_params='PING_InhToInh.json',\n",
    "                    model_template='Exp2Syn')\n",
    "                    \n",
    "#I-E connections\n",
    "INGnet.add_edges(source={'pop_name':'ING'}, target={'pop_name':'Exc'},\n",
    "                    connection_rule=syn_connector,\n",
    "                    connection_params={'p':p_ie},\n",
    "                    delay=0,\n",
    "                    syn_weight = g_ie,\n",
    "                    weight_function=None,\n",
    "                    target_sections=['soma'],\n",
    "                    distance_range=[0.0, 0.1],\n",
    "                    dynamics_params='PING_InhToExc.json',\n",
    "                    model_template='Exp2Syn')\n",
    "\n",
    "#gap junctions\n",
    "INGnet.add_edges(source={'pop_name':'ING'}, target={'pop_name':'ING'}, \n",
    "                      syn_weight=g_gap,\n",
    "                      weight_function=None,\n",
    "                      target_sections=['soma'],\n",
    "                      model_template='Gap',\n",
    "                      distance_range=[0.0, 0.1],\n",
    "                      is_gap_junction=True,\n",
    "                      connection_rule=syn_connector, \n",
    "                      connection_params={'p':p_gap})"
   ]
  },
  {
   "cell_type": "code",
   "execution_count": 6,
   "metadata": {},
   "outputs": [],
   "source": [
    "INGnet.build()\n",
    "INGnet.save_nodes(output_dir='network')\n",
    "INGnet.save_edges(output_dir='network')"
   ]
  },
  {
   "cell_type": "markdown",
   "metadata": {},
   "source": [
    "### Current Clamps for E-Cells and ING network"
   ]
  },
  {
   "cell_type": "code",
   "execution_count": 7,
   "metadata": {},
   "outputs": [],
   "source": [
    "import h5py\n",
    "\n",
    "current_amplitude = 5\n",
    "\n",
    "i_ext=[]\n",
    "for i in range(500):\n",
    "    i_ext.append(current_amplitude)\n",
    "\n",
    "dts = [1]\n",
    "gids = 'all'\n",
    "\n",
    "#hf.close() # Uncomment this line temporarily if you receive 'file already open error'\n",
    "\n",
    "hf = h5py.File(\"input/amps.h5\", 'w')\n",
    "\n",
    "hf.create_dataset(\"amplitudes\", data=[i_ext])\n",
    "hf.create_dataset(\"gids\", data=gids)\n",
    "hf.create_dataset(\"dts\", data=dts)\n",
    "\n",
    "hf.close()"
   ]
  },
  {
   "cell_type": "code",
   "execution_count": 8,
   "metadata": {},
   "outputs": [],
   "source": [
    "from bmtk.utils.sim_setup import build_env_bionet\n",
    "\n",
    "build_env_bionet(base_dir='.',\n",
    "                 network_dir='network',\n",
    "                 tstop=500.0, dt=0.1,\n",
    "                 report_vars=['v'],           # Record membrane potential and calcium (default soma)\n",
    "                 file_current_clamp={              \n",
    "                      \"input_type\": \"file_current_clamp\",\n",
    "                      \"module\": \"FileIClamp\",\n",
    "                      \"input_file\":\"input/amps.h5\",\n",
    "                      \"node_set\":\"all\"\n",
    "                 },\n",
    "                 v_init= -65,\n",
    "                 include_examples=False,    # Copies components files\n",
    "                 compile_mechanisms=False   # Will try to compile NEURON mechanisms\n",
    "                )"
   ]
  },
  {
   "cell_type": "code",
   "execution_count": 9,
   "metadata": {},
   "outputs": [
    {
     "name": "stdout",
     "output_type": "stream",
     "text": [
      "2021-01-31 23:49:29,500 [INFO] Created log file\n"
     ]
    },
    {
     "name": "stderr",
     "output_type": "stream",
     "text": [
      "INFO:NEURONIOUtils:Created log file\n"
     ]
    },
    {
     "name": "stdout",
     "output_type": "stream",
     "text": [
      "2021-01-31 23:49:29,611 [INFO] Building cells.\n"
     ]
    },
    {
     "name": "stderr",
     "output_type": "stream",
     "text": [
      "INFO:NEURONIOUtils:Building cells.\n"
     ]
    },
    {
     "name": "stdout",
     "output_type": "stream",
     "text": [
      "2021-01-31 23:49:30,030 [INFO] Building recurrent connections\n"
     ]
    },
    {
     "name": "stderr",
     "output_type": "stream",
     "text": [
      "INFO:NEURONIOUtils:Building recurrent connections\n"
     ]
    },
    {
     "name": "stdout",
     "output_type": "stream",
     "text": [
      "2021-01-31 23:49:36,344 [INFO] Running simulation for 500.000 ms with the time step 0.100 ms\n"
     ]
    },
    {
     "name": "stderr",
     "output_type": "stream",
     "text": [
      "INFO:NEURONIOUtils:Running simulation for 500.000 ms with the time step 0.100 ms\n"
     ]
    },
    {
     "name": "stdout",
     "output_type": "stream",
     "text": [
      "2021-01-31 23:49:36,371 [INFO] Starting timestep: 0 at t_sim: 0.000 ms\n"
     ]
    },
    {
     "name": "stderr",
     "output_type": "stream",
     "text": [
      "INFO:NEURONIOUtils:Starting timestep: 0 at t_sim: 0.000 ms\n"
     ]
    },
    {
     "name": "stdout",
     "output_type": "stream",
     "text": [
      "2021-01-31 23:49:36,401 [INFO] Block save every 5000 steps\n"
     ]
    },
    {
     "name": "stderr",
     "output_type": "stream",
     "text": [
      "INFO:NEURONIOUtils:Block save every 5000 steps\n"
     ]
    },
    {
     "name": "stdout",
     "output_type": "stream",
     "text": [
      "2021-01-31 23:50:20,256 [INFO]     step:5000 t_sim:500.00 ms\n"
     ]
    },
    {
     "name": "stderr",
     "output_type": "stream",
     "text": [
      "INFO:NEURONIOUtils:    step:5000 t_sim:500.00 ms\n"
     ]
    },
    {
     "name": "stdout",
     "output_type": "stream",
     "text": [
      "2021-01-31 23:50:20,388 [INFO] Simulation completed in 44.04 seconds \n"
     ]
    },
    {
     "name": "stderr",
     "output_type": "stream",
     "text": [
      "INFO:NEURONIOUtils:Simulation completed in 44.04 seconds \n"
     ]
    }
   ],
   "source": [
    "from bmtk.simulator import bionet\n",
    "\n",
    "\n",
    "conf = bionet.Config.from_json('simulation_config.json')\n",
    "conf.build_env()\n",
    "net = bionet.BioNetwork.from_config(conf)\n",
    "sim = bionet.BioSimulator.from_config(conf, network=net)\n",
    "sim.run()"
   ]
  },
  {
   "cell_type": "code",
   "execution_count": 12,
   "metadata": {},
   "outputs": [
    {
     "ename": "ValueError",
     "evalue": "Could not fine spikes file with node population \"INGnet\".",
     "output_type": "error",
     "traceback": [
      "\u001b[1;31m---------------------------------------------------------------------------\u001b[0m",
      "\u001b[1;31mValueError\u001b[0m                                Traceback (most recent call last)",
      "\u001b[1;32m<ipython-input-12-d5e39bb9dcf7>\u001b[0m in \u001b[0;36m<module>\u001b[1;34m()\u001b[0m\n\u001b[0;32m      1\u001b[0m \u001b[1;32mfrom\u001b[0m \u001b[0mbmtk\u001b[0m\u001b[1;33m.\u001b[0m\u001b[0manalyzer\u001b[0m\u001b[1;33m.\u001b[0m\u001b[0mspike_trains\u001b[0m \u001b[1;32mimport\u001b[0m \u001b[0mplot_raster\u001b[0m\u001b[1;33m\u001b[0m\u001b[0m\n\u001b[0;32m      2\u001b[0m \u001b[1;33m\u001b[0m\u001b[0m\n\u001b[1;32m----> 3\u001b[1;33m \u001b[0mplot_raster\u001b[0m\u001b[1;33m(\u001b[0m\u001b[0mconfig_file\u001b[0m\u001b[1;33m=\u001b[0m\u001b[1;34m'simulation_config.json'\u001b[0m\u001b[1;33m,\u001b[0m \u001b[0mwith_histogram\u001b[0m\u001b[1;33m=\u001b[0m\u001b[0mFalse\u001b[0m\u001b[1;33m,\u001b[0m \u001b[0mpopulation\u001b[0m\u001b[1;33m=\u001b[0m\u001b[1;34m'INGnet'\u001b[0m\u001b[1;33m,\u001b[0m \u001b[0mgroup_by\u001b[0m\u001b[1;33m=\u001b[0m\u001b[1;34m'pop_name'\u001b[0m\u001b[1;33m)\u001b[0m\u001b[1;33m\u001b[0m\u001b[0m\n\u001b[0m",
      "\u001b[1;32mc:\\users\\strou\\anaconda3\\envs\\py2env\\lib\\site-packages\\bmtk-0.0.8-py2.7.egg\\bmtk\\analyzer\\spike_trains.pyc\u001b[0m in \u001b[0;36mplot_raster\u001b[1;34m(config_file, population, with_histogram, times, title, show, group_by, group_excludes, spikes_file, nodes_file, node_types_file)\u001b[0m\n\u001b[0;32m    185\u001b[0m                         \u001b[0mconfig_file\u001b[0m\u001b[1;33m=\u001b[0m\u001b[0mconfig_file\u001b[0m\u001b[1;33m,\u001b[0m \u001b[0mpopulation\u001b[0m\u001b[1;33m=\u001b[0m\u001b[0mpopulation\u001b[0m\u001b[1;33m,\u001b[0m \u001b[0mtimes\u001b[0m\u001b[1;33m=\u001b[0m\u001b[0mtimes\u001b[0m\u001b[1;33m,\u001b[0m \u001b[0mtitle\u001b[0m\u001b[1;33m=\u001b[0m\u001b[0mtitle\u001b[0m\u001b[1;33m,\u001b[0m \u001b[0mshow\u001b[0m\u001b[1;33m=\u001b[0m\u001b[0mshow\u001b[0m\u001b[1;33m,\u001b[0m\u001b[1;33m\u001b[0m\u001b[0m\n\u001b[0;32m    186\u001b[0m                         \u001b[0mgroup_by\u001b[0m\u001b[1;33m=\u001b[0m\u001b[0mgroup_by\u001b[0m\u001b[1;33m,\u001b[0m \u001b[0mgroup_excludes\u001b[0m\u001b[1;33m=\u001b[0m\u001b[0mgroup_excludes\u001b[0m\u001b[1;33m,\u001b[0m\u001b[1;33m\u001b[0m\u001b[0m\n\u001b[1;32m--> 187\u001b[1;33m                         \u001b[0mspikes_file\u001b[0m\u001b[1;33m=\u001b[0m\u001b[0mspikes_file\u001b[0m\u001b[1;33m,\u001b[0m \u001b[0mnodes_file\u001b[0m\u001b[1;33m=\u001b[0m\u001b[0mnodes_file\u001b[0m\u001b[1;33m,\u001b[0m \u001b[0mnode_types_file\u001b[0m\u001b[1;33m=\u001b[0m\u001b[0mnode_types_file\u001b[0m\u001b[1;33m\u001b[0m\u001b[0m\n\u001b[0m\u001b[0;32m    188\u001b[0m     )\n\u001b[0;32m    189\u001b[0m \u001b[1;33m\u001b[0m\u001b[0m\n",
      "\u001b[1;32mc:\\users\\strou\\anaconda3\\envs\\py2env\\lib\\site-packages\\bmtk-0.0.8-py2.7.egg\\bmtk\\analyzer\\spike_trains.pyc\u001b[0m in \u001b[0;36m_plot_helper\u001b[1;34m(plot_fnc, config_file, population, times, title, show, group_by, group_excludes, spikes_file, nodes_file, node_types_file)\u001b[0m\n\u001b[0;32m     99\u001b[0m                  spikes_file=None, nodes_file=None, node_types_file=None):\n\u001b[0;32m    100\u001b[0m     \u001b[0msonata_config\u001b[0m \u001b[1;33m=\u001b[0m \u001b[0mSonataConfig\u001b[0m\u001b[1;33m.\u001b[0m\u001b[0mfrom_json\u001b[0m\u001b[1;33m(\u001b[0m\u001b[0mconfig_file\u001b[0m\u001b[1;33m)\u001b[0m \u001b[1;32mif\u001b[0m \u001b[0mconfig_file\u001b[0m \u001b[1;32melse\u001b[0m \u001b[0mNone\u001b[0m\u001b[1;33m\u001b[0m\u001b[0m\n\u001b[1;32m--> 101\u001b[1;33m     \u001b[0mpop\u001b[0m\u001b[1;33m,\u001b[0m \u001b[0mspike_trains\u001b[0m \u001b[1;33m=\u001b[0m \u001b[0m_find_spikes\u001b[0m\u001b[1;33m(\u001b[0m\u001b[0mconfig_file\u001b[0m\u001b[1;33m=\u001b[0m\u001b[0mconfig_file\u001b[0m\u001b[1;33m,\u001b[0m \u001b[0mspikes_file\u001b[0m\u001b[1;33m=\u001b[0m\u001b[0mspikes_file\u001b[0m\u001b[1;33m,\u001b[0m \u001b[0mpopulation\u001b[0m\u001b[1;33m=\u001b[0m\u001b[0mpopulation\u001b[0m\u001b[1;33m)\u001b[0m\u001b[1;33m\u001b[0m\u001b[0m\n\u001b[0m\u001b[0;32m    102\u001b[0m \u001b[1;33m\u001b[0m\u001b[0m\n\u001b[0;32m    103\u001b[0m     \u001b[1;31m# Create the title\u001b[0m\u001b[1;33m\u001b[0m\u001b[1;33m\u001b[0m\u001b[0m\n",
      "\u001b[1;32mc:\\users\\strou\\anaconda3\\envs\\py2env\\lib\\site-packages\\bmtk-0.0.8-py2.7.egg\\bmtk\\analyzer\\spike_trains.pyc\u001b[0m in \u001b[0;36m_find_spikes\u001b[1;34m(spikes_file, config_file, population)\u001b[0m\n\u001b[0;32m     58\u001b[0m \u001b[1;33m\u001b[0m\u001b[0m\n\u001b[0;32m     59\u001b[0m         \u001b[1;32mif\u001b[0m \u001b[0mspikes_obj\u001b[0m \u001b[1;32mis\u001b[0m \u001b[0mNone\u001b[0m\u001b[1;33m:\u001b[0m\u001b[1;33m\u001b[0m\u001b[0m\n\u001b[1;32m---> 60\u001b[1;33m             \u001b[1;32mraise\u001b[0m \u001b[0mValueError\u001b[0m\u001b[1;33m(\u001b[0m\u001b[1;34m'Could not fine spikes file with node population \"{}\".'\u001b[0m\u001b[1;33m.\u001b[0m\u001b[0mformat\u001b[0m\u001b[1;33m(\u001b[0m\u001b[0mpopulation\u001b[0m\u001b[1;33m)\u001b[0m\u001b[1;33m)\u001b[0m\u001b[1;33m\u001b[0m\u001b[0m\n\u001b[0m\u001b[0;32m     61\u001b[0m         \u001b[1;32melse\u001b[0m\u001b[1;33m:\u001b[0m\u001b[1;33m\u001b[0m\u001b[0m\n\u001b[0;32m     62\u001b[0m             \u001b[1;32mreturn\u001b[0m \u001b[0mpopulation\u001b[0m\u001b[1;33m,\u001b[0m \u001b[0mspikes_obj\u001b[0m\u001b[1;33m\u001b[0m\u001b[0m\n",
      "\u001b[1;31mValueError\u001b[0m: Could not fine spikes file with node population \"INGnet\"."
     ]
    }
   ],
   "source": [
    "from bmtk.analyzer.spike_trains import plot_raster\n",
    "\n",
    "plot_raster(config_file='simulation_config.json', with_histogram=False, population='INGnet', group_by='pop_name')"
   ]
  },
  {
   "cell_type": "code",
   "execution_count": null,
   "metadata": {},
   "outputs": [],
   "source": []
  }
 ],
 "metadata": {
  "kernelspec": {
   "display_name": "Python 2",
   "language": "python",
   "name": "python2"
  },
  "language_info": {
   "codemirror_mode": {
    "name": "ipython",
    "version": 2
   },
   "file_extension": ".py",
   "mimetype": "text/x-python",
   "name": "python",
   "nbconvert_exporter": "python",
   "pygments_lexer": "ipython2",
   "version": "2.7.18"
  }
 },
 "nbformat": 4,
 "nbformat_minor": 2
}
