{
 "cells": [
  {
   "cell_type": "markdown",
   "metadata": {},
   "source": [
    "# Chapter 31- ING Entrainment of E - Cells\n",
    "This notebook is a translation of an example in Christophe Borgers' book, \"An Introduction to Modeling Neuronal Dynamics\"\n",
    "\n",
    "In this tutorial,we display an Interneuronal Network Gamma (ING) network entrain excitatory neurons (E-cells). Gamma rhythms are 30-80 Hz, thus the firing of the E-cells must be within this range. We model 400 E-cells with an RTM model and the ING cells with a WB model.\n",
    "\n",
    "requirements:\n",
    "\n",
    " bmtk\n",
    "\n",
    " NEURON 7.4+"
   ]
  },
  {
   "cell_type": "markdown",
   "metadata": {},
   "source": [
    "### Create nodes\n",
    "The ING network, E-cells, and external input nodes are defined"
   ]
  },
  {
   "cell_type": "code",
   "execution_count": 1,
   "metadata": {},
   "outputs": [],
   "source": [
    "import numpy as np\n",
    "import logging\n",
    "import math\n",
    "\n",
    "from bmtk.builder.networks import NetworkBuilder\n",
    "\n",
    "# E - Cells\n",
    "n_E = 400\n",
    "\n",
    "net = NetworkBuilder('network')\n",
    "net.add_nodes(N=n_E, pop_name='Exc',     # N = number of excitatory cells\n",
    "        model_type='biophysical',\n",
    "        model_template='hoc:RTMExcCell', # RTMExcCell hoc definition\n",
    "        morphology='blank.swc')\n",
    "\n",
    "# ING network\n",
    "n_I = 100\n",
    "\n",
    "net.add_nodes(N=n_I, pop_name='ING',     # N = number of ING cells\n",
    "        model_type='biophysical',\n",
    "        model_template='hoc:WBInhCell', \n",
    "        morphology='blank.swc')"
   ]
  },
  {
   "cell_type": "markdown",
   "metadata": {},
   "source": [
    "### Connection rules \n",
    "\n",
    "We add connections based on a probability defined below. To prevent autapses, if the node_id is equal between source and targe cell, no connection is made."
   ]
  },
  {
   "cell_type": "code",
   "execution_count": 2,
   "metadata": {},
   "outputs": [],
   "source": [
    "import random\n",
    "\n",
    "def syn_connector(source,target,p):\n",
    "    if source['node_id'] == target['node_id']:\n",
    "        return 0\n",
    "    return 1 if random.random() < p else 0"
   ]
  },
  {
   "cell_type": "markdown",
   "metadata": {},
   "source": [
    "### Creating ING Edges\n",
    "\n",
    "Probabilities and conductances are taken from chapter 31 of Borgers' book. Inhibitory connections between ING cells are added; Inhibitory connections from ING cells to E - cells are added; gap juctions between ING cells are added."
   ]
  },
  {
   "cell_type": "code",
   "execution_count": 3,
   "metadata": {},
   "outputs": [
    {
     "data": {
      "text/plain": [
       "<bmtk.builder.connection_map.ConnectionMap at 0x1dd5c80a978>"
      ]
     },
     "execution_count": 3,
     "metadata": {},
     "output_type": "execute_result"
    }
   ],
   "source": [
    "g_ee = 0\n",
    "g_ei = 0\n",
    "g_ie = 0.5  #0.5\n",
    "g_ii = 0.5  #0.5\n",
    "g_gap = 0.1\n",
    "\n",
    "p_gap = 0.05\n",
    "p_ee = 1\n",
    "p_ei = 0.5\n",
    "p_ie = 0.5  # 0.5\n",
    "p_ii = 0.5   # 0.5\n",
    "\n",
    "\n",
    "\n",
    "#E-E connections dont exist (g_ee = 0)\n",
    "         \n",
    "#E-I connections dont exist (g_ei = 0)\n",
    "\n",
    "#I-I connections\n",
    "net.add_edges(source={'pop_name':'ING'}, target={'pop_name':'ING'},\n",
    "                    connection_rule=syn_connector, \n",
    "                    connection_params={'p':p_ii},\n",
    "                    delay=0,\n",
    "                    syn_weight = g_ii/n_I,\n",
    "                    weight_function=None,\n",
    "                    target_sections=['soma'],\n",
    "                    distance_range=[0.0, 0.1],\n",
    "                    dynamics_params='PING_InhToInh.json',\n",
    "                    model_template='Exp2Syn')\n",
    "                    \n",
    "#I-E connections\n",
    "net.add_edges(source={'pop_name':'ING'}, target={'pop_name':'Exc'},\n",
    "                    connection_rule=syn_connector,\n",
    "                    connection_params={'p':p_ie},\n",
    "                    delay=0,\n",
    "                    syn_weight = g_ie/n_I,\n",
    "                    weight_function=None,\n",
    "                    target_sections=['soma'],\n",
    "                    distance_range=[0.0, 0.1],\n",
    "                    dynamics_params='PING_InhToExc.json',\n",
    "                    model_template='Exp2Syn')\n",
    "\n",
    "#gap junctions\n",
    "net.add_edges(source={'pop_name':'ING'}, target={'pop_name':'ING'}, \n",
    "                      syn_weight=g_gap,\n",
    "                      weight_function=None,\n",
    "                      target_sections=['soma'],\n",
    "                      model_template='Gap',\n",
    "                      delay=0,\n",
    "                      distance_range=[0.0, 0.1],\n",
    "                      is_gap_junction=True,\n",
    "                      connection_rule=syn_connector, \n",
    "                      connection_params={'p':p_gap})"
   ]
  },
  {
   "cell_type": "code",
   "execution_count": 4,
   "metadata": {},
   "outputs": [],
   "source": [
    "net.build()\n",
    "net.save_nodes(output_dir='network')\n",
    "net.save_edges(output_dir='network')"
   ]
  },
  {
   "cell_type": "markdown",
   "metadata": {},
   "source": [
    "### Current Clamps for E-Cells and ING network"
   ]
  },
  {
   "cell_type": "code",
   "execution_count": 5,
   "metadata": {},
   "outputs": [],
   "source": [
    "import h5py\n",
    "\n",
    "I_bar_E = 1.5      #1.5\n",
    "sigma_E = 0.1   #0.1\n",
    "I_bar_I = 1.5      #1.5\n",
    "sigma_I = 0.5   #0.5\n",
    "\n",
    "\n",
    "n_I = 100\n",
    "n_E = 400\n",
    "sim_len = 500\n",
    "dt = 1\n",
    "samples = int(sim_len/dt)\n",
    "amp = np.zeros((n_E+n_I,samples))\n",
    "\n",
    "\n",
    "amp[n_I:,:] = (I_bar_E * (1 + sigma_E*np.random.normal(size=n_E))).reshape(-1,1) # Excitatory Cell Current Injection\n",
    "amp[:n_I,:] = (I_bar_I * (1 + sigma_I*np.random.normal(size=n_I))).reshape(-1,1) # Inhibitory Cell Current Injection\n",
    "\n",
    "\n",
    "dts = [1]\n",
    "gids = \"all\"\n",
    "\n",
    "#hf.close() # Uncomment this line temporarily if you receive 'file already open error'\n",
    "\n",
    "hf = h5py.File(\"input/amps.h5\", 'w')\n",
    "\n",
    "hf.create_dataset(\"amplitudes\", data=[amp])\n",
    "hf.create_dataset(\"gids\", data=gids)\n",
    "hf.create_dataset(\"dts\", data=dts)\n",
    "\n",
    "hf.close()"
   ]
  },
  {
   "cell_type": "markdown",
   "metadata": {},
   "source": [
    "### Set up Simulation Environment"
   ]
  },
  {
   "cell_type": "code",
   "execution_count": 7,
   "metadata": {},
   "outputs": [],
   "source": [
    "from bmtk.utils.sim_setup import build_env_bionet\n",
    "\n",
    "build_env_bionet(base_dir='.',\n",
    "                 network_dir='network',\n",
    "                 tstop=500.0, dt=0.1,\n",
    "                 report_vars=['v'],           # Record membrane potential and calcium (default soma)\n",
    "                 #spikes_inputs=[('extnet',   # Name of population which spikes will be generated for\n",
    "                                #'input/ext_inp_poisson.h5')],\n",
    "                 file_current_clamp={              \n",
    "                      \"input_type\": \"file_current_clamp\",\n",
    "                      \"module\": \"FileIClamp\",\n",
    "                      \"input_file\":\"input/amps.h5\",\n",
    "                      \"node_set\":\"all\"\n",
    "                 },\n",
    "                 v_init= -65,\n",
    "                 include_examples=False,    # Copies components files\n",
    "                 compile_mechanisms=False,   # Will try to compile NEURON mechanisms\n",
    "                 config_file ='config.json'\n",
    "                )"
   ]
  },
  {
   "cell_type": "markdown",
   "metadata": {},
   "source": [
    "### Run the Simulation"
   ]
  },
  {
   "cell_type": "code",
   "execution_count": 8,
   "metadata": {},
   "outputs": [
    {
     "name": "stdout",
     "output_type": "stream",
     "text": [
      "2021-03-10 16:06:32,381 [INFO] Created log file\n"
     ]
    },
    {
     "name": "stderr",
     "output_type": "stream",
     "text": [
      "INFO:NEURONIOUtils:Created log file\n"
     ]
    },
    {
     "name": "stdout",
     "output_type": "stream",
     "text": [
      "2021-03-10 16:06:32,463 [INFO] Building cells.\n"
     ]
    },
    {
     "name": "stderr",
     "output_type": "stream",
     "text": [
      "INFO:NEURONIOUtils:Building cells.\n"
     ]
    },
    {
     "name": "stdout",
     "output_type": "stream",
     "text": [
      "2021-03-10 16:06:32,928 [INFO] Building recurrent connections\n"
     ]
    },
    {
     "name": "stderr",
     "output_type": "stream",
     "text": [
      "INFO:NEURONIOUtils:Building recurrent connections\n"
     ]
    },
    {
     "name": "stdout",
     "output_type": "stream",
     "text": [
      "2021-03-10 16:07:10,362 [INFO] Running simulation for 500.000 ms with the time step 0.100 ms\n"
     ]
    },
    {
     "name": "stderr",
     "output_type": "stream",
     "text": [
      "C:\\Users\\strou\\Anaconda3\\envs\\bmtk\\lib\\site-packages\\bmtk\\simulator\\bionet\\biosimulator.py:229: H5pyDeprecationWarning: dataset.value has been deprecated. Use dataset[()] instead.\n",
      "  if \"gids\" not in list(file.keys()) or file[\"gids\"].value == 'all':\n",
      "C:\\Users\\strou\\Anaconda3\\envs\\bmtk\\lib\\site-packages\\bmtk\\simulator\\bionet\\biosimulator.py:243: H5pyDeprecationWarning: dataset.value has been deprecated. Use dataset[()] instead.\n",
      "  amplitudes = file[\"amplitudes\"].value\n",
      "C:\\Users\\strou\\Anaconda3\\envs\\bmtk\\lib\\site-packages\\bmtk\\simulator\\bionet\\biosimulator.py:248: H5pyDeprecationWarning: dataset.value has been deprecated. Use dataset[()] instead.\n",
      "  dts = file[\"dts\"].value\n",
      "INFO:NEURONIOUtils:Running simulation for 500.000 ms with the time step 0.100 ms\n"
     ]
    },
    {
     "name": "stdout",
     "output_type": "stream",
     "text": [
      "2021-03-10 16:07:10,364 [INFO] Starting timestep: 0 at t_sim: 0.000 ms\n"
     ]
    },
    {
     "name": "stderr",
     "output_type": "stream",
     "text": [
      "INFO:NEURONIOUtils:Starting timestep: 0 at t_sim: 0.000 ms\n"
     ]
    },
    {
     "name": "stdout",
     "output_type": "stream",
     "text": [
      "2021-03-10 16:07:10,366 [INFO] Block save every 5000 steps\n"
     ]
    },
    {
     "name": "stderr",
     "output_type": "stream",
     "text": [
      "INFO:NEURONIOUtils:Block save every 5000 steps\n"
     ]
    },
    {
     "name": "stdout",
     "output_type": "stream",
     "text": [
      "2021-03-10 16:08:16,111 [INFO]     step:5000 t_sim:500.00 ms\n"
     ]
    },
    {
     "name": "stderr",
     "output_type": "stream",
     "text": [
      "INFO:NEURONIOUtils:    step:5000 t_sim:500.00 ms\n"
     ]
    },
    {
     "name": "stdout",
     "output_type": "stream",
     "text": [
      "2021-03-10 16:08:16,199 [INFO] Simulation completed in 65.84 seconds \n"
     ]
    },
    {
     "name": "stderr",
     "output_type": "stream",
     "text": [
      "INFO:NEURONIOUtils:Simulation completed in 65.84 seconds \n"
     ]
    }
   ],
   "source": [
    "from bmtk.simulator import bionet\n",
    "\n",
    "\n",
    "conf = bionet.Config.from_json('config.json')\n",
    "conf.build_env()\n",
    "net = bionet.BioNetwork.from_config(conf)\n",
    "sim = bionet.BioSimulator.from_config(conf, network=net)\n",
    "sim.run()"
   ]
  },
  {
   "cell_type": "markdown",
   "metadata": {},
   "source": [
    "### Analyze Results"
   ]
  },
  {
   "cell_type": "markdown",
   "metadata": {},
   "source": [
    "We did not add initial voltage values to the ING network nor the E - cells. Because of a synchronous initialization, only the ING cell entrainment of the E-cells can be observed. The E - cells are already synchronous."
   ]
  },
  {
   "cell_type": "code",
   "execution_count": 9,
   "metadata": {
    "scrolled": false
   },
   "outputs": [
    {
     "data": {
      "image/png": "[encoded data removed]",
      "text/plain": [
       "<Figure size 432x288 with 1 Axes>"
      ]
     },
     "metadata": {
      "needs_background": "light"
     },
     "output_type": "display_data"
    },
    {
     "data": {
      "image/png": "[encoded data removed]",
      "text/plain": [
       "<Figure size 432x288 with 1 Axes>"
      ]
     },
     "execution_count": 9,
     "metadata": {},
     "output_type": "execute_result"
    }
   ],
   "source": [
    "from bmtk.analyzer.spike_trains import plot_raster,plot_rates_boxplot\n",
    "\n",
    "plot_raster(config_file='config.json', with_histogram=False, population='network', group_by='pop_name')"
   ]
  },
  {
   "cell_type": "code",
   "execution_count": 10,
   "metadata": {},
   "outputs": [
    {
     "data": {
      "image/png": "[encoded data removed]",
      "text/plain": [
       "<Figure size 432x288 with 1 Axes>"
      ]
     },
     "metadata": {
      "needs_background": "light"
     },
     "output_type": "display_data"
    },
    {
     "data": {
      "image/png": "[encoded data removed]",
      "text/plain": [
       "<Figure size 432x288 with 1 Axes>"
      ]
     },
     "execution_count": 10,
     "metadata": {},
     "output_type": "execute_result"
    }
   ],
   "source": [
    "plot_rates_boxplot(config_file='config.json', group_by='pop_name')"
   ]
  },
  {
   "cell_type": "markdown",
   "metadata": {},
   "source": [
    "The ING network successfully entrained the E-cells (Exc) at ~30 Hz which is in Gamma wave range"
   ]
  },
  {
   "cell_type": "code",
   "execution_count": null,
   "metadata": {},
   "outputs": [],
   "source": []
  }
 ],
 "metadata": {
  "kernelspec": {
   "display_name": "Python 3",
   "language": "python",
   "name": "python3"
  },
  "language_info": {
   "codemirror_mode": {
    "name": "ipython",
    "version": 3
   },
   "file_extension": ".py",
   "mimetype": "text/x-python",
   "name": "python",
   "nbconvert_exporter": "python",
   "pygments_lexer": "ipython3",
   "version": "3.6.12"
  }
 },
 "nbformat": 4,
 "nbformat_minor": 2
}
