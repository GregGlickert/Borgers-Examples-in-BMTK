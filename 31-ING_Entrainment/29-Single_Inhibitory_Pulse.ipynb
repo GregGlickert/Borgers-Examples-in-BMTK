{
 "cells": [
  {
   "cell_type": "markdown",
   "metadata": {},
   "source": [
    "# Chapter 29 - Approximate Synchronization by Single Inhibitory Pulse"
   ]
  },
  {
   "cell_type": "code",
   "execution_count": 1,
   "metadata": {},
   "outputs": [
    {
     "name": "stderr",
     "output_type": "stream",
     "text": [
      "c:\\users\\strou\\anaconda3\\envs\\py2env\\lib\\site-packages\\h5py\\__init__.py:34: FutureWarning: Conversion of the second argument of issubdtype from `float` to `np.floating` is deprecated. In future, it will be treated as `np.float64 == np.dtype(float).type`.\n",
      "  from ._conv import register_converters as _register_converters\n"
     ]
    }
   ],
   "source": [
    "import numpy as np\n",
    "import logging\n",
    "import math\n",
    "\n",
    "from bmtk.builder.networks import NetworkBuilder\n",
    "\n",
    "n_E =10\n",
    "\n",
    "net = NetworkBuilder('network')\n",
    "net.add_nodes(N=n_E, pop_name='Exc',     # N = number of excitatory cells\n",
    "        model_type='biophysical',\n",
    "        model_template='hoc:RTMExcCell', # RTMExcCell hoc definition\n",
    "        morphology='blank.swc')"
   ]
  },
  {
   "cell_type": "code",
   "execution_count": 2,
   "metadata": {},
   "outputs": [],
   "source": [
    "net.build()\n",
    "net.save_nodes(output_dir='network')"
   ]
  },
  {
   "cell_type": "code",
   "execution_count": 3,
   "metadata": {},
   "outputs": [],
   "source": [
    "n_In=10\n",
    "extnet = NetworkBuilder('extnet')\n",
    "extnet.add_nodes(N=n_In,pop_name='Inp',\n",
    "            potential='exc',\n",
    "            model_type='virtual')"
   ]
  },
  {
   "cell_type": "markdown",
   "metadata": {},
   "source": [
    "BMTK does not allow individual nodes to start with distinct initial voltages. This is exactly what we need. To accomplish this, we will add a unique synaptic input to all of our cells to create initial voltages.\n",
    "\n",
    "First, we need an equation that will match with the initial voltages in Borger's example. The initial voltages are given in the first vector. "
   ]
  },
  {
   "cell_type": "markdown",
   "metadata": {},
   "source": [
    " init_volt=[-58.6290, -62.4873, -64.7941, -67.1735, -69.9618, -73.3491, -77.4968, -82.5814, -88.8151, -96.3579]\n",
    "\n",
    "graphing and fitting a 3rd order polynomial to this data yields the following equation:\n",
    "    y = -0.0452x3 + 0.4511x2 - 4.1178x - 55.204\n",
    "    "
   ]
  },
  {
   "cell_type": "code",
   "execution_count": 4,
   "metadata": {},
   "outputs": [],
   "source": [
    "def one_each(source, target):\n",
    "    if source['node_id']==target['node_id']:\n",
    "        return 1\n",
    "    return 0\n",
    "\n",
    "def set_syn_weight(source, target):\n",
    "    sec_x = 0.5\n",
    "    sec_id = 0\n",
    "    x=target['node_id']\n",
    "    a=1\n",
    "    voltage = (-0.0452*x**3 + 0.4511*x**2 - 4.1178*x - 55.204)\n",
    "    syn_weight = a/(voltage* (math.exp(-1/0.2) - math.exp(-1/0.1)))\n",
    "    print(syn_weight)                                \n",
    "    return syn_weight, sec_x, sec_id\n",
    "\n",
    "conn=extnet.add_edges(source={'pop_name':'Inp'}, target=net.nodes(),\n",
    "                    connection_rule=one_each,              \n",
    "                    delay=0,\n",
    "                    weight_function=None,\n",
    "                    target_sections=['soma'],\n",
    "                    distance_range=[0.0, 0.00000000001],\n",
    "                    dynamics_params='PING_InhToExc.json',\n",
    "                    model_template='Exp2Syn')\n",
    "\n",
    "conn.add_properties(['syn_weight','sec_x','sec_id'],\n",
    "                    rule=set_syn_weight, \n",
    "                    dtypes=[np.float, np.uint, np.uint])"
   ]
  },
  {
   "cell_type": "code",
   "execution_count": 5,
   "metadata": {},
   "outputs": [
    {
     "name": "stdout",
     "output_type": "stream",
     "text": [
      "-2.70668688424\n",
      "-2.53615650032\n",
      "-2.4101234702\n",
      "-2.30878849217\n",
      "-2.21854573629\n",
      "-2.1295357798\n",
      "-2.0347404317\n",
      "-1.92978462342\n",
      "-1.81294398772\n",
      "-1.68501185505\n"
     ]
    }
   ],
   "source": [
    "extnet.build()\n",
    "extnet.save_nodes(output_dir='network')\n",
    "extnet.save_edges(output_dir='network')"
   ]
  },
  {
   "cell_type": "markdown",
   "metadata": {},
   "source": [
    "### add spike train to our virtual cells"
   ]
  },
  {
   "cell_type": "code",
   "execution_count": 6,
   "metadata": {},
   "outputs": [],
   "source": [
    "from bmtk.utils.reports.spike_trains import SpikeTrains\n",
    "\n",
    "spikes = SpikeTrains(population='extnet')\n",
    "for i in range(30):\n",
    "    spikes.add_spike(node_id=i,timestamp=0)\n",
    "spikes.to_sonata('input/Splay.h5')"
   ]
  },
  {
   "cell_type": "code",
   "execution_count": 7,
   "metadata": {},
   "outputs": [
    {
     "name": "stdout",
     "output_type": "stream",
     "text": [
      "[0, 0, 0, 0, 0, 1.2, 1.2, 1.2, 1.2, 1.2, 1.2, 1.2, 1.2, 1.2, 1.2, 1.2, 1.2, 1.2, 1.2, 1.2, 1.2, 1.2, 1.2, 1.2, 1.2, 1.2, 1.2, 1.2, 1.2, 1.2]\n"
     ]
    }
   ],
   "source": [
    "import h5py\n",
    "\n",
    "i_ext=[0,0,0,0,0]\n",
    "for i in range(25):\n",
    "    i_ext.append(1.2)\n",
    "print(i_ext)\n",
    "dts = [1]\n",
    "gids = \"all\"\n",
    "\n",
    "#hf.close() # Uncomment this line temporarily if you receive 'file already open error'\n",
    "\n",
    "hf = h5py.File(\"input/amps.h5\", 'w')\n",
    "\n",
    "hf.create_dataset(\"amplitudes\", data=[i_ext])\n",
    "hf.create_dataset(\"gids\", data=gids)\n",
    "hf.create_dataset(\"dts\", data=dts)\n",
    "\n",
    "hf.close()"
   ]
  },
  {
   "cell_type": "markdown",
   "metadata": {},
   "source": [
    "Build the simulation environment. Has been edited for you"
   ]
  },
  {
   "cell_type": "code",
   "execution_count": 8,
   "metadata": {},
   "outputs": [],
   "source": [
    "#from bmtk.utils.sim_setup import build_env_bionet\n",
    "\n",
    "#build_env_bionet(base_dir='.',\n",
    "                 #network_dir='network',\n",
    "                 #tstop=30.0, dt=0.1,\n",
    "                 #report_vars=['v'],     # Record membrane potential and calcium (default soma)\n",
    "                #spikes_inputs=[('extnet',   # Name of population which spikes will be generated for\n",
    "                                #'input/Splay.h5')],\n",
    "                 #include_examples=False,    # Copies components files\n",
    "                 #compile_mechanisms=False   # Will try to compile NEURON mechanisms\n",
    "                #)"
   ]
  },
  {
   "cell_type": "markdown",
   "metadata": {},
   "source": [
    "Run the Simulation"
   ]
  },
  {
   "cell_type": "code",
   "execution_count": 9,
   "metadata": {},
   "outputs": [
    {
     "name": "stdout",
     "output_type": "stream",
     "text": [
      "2021-01-25 23:20:28,523 [INFO] Building cells.\n",
      "2021-01-25 23:20:28,535 [INFO] Building recurrent connections\n",
      "2021-01-25 23:20:28,545 [INFO] Building virtual cell stimulations for extnet_spikes\n",
      "2021-01-25 23:20:28,589 [INFO] Running simulation for 30.000 ms with the time step 0.100 ms\n",
      "2021-01-25 23:20:28,605 [INFO] Starting timestep: 0 at t_sim: 0.000 ms\n",
      "2021-01-25 23:20:28,621 [INFO] Block save every 300 steps\n",
      "2021-01-25 23:20:28,696 [INFO]     step:300 t_sim:30.00 ms\n",
      "2021-01-25 23:20:28,719 [INFO] Simulation completed in 0.129 seconds \n"
     ]
    }
   ],
   "source": [
    "from bmtk.simulator import bionet\n",
    "\n",
    "\n",
    "conf = bionet.Config.from_json('simulation_config.json')\n",
    "conf.build_env()\n",
    "net = bionet.BioNetwork.from_config(conf)\n",
    "sim = bionet.BioSimulator.from_config(conf, network=net)\n",
    "sim.run()"
   ]
  },
  {
   "cell_type": "code",
   "execution_count": 10,
   "metadata": {},
   "outputs": [],
   "source": [
    "from bmtk.utils.reports.compartment import CompartmentReport\n",
    "\n",
    "pop_name = 'Exc'\n",
    "report = CompartmentReport('output/v_report.h5',\n",
    "population=pop_name, mode='r')\n",
    "v_trace=[]\n",
    "for i in range(10):\n",
    "    v_trace.append(report.data(node_id=i))\n",
    "time = np.arange(report.tstart(), report.tstop(), report.dt())\n"
   ]
  },
  {
   "cell_type": "code",
   "execution_count": 12,
   "metadata": {},
   "outputs": [
    {
     "data": {
      "image/png": "[encoded data removed]",
      "text/plain": [
       "<Figure size 432x288 with 1 Axes>"
      ]
     },
     "metadata": {
      "needs_background": "light"
     },
     "output_type": "display_data"
    }
   ],
   "source": [
    "import matplotlib.pyplot as plt\n",
    "for i in range(10):\n",
    "    plt.plot(time, v_trace[i])\n",
    "plt.ylabel('Voltage [mv]')\n",
    "plt.xlabel('Time [ms]')\n",
    "plt.title('RTM_neuron Voltage')\n",
    "plt.xlim([0,30])\n",
    "#plt.ylim([-100,-66])\n",
    "plt.show()"
   ]
  },
  {
   "cell_type": "code",
   "execution_count": null,
   "metadata": {},
   "outputs": [],
   "source": []
  }
 ],
 "metadata": {
  "kernelspec": {
   "display_name": "Python 2",
   "language": "python",
   "name": "python2"
  },
  "language_info": {
   "codemirror_mode": {
    "name": "ipython",
    "version": 2
   },
   "file_extension": ".py",
   "mimetype": "text/x-python",
   "name": "python",
   "nbconvert_exporter": "python",
   "pygments_lexer": "ipython2",
   "version": "2.7.18"
  }
 },
 "nbformat": 4,
 "nbformat_minor": 2
}
