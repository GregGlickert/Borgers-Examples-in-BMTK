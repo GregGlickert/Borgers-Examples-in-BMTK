{
  "cells": [
    {
      "cell_type": "markdown",
      "metadata": {
        "id": "5lG-jqAKgUrz"
      },
      "source": [
        "# Chapter 31- ING Entrainment of E - Cells\n",
        "This notebook is a translation of an example in Christophe Borgers' book, \"An Introduction to Modeling Neuronal Dynamics\"\n",
        "\n",
        "In this tutorial,we display an Interneuronal Network Gamma (ING) network entrain excitatory neurons (E-cells). Gamma rhythms are 30-80 Hz, thus the firing of the E-cells must be within this range. We model 400 E-cells with an RTM model and the ING cells with a WB model.\n",
        "\n",
        "requirements:\n",
        "\n",
        " bmtk\n",
        "\n",
        " NEURON 7.4+"
      ]
    },
    {
      "cell_type": "markdown",
      "metadata": {
        "id": "FWL9eUopgUr0"
      },
      "source": [
        "### Create nodes\n",
        "The ING network, E-cells, and external input nodes are defined"
      ]
    },
    {
      "cell_type": "code",
      "source": [
        "! pip install -q h5py==2.9.0\n",
        "! pip install -q bmtk==0.0.9\n",
        "! pip install -q neuron==8.0.0\n",
        "# as new version of neuron and bmtk come out we may need to install a specific version\n",
        "import os\n",
        "from os.path import normpath, sep, join\n",
        "\n",
        "root = 'Borgers-Examples-in-BMTK' # name of github repo\n",
        "folder = '31-ING_Entrainment' # name of folder in Github just change this line \n",
        "pathlist = normpath(os.getcwd()).split(sep)\n",
        "if pathlist[-1] != folder:\n",
        "  rootidx = pathlist.index(root) if root in pathlist else -1\n",
        "  if rootidx>0:\n",
        "    os.chdir(join(sep,*pathlist[:rootidx]))\n",
        "  !git clone https://github.com/Kally367294/Borgers-Examples-in-BMTK\n",
        "  os.chdir(join(root,folder))\n",
        "print(os.getcwd())\n",
        "%ls"
      ],
      "metadata": {
        "id": "7lBNnNnHgVSA",
        "outputId": "9b4c0a30-406f-4c03-d079-0c9fc766b858",
        "colab": {
          "base_uri": "https://localhost:8080/"
        }
      },
      "execution_count": 1,
      "outputs": [
        {
          "output_type": "stream",
          "name": "stdout",
          "text": [
            "\u001b[?25l\r\u001b[K     |▏                               | 10 kB 10.2 MB/s eta 0:00:01\r\u001b[K     |▎                               | 20 kB 13.9 MB/s eta 0:00:01\r\u001b[K     |▍                               | 30 kB 11.8 MB/s eta 0:00:01\r\u001b[K     |▌                               | 40 kB 13.5 MB/s eta 0:00:01\r\u001b[K     |▋                               | 51 kB 8.4 MB/s eta 0:00:01\r\u001b[K     |▊                               | 61 kB 9.6 MB/s eta 0:00:01\r\u001b[K     |▉                               | 71 kB 8.4 MB/s eta 0:00:01\r\u001b[K     |█                               | 81 kB 8.0 MB/s eta 0:00:01\r\u001b[K     |█                               | 92 kB 8.8 MB/s eta 0:00:01\r\u001b[K     |█▏                              | 102 kB 9.4 MB/s eta 0:00:01\r\u001b[K     |█▎                              | 112 kB 9.4 MB/s eta 0:00:01\r\u001b[K     |█▍                              | 122 kB 9.4 MB/s eta 0:00:01\r\u001b[K     |█▌                              | 133 kB 9.4 MB/s eta 0:00:01\r\u001b[K     |█▋                              | 143 kB 9.4 MB/s eta 0:00:01\r\u001b[K     |█▊                              | 153 kB 9.4 MB/s eta 0:00:01\r\u001b[K     |█▉                              | 163 kB 9.4 MB/s eta 0:00:01\r\u001b[K     |██                              | 174 kB 9.4 MB/s eta 0:00:01\r\u001b[K     |██                              | 184 kB 9.4 MB/s eta 0:00:01\r\u001b[K     |██▏                             | 194 kB 9.4 MB/s eta 0:00:01\r\u001b[K     |██▎                             | 204 kB 9.4 MB/s eta 0:00:01\r\u001b[K     |██▍                             | 215 kB 9.4 MB/s eta 0:00:01\r\u001b[K     |██▌                             | 225 kB 9.4 MB/s eta 0:00:01\r\u001b[K     |██▋                             | 235 kB 9.4 MB/s eta 0:00:01\r\u001b[K     |██▉                             | 245 kB 9.4 MB/s eta 0:00:01\r\u001b[K     |███                             | 256 kB 9.4 MB/s eta 0:00:01\r\u001b[K     |███                             | 266 kB 9.4 MB/s eta 0:00:01\r\u001b[K     |███▏                            | 276 kB 9.4 MB/s eta 0:00:01\r\u001b[K     |███▎                            | 286 kB 9.4 MB/s eta 0:00:01\r\u001b[K     |███▍                            | 296 kB 9.4 MB/s eta 0:00:01\r\u001b[K     |███▌                            | 307 kB 9.4 MB/s eta 0:00:01\r\u001b[K     |███▋                            | 317 kB 9.4 MB/s eta 0:00:01\r\u001b[K     |███▊                            | 327 kB 9.4 MB/s eta 0:00:01\r\u001b[K     |███▉                            | 337 kB 9.4 MB/s eta 0:00:01\r\u001b[K     |████                            | 348 kB 9.4 MB/s eta 0:00:01\r\u001b[K     |████                            | 358 kB 9.4 MB/s eta 0:00:01\r\u001b[K     |████▏                           | 368 kB 9.4 MB/s eta 0:00:01\r\u001b[K     |████▎                           | 378 kB 9.4 MB/s eta 0:00:01\r\u001b[K     |████▍                           | 389 kB 9.4 MB/s eta 0:00:01\r\u001b[K     |████▌                           | 399 kB 9.4 MB/s eta 0:00:01\r\u001b[K     |████▋                           | 409 kB 9.4 MB/s eta 0:00:01\r\u001b[K     |████▊                           | 419 kB 9.4 MB/s eta 0:00:01\r\u001b[K     |████▉                           | 430 kB 9.4 MB/s eta 0:00:01\r\u001b[K     |█████                           | 440 kB 9.4 MB/s eta 0:00:01\r\u001b[K     |█████                           | 450 kB 9.4 MB/s eta 0:00:01\r\u001b[K     |█████▏                          | 460 kB 9.4 MB/s eta 0:00:01\r\u001b[K     |█████▎                          | 471 kB 9.4 MB/s eta 0:00:01\r\u001b[K     |█████▌                          | 481 kB 9.4 MB/s eta 0:00:01\r\u001b[K     |█████▋                          | 491 kB 9.4 MB/s eta 0:00:01\r\u001b[K     |█████▊                          | 501 kB 9.4 MB/s eta 0:00:01\r\u001b[K     |█████▉                          | 512 kB 9.4 MB/s eta 0:00:01\r\u001b[K     |██████                          | 522 kB 9.4 MB/s eta 0:00:01\r\u001b[K     |██████                          | 532 kB 9.4 MB/s eta 0:00:01\r\u001b[K     |██████▏                         | 542 kB 9.4 MB/s eta 0:00:01\r\u001b[K     |██████▎                         | 552 kB 9.4 MB/s eta 0:00:01\r\u001b[K     |██████▍                         | 563 kB 9.4 MB/s eta 0:00:01\r\u001b[K     |██████▌                         | 573 kB 9.4 MB/s eta 0:00:01\r\u001b[K     |██████▋                         | 583 kB 9.4 MB/s eta 0:00:01\r\u001b[K     |██████▊                         | 593 kB 9.4 MB/s eta 0:00:01\r\u001b[K     |██████▉                         | 604 kB 9.4 MB/s eta 0:00:01\r\u001b[K     |███████                         | 614 kB 9.4 MB/s eta 0:00:01\r\u001b[K     |███████                         | 624 kB 9.4 MB/s eta 0:00:01\r\u001b[K     |███████▏                        | 634 kB 9.4 MB/s eta 0:00:01\r\u001b[K     |███████▎                        | 645 kB 9.4 MB/s eta 0:00:01\r\u001b[K     |███████▍                        | 655 kB 9.4 MB/s eta 0:00:01\r\u001b[K     |███████▌                        | 665 kB 9.4 MB/s eta 0:00:01\r\u001b[K     |███████▋                        | 675 kB 9.4 MB/s eta 0:00:01\r\u001b[K     |███████▊                        | 686 kB 9.4 MB/s eta 0:00:01\r\u001b[K     |███████▉                        | 696 kB 9.4 MB/s eta 0:00:01\r\u001b[K     |████████                        | 706 kB 9.4 MB/s eta 0:00:01\r\u001b[K     |████████▏                       | 716 kB 9.4 MB/s eta 0:00:01\r\u001b[K     |████████▎                       | 727 kB 9.4 MB/s eta 0:00:01\r\u001b[K     |████████▍                       | 737 kB 9.4 MB/s eta 0:00:01\r\u001b[K     |████████▌                       | 747 kB 9.4 MB/s eta 0:00:01\r\u001b[K     |████████▋                       | 757 kB 9.4 MB/s eta 0:00:01\r\u001b[K     |████████▊                       | 768 kB 9.4 MB/s eta 0:00:01\r\u001b[K     |████████▉                       | 778 kB 9.4 MB/s eta 0:00:01\r\u001b[K     |█████████                       | 788 kB 9.4 MB/s eta 0:00:01\r\u001b[K     |█████████                       | 798 kB 9.4 MB/s eta 0:00:01\r\u001b[K     |█████████▏                      | 808 kB 9.4 MB/s eta 0:00:01\r\u001b[K     |█████████▎                      | 819 kB 9.4 MB/s eta 0:00:01\r\u001b[K     |█████████▍                      | 829 kB 9.4 MB/s eta 0:00:01\r\u001b[K     |█████████▌                      | 839 kB 9.4 MB/s eta 0:00:01\r\u001b[K     |█████████▋                      | 849 kB 9.4 MB/s eta 0:00:01\r\u001b[K     |█████████▊                      | 860 kB 9.4 MB/s eta 0:00:01\r\u001b[K     |█████████▉                      | 870 kB 9.4 MB/s eta 0:00:01\r\u001b[K     |██████████                      | 880 kB 9.4 MB/s eta 0:00:01\r\u001b[K     |██████████                      | 890 kB 9.4 MB/s eta 0:00:01\r\u001b[K     |██████████▏                     | 901 kB 9.4 MB/s eta 0:00:01\r\u001b[K     |██████████▎                     | 911 kB 9.4 MB/s eta 0:00:01\r\u001b[K     |██████████▍                     | 921 kB 9.4 MB/s eta 0:00:01\r\u001b[K     |██████████▌                     | 931 kB 9.4 MB/s eta 0:00:01\r\u001b[K     |██████████▋                     | 942 kB 9.4 MB/s eta 0:00:01\r\u001b[K     |██████████▊                     | 952 kB 9.4 MB/s eta 0:00:01\r\u001b[K     |███████████                     | 962 kB 9.4 MB/s eta 0:00:01\r\u001b[K     |███████████                     | 972 kB 9.4 MB/s eta 0:00:01\r\u001b[K     |███████████▏                    | 983 kB 9.4 MB/s eta 0:00:01\r\u001b[K     |███████████▎                    | 993 kB 9.4 MB/s eta 0:00:01\r\u001b[K     |███████████▍                    | 1.0 MB 9.4 MB/s eta 0:00:01\r\u001b[K     |███████████▌                    | 1.0 MB 9.4 MB/s eta 0:00:01\r\u001b[K     |███████████▋                    | 1.0 MB 9.4 MB/s eta 0:00:01\r\u001b[K     |███████████▊                    | 1.0 MB 9.4 MB/s eta 0:00:01\r\u001b[K     |███████████▉                    | 1.0 MB 9.4 MB/s eta 0:00:01\r\u001b[K     |████████████                    | 1.1 MB 9.4 MB/s eta 0:00:01\r\u001b[K     |████████████                    | 1.1 MB 9.4 MB/s eta 0:00:01\r\u001b[K     |████████████▏                   | 1.1 MB 9.4 MB/s eta 0:00:01\r\u001b[K     |████████████▎                   | 1.1 MB 9.4 MB/s eta 0:00:01\r\u001b[K     |████████████▍                   | 1.1 MB 9.4 MB/s eta 0:00:01\r\u001b[K     |████████████▌                   | 1.1 MB 9.4 MB/s eta 0:00:01\r\u001b[K     |████████████▋                   | 1.1 MB 9.4 MB/s eta 0:00:01\r\u001b[K     |████████████▊                   | 1.1 MB 9.4 MB/s eta 0:00:01\r\u001b[K     |████████████▉                   | 1.1 MB 9.4 MB/s eta 0:00:01\r\u001b[K     |█████████████                   | 1.1 MB 9.4 MB/s eta 0:00:01\r\u001b[K     |█████████████                   | 1.2 MB 9.4 MB/s eta 0:00:01\r\u001b[K     |█████████████▏                  | 1.2 MB 9.4 MB/s eta 0:00:01\r\u001b[K     |█████████████▎                  | 1.2 MB 9.4 MB/s eta 0:00:01\r\u001b[K     |█████████████▍                  | 1.2 MB 9.4 MB/s eta 0:00:01\r\u001b[K     |█████████████▋                  | 1.2 MB 9.4 MB/s eta 0:00:01\r\u001b[K     |█████████████▊                  | 1.2 MB 9.4 MB/s eta 0:00:01\r\u001b[K     |█████████████▉                  | 1.2 MB 9.4 MB/s eta 0:00:01\r\u001b[K     |██████████████                  | 1.2 MB 9.4 MB/s eta 0:00:01\r\u001b[K     |██████████████                  | 1.2 MB 9.4 MB/s eta 0:00:01\r\u001b[K     |██████████████▏                 | 1.2 MB 9.4 MB/s eta 0:00:01\r\u001b[K     |██████████████▎                 | 1.3 MB 9.4 MB/s eta 0:00:01\r\u001b[K     |██████████████▍                 | 1.3 MB 9.4 MB/s eta 0:00:01\r\u001b[K     |██████████████▌                 | 1.3 MB 9.4 MB/s eta 0:00:01\r\u001b[K     |██████████████▋                 | 1.3 MB 9.4 MB/s eta 0:00:01\r\u001b[K     |██████████████▊                 | 1.3 MB 9.4 MB/s eta 0:00:01\r\u001b[K     |██████████████▉                 | 1.3 MB 9.4 MB/s eta 0:00:01\r\u001b[K     |███████████████                 | 1.3 MB 9.4 MB/s eta 0:00:01\r\u001b[K     |███████████████                 | 1.3 MB 9.4 MB/s eta 0:00:01\r\u001b[K     |███████████████▏                | 1.3 MB 9.4 MB/s eta 0:00:01\r\u001b[K     |███████████████▎                | 1.4 MB 9.4 MB/s eta 0:00:01\r\u001b[K     |███████████████▍                | 1.4 MB 9.4 MB/s eta 0:00:01\r\u001b[K     |███████████████▌                | 1.4 MB 9.4 MB/s eta 0:00:01\r\u001b[K     |███████████████▋                | 1.4 MB 9.4 MB/s eta 0:00:01\r\u001b[K     |███████████████▊                | 1.4 MB 9.4 MB/s eta 0:00:01\r\u001b[K     |███████████████▉                | 1.4 MB 9.4 MB/s eta 0:00:01\r\u001b[K     |████████████████                | 1.4 MB 9.4 MB/s eta 0:00:01\r\u001b[K     |████████████████                | 1.4 MB 9.4 MB/s eta 0:00:01\r\u001b[K     |████████████████▎               | 1.4 MB 9.4 MB/s eta 0:00:01\r\u001b[K     |████████████████▍               | 1.4 MB 9.4 MB/s eta 0:00:01\r\u001b[K     |████████████████▌               | 1.5 MB 9.4 MB/s eta 0:00:01\r\u001b[K     |████████████████▋               | 1.5 MB 9.4 MB/s eta 0:00:01\r\u001b[K     |████████████████▊               | 1.5 MB 9.4 MB/s eta 0:00:01\r\u001b[K     |████████████████▉               | 1.5 MB 9.4 MB/s eta 0:00:01\r\u001b[K     |█████████████████               | 1.5 MB 9.4 MB/s eta 0:00:01\r\u001b[K     |█████████████████               | 1.5 MB 9.4 MB/s eta 0:00:01\r\u001b[K     |█████████████████▏              | 1.5 MB 9.4 MB/s eta 0:00:01\r\u001b[K     |█████████████████▎              | 1.5 MB 9.4 MB/s eta 0:00:01\r\u001b[K     |█████████████████▍              | 1.5 MB 9.4 MB/s eta 0:00:01\r\u001b[K     |█████████████████▌              | 1.5 MB 9.4 MB/s eta 0:00:01\r\u001b[K     |█████████████████▋              | 1.6 MB 9.4 MB/s eta 0:00:01\r\u001b[K     |█████████████████▊              | 1.6 MB 9.4 MB/s eta 0:00:01\r\u001b[K     |█████████████████▉              | 1.6 MB 9.4 MB/s eta 0:00:01\r\u001b[K     |██████████████████              | 1.6 MB 9.4 MB/s eta 0:00:01\r\u001b[K     |██████████████████              | 1.6 MB 9.4 MB/s eta 0:00:01\r\u001b[K     |██████████████████▏             | 1.6 MB 9.4 MB/s eta 0:00:01\r\u001b[K     |██████████████████▎             | 1.6 MB 9.4 MB/s eta 0:00:01\r\u001b[K     |██████████████████▍             | 1.6 MB 9.4 MB/s eta 0:00:01\r\u001b[K     |██████████████████▌             | 1.6 MB 9.4 MB/s eta 0:00:01\r\u001b[K     |██████████████████▋             | 1.6 MB 9.4 MB/s eta 0:00:01\r\u001b[K     |██████████████████▊             | 1.7 MB 9.4 MB/s eta 0:00:01\r\u001b[K     |██████████████████▉             | 1.7 MB 9.4 MB/s eta 0:00:01\r\u001b[K     |███████████████████             | 1.7 MB 9.4 MB/s eta 0:00:01\r\u001b[K     |███████████████████▏            | 1.7 MB 9.4 MB/s eta 0:00:01\r\u001b[K     |███████████████████▎            | 1.7 MB 9.4 MB/s eta 0:00:01\r\u001b[K     |███████████████████▍            | 1.7 MB 9.4 MB/s eta 0:00:01\r\u001b[K     |███████████████████▌            | 1.7 MB 9.4 MB/s eta 0:00:01\r\u001b[K     |███████████████████▋            | 1.7 MB 9.4 MB/s eta 0:00:01\r\u001b[K     |███████████████████▊            | 1.7 MB 9.4 MB/s eta 0:00:01\r\u001b[K     |███████████████████▉            | 1.8 MB 9.4 MB/s eta 0:00:01\r\u001b[K     |████████████████████            | 1.8 MB 9.4 MB/s eta 0:00:01\r\u001b[K     |████████████████████            | 1.8 MB 9.4 MB/s eta 0:00:01\r\u001b[K     |████████████████████▏           | 1.8 MB 9.4 MB/s eta 0:00:01\r\u001b[K     |████████████████████▎           | 1.8 MB 9.4 MB/s eta 0:00:01\r\u001b[K     |████████████████████▍           | 1.8 MB 9.4 MB/s eta 0:00:01\r\u001b[K     |████████████████████▌           | 1.8 MB 9.4 MB/s eta 0:00:01\r\u001b[K     |████████████████████▋           | 1.8 MB 9.4 MB/s eta 0:00:01\r\u001b[K     |████████████████████▊           | 1.8 MB 9.4 MB/s eta 0:00:01\r\u001b[K     |████████████████████▉           | 1.8 MB 9.4 MB/s eta 0:00:01\r\u001b[K     |█████████████████████           | 1.9 MB 9.4 MB/s eta 0:00:01\r\u001b[K     |█████████████████████           | 1.9 MB 9.4 MB/s eta 0:00:01\r\u001b[K     |█████████████████████▏          | 1.9 MB 9.4 MB/s eta 0:00:01\r\u001b[K     |█████████████████████▎          | 1.9 MB 9.4 MB/s eta 0:00:01\r\u001b[K     |█████████████████████▍          | 1.9 MB 9.4 MB/s eta 0:00:01\r\u001b[K     |█████████████████████▌          | 1.9 MB 9.4 MB/s eta 0:00:01\r\u001b[K     |█████████████████████▊          | 1.9 MB 9.4 MB/s eta 0:00:01\r\u001b[K     |█████████████████████▉          | 1.9 MB 9.4 MB/s eta 0:00:01\r\u001b[K     |██████████████████████          | 1.9 MB 9.4 MB/s eta 0:00:01\r\u001b[K     |██████████████████████          | 1.9 MB 9.4 MB/s eta 0:00:01\r\u001b[K     |██████████████████████▏         | 2.0 MB 9.4 MB/s eta 0:00:01\r\u001b[K     |██████████████████████▎         | 2.0 MB 9.4 MB/s eta 0:00:01\r\u001b[K     |██████████████████████▍         | 2.0 MB 9.4 MB/s eta 0:00:01\r\u001b[K     |██████████████████████▌         | 2.0 MB 9.4 MB/s eta 0:00:01\r\u001b[K     |██████████████████████▋         | 2.0 MB 9.4 MB/s eta 0:00:01\r\u001b[K     |██████████████████████▊         | 2.0 MB 9.4 MB/s eta 0:00:01\r\u001b[K     |██████████████████████▉         | 2.0 MB 9.4 MB/s eta 0:00:01\r\u001b[K     |███████████████████████         | 2.0 MB 9.4 MB/s eta 0:00:01\r\u001b[K     |███████████████████████         | 2.0 MB 9.4 MB/s eta 0:00:01\r\u001b[K     |███████████████████████▏        | 2.0 MB 9.4 MB/s eta 0:00:01\r\u001b[K     |███████████████████████▎        | 2.1 MB 9.4 MB/s eta 0:00:01\r\u001b[K     |███████████████████████▍        | 2.1 MB 9.4 MB/s eta 0:00:01\r\u001b[K     |███████████████████████▌        | 2.1 MB 9.4 MB/s eta 0:00:01\r\u001b[K     |███████████████████████▋        | 2.1 MB 9.4 MB/s eta 0:00:01\r\u001b[K     |███████████████████████▊        | 2.1 MB 9.4 MB/s eta 0:00:01\r\u001b[K     |███████████████████████▉        | 2.1 MB 9.4 MB/s eta 0:00:01\r\u001b[K     |████████████████████████        | 2.1 MB 9.4 MB/s eta 0:00:01\r\u001b[K     |████████████████████████        | 2.1 MB 9.4 MB/s eta 0:00:01\r\u001b[K     |████████████████████████▏       | 2.1 MB 9.4 MB/s eta 0:00:01\r\u001b[K     |████████████████████████▍       | 2.2 MB 9.4 MB/s eta 0:00:01\r\u001b[K     |████████████████████████▌       | 2.2 MB 9.4 MB/s eta 0:00:01\r\u001b[K     |████████████████████████▋       | 2.2 MB 9.4 MB/s eta 0:00:01\r\u001b[K     |████████████████████████▊       | 2.2 MB 9.4 MB/s eta 0:00:01\r\u001b[K     |████████████████████████▉       | 2.2 MB 9.4 MB/s eta 0:00:01\r\u001b[K     |█████████████████████████       | 2.2 MB 9.4 MB/s eta 0:00:01\r\u001b[K     |█████████████████████████       | 2.2 MB 9.4 MB/s eta 0:00:01\r\u001b[K     |█████████████████████████▏      | 2.2 MB 9.4 MB/s eta 0:00:01\r\u001b[K     |█████████████████████████▎      | 2.2 MB 9.4 MB/s eta 0:00:01\r\u001b[K     |█████████████████████████▍      | 2.2 MB 9.4 MB/s eta 0:00:01\r\u001b[K     |█████████████████████████▌      | 2.3 MB 9.4 MB/s eta 0:00:01\r\u001b[K     |█████████████████████████▋      | 2.3 MB 9.4 MB/s eta 0:00:01\r\u001b[K     |█████████████████████████▊      | 2.3 MB 9.4 MB/s eta 0:00:01\r\u001b[K     |█████████████████████████▉      | 2.3 MB 9.4 MB/s eta 0:00:01\r\u001b[K     |██████████████████████████      | 2.3 MB 9.4 MB/s eta 0:00:01\r\u001b[K     |██████████████████████████      | 2.3 MB 9.4 MB/s eta 0:00:01\r\u001b[K     |██████████████████████████▏     | 2.3 MB 9.4 MB/s eta 0:00:01\r\u001b[K     |██████████████████████████▎     | 2.3 MB 9.4 MB/s eta 0:00:01\r\u001b[K     |██████████████████████████▍     | 2.3 MB 9.4 MB/s eta 0:00:01\r\u001b[K     |██████████████████████████▌     | 2.3 MB 9.4 MB/s eta 0:00:01\r\u001b[K     |██████████████████████████▋     | 2.4 MB 9.4 MB/s eta 0:00:01\r\u001b[K     |██████████████████████████▊     | 2.4 MB 9.4 MB/s eta 0:00:01\r\u001b[K     |██████████████████████████▉     | 2.4 MB 9.4 MB/s eta 0:00:01\r\u001b[K     |███████████████████████████     | 2.4 MB 9.4 MB/s eta 0:00:01\r\u001b[K     |███████████████████████████▏    | 2.4 MB 9.4 MB/s eta 0:00:01\r\u001b[K     |███████████████████████████▎    | 2.4 MB 9.4 MB/s eta 0:00:01\r\u001b[K     |███████████████████████████▍    | 2.4 MB 9.4 MB/s eta 0:00:01\r\u001b[K     |███████████████████████████▌    | 2.4 MB 9.4 MB/s eta 0:00:01\r\u001b[K     |███████████████████████████▋    | 2.4 MB 9.4 MB/s eta 0:00:01\r\u001b[K     |███████████████████████████▊    | 2.4 MB 9.4 MB/s eta 0:00:01\r\u001b[K     |███████████████████████████▉    | 2.5 MB 9.4 MB/s eta 0:00:01\r\u001b[K     |████████████████████████████    | 2.5 MB 9.4 MB/s eta 0:00:01\r\u001b[K     |████████████████████████████    | 2.5 MB 9.4 MB/s eta 0:00:01\r\u001b[K     |████████████████████████████▏   | 2.5 MB 9.4 MB/s eta 0:00:01\r\u001b[K     |████████████████████████████▎   | 2.5 MB 9.4 MB/s eta 0:00:01\r\u001b[K     |████████████████████████████▍   | 2.5 MB 9.4 MB/s eta 0:00:01\r\u001b[K     |████████████████████████████▌   | 2.5 MB 9.4 MB/s eta 0:00:01\r\u001b[K     |████████████████████████████▋   | 2.5 MB 9.4 MB/s eta 0:00:01\r\u001b[K     |████████████████████████████▊   | 2.5 MB 9.4 MB/s eta 0:00:01\r\u001b[K     |████████████████████████████▉   | 2.5 MB 9.4 MB/s eta 0:00:01\r\u001b[K     |█████████████████████████████   | 2.6 MB 9.4 MB/s eta 0:00:01\r\u001b[K     |█████████████████████████████   | 2.6 MB 9.4 MB/s eta 0:00:01\r\u001b[K     |█████████████████████████████▏  | 2.6 MB 9.4 MB/s eta 0:00:01\r\u001b[K     |█████████████████████████████▎  | 2.6 MB 9.4 MB/s eta 0:00:01\r\u001b[K     |█████████████████████████████▍  | 2.6 MB 9.4 MB/s eta 0:00:01\r\u001b[K     |█████████████████████████████▌  | 2.6 MB 9.4 MB/s eta 0:00:01\r\u001b[K     |█████████████████████████████▋  | 2.6 MB 9.4 MB/s eta 0:00:01\r\u001b[K     |█████████████████████████████▉  | 2.6 MB 9.4 MB/s eta 0:00:01\r\u001b[K     |██████████████████████████████  | 2.6 MB 9.4 MB/s eta 0:00:01\r\u001b[K     |██████████████████████████████  | 2.7 MB 9.4 MB/s eta 0:00:01\r\u001b[K     |██████████████████████████████▏ | 2.7 MB 9.4 MB/s eta 0:00:01\r\u001b[K     |██████████████████████████████▎ | 2.7 MB 9.4 MB/s eta 0:00:01\r\u001b[K     |██████████████████████████████▍ | 2.7 MB 9.4 MB/s eta 0:00:01\r\u001b[K     |██████████████████████████████▌ | 2.7 MB 9.4 MB/s eta 0:00:01\r\u001b[K     |██████████████████████████████▋ | 2.7 MB 9.4 MB/s eta 0:00:01\r\u001b[K     |██████████████████████████████▊ | 2.7 MB 9.4 MB/s eta 0:00:01\r\u001b[K     |██████████████████████████████▉ | 2.7 MB 9.4 MB/s eta 0:00:01\r\u001b[K     |███████████████████████████████ | 2.7 MB 9.4 MB/s eta 0:00:01\r\u001b[K     |███████████████████████████████ | 2.7 MB 9.4 MB/s eta 0:00:01\r\u001b[K     |███████████████████████████████▏| 2.8 MB 9.4 MB/s eta 0:00:01\r\u001b[K     |███████████████████████████████▎| 2.8 MB 9.4 MB/s eta 0:00:01\r\u001b[K     |███████████████████████████████▍| 2.8 MB 9.4 MB/s eta 0:00:01\r\u001b[K     |███████████████████████████████▌| 2.8 MB 9.4 MB/s eta 0:00:01\r\u001b[K     |███████████████████████████████▋| 2.8 MB 9.4 MB/s eta 0:00:01\r\u001b[K     |███████████████████████████████▊| 2.8 MB 9.4 MB/s eta 0:00:01\r\u001b[K     |███████████████████████████████▉| 2.8 MB 9.4 MB/s eta 0:00:01\r\u001b[K     |████████████████████████████████| 2.8 MB 9.4 MB/s eta 0:00:01\r\u001b[K     |████████████████████████████████| 2.8 MB 9.4 MB/s \n",
            "\u001b[31mERROR: pip's dependency resolver does not currently take into account all the packages that are installed. This behaviour is the source of the following dependency conflicts.\n",
            "tensorflow 2.8.0 requires tf-estimator-nightly==2.8.0.dev2021122109, which is not installed.\u001b[0m\n",
            "\u001b[K     |████████████████████████████████| 4.8 MB 9.4 MB/s \n",
            "\u001b[K     |████████████████████████████████| 12.6 MB 9.2 MB/s \n",
            "\u001b[?25hCloning into 'Borgers-Examples-in-BMTK'...\n",
            "remote: Enumerating objects: 859, done.\u001b[K\n",
            "remote: Counting objects: 100% (859/859), done.\u001b[K\n",
            "remote: Compressing objects: 100% (474/474), done.\u001b[K\n",
            "remote: Total 859 (delta 453), reused 722 (delta 357), pack-reused 0\u001b[K\n",
            "Receiving objects: 100% (859/859), 30.76 MiB | 26.99 MiB/s, done.\n",
            "Resolving deltas: 100% (453/453), done.\n",
            "/content/Borgers-Examples-in-BMTK/31-ING_Entrainment\n",
            "'31 - ING.ipynb'   \u001b[0m\u001b[01;34mcomponents\u001b[0m/   \u001b[01;34minput\u001b[0m/\n"
          ]
        }
      ]
    },
    {
      "cell_type": "code",
      "source": [
        "import os\n",
        "print(os.system('nrnivmodl components/mechanisms')) # compile modfiles. Return 0 for success, 1 for failure."
      ],
      "metadata": {
        "colab": {
          "base_uri": "https://localhost:8080/"
        },
        "id": "-tUNvl_zuMOg",
        "outputId": "9b95b675-7622-440a-d167-4dd4d47774cf"
      },
      "execution_count": 2,
      "outputs": [
        {
          "output_type": "stream",
          "name": "stdout",
          "text": [
            "0\n"
          ]
        }
      ]
    },
    {
      "cell_type": "code",
      "execution_count": 3,
      "metadata": {
        "id": "RvcdCgEIgUr0"
      },
      "outputs": [],
      "source": [
        "import numpy as np\n",
        "import logging\n",
        "import math\n",
        "\n",
        "from bmtk.builder.networks import NetworkBuilder\n",
        "\n",
        "# E - Cells\n",
        "n_E = 400\n",
        "\n",
        "net = NetworkBuilder('network')\n",
        "net.add_nodes(N=n_E, pop_name='Exc',     # N = number of excitatory cells\n",
        "        model_type='biophysical',\n",
        "        model_template='hoc:RTMExcCell', # RTMExcCell hoc definition\n",
        "        morphology='blank.swc')\n",
        "\n",
        "# ING network\n",
        "n_I = 100\n",
        "\n",
        "net.add_nodes(N=n_I, pop_name='ING',     # N = number of ING cells\n",
        "        model_type='biophysical',\n",
        "        model_template='hoc:WBInhCell', \n",
        "        morphology='blank.swc')"
      ]
    },
    {
      "cell_type": "markdown",
      "metadata": {
        "id": "QVJriUoVgUr0"
      },
      "source": [
        "### Connection rules \n",
        "\n",
        "We add connections based on a probability defined below. To prevent autapses, if the node_id is equal between source and targe cell, no connection is made."
      ]
    },
    {
      "cell_type": "code",
      "execution_count": 4,
      "metadata": {
        "id": "6c_rAWNxgUr1"
      },
      "outputs": [],
      "source": [
        "import random\n",
        "\n",
        "def syn_connector(source,target,p):\n",
        "    if source['node_id'] == target['node_id']:\n",
        "        return 0\n",
        "    return 1 if random.random() < p else 0"
      ]
    },
    {
      "cell_type": "markdown",
      "metadata": {
        "id": "9E-_dTO_gUr1"
      },
      "source": [
        "### Creating ING Edges\n",
        "\n",
        "Probabilities and conductances are taken from chapter 31 of Borgers' book. Inhibitory connections between ING cells are added; Inhibitory connections from ING cells to E - cells are added; gap juctions between ING cells are added."
      ]
    },
    {
      "cell_type": "code",
      "execution_count": 5,
      "metadata": {
        "id": "qv73IbxYgUr1",
        "outputId": "4f5e0d38-1875-497b-e36e-1cb5a7cd1294",
        "colab": {
          "base_uri": "https://localhost:8080/"
        }
      },
      "outputs": [
        {
          "output_type": "execute_result",
          "data": {
            "text/plain": [
              "<bmtk.builder.connection_map.ConnectionMap at 0x7fab6d29e350>"
            ]
          },
          "metadata": {},
          "execution_count": 5
        }
      ],
      "source": [
        "g_ee = 0\n",
        "g_ei = 0\n",
        "g_ie = 0.5  #0.5\n",
        "g_ii = 0.5  #0.5\n",
        "g_gap = 0.1\n",
        "\n",
        "p_gap = 0.05\n",
        "p_ee = 1\n",
        "p_ei = 0.5\n",
        "p_ie = 0.5  # 0.5\n",
        "p_ii = 0.5   # 0.5\n",
        "\n",
        "\n",
        "\n",
        "#E-E connections dont exist (g_ee = 0)\n",
        "         \n",
        "#E-I connections dont exist (g_ei = 0)\n",
        "\n",
        "#I-I connections\n",
        "net.add_edges(source={'pop_name':'ING'}, target={'pop_name':'ING'},\n",
        "                    connection_rule=syn_connector, \n",
        "                    connection_params={'p':p_ii},\n",
        "                    delay=0,\n",
        "                    syn_weight = g_ii/n_I,\n",
        "                    weight_function=None,\n",
        "                    target_sections=['soma'],\n",
        "                    distance_range=[0.0, 0.1],\n",
        "                    dynamics_params='PING_InhToInh.json',\n",
        "                    model_template='Exp2Syn')\n",
        "                    \n",
        "#I-E connections\n",
        "net.add_edges(source={'pop_name':'ING'}, target={'pop_name':'Exc'},\n",
        "                    connection_rule=syn_connector,\n",
        "                    connection_params={'p':p_ie},\n",
        "                    delay=0,\n",
        "                    syn_weight = g_ie/n_I,\n",
        "                    weight_function=None,\n",
        "                    target_sections=['soma'],\n",
        "                    distance_range=[0.0, 0.1],\n",
        "                    dynamics_params='PING_InhToExc.json',\n",
        "                    model_template='Exp2Syn')\n",
        "\n",
        "#gap junctions\n",
        "net.add_edges(source={'pop_name':'ING'}, target={'pop_name':'ING'}, \n",
        "                      syn_weight=g_gap,\n",
        "                      weight_function=None,\n",
        "                      target_sections=['soma'],\n",
        "                      model_template='Gap',\n",
        "                      delay=0,\n",
        "                      distance_range=[0.0, 0.1],\n",
        "                      is_gap_junction=True,\n",
        "                      connection_rule=syn_connector, \n",
        "                      connection_params={'p':p_gap})"
      ]
    },
    {
      "cell_type": "code",
      "execution_count": 6,
      "metadata": {
        "id": "FxD7zhJFgUr1"
      },
      "outputs": [],
      "source": [
        "net.build()\n",
        "net.save_nodes(output_dir='network')\n",
        "net.save_edges(output_dir='network')"
      ]
    },
    {
      "cell_type": "code",
      "source": [
        "from bmtk.builder.networks import NetworkBuilder\n",
        "\n",
        "extnet = NetworkBuilder('extnet')\n",
        "\n",
        "extnet.add_nodes(N=n_E, model_type='virtual', pop_name='bgnoisevirtExt', pop_group='bgnoisevirtExt')"
      ],
      "metadata": {
        "id": "keakYJrGJY5U"
      },
      "execution_count": 7,
      "outputs": []
    },
    {
      "cell_type": "markdown",
      "metadata": {
        "id": "PPYbN3IGgUr1"
      },
      "source": [
        "### Current Clamps for E-Cells and ING network"
      ]
    },
    {
      "cell_type": "code",
      "execution_count": 8,
      "metadata": {
        "id": "p1smms9BgUr2"
      },
      "outputs": [],
      "source": [
        "import h5py\n",
        "\n",
        "I_bar_E = 1.5      #1.5\n",
        "sigma_E = 0.1   #0.1\n",
        "I_bar_I = 1.5      #1.5\n",
        "sigma_I = 0.5   #0.5\n",
        "\n",
        "\n",
        "n_I = 100\n",
        "n_E = 400\n",
        "sim_len = 500\n",
        "dt = 1\n",
        "samples = int(sim_len/dt)\n",
        "amp = np.zeros((n_E+n_I,samples))\n",
        "\n",
        "\n",
        "amp[n_I:,:] = (I_bar_E * (1 + sigma_E*np.random.normal(size=n_E))).reshape(-1,1) # Excitatory Cell Current Injection\n",
        "amp[:n_I,:] = (I_bar_I * (1 + sigma_I*np.random.normal(size=n_I))).reshape(-1,1) # Inhibitory Cell Current Injection\n",
        "\n",
        "\n",
        "dts = [1]\n",
        "gids = \"all\"\n",
        "\n",
        "#hf.close() # Uncomment this line temporarily if you receive 'file already open error'\n",
        "\n",
        "hf = h5py.File(\"input/amps.h5\", 'w')\n",
        "\n",
        "hf.create_dataset(\"amplitudes\", data=[amp])\n",
        "hf.create_dataset(\"gids\", data=gids)\n",
        "hf.create_dataset(\"dts\", data=dts)\n",
        "\n",
        "hf.close()"
      ]
    },
    {
      "cell_type": "markdown",
      "metadata": {
        "id": "1pz9d0iSgUr2"
      },
      "source": [
        "### Set up Simulation Environment"
      ]
    },
    {
      "cell_type": "code",
      "execution_count": 9,
      "metadata": {
        "id": "jmYrJ4hUgUr2"
      },
      "outputs": [],
      "source": [
        "from bmtk.utils.sim_setup import build_env_bionet\n",
        "\n",
        "build_env_bionet(base_dir='.',\n",
        "                 network_dir='network',\n",
        "                 tstop=500.0, dt=0.1,\n",
        "                 report_vars=['v'],           # Record membrane potential and calcium (default soma)\n",
        "                 #spikes_inputs=[('extnet',   # Name of population which spikes will be generated for\n",
        "                                #'input/ext_inp_poisson.h5')],\n",
        "                 #file_current_clamp={              \n",
        "                      #\"input_type\": \"file_current_clamp\",\n",
        "                      #\"module\": \"FileIClamp\",\n",
        "                      #\"input_file\":\"input/amps.h5\",\n",
        "                      #\"node_set\":\"all\"\n",
        "                 #},\n",
        "                  current_clamp={            # Creates a step current from 500.ms to 1500.0 ms\n",
        "                    'amp': 0.400,\n",
        "                    'delay': 0,\n",
        "                    'duration': 30.0\n",
        "                  },\n",
        "                 v_init= -65,\n",
        "                 include_examples=False,    # Copies components files\n",
        "                 compile_mechanisms=False,   # Will try to compile NEURON mechanisms\n",
        "                 config_file ='config.json'\n",
        "                )"
      ]
    },
    {
      "cell_type": "markdown",
      "metadata": {
        "id": "HbjSolg6gUr2"
      },
      "source": [
        "### Run the Simulation"
      ]
    },
    {
      "cell_type": "code",
      "execution_count": 10,
      "metadata": {
        "id": "Ax3K2RlNgUr2",
        "colab": {
          "base_uri": "https://localhost:8080/"
        },
        "outputId": "1958209f-71f1-4950-8f85-07e085e07865"
      },
      "outputs": [
        {
          "output_type": "stream",
          "name": "stdout",
          "text": [
            "2022-04-11 20:24:42,393 [INFO] Created log file\n"
          ]
        },
        {
          "output_type": "stream",
          "name": "stderr",
          "text": [
            "INFO:NEURONIOUtils:Created log file\n"
          ]
        },
        {
          "output_type": "stream",
          "name": "stdout",
          "text": [
            "NEURON mechanisms not found in /content/Borgers-Examples-in-BMTK/31-ING_Entrainment/components/mechanisms.\n",
            "2022-04-11 20:24:42,509 [INFO] Building cells.\n"
          ]
        },
        {
          "output_type": "stream",
          "name": "stderr",
          "text": [
            "INFO:NEURONIOUtils:Building cells.\n"
          ]
        },
        {
          "output_type": "stream",
          "name": "stdout",
          "text": [
            "2022-04-11 20:24:43,163 [INFO] Building recurrent connections\n"
          ]
        },
        {
          "output_type": "stream",
          "name": "stderr",
          "text": [
            "INFO:NEURONIOUtils:Building recurrent connections\n"
          ]
        },
        {
          "output_type": "stream",
          "name": "stdout",
          "text": [
            "2022-04-11 20:25:28,392 [INFO] Running simulation for 500.000 ms with the time step 0.100 ms\n"
          ]
        },
        {
          "output_type": "stream",
          "name": "stderr",
          "text": [
            "INFO:NEURONIOUtils:Running simulation for 500.000 ms with the time step 0.100 ms\n"
          ]
        },
        {
          "output_type": "stream",
          "name": "stdout",
          "text": [
            "2022-04-11 20:25:28,401 [INFO] Starting timestep: 0 at t_sim: 0.000 ms\n"
          ]
        },
        {
          "output_type": "stream",
          "name": "stderr",
          "text": [
            "INFO:NEURONIOUtils:Starting timestep: 0 at t_sim: 0.000 ms\n"
          ]
        },
        {
          "output_type": "stream",
          "name": "stdout",
          "text": [
            "2022-04-11 20:25:28,405 [INFO] Block save every 5000 steps\n"
          ]
        },
        {
          "output_type": "stream",
          "name": "stderr",
          "text": [
            "INFO:NEURONIOUtils:Block save every 5000 steps\n"
          ]
        },
        {
          "output_type": "stream",
          "name": "stdout",
          "text": [
            "2022-04-11 20:26:40,228 [INFO]     step:5000 t_sim:500.00 ms\n"
          ]
        },
        {
          "output_type": "stream",
          "name": "stderr",
          "text": [
            "INFO:NEURONIOUtils:    step:5000 t_sim:500.00 ms\n"
          ]
        },
        {
          "output_type": "stream",
          "name": "stdout",
          "text": [
            "2022-04-11 20:26:40,313 [INFO] Simulation completed in 71.92 seconds \n"
          ]
        },
        {
          "output_type": "stream",
          "name": "stderr",
          "text": [
            "INFO:NEURONIOUtils:Simulation completed in 71.92 seconds \n"
          ]
        }
      ],
      "source": [
        "from bmtk.simulator import bionet\n",
        "\n",
        "\n",
        "conf = bionet.Config.from_json('config.json')\n",
        "conf.build_env()\n",
        "net = bionet.BioNetwork.from_config(conf)\n",
        "sim = bionet.BioSimulator.from_config(conf, network=net)\n",
        "sim.run()"
      ]
    },
    {
      "cell_type": "markdown",
      "metadata": {
        "id": "Hf29FIYpgUr2"
      },
      "source": [
        "### Analyze Results"
      ]
    },
    {
      "cell_type": "markdown",
      "metadata": {
        "id": "wDRHWkxqgUr2"
      },
      "source": [
        "We did not add initial voltage values to the ING network nor the E - cells. Because of a synchronous initialization, only the ING cell entrainment of the E-cells can be observed. The E - cells are already synchronous."
      ]
    },
    {
      "cell_type": "code",
      "execution_count": 11,
      "metadata": {
        "scrolled": false,
        "id": "H8_-QAIwgUr2",
        "colab": {
          "base_uri": "https://localhost:8080/",
          "height": 573
        },
        "outputId": "7b733e9f-7307-4dce-ecd6-6137c8becc79"
      },
      "outputs": [
        {
          "output_type": "display_data",
          "data": {
            "text/plain": [
              "<Figure size 432x288 with 1 Axes>"
            ],
            "image/png": "[encoded data removed]"
          },
          "metadata": {
            "needs_background": "light"
          }
        },
        {
          "output_type": "execute_result",
          "data": {
            "text/plain": [
              "<Figure size 432x288 with 1 Axes>"
            ],
            "image/png": "[encoded data removed]"
          },
          "metadata": {},
          "execution_count": 11
        }
      ],
      "source": [
        "from bmtk.analyzer.spike_trains import plot_raster,plot_rates_boxplot\n",
        "\n",
        "plot_raster(config_file='config.json', with_histogram=False, population='network', group_by='pop_name')"
      ]
    },
    {
      "cell_type": "code",
      "execution_count": 12,
      "metadata": {
        "id": "yTaQCpLGgUr3",
        "colab": {
          "base_uri": "https://localhost:8080/",
          "height": 600
        },
        "outputId": "0a8c17e5-1981-4c8d-8c91-c74d52860f45"
      },
      "outputs": [
        {
          "output_type": "stream",
          "name": "stderr",
          "text": [
            "/usr/local/lib/python3.7/dist-packages/matplotlib/cbook/__init__.py:1376: VisibleDeprecationWarning: Creating an ndarray from ragged nested sequences (which is a list-or-tuple of lists-or-tuples-or ndarrays with different lengths or shapes) is deprecated. If you meant to do this, you must specify 'dtype=object' when creating the ndarray.\n",
            "  X = np.atleast_1d(X.T if isinstance(X, np.ndarray) else np.asarray(X))\n"
          ]
        },
        {
          "output_type": "display_data",
          "data": {
            "text/plain": [
              "<Figure size 432x288 with 1 Axes>"
            ],
            "image/png": "[encoded data removed]"
          },
          "metadata": {
            "needs_background": "light"
          }
        },
        {
          "output_type": "execute_result",
          "data": {
            "text/plain": [
              "<Figure size 432x288 with 1 Axes>"
            ],
            "image/png": "[encoded data removed]"
          },
          "metadata": {},
          "execution_count": 12
        }
      ],
      "source": [
        "plot_rates_boxplot(config_file='config.json', group_by='pop_name')"
      ]
    },
    {
      "cell_type": "markdown",
      "metadata": {
        "id": "YxMCIoWmgUr3"
      },
      "source": [
        "The ING network successfully entrained the E-cells (Exc) at ~30 Hz which is in Gamma wave range"
      ]
    },
    {
      "cell_type": "code",
      "execution_count": null,
      "metadata": {
        "id": "aAumZkj-gUr3"
      },
      "outputs": [],
      "source": [
        ""
      ]
    }
  ],
  "metadata": {
    "kernelspec": {
      "display_name": "Python 3",
      "language": "python",
      "name": "python3"
    },
    "language_info": {
      "codemirror_mode": {
        "name": "ipython",
        "version": 3
      },
      "file_extension": ".py",
      "mimetype": "text/x-python",
      "name": "python",
      "nbconvert_exporter": "python",
      "pygments_lexer": "ipython3",
      "version": "3.6.12"
    },
    "colab": {
      "name": "31_ING.ipynb",
      "provenance": []
    }
  },
  "nbformat": 4,
  "nbformat_minor": 0
}