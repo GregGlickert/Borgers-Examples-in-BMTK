{
  "cells": [
    {
      "cell_type": "markdown",
      "metadata": {
        "id": "5lG-jqAKgUrz"
      },
      "source": [
        "# Chapter 31- ING Entrainment of E - Cells\n",
        "This notebook is a translation of an example in Christophe Borgers' book, \"An Introduction to Modeling Neuronal Dynamics\"\n",
        "\n",
        "In this tutorial,we display an Interneuronal Network Gamma (ING) network entrain excitatory neurons (E-cells). Gamma rhythms are 30-80 Hz, thus the firing of the E-cells must be within this range. We model 400 E-cells with an RTM model and the ING cells with a WB model.\n",
        "\n",
        "requirements:\n",
        "\n",
        " bmtk\n",
        "\n",
        " NEURON 7.4+"
      ]
    },
    {
      "cell_type": "markdown",
      "metadata": {
        "id": "FWL9eUopgUr0"
      },
      "source": [
        "### Create nodes\n",
        "The ING network, E-cells, and external input nodes are defined"
      ]
    },
    {
      "cell_type": "code",
      "execution_count": 1,
      "metadata": {
        "colab": {
          "base_uri": "https://localhost:8080/"
        },
        "id": "7lBNnNnHgVSA",
        "outputId": "3b21816d-d56b-44b2-d761-ca286871dc0d"
      },
      "outputs": [
        {
          "name": "stdout",
          "output_type": "stream",
          "text": [
            "\u001b[K     |████████████████████████████████| 2.8 MB 5.3 MB/s \n",
            "\u001b[K     |████████████████████████████████| 4.8 MB 5.4 MB/s \n",
            "\u001b[K     |████████████████████████████████| 12.6 MB 5.2 MB/s \n",
            "\u001b[?25hCloning into 'Borgers-Examples-in-BMTK'...\n",
            "remote: Enumerating objects: 912, done.\u001b[K\n",
            "remote: Total 912 (delta 0), reused 0 (delta 0), pack-reused 912\u001b[K\n",
            "Receiving objects: 100% (912/912), 31.14 MiB | 24.82 MiB/s, done.\n",
            "Resolving deltas: 100% (490/490), done.\n",
            "/content/Borgers-Examples-in-BMTK/31-ING_Entrainment\n",
            "31_ING.ipynb  \u001b[0m\u001b[01;34mcomponents\u001b[0m/\n"
          ]
        }
      ],
      "source": [
        "! pip install -q h5py==2.9.0\n",
        "! pip install -q bmtk==0.0.9\n",
        "! pip install -q neuron==8.0.0\n",
        "# as new version of neuron and bmtk come out we may need to install a specific version\n",
        "import os\n",
        "from os.path import normpath, sep, join\n",
        "\n",
        "root = 'Borgers-Examples-in-BMTK' # name of github repo\n",
        "folder = '31-ING_Entrainment' # name of folder in Github just change this line \n",
        "pathlist = normpath(os.getcwd()).split(sep)\n",
        "if pathlist[-1] != folder:\n",
        "  rootidx = pathlist.index(root) if root in pathlist else -1\n",
        "  if rootidx>0:\n",
        "    os.chdir(join(sep,*pathlist[:rootidx]))\n",
        "  !git clone https://github.com/GregGlickert/Borgers-Examples-in-BMTK\n",
        "  os.chdir(join(root,folder))\n",
        "print(os.getcwd())\n",
        "%ls"
      ]
    },
    {
      "cell_type": "code",
      "execution_count": 1,
      "metadata": {
        "colab": {
          "base_uri": "https://localhost:8080/"
        },
        "id": "-tUNvl_zuMOg",
        "outputId": "ef8b68e4-f1cb-4d87-c3af-281a979b56c1"
      },
      "outputs": [
        {
          "name": "stdout",
          "output_type": "stream",
          "text": [
            "/usr/bin/xcrun\n",
            "/Users/gregglickert/Desktop/Borgers-Examples-in-BMTK-main/31-ING_Entrainment\n",
            "-n Mod files:\n",
            "-n  \"components/mechanisms/gap.mod\"\n",
            "-n  \"components/mechanisms/k_rtm.mod\"\n",
            "-n  \"components/mechanisms/k_wb.mod\"\n",
            "-n  \"components/mechanisms/leak.mod\"\n",
            "-n  \"components/mechanisms/na_rtm.mod\"\n",
            "-n  \"components/mechanisms/na_wb.mod\"\n",
            "-n  \"components/mechanisms/vecevent.mod\"\n",
            "\n",
            "\n",
            "Creating x86_64 directory for .o files.\n",
            "\n",
            "COBJS=''\n",
            " -> \u001b[32mCompiling\u001b[0m mod_func.c\n",
            "gcc -O2   -I.   -I/Users/gregglickert/opt/anaconda3/envs/NeuroLab/lib/python3.7/site-packages/neuron/.data/include  -I/usr/local/Cellar/open-mpi/4.1.0/include -fPIC -c mod_func.c -o mod_func.o\n",
            " -> \u001b[32mNMODL\u001b[0m ../components/mechanisms/gap.mod\n",
            " -> \u001b[32mNMODL\u001b[0m ../components/mechanisms/k_rtm.mod\n",
            " -> \u001b[32mNMODL\u001b[0m ../components/mechanisms/k_wb.mod\n",
            "(cd \"../components/mechanisms\"; MODLUNIT=/Users/gregglickert/opt/anaconda3/envs/NeuroLab/lib/python3.7/site-packages/neuron/.data/share/nrn/lib/nrnunits.lib /Users/gregglickert/opt/anaconda3/envs/NeuroLab/lib/python3.7/site-packages/neuron/.data/bin/nocmodl k_wb.mod -o \"/Users/gregglickert/Desktop/Borgers-Examples-in-BMTK-main/31-ING_Entrainment/x86_64\")\n",
            "(cd \"../components/mechanisms\"; MODLUNIT=/Users/gregglickert/opt/anaconda3/envs/NeuroLab/lib/python3.7/site-packages/neuron/.data/share/nrn/lib/nrnunits.lib /Users/gregglickert/opt/anaconda3/envs/NeuroLab/lib/python3.7/site-packages/neuron/.data/bin/nocmodl k_rtm.mod -o \"/Users/gregglickert/Desktop/Borgers-Examples-in-BMTK-main/31-ING_Entrainment/x86_64\")\n",
            "(cd \"../components/mechanisms\"; MODLUNIT=/Users/gregglickert/opt/anaconda3/envs/NeuroLab/lib/python3.7/site-packages/neuron/.data/share/nrn/lib/nrnunits.lib /Users/gregglickert/opt/anaconda3/envs/NeuroLab/lib/python3.7/site-packages/neuron/.data/bin/nocmodl gap.mod -o \"/Users/gregglickert/Desktop/Borgers-Examples-in-BMTK-main/31-ING_Entrainment/x86_64\")\n",
            " -> \u001b[32mNMODL\u001b[0m ../components/mechanisms/leak.mod\n",
            "(cd \"../components/mechanisms\"; MODLUNIT=/Users/gregglickert/opt/anaconda3/envs/NeuroLab/lib/python3.7/site-packages/neuron/.data/share/nrn/lib/nrnunits.lib /Users/gregglickert/opt/anaconda3/envs/NeuroLab/lib/python3.7/site-packages/neuron/.data/bin/nocmodl leak.mod -o \"/Users/gregglickert/Desktop/Borgers-Examples-in-BMTK-main/31-ING_Entrainment/x86_64\")\n",
            " -> \u001b[32mNMODL\u001b[0m ../components/mechanisms/na_rtm.mod\n",
            "(cd \"../components/mechanisms\"; MODLUNIT=/Users/gregglickert/opt/anaconda3/envs/NeuroLab/lib/python3.7/site-packages/neuron/.data/share/nrn/lib/nrnunits.lib /Users/gregglickert/opt/anaconda3/envs/NeuroLab/lib/python3.7/site-packages/neuron/.data/bin/nocmodl na_rtm.mod -o \"/Users/gregglickert/Desktop/Borgers-Examples-in-BMTK-main/31-ING_Entrainment/x86_64\")\n",
            " -> \u001b[32mNMODL\u001b[0m ../components/mechanisms/na_wb.mod\n",
            "(cd \"../components/mechanisms\"; MODLUNIT=/Users/gregglickert/opt/anaconda3/envs/NeuroLab/lib/python3.7/site-packages/neuron/.data/share/nrn/lib/nrnunits.lib /Users/gregglickert/opt/anaconda3/envs/NeuroLab/lib/python3.7/site-packages/neuron/.data/bin/nocmodl na_wb.mod -o \"/Users/gregglickert/Desktop/Borgers-Examples-in-BMTK-main/31-ING_Entrainment/x86_64\")\n",
            " -> \u001b[32mNMODL\u001b[0m ../components/mechanisms/vecevent.mod\n",
            "(cd \"../components/mechanisms\"; MODLUNIT=/Users/gregglickert/opt/anaconda3/envs/NeuroLab/lib/python3.7/site-packages/neuron/.data/share/nrn/lib/nrnunits.lib /Users/gregglickert/opt/anaconda3/envs/NeuroLab/lib/python3.7/site-packages/neuron/.data/bin/nocmodl vecevent.mod -o \"/Users/gregglickert/Desktop/Borgers-Examples-in-BMTK-main/31-ING_Entrainment/x86_64\")\n",
            " -> \u001b[32mCompiling\u001b[0m gap.c\n",
            "gcc -O2   -I\"../components/mechanisms\" -I.   -I/Users/gregglickert/opt/anaconda3/envs/NeuroLab/lib/python3.7/site-packages/neuron/.data/include  -I/usr/local/Cellar/open-mpi/4.1.0/include -fPIC -c gap.c -o gap.o\n",
            " -> \u001b[32mCompiling\u001b[0m k_rtm.c\n",
            "gcc -O2   -I\"../components/mechanisms\" -I.   -I/Users/gregglickert/opt/anaconda3/envs/NeuroLab/lib/python3.7/site-packages/neuron/.data/include  -I/usr/local/Cellar/open-mpi/4.1.0/include -fPIC -c k_rtm.c -o k_rtm.o\n",
            "Notice: ARTIFICIAL_CELL is a synonym for POINT_PROCESS which hints that it\n",
            "only affects and is affected by discrete events. As such it is not\n",
            "located in a section and is not associated with an integrator\n",
            " -> \u001b[32mCompiling\u001b[0m k_wb.c\n",
            "gcc -O2   -I\"../components/mechanisms\" -I.   -I/Users/gregglickert/opt/anaconda3/envs/NeuroLab/lib/python3.7/site-packages/neuron/.data/include  -I/usr/local/Cellar/open-mpi/4.1.0/include -fPIC -c k_wb.c -o k_wb.o\n"
          ]
        },
        {
          "name": "stderr",
          "output_type": "stream",
          "text": [
            "Translating k_wb.mod into /Users/gregglickert/Desktop/Borgers-Examples-in-BMTK-main/31-ING_Entrainment/x86_64/k_wb.c\n",
            "Translating k_rtm.mod into /Users/gregglickert/Desktop/Borgers-Examples-in-BMTK-main/31-ING_Entrainment/x86_64/k_rtm.c\n",
            "Translating gap.mod into /Users/gregglickert/Desktop/Borgers-Examples-in-BMTK-main/31-ING_Entrainment/x86_64/gap.c\n",
            "Thread Safe\n",
            "Thread Safe\n",
            "Thread Safe\n",
            "Translating leak.mod into /Users/gregglickert/Desktop/Borgers-Examples-in-BMTK-main/31-ING_Entrainment/x86_64/leak.c\n",
            "Translating na_rtm.mod into /Users/gregglickert/Desktop/Borgers-Examples-in-BMTK-main/31-ING_Entrainment/x86_64/na_rtm.c\n",
            "Thread Safe\n",
            "Thread Safe\n",
            "Translating na_wb.mod into /Users/gregglickert/Desktop/Borgers-Examples-in-BMTK-main/31-ING_Entrainment/x86_64/na_wb.c\n",
            "Thread Safe\n",
            "Translating vecevent.mod into /Users/gregglickert/Desktop/Borgers-Examples-in-BMTK-main/31-ING_Entrainment/x86_64/vecevent.c\n",
            "Thread Safe\n"
          ]
        },
        {
          "name": "stdout",
          "output_type": "stream",
          "text": [
            " -> \u001b[32mCompiling\u001b[0m leak.c\n",
            " -> \u001b[32mCompiling\u001b[0m na_rtm.c\n",
            "gcc -O2   -I\"../components/mechanisms\" -I.   -I/Users/gregglickert/opt/anaconda3/envs/NeuroLab/lib/python3.7/site-packages/neuron/.data/include  -I/usr/local/Cellar/open-mpi/4.1.0/include -fPIC -c na_rtm.c -o na_rtm.o\n",
            "gcc -O2   -I\"../components/mechanisms\" -I.   -I/Users/gregglickert/opt/anaconda3/envs/NeuroLab/lib/python3.7/site-packages/neuron/.data/include  -I/usr/local/Cellar/open-mpi/4.1.0/include -fPIC -c leak.c -o leak.o\n",
            " -> \u001b[32mCompiling\u001b[0m vecevent.c\n",
            " -> \u001b[32mCompiling\u001b[0m na_wb.c\n",
            "gcc -O2   -I\"../components/mechanisms\" -I.   -I/Users/gregglickert/opt/anaconda3/envs/NeuroLab/lib/python3.7/site-packages/neuron/.data/include  -I/usr/local/Cellar/open-mpi/4.1.0/include -fPIC -c vecevent.c -o vecevent.o\n",
            "gcc -O2   -I\"../components/mechanisms\" -I.   -I/Users/gregglickert/opt/anaconda3/envs/NeuroLab/lib/python3.7/site-packages/neuron/.data/include  -I/usr/local/Cellar/open-mpi/4.1.0/include -fPIC -c na_wb.c -o na_wb.o\n",
            " => \u001b[32mLINKING\u001b[0m shared library ./libnrnmech.dylib\n",
            "g++ -O2 -DVERSION_INFO='8.0.0' -std=c++11 -dynamiclib -Wl,-headerpad_max_install_names -undefined dynamic_lookup -fPIC  -I /Users/gregglickert/opt/anaconda3/envs/NeuroLab/lib/python3.7/site-packages/neuron/.data/include -o ./libnrnmech.dylib -Wl,-install_name,@rpath/libnrnmech.dylib \\\n",
            "\t  ./mod_func.o ./gap.o ./k_rtm.o ./k_wb.o ./leak.o ./na_rtm.o ./na_wb.o ./vecevent.o  -L/Users/gregglickert/opt/anaconda3/envs/NeuroLab/lib/python3.7/site-packages/neuron/.data/lib -lnrniv -Wl,-rpath,/Users/gregglickert/opt/anaconda3/envs/NeuroLab/lib/python3.7/site-packages/neuron/.data/lib    -lreadline\n",
            "rm -f ./.libs/libnrnmech.so ; mkdir -p ./.libs ; cp ./libnrnmech.dylib ./.libs/libnrnmech.so\n",
            "Successfully created x86_64/special\n",
            "0\n"
          ]
        }
      ],
      "source": [
        "import os\n",
        "print(os.system('nrnivmodl components/mechanisms')) # compile modfiles. Return 0 for success, 1 for failure."
      ]
    },
    {
      "cell_type": "code",
      "execution_count": 2,
      "metadata": {
        "id": "RvcdCgEIgUr0"
      },
      "outputs": [],
      "source": [
        "import numpy as np\n",
        "import logging\n",
        "import math\n",
        "\n",
        "from bmtk.builder.networks import NetworkBuilder\n",
        "\n",
        "# E - Cells\n",
        "n_E = 400\n",
        "\n",
        "net = NetworkBuilder('network')\n",
        "net.add_nodes(N=n_E, pop_name='Exc',     # N = number of excitatory cells\n",
        "        model_type='biophysical',\n",
        "        model_template='hoc:RTMExcCell', # RTMExcCell hoc definition\n",
        "        morphology='blank.swc')\n",
        "\n",
        "# ING network\n",
        "n_I = 100\n",
        "\n",
        "net.add_nodes(N=n_I, pop_name='ING',     # N = number of ING cells\n",
        "        model_type='biophysical',\n",
        "        model_template='hoc:WBInhCell', \n",
        "        morphology='blank.swc')"
      ]
    },
    {
      "cell_type": "markdown",
      "metadata": {
        "id": "QVJriUoVgUr0"
      },
      "source": [
        "### Connection rules \n",
        "\n",
        "We add connections based on a probability defined below. To prevent autapses, if the node_id is equal between source and targe cell, no connection is made."
      ]
    },
    {
      "cell_type": "code",
      "execution_count": 3,
      "metadata": {
        "id": "6c_rAWNxgUr1"
      },
      "outputs": [],
      "source": [
        "import random\n",
        "\n",
        "def syn_connector(source,target,p):\n",
        "    if source['node_id'] == target['node_id']:\n",
        "        return 0\n",
        "    return 1 if random.random() < p else 0"
      ]
    },
    {
      "cell_type": "markdown",
      "metadata": {
        "id": "9E-_dTO_gUr1"
      },
      "source": [
        "### Creating ING Edges\n",
        "\n",
        "Probabilities and conductances are taken from chapter 31 of Borgers' book. Inhibitory connections between ING cells are added; Inhibitory connections from ING cells to E - cells are added; gap juctions between ING cells are added."
      ]
    },
    {
      "cell_type": "code",
      "execution_count": 4,
      "metadata": {
        "colab": {
          "base_uri": "https://localhost:8080/"
        },
        "id": "qv73IbxYgUr1",
        "outputId": "7deb8ae8-db68-4567-afa4-215231e31ba9"
      },
      "outputs": [
        {
          "data": {
            "text/plain": [
              "<bmtk.builder.connection_map.ConnectionMap at 0x7fada047c990>"
            ]
          },
          "execution_count": 4,
          "metadata": {},
          "output_type": "execute_result"
        }
      ],
      "source": [
        "g_ee = 0\n",
        "g_ei = 0\n",
        "g_ie = 0.5  #0.5\n",
        "g_ii = 0.5  #0.5\n",
        "g_gap = 0.1\n",
        "\n",
        "p_gap = 0.05\n",
        "p_ee = 1\n",
        "p_ei = 0.5\n",
        "p_ie = 0.5  # 0.5\n",
        "p_ii = 0.5   # 0.5\n",
        "\n",
        "\n",
        "\n",
        "#E-E connections dont exist (g_ee = 0)\n",
        "         \n",
        "#E-I connections dont exist (g_ei = 0)\n",
        "\n",
        "#I-I connections\n",
        "net.add_edges(source={'pop_name':'ING'}, target={'pop_name':'ING'},\n",
        "                    connection_rule=syn_connector, \n",
        "                    connection_params={'p':p_ii},\n",
        "                    delay=0,\n",
        "                    syn_weight = g_ii/n_I,\n",
        "                    weight_function=None,\n",
        "                    target_sections=['soma'],\n",
        "                    distance_range=[0.0, 0.1],\n",
        "                    dynamics_params='PING_InhToInh.json',\n",
        "                    model_template='Exp2Syn')\n",
        "                    \n",
        "#I-E connections\n",
        "net.add_edges(source={'pop_name':'ING'}, target={'pop_name':'Exc'},\n",
        "                    connection_rule=syn_connector,\n",
        "                    connection_params={'p':p_ie},\n",
        "                    delay=0,\n",
        "                    syn_weight = g_ie/n_I,\n",
        "                    weight_function=None,\n",
        "                    target_sections=['soma'],\n",
        "                    distance_range=[0.0, 0.1],\n",
        "                    dynamics_params='PING_InhToExc.json',\n",
        "                    model_template='Exp2Syn')\n",
        "\n",
        "#gap junctions\n",
        "net.add_edges(source={'pop_name':'ING'}, target={'pop_name':'ING'}, \n",
        "                      syn_weight=g_gap,\n",
        "                      weight_function=None,\n",
        "                      target_sections=['soma'],\n",
        "                      model_template='Gap',\n",
        "                      delay=0,\n",
        "                      distance_range=[0.0, 0.1],\n",
        "                      is_gap_junction=True,\n",
        "                      connection_rule=syn_connector, \n",
        "                      connection_params={'p':p_gap})"
      ]
    },
    {
      "cell_type": "code",
      "execution_count": 5,
      "metadata": {
        "id": "FxD7zhJFgUr1"
      },
      "outputs": [],
      "source": [
        "net.build()\n",
        "net.save_nodes(output_dir='network')\n",
        "net.save_edges(output_dir='network')"
      ]
    },
    {
      "cell_type": "code",
      "execution_count": 6,
      "metadata": {
        "id": "keakYJrGJY5U"
      },
      "outputs": [],
      "source": [
        "from bmtk.builder.networks import NetworkBuilder\n",
        "\n",
        "extnet = NetworkBuilder('extnet')\n",
        "\n",
        "extnet.add_nodes(N=n_E, model_type='virtual', pop_name='bgnoisevirtExt', pop_group='bgnoisevirtExt')"
      ]
    },
    {
      "cell_type": "markdown",
      "metadata": {
        "id": "PPYbN3IGgUr1"
      },
      "source": [
        "### Current Clamps for E-Cells and ING network"
      ]
    },
    {
      "cell_type": "code",
      "execution_count": 7,
      "metadata": {
        "id": "p1smms9BgUr2"
      },
      "outputs": [],
      "source": [
        "import h5py\n",
        "import os\n",
        "\n",
        "try:\n",
        "  os.isdir('input')\n",
        "except:\n",
        "  os.makedirs('input')\n",
        "\n",
        "I_bar_E = 1.5      #1.5\n",
        "sigma_E = 0.1   #0.1\n",
        "I_bar_I = 1.5      #1.5\n",
        "sigma_I = 0.5   #0.5\n",
        "\n",
        "\n",
        "n_I = 100\n",
        "n_E = 400\n",
        "sim_len = 500\n",
        "dt = 1\n",
        "samples = int(sim_len/dt)\n",
        "amp = np.zeros((n_E+n_I,samples))\n",
        "\n",
        "\n",
        "amp[n_I:,:] = (I_bar_E * (1 + sigma_E*np.random.normal(size=n_E))).reshape(-1,1) # Excitatory Cell Current Injection\n",
        "amp[:n_I,:] = (I_bar_I * (1 + sigma_I*np.random.normal(size=n_I))).reshape(-1,1) # Inhibitory Cell Current Injection\n",
        "\n",
        "\n",
        "dts = [1]\n",
        "gids = \"all\"\n",
        "\n",
        "#hf.close() # Uncomment this line temporarily if you receive 'file already open error'\n",
        "\n",
        "hf = h5py.File(\"input/amps.h5\", 'w')\n",
        "\n",
        "hf.create_dataset(\"amplitudes\", data=[amp])\n",
        "hf.create_dataset(\"gids\", data=gids)\n",
        "hf.create_dataset(\"dts\", data=dts)\n",
        "\n",
        "hf.close()"
      ]
    },
    {
      "cell_type": "markdown",
      "metadata": {
        "id": "1pz9d0iSgUr2"
      },
      "source": [
        "### Set up Simulation Environment"
      ]
    },
    {
      "cell_type": "code",
      "execution_count": 8,
      "metadata": {
        "id": "jmYrJ4hUgUr2"
      },
      "outputs": [],
      "source": [
        "from bmtk.utils.sim_setup import build_env_bionet\n",
        "\n",
        "build_env_bionet(base_dir='.',\n",
        "                 network_dir='network',\n",
        "                 tstop=500.0, dt=0.1,\n",
        "                 report_vars=['v'],           # Record membrane potential and calcium (default soma)\n",
        "                 #spikes_inputs=[('extnet',   # Name of population which spikes will be generated for\n",
        "                                #'input/ext_inp_poisson.h5')],\n",
        "                 #file_current_clamp={              \n",
        "                      #\"input_type\": \"file_current_clamp\",\n",
        "                      #\"module\": \"FileIClamp\",\n",
        "                      #\"input_file\":\"input/amps.h5\",\n",
        "                      #\"node_set\":\"all\"\n",
        "                 #},\n",
        "                  current_clamp={            # Creates a step current from 500.ms to 1500.0 ms\n",
        "                    'amp': 0.400,\n",
        "                    'delay': 0,\n",
        "                    'duration': 30.0\n",
        "                  },\n",
        "                 v_init= -65,\n",
        "                 include_examples=False,    # Copies components files\n",
        "                 compile_mechanisms=False,   # Will try to compile NEURON mechanisms\n",
        "                 config_file ='config.json'\n",
        "                )"
      ]
    },
    {
      "cell_type": "markdown",
      "metadata": {
        "id": "HbjSolg6gUr2"
      },
      "source": [
        "### Run the Simulation"
      ]
    },
    {
      "cell_type": "code",
      "execution_count": 9,
      "metadata": {
        "colab": {
          "base_uri": "https://localhost:8080/"
        },
        "id": "Ax3K2RlNgUr2",
        "outputId": "3fa6968c-3a9d-46ef-bd95-925b4e1633e3"
      },
      "outputs": [
        {
          "name": "stdout",
          "output_type": "stream",
          "text": [
            "numprocs=1\n",
            "2022-10-03 21:50:14,612 [INFO] Created log file\n"
          ]
        },
        {
          "name": "stderr",
          "output_type": "stream",
          "text": [
            "INFO:NEURONIOUtils:Created log file\n"
          ]
        },
        {
          "name": "stdout",
          "output_type": "stream",
          "text": [
            "NEURON mechanisms not found in /Users/gregglickert/Desktop/Borgers-Examples-in-BMTK-main/31-ING_Entrainment/components/mechanisms.\n",
            "2022-10-03 21:50:14,731 [INFO] Building cells.\n"
          ]
        },
        {
          "name": "stderr",
          "output_type": "stream",
          "text": [
            "INFO:NEURONIOUtils:Building cells.\n"
          ]
        },
        {
          "name": "stdout",
          "output_type": "stream",
          "text": [
            "2022-10-03 21:50:15,366 [INFO] Building recurrent connections\n"
          ]
        },
        {
          "name": "stderr",
          "output_type": "stream",
          "text": [
            "INFO:NEURONIOUtils:Building recurrent connections\n"
          ]
        },
        {
          "name": "stdout",
          "output_type": "stream",
          "text": [
            "2022-10-03 21:50:57,838 [INFO] Running simulation for 500.000 ms with the time step 0.100 ms\n"
          ]
        },
        {
          "name": "stderr",
          "output_type": "stream",
          "text": [
            "INFO:NEURONIOUtils:Running simulation for 500.000 ms with the time step 0.100 ms\n"
          ]
        },
        {
          "name": "stdout",
          "output_type": "stream",
          "text": [
            "2022-10-03 21:50:57,840 [INFO] Starting timestep: 0 at t_sim: 0.000 ms\n"
          ]
        },
        {
          "name": "stderr",
          "output_type": "stream",
          "text": [
            "INFO:NEURONIOUtils:Starting timestep: 0 at t_sim: 0.000 ms\n"
          ]
        },
        {
          "name": "stdout",
          "output_type": "stream",
          "text": [
            "2022-10-03 21:50:57,841 [INFO] Block save every 5000 steps\n"
          ]
        },
        {
          "name": "stderr",
          "output_type": "stream",
          "text": [
            "INFO:NEURONIOUtils:Block save every 5000 steps\n"
          ]
        },
        {
          "name": "stdout",
          "output_type": "stream",
          "text": [
            "2022-10-03 21:51:45,028 [INFO]     step:5000 t_sim:500.00 ms\n"
          ]
        },
        {
          "name": "stderr",
          "output_type": "stream",
          "text": [
            "INFO:NEURONIOUtils:    step:5000 t_sim:500.00 ms\n"
          ]
        },
        {
          "name": "stdout",
          "output_type": "stream",
          "text": [
            "2022-10-03 21:51:45,183 [INFO] Simulation completed in 47.34 seconds \n"
          ]
        },
        {
          "name": "stderr",
          "output_type": "stream",
          "text": [
            "INFO:NEURONIOUtils:Simulation completed in 47.34 seconds \n"
          ]
        }
      ],
      "source": [
        "from bmtk.simulator import bionet\n",
        "\n",
        "\n",
        "conf = bionet.Config.from_json('config.json')\n",
        "conf.build_env()\n",
        "net = bionet.BioNetwork.from_config(conf)\n",
        "sim = bionet.BioSimulator.from_config(conf, network=net)\n",
        "sim.run()"
      ]
    },
    {
      "cell_type": "markdown",
      "metadata": {
        "id": "Hf29FIYpgUr2"
      },
      "source": [
        "### Analyze Results"
      ]
    },
    {
      "cell_type": "markdown",
      "metadata": {
        "id": "wDRHWkxqgUr2"
      },
      "source": [
        "We did not add initial voltage values to the ING network nor the E - cells. Because of a synchronous initialization, only the ING cell entrainment of the E-cells can be observed. The E - cells are already synchronous."
      ]
    },
    {
      "cell_type": "code",
      "execution_count": 10,
      "metadata": {
        "colab": {
          "base_uri": "https://localhost:8080/",
          "height": 573
        },
        "id": "H8_-QAIwgUr2",
        "outputId": "b861c364-7054-41f6-a9f2-616b2a5a6053",
        "scrolled": false
      },
      "outputs": [
        {
          "data": {
            "image/png": "[encoded data removed]",
            "text/plain": [
              "<Figure size 432x288 with 1 Axes>"
            ]
          },
          "metadata": {
            "needs_background": "light"
          },
          "output_type": "display_data"
        },
        {
          "data": {
            "image/png": "[encoded data removed]",
            "text/plain": [
              "<Figure size 432x288 with 1 Axes>"
            ]
          },
          "execution_count": 10,
          "metadata": {},
          "output_type": "execute_result"
        }
      ],
      "source": [
        "from bmtk.analyzer.spike_trains import plot_raster,plot_rates_boxplot\n",
        "\n",
        "plot_raster(config_file='config.json', with_histogram=False, population='network', group_by='pop_name')"
      ]
    },
    {
      "cell_type": "code",
      "execution_count": 11,
      "metadata": {
        "colab": {
          "base_uri": "https://localhost:8080/",
          "height": 599
        },
        "id": "yTaQCpLGgUr3",
        "outputId": "ad142e28-6f69-4281-d4ac-8a2329f16fba"
      },
      "outputs": [
        {
          "data": {
            "image/png": "[encoded data removed]",
            "text/plain": [
              "<Figure size 432x288 with 1 Axes>"
            ]
          },
          "metadata": {
            "needs_background": "light"
          },
          "output_type": "display_data"
        },
        {
          "data": {
            "image/png": "[encoded data removed]",
            "text/plain": [
              "<Figure size 432x288 with 1 Axes>"
            ]
          },
          "execution_count": 11,
          "metadata": {},
          "output_type": "execute_result"
        }
      ],
      "source": [
        "plot_rates_boxplot(config_file='config.json', group_by='pop_name')"
      ]
    },
    {
      "cell_type": "markdown",
      "metadata": {
        "id": "YxMCIoWmgUr3"
      },
      "source": [
        "The ING network successfully entrained the E-cells (Exc) at ~30 Hz which is in Gamma wave range"
      ]
    },
    {
      "cell_type": "code",
      "execution_count": null,
      "metadata": {
        "id": "aAumZkj-gUr3"
      },
      "outputs": [],
      "source": []
    }
  ],
  "metadata": {
    "colab": {
      "provenance": []
    },
    "kernelspec": {
      "display_name": "Python 3.7.12 ('NeuroLab')",
      "language": "python",
      "name": "python3"
    },
    "language_info": {
      "codemirror_mode": {
        "name": "ipython",
        "version": 3
      },
      "file_extension": ".py",
      "mimetype": "text/x-python",
      "name": "python",
      "nbconvert_exporter": "python",
      "pygments_lexer": "ipython3",
      "version": "3.7.12"
    },
    "vscode": {
      "interpreter": {
        "hash": "f4295cdde90af3eaa402fdac556629d463cb718a48dc2b2887d48f36b92503f5"
      }
    }
  },
  "nbformat": 4,
  "nbformat_minor": 0
}
