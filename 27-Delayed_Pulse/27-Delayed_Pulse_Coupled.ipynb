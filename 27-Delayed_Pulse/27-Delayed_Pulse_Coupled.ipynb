{
 "cells": [
  {
   "cell_type": "markdown",
   "metadata": {},
   "source": [
    "# 27 Oscillators Coupled by Delayed Pulses"
   ]
  },
  {
   "cell_type": "markdown",
   "metadata": {},
   "source": [
    "### Delta of 0.1"
   ]
  },
  {
   "cell_type": "markdown",
   "metadata": {},
   "source": [
    "Define g and f functions:"
   ]
  },
  {
   "cell_type": "code",
   "execution_count": 2,
   "metadata": {},
   "outputs": [],
   "source": [
    "import math\n",
    "\n",
    "def g(phi):\n",
    "    e=1/3\n",
    "    num = e*phi*(1-phi)\n",
    "    #print(num)\n",
    "    return num\n",
    "\n",
    "\n",
    "def f(phi):\n",
    "    num = phi + g(phi)\n",
    "    #print(num)\n",
    "    return num"
   ]
  },
  {
   "cell_type": "markdown",
   "metadata": {},
   "source": [
    "We run the simulation:"
   ]
  },
  {
   "cell_type": "code",
   "execution_count": 3,
   "metadata": {},
   "outputs": [],
   "source": [
    "delta=0.1\n",
    "phi_A=0.0\n",
    "phi_B=0.9            \n",
    "t_A_to_B=delta                 \n",
    "                                \n",
    "t_B_to_A=1e100                \n",
    "t_present=0                    \n",
    "t_final=20                     \n",
    "\n",
    "num_spikes_A=1\n",
    "num_spikes_B=0 \n",
    "t_spikes_A=[0] \n",
    "t_spikes_B=[]\n",
    "\n",
    "\n",
    "                                \n",
    "\n",
    "while t_present<t_final:\n",
    "    #pdb.set_trace()\n",
    "    T_vec=[round(1-phi_A,4),round(1-phi_B,4),t_A_to_B,t_B_to_A]\n",
    "    T_0=min(T_vec)\n",
    "    done=0\n",
    "   \n",
    "    if T_0==round(1-phi_A,4):\n",
    "        phi_B=round(phi_B+1-phi_A,4)\n",
    "        t_B_to_A=t_B_to_A-(1-phi_A)\n",
    "        t_A_to_B=delta\n",
    "        t_present=t_present+1-phi_A\n",
    "        num_spikes_A=num_spikes_A+1\n",
    "        t_spikes_A.append(t_present)\n",
    "        phi_A=0\n",
    "        done=1\n",
    "   \n",
    "    if T_0==round(1-phi_B,4) and done==0:\n",
    "        phi_A=round(phi_A+1-phi_B,4)\n",
    "        t_A_to_B=t_A_to_B-(1-phi_B)\n",
    "        t_B_to_A=delta\n",
    "        t_present=t_present+1-phi_B\n",
    "        num_spikes_B=num_spikes_B+1\n",
    "        t_spikes_B.append(t_present)\n",
    "        phi_B=0\n",
    "        done=1\n",
    "   \n",
    "    if T_0==t_A_to_B and done==0:\n",
    "        phi_B=f(phi_B+t_A_to_B)\n",
    "        phi_A=phi_A+t_A_to_B\n",
    "        t_B_to_A=t_B_to_A-t_A_to_B\n",
    "        t_present=t_present+t_A_to_B\n",
    "        t_A_to_B=1e100\n",
    "        done=1\n",
    "\n",
    "    if T_0==t_B_to_A and done==0:\n",
    "        phi_A=f(phi_A+t_B_to_A)\n",
    "        phi_B=phi_B+t_B_to_A\n",
    "        t_A_to_B=t_A_to_B-t_B_to_A\n",
    "        t_present=t_present+t_B_to_A\n",
    "        t_B_to_A=1e100\n",
    "        done=1"
   ]
  },
  {
   "cell_type": "markdown",
   "metadata": {},
   "source": [
    "Preserve cell A and B spike trains from first experiment (placeholder names for plotting later)"
   ]
  },
  {
   "cell_type": "code",
   "execution_count": 4,
   "metadata": {},
   "outputs": [],
   "source": [
    "firstA=t_spikes_A\n",
    "firstB=t_spikes_B\n",
    "spikesA=num_spikes_A\n",
    "spikesB=num_spikes_B"
   ]
  },
  {
   "cell_type": "markdown",
   "metadata": {},
   "source": [
    "### Delta of 0.7"
   ]
  },
  {
   "cell_type": "code",
   "execution_count": 5,
   "metadata": {},
   "outputs": [],
   "source": [
    "delta=0.7\n",
    "phi_A=0.0\n",
    "phi_B=0.9            \n",
    "t_A_to_B=delta                 \n",
    "                                \n",
    "t_B_to_A=1e100                \n",
    "t_present=0                    \n",
    "t_final=20                     \n",
    "\n",
    "num_spikes_A=1\n",
    "num_spikes_B=0 \n",
    "t_spikes_A=[0] \n",
    "t_spikes_B=[]\n",
    "\n",
    "\n",
    "                                \n",
    "\n",
    "while t_present<t_final:\n",
    "    #pdb.set_trace()\n",
    "    T_vec=[round(1-phi_A,4),round(1-phi_B,4),t_A_to_B,t_B_to_A]\n",
    "    T_0=min(T_vec)\n",
    "    done=0\n",
    "   \n",
    "    if T_0==round(1-phi_A,4):\n",
    "        phi_B=round(phi_B+1-phi_A,4)\n",
    "        t_B_to_A=t_B_to_A-(1-phi_A)\n",
    "        t_A_to_B=delta\n",
    "        t_present=t_present+1-phi_A\n",
    "        num_spikes_A=num_spikes_A+1\n",
    "        t_spikes_A.append(t_present)\n",
    "        phi_A=0\n",
    "        done=1\n",
    "   \n",
    "    if T_0==round(1-phi_B,4) and done==0:\n",
    "        phi_A=round(phi_A+1-phi_B,4)\n",
    "        t_A_to_B=t_A_to_B-(1-phi_B)\n",
    "        t_B_to_A=delta\n",
    "        t_present=t_present+1-phi_B\n",
    "        num_spikes_B=num_spikes_B+1\n",
    "        t_spikes_B.append(t_present)\n",
    "        phi_B=0\n",
    "        done=1\n",
    "   \n",
    "    if T_0==t_A_to_B and done==0:\n",
    "        phi_B=f(phi_B+t_A_to_B)\n",
    "        phi_A=phi_A+t_A_to_B\n",
    "        t_B_to_A=t_B_to_A-t_A_to_B\n",
    "        t_present=t_present+t_A_to_B\n",
    "        t_A_to_B=1e100\n",
    "        done=1\n",
    "\n",
    "    if T_0==t_B_to_A and done==0:\n",
    "        phi_A=f(phi_A+t_B_to_A)\n",
    "        phi_B=phi_B+t_B_to_A\n",
    "        t_A_to_B=t_A_to_B-t_B_to_A\n",
    "        t_present=t_present+t_B_to_A\n",
    "        t_B_to_A=1e100\n",
    "        done=1"
   ]
  },
  {
   "cell_type": "code",
   "execution_count": 6,
   "metadata": {},
   "outputs": [],
   "source": [
    "secondA=t_spikes_A\n",
    "secondB=t_spikes_B\n",
    "spikes2A=num_spikes_A\n",
    "spikes2B=num_spikes_B"
   ]
  },
  {
   "cell_type": "code",
   "execution_count": 7,
   "metadata": {
    "scrolled": true
   },
   "outputs": [
    {
     "data": {
      "text/plain": [
       "Text(0.5, 0.98, 'Two Pulse Coupled Oscillators with Different Delays')"
      ]
     },
     "execution_count": 7,
     "metadata": {},
     "output_type": "execute_result"
    },
    {
     "data": {
      "image/png": "[encoded data removed]",
      "text/plain": [
       "<Figure size 432x288 with 2 Axes>"
      ]
     },
     "metadata": {
      "needs_background": "light"
     },
     "output_type": "display_data"
    }
   ],
   "source": [
    "import matplotlib.pyplot as plt\n",
    "import numpy as np\n",
    "fig, axs = plt.subplots(2,sharex=True, sharey=True,)\n",
    "\n",
    "axs[0].plot(firstA,np.ones((spikesA,1)),'o')\n",
    "axs[0].plot(firstB,2*np.ones((spikesB,1)),'o')\n",
    "\n",
    "axs[1].plot(secondA,np.ones((spikes2A,1)),'o')\n",
    "axs[1].plot(secondB,2*np.ones((spikes2B,1)),'o')\n",
    "\n",
    "plt.ylim([-1,4])\n",
    "plt.xlim([10,20])\n",
    "plt.xlabel('t [ units of T]')\n",
    "fig.suptitle('Two Pulse Coupled Oscillators with Different Delays')\n"
   ]
  },
  {
   "cell_type": "markdown",
   "metadata": {},
   "source": [
    "The top figure has a delay of 0.1 while the bottom figure has a delay of 0.7. As you can see, with a delay of 0.1, the two cells tend toward anti-synchrony, while a delay of 0.7 leads to synchrony."
   ]
  },
  {
   "cell_type": "code",
   "execution_count": null,
   "metadata": {},
   "outputs": [],
   "source": []
  }
 ],
 "metadata": {
  "kernelspec": {
   "display_name": "Python 3",
   "language": "python",
   "name": "python3"
  },
  "language_info": {
   "codemirror_mode": {
    "name": "ipython",
    "version": 3
   },
   "file_extension": ".py",
   "mimetype": "text/x-python",
   "name": "python",
   "nbconvert_exporter": "python",
   "pygments_lexer": "ipython3",
   "version": "3.6.12"
  }
 },
 "nbformat": 4,
 "nbformat_minor": 2
}
