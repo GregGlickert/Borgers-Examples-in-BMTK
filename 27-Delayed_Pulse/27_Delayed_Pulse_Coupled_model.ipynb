{
  "cells": [
    {
      "cell_type": "markdown",
      "metadata": {
        "id": "Seu0NCdt9HK7"
      },
      "source": [
        "# 27 Oscillators Coupled by Delayed Pulses"
      ]
    },
    {
      "cell_type": "markdown",
      "metadata": {
        "id": "ESqIQOVK9HK8"
      },
      "source": [
        "### Delta of 0.1"
      ]
    },
    {
      "cell_type": "markdown",
      "metadata": {
        "id": "ZL6vtFDn9HK9"
      },
      "source": [
        "Define g and f functions:"
      ]
    },
    {
      "cell_type": "code",
      "source": [
        "! pip install NEURON\n",
        "! pip install bmtk\n",
        "# as new version of neuron and bmtk come out we may need to install a specific version\n",
        "import os\n",
        "from os.path import normpath, sep, join\n",
        "\n",
        "root = 'Borgers-Examples-in-BMTK' # name of github repo\n",
        "folder = '27-Delayed_Pulse' # name of folder in Github just change this line \n",
        "pathlist = normpath(os.getcwd()).split(sep)\n",
        "if pathlist[-1] != folder:\n",
        "  rootidx = pathlist.index(root) if root in pathlist else -1\n",
        "  if rootidx>0:\n",
        "    os.chdir(join(sep,*pathlist[:rootidx]))\n",
        "  !git clone https://github.com/GregGlickert/Borgers-Examples-in-BMTK\n",
        "  os.chdir(join(root,folder))\n",
        "print(os.getcwd())\n",
        "%ls"
      ],
      "metadata": {
        "id": "LgxOf_oJ9Igv",
        "outputId": "30ae864e-cca5-49a4-dc20-d3229fe59db6",
        "colab": {
          "base_uri": "https://localhost:8080/"
        }
      },
      "execution_count": 1,
      "outputs": [
        {
          "output_type": "stream",
          "name": "stdout",
          "text": [
            "Collecting NEURON\n",
            "  Downloading NEURON-8.0.2-cp37-cp37m-manylinux_2_5_x86_64.manylinux1_x86_64.whl (12.6 MB)\n",
            "\u001b[K     |████████████████████████████████| 12.6 MB 6.2 MB/s \n",
            "\u001b[?25hRequirement already satisfied: numpy>=1.9.3 in /usr/local/lib/python3.7/dist-packages (from NEURON) (1.21.5)\n",
            "Installing collected packages: NEURON\n",
            "Successfully installed NEURON-8.0.2\n",
            "Collecting bmtk\n",
            "  Downloading bmtk-1.0.4-py2.py3-none-any.whl (471 kB)\n",
            "\u001b[K     |████████████████████████████████| 471 kB 5.2 MB/s \n",
            "\u001b[?25hRequirement already satisfied: scikit-image in /usr/local/lib/python3.7/dist-packages (from bmtk) (0.18.3)\n",
            "Requirement already satisfied: scipy in /usr/local/lib/python3.7/dist-packages (from bmtk) (1.4.1)\n",
            "Requirement already satisfied: six in /usr/local/lib/python3.7/dist-packages (from bmtk) (1.15.0)\n",
            "Requirement already satisfied: pandas in /usr/local/lib/python3.7/dist-packages (from bmtk) (1.3.5)\n",
            "Requirement already satisfied: sympy in /usr/local/lib/python3.7/dist-packages (from bmtk) (1.7.1)\n",
            "Requirement already satisfied: matplotlib in /usr/local/lib/python3.7/dist-packages (from bmtk) (3.2.2)\n",
            "Requirement already satisfied: jsonschema in /usr/local/lib/python3.7/dist-packages (from bmtk) (4.3.3)\n",
            "Requirement already satisfied: h5py in /usr/local/lib/python3.7/dist-packages (from bmtk) (3.1.0)\n",
            "Requirement already satisfied: numpy in /usr/local/lib/python3.7/dist-packages (from bmtk) (1.21.5)\n",
            "Requirement already satisfied: cached-property in /usr/local/lib/python3.7/dist-packages (from h5py->bmtk) (1.5.2)\n",
            "Requirement already satisfied: pyrsistent!=0.17.0,!=0.17.1,!=0.17.2,>=0.14.0 in /usr/local/lib/python3.7/dist-packages (from jsonschema->bmtk) (0.18.1)\n",
            "Requirement already satisfied: typing-extensions in /usr/local/lib/python3.7/dist-packages (from jsonschema->bmtk) (3.10.0.2)\n",
            "Requirement already satisfied: attrs>=17.4.0 in /usr/local/lib/python3.7/dist-packages (from jsonschema->bmtk) (21.4.0)\n",
            "Requirement already satisfied: importlib-resources>=1.4.0 in /usr/local/lib/python3.7/dist-packages (from jsonschema->bmtk) (5.4.0)\n",
            "Requirement already satisfied: importlib-metadata in /usr/local/lib/python3.7/dist-packages (from jsonschema->bmtk) (4.11.3)\n",
            "Requirement already satisfied: zipp>=3.1.0 in /usr/local/lib/python3.7/dist-packages (from importlib-resources>=1.4.0->jsonschema->bmtk) (3.7.0)\n",
            "Requirement already satisfied: kiwisolver>=1.0.1 in /usr/local/lib/python3.7/dist-packages (from matplotlib->bmtk) (1.4.0)\n",
            "Requirement already satisfied: python-dateutil>=2.1 in /usr/local/lib/python3.7/dist-packages (from matplotlib->bmtk) (2.8.2)\n",
            "Requirement already satisfied: cycler>=0.10 in /usr/local/lib/python3.7/dist-packages (from matplotlib->bmtk) (0.11.0)\n",
            "Requirement already satisfied: pyparsing!=2.0.4,!=2.1.2,!=2.1.6,>=2.0.1 in /usr/local/lib/python3.7/dist-packages (from matplotlib->bmtk) (3.0.7)\n",
            "Requirement already satisfied: pytz>=2017.3 in /usr/local/lib/python3.7/dist-packages (from pandas->bmtk) (2018.9)\n",
            "Requirement already satisfied: networkx>=2.0 in /usr/local/lib/python3.7/dist-packages (from scikit-image->bmtk) (2.6.3)\n",
            "Requirement already satisfied: tifffile>=2019.7.26 in /usr/local/lib/python3.7/dist-packages (from scikit-image->bmtk) (2021.11.2)\n",
            "Requirement already satisfied: PyWavelets>=1.1.1 in /usr/local/lib/python3.7/dist-packages (from scikit-image->bmtk) (1.3.0)\n",
            "Requirement already satisfied: imageio>=2.3.0 in /usr/local/lib/python3.7/dist-packages (from scikit-image->bmtk) (2.4.1)\n",
            "Requirement already satisfied: pillow!=7.1.0,!=7.1.1,>=4.3.0 in /usr/local/lib/python3.7/dist-packages (from scikit-image->bmtk) (7.1.2)\n",
            "Requirement already satisfied: mpmath>=0.19 in /usr/local/lib/python3.7/dist-packages (from sympy->bmtk) (1.2.1)\n",
            "Installing collected packages: bmtk\n",
            "Successfully installed bmtk-1.0.4\n",
            "Cloning into 'Borgers-Examples-in-BMTK'...\n",
            "remote: Enumerating objects: 849, done.\u001b[K\n",
            "remote: Counting objects: 100% (849/849), done.\u001b[K\n",
            "remote: Compressing objects: 100% (466/466), done.\u001b[K\n",
            "remote: Total 849 (delta 449), reused 724 (delta 357), pack-reused 0\u001b[K\n",
            "Receiving objects: 100% (849/849), 30.76 MiB | 18.76 MiB/s, done.\n",
            "Resolving deltas: 100% (449/449), done.\n",
            "/content/Borgers-Examples-in-BMTK/27-Delayed_Pulse\n",
            "27-Delayed_Pulse_Coupled.ipynb\n"
          ]
        }
      ]
    },
    {
      "cell_type": "code",
      "execution_count": 2,
      "metadata": {
        "id": "G6hjIU-09HK9"
      },
      "outputs": [],
      "source": [
        "import math\n",
        "\n",
        "def g(phi):\n",
        "    e=1/3\n",
        "    num = e*phi*(1-phi)\n",
        "    #print(num)\n",
        "    return num\n",
        "\n",
        "\n",
        "def f(phi):\n",
        "    num = phi + g(phi)\n",
        "    #print(num)\n",
        "    return num"
      ]
    },
    {
      "cell_type": "markdown",
      "metadata": {
        "id": "02UwiUQU9HK9"
      },
      "source": [
        "We run the simulation:"
      ]
    },
    {
      "cell_type": "code",
      "execution_count": 3,
      "metadata": {
        "id": "6ieyG1ea9HK9"
      },
      "outputs": [],
      "source": [
        "delta=0.1\n",
        "phi_A=0.0\n",
        "phi_B=0.9            \n",
        "t_A_to_B=delta                 \n",
        "                                \n",
        "t_B_to_A=1e100                \n",
        "t_present=0                    \n",
        "t_final=20                     \n",
        "\n",
        "num_spikes_A=1\n",
        "num_spikes_B=0 \n",
        "t_spikes_A=[0] \n",
        "t_spikes_B=[]\n",
        "\n",
        "\n",
        "                                \n",
        "\n",
        "while t_present<t_final:\n",
        "    #pdb.set_trace()\n",
        "    T_vec=[round(1-phi_A,4),round(1-phi_B,4),t_A_to_B,t_B_to_A]\n",
        "    T_0=min(T_vec)\n",
        "    done=0\n",
        "   \n",
        "    if T_0==round(1-phi_A,4):\n",
        "        phi_B=round(phi_B+1-phi_A,4)\n",
        "        t_B_to_A=t_B_to_A-(1-phi_A)\n",
        "        t_A_to_B=delta\n",
        "        t_present=t_present+1-phi_A\n",
        "        num_spikes_A=num_spikes_A+1\n",
        "        t_spikes_A.append(t_present)\n",
        "        phi_A=0\n",
        "        done=1\n",
        "   \n",
        "    if T_0==round(1-phi_B,4) and done==0:\n",
        "        phi_A=round(phi_A+1-phi_B,4)\n",
        "        t_A_to_B=t_A_to_B-(1-phi_B)\n",
        "        t_B_to_A=delta\n",
        "        t_present=t_present+1-phi_B\n",
        "        num_spikes_B=num_spikes_B+1\n",
        "        t_spikes_B.append(t_present)\n",
        "        phi_B=0\n",
        "        done=1\n",
        "   \n",
        "    if T_0==t_A_to_B and done==0:\n",
        "        phi_B=f(phi_B+t_A_to_B)\n",
        "        phi_A=phi_A+t_A_to_B\n",
        "        t_B_to_A=t_B_to_A-t_A_to_B\n",
        "        t_present=t_present+t_A_to_B\n",
        "        t_A_to_B=1e100\n",
        "        done=1\n",
        "\n",
        "    if T_0==t_B_to_A and done==0:\n",
        "        phi_A=f(phi_A+t_B_to_A)\n",
        "        phi_B=phi_B+t_B_to_A\n",
        "        t_A_to_B=t_A_to_B-t_B_to_A\n",
        "        t_present=t_present+t_B_to_A\n",
        "        t_B_to_A=1e100\n",
        "        done=1"
      ]
    },
    {
      "cell_type": "markdown",
      "metadata": {
        "id": "OxS2UyEB9HK-"
      },
      "source": [
        "Preserve cell A and B spike trains from first experiment (placeholder names for plotting later)"
      ]
    },
    {
      "cell_type": "code",
      "execution_count": 4,
      "metadata": {
        "id": "z3sjeX2-9HK-"
      },
      "outputs": [],
      "source": [
        "firstA=t_spikes_A\n",
        "firstB=t_spikes_B\n",
        "spikesA=num_spikes_A\n",
        "spikesB=num_spikes_B"
      ]
    },
    {
      "cell_type": "markdown",
      "metadata": {
        "id": "GlHG604F9HK-"
      },
      "source": [
        "### Delta of 0.7"
      ]
    },
    {
      "cell_type": "code",
      "execution_count": 5,
      "metadata": {
        "id": "_SWz8VZF9HK_"
      },
      "outputs": [],
      "source": [
        "delta=0.7\n",
        "phi_A=0.0\n",
        "phi_B=0.9            \n",
        "t_A_to_B=delta                 \n",
        "                                \n",
        "t_B_to_A=1e100                \n",
        "t_present=0                    \n",
        "t_final=20                     \n",
        "\n",
        "num_spikes_A=1\n",
        "num_spikes_B=0 \n",
        "t_spikes_A=[0] \n",
        "t_spikes_B=[]\n",
        "\n",
        "\n",
        "                                \n",
        "\n",
        "while t_present<t_final:\n",
        "    #pdb.set_trace()\n",
        "    T_vec=[round(1-phi_A,4),round(1-phi_B,4),t_A_to_B,t_B_to_A]\n",
        "    T_0=min(T_vec)\n",
        "    done=0\n",
        "   \n",
        "    if T_0==round(1-phi_A,4):\n",
        "        phi_B=round(phi_B+1-phi_A,4)\n",
        "        t_B_to_A=t_B_to_A-(1-phi_A)\n",
        "        t_A_to_B=delta\n",
        "        t_present=t_present+1-phi_A\n",
        "        num_spikes_A=num_spikes_A+1\n",
        "        t_spikes_A.append(t_present)\n",
        "        phi_A=0\n",
        "        done=1\n",
        "   \n",
        "    if T_0==round(1-phi_B,4) and done==0:\n",
        "        phi_A=round(phi_A+1-phi_B,4)\n",
        "        t_A_to_B=t_A_to_B-(1-phi_B)\n",
        "        t_B_to_A=delta\n",
        "        t_present=t_present+1-phi_B\n",
        "        num_spikes_B=num_spikes_B+1\n",
        "        t_spikes_B.append(t_present)\n",
        "        phi_B=0\n",
        "        done=1\n",
        "   \n",
        "    if T_0==t_A_to_B and done==0:\n",
        "        phi_B=f(phi_B+t_A_to_B)\n",
        "        phi_A=phi_A+t_A_to_B\n",
        "        t_B_to_A=t_B_to_A-t_A_to_B\n",
        "        t_present=t_present+t_A_to_B\n",
        "        t_A_to_B=1e100\n",
        "        done=1\n",
        "\n",
        "    if T_0==t_B_to_A and done==0:\n",
        "        phi_A=f(phi_A+t_B_to_A)\n",
        "        phi_B=phi_B+t_B_to_A\n",
        "        t_A_to_B=t_A_to_B-t_B_to_A\n",
        "        t_present=t_present+t_B_to_A\n",
        "        t_B_to_A=1e100\n",
        "        done=1"
      ]
    },
    {
      "cell_type": "code",
      "execution_count": 6,
      "metadata": {
        "id": "5BrUbhMl9HK_"
      },
      "outputs": [],
      "source": [
        "secondA=t_spikes_A\n",
        "secondB=t_spikes_B\n",
        "spikes2A=num_spikes_A\n",
        "spikes2B=num_spikes_B"
      ]
    },
    {
      "cell_type": "code",
      "execution_count": 7,
      "metadata": {
        "scrolled": true,
        "id": "8fFcvTiT9HK_",
        "outputId": "4621d4fe-09fe-40eb-ef9b-5579aeae03bd",
        "colab": {
          "base_uri": "https://localhost:8080/",
          "height": 325
        }
      },
      "outputs": [
        {
          "output_type": "execute_result",
          "data": {
            "text/plain": [
              "Text(0.5, 0.98, 'Two Pulse Coupled Oscillators with Different Delays')"
            ]
          },
          "metadata": {},
          "execution_count": 7
        },
        {
          "output_type": "display_data",
          "data": {
            "text/plain": [
              "<Figure size 432x288 with 2 Axes>"
            ],
            "image/png": "[encoded data removed]"
          },
          "metadata": {
            "needs_background": "light"
          }
        }
      ],
      "source": [
        "import matplotlib.pyplot as plt\n",
        "import numpy as np\n",
        "fig, axs = plt.subplots(2,sharex=True, sharey=True,)\n",
        "\n",
        "axs[0].plot(firstA,np.ones((spikesA,1)),'o')\n",
        "axs[0].plot(firstB,2*np.ones((spikesB,1)),'o')\n",
        "\n",
        "axs[1].plot(secondA,np.ones((spikes2A,1)),'o')\n",
        "axs[1].plot(secondB,2*np.ones((spikes2B,1)),'o')\n",
        "\n",
        "plt.ylim([-1,4])\n",
        "plt.xlim([10,20])\n",
        "plt.xlabel('t [ units of T]')\n",
        "fig.suptitle('Two Pulse Coupled Oscillators with Different Delays')\n"
      ]
    },
    {
      "cell_type": "markdown",
      "metadata": {
        "id": "W8CGC8Cj9HLA"
      },
      "source": [
        "The top figure has a delay of 0.1 while the bottom figure has a delay of 0.7. As you can see, with a delay of 0.1, the two cells tend toward anti-synchrony, while a delay of 0.7 leads to synchrony."
      ]
    },
    {
      "cell_type": "code",
      "execution_count": 7,
      "metadata": {
        "id": "hYxU9Acs9HLA"
      },
      "outputs": [],
      "source": [
        ""
      ]
    }
  ],
  "metadata": {
    "kernelspec": {
      "display_name": "Python 3",
      "language": "python",
      "name": "python3"
    },
    "language_info": {
      "codemirror_mode": {
        "name": "ipython",
        "version": 3
      },
      "file_extension": ".py",
      "mimetype": "text/x-python",
      "name": "python",
      "nbconvert_exporter": "python",
      "pygments_lexer": "ipython3",
      "version": "3.6.12"
    },
    "colab": {
      "name": "27-Delayed_Pulse_Coupled_model.ipynb",
      "provenance": []
    }
  },
  "nbformat": 4,
  "nbformat_minor": 0
}