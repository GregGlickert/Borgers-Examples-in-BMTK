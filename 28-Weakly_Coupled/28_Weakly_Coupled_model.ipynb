{
  "cells": [
    {
      "cell_type": "markdown",
      "metadata": {
        "id": "3nkK_zYm-plD"
      },
      "source": [
        "# 28- Weakly Coupled Oscillators"
      ]
    },
    {
      "cell_type": "markdown",
      "metadata": {
        "id": "REl4rtbw-plE"
      },
      "source": [
        "no bmtk"
      ]
    },
    {
      "cell_type": "code",
      "source": [
        "! pip install NEURON\n",
        "! pip install bmtk\n",
        "# as new version of neuron and bmtk come out we may need to install a specific version\n",
        "import os\n",
        "from os.path import normpath, sep, join\n",
        "\n",
        "root = 'Borgers-Examples-in-BMTK' # name of github repo\n",
        "folder = '28-Weakly_Coupled' # name of folder in Github just change this line \n",
        "pathlist = normpath(os.getcwd()).split(sep)\n",
        "if pathlist[-1] != folder:\n",
        "  rootidx = pathlist.index(root) if root in pathlist else -1\n",
        "  if rootidx>0:\n",
        "    os.chdir(join(sep,*pathlist[:rootidx]))\n",
        "  !git clone https://github.com/GregGlickert/Borgers-Examples-in-BMTK\n",
        "  os.chdir(join(root,folder))\n",
        "print(os.getcwd())\n",
        "%ls"
      ],
      "metadata": {
        "id": "4EaVnB0O-qmA",
        "outputId": "b4c9a455-0613-4e68-ed30-111e20bab029",
        "colab": {
          "base_uri": "https://localhost:8080/"
        }
      },
      "execution_count": 1,
      "outputs": [
        {
          "output_type": "stream",
          "name": "stdout",
          "text": [
            "Collecting NEURON\n",
            "  Downloading NEURON-8.0.2-cp37-cp37m-manylinux_2_5_x86_64.manylinux1_x86_64.whl (12.6 MB)\n",
            "\u001b[K     |████████████████████████████████| 12.6 MB 8.9 MB/s \n",
            "\u001b[?25hRequirement already satisfied: numpy>=1.9.3 in /usr/local/lib/python3.7/dist-packages (from NEURON) (1.21.5)\n",
            "Installing collected packages: NEURON\n",
            "Successfully installed NEURON-8.0.2\n",
            "Collecting bmtk\n",
            "  Downloading bmtk-1.0.4-py2.py3-none-any.whl (471 kB)\n",
            "\u001b[K     |████████████████████████████████| 471 kB 7.6 MB/s \n",
            "\u001b[?25hRequirement already satisfied: h5py in /usr/local/lib/python3.7/dist-packages (from bmtk) (3.1.0)\n",
            "Requirement already satisfied: numpy in /usr/local/lib/python3.7/dist-packages (from bmtk) (1.21.5)\n",
            "Requirement already satisfied: sympy in /usr/local/lib/python3.7/dist-packages (from bmtk) (1.7.1)\n",
            "Requirement already satisfied: pandas in /usr/local/lib/python3.7/dist-packages (from bmtk) (1.3.5)\n",
            "Requirement already satisfied: scikit-image in /usr/local/lib/python3.7/dist-packages (from bmtk) (0.18.3)\n",
            "Requirement already satisfied: jsonschema in /usr/local/lib/python3.7/dist-packages (from bmtk) (4.3.3)\n",
            "Requirement already satisfied: six in /usr/local/lib/python3.7/dist-packages (from bmtk) (1.15.0)\n",
            "Requirement already satisfied: matplotlib in /usr/local/lib/python3.7/dist-packages (from bmtk) (3.2.2)\n",
            "Requirement already satisfied: scipy in /usr/local/lib/python3.7/dist-packages (from bmtk) (1.4.1)\n",
            "Requirement already satisfied: cached-property in /usr/local/lib/python3.7/dist-packages (from h5py->bmtk) (1.5.2)\n",
            "Requirement already satisfied: typing-extensions in /usr/local/lib/python3.7/dist-packages (from jsonschema->bmtk) (3.10.0.2)\n",
            "Requirement already satisfied: attrs>=17.4.0 in /usr/local/lib/python3.7/dist-packages (from jsonschema->bmtk) (21.4.0)\n",
            "Requirement already satisfied: importlib-metadata in /usr/local/lib/python3.7/dist-packages (from jsonschema->bmtk) (4.11.3)\n",
            "Requirement already satisfied: pyrsistent!=0.17.0,!=0.17.1,!=0.17.2,>=0.14.0 in /usr/local/lib/python3.7/dist-packages (from jsonschema->bmtk) (0.18.1)\n",
            "Requirement already satisfied: importlib-resources>=1.4.0 in /usr/local/lib/python3.7/dist-packages (from jsonschema->bmtk) (5.4.0)\n",
            "Requirement already satisfied: zipp>=3.1.0 in /usr/local/lib/python3.7/dist-packages (from importlib-resources>=1.4.0->jsonschema->bmtk) (3.7.0)\n",
            "Requirement already satisfied: kiwisolver>=1.0.1 in /usr/local/lib/python3.7/dist-packages (from matplotlib->bmtk) (1.4.0)\n",
            "Requirement already satisfied: python-dateutil>=2.1 in /usr/local/lib/python3.7/dist-packages (from matplotlib->bmtk) (2.8.2)\n",
            "Requirement already satisfied: cycler>=0.10 in /usr/local/lib/python3.7/dist-packages (from matplotlib->bmtk) (0.11.0)\n",
            "Requirement already satisfied: pyparsing!=2.0.4,!=2.1.2,!=2.1.6,>=2.0.1 in /usr/local/lib/python3.7/dist-packages (from matplotlib->bmtk) (3.0.7)\n",
            "Requirement already satisfied: pytz>=2017.3 in /usr/local/lib/python3.7/dist-packages (from pandas->bmtk) (2018.9)\n",
            "Requirement already satisfied: PyWavelets>=1.1.1 in /usr/local/lib/python3.7/dist-packages (from scikit-image->bmtk) (1.3.0)\n",
            "Requirement already satisfied: pillow!=7.1.0,!=7.1.1,>=4.3.0 in /usr/local/lib/python3.7/dist-packages (from scikit-image->bmtk) (7.1.2)\n",
            "Requirement already satisfied: imageio>=2.3.0 in /usr/local/lib/python3.7/dist-packages (from scikit-image->bmtk) (2.4.1)\n",
            "Requirement already satisfied: networkx>=2.0 in /usr/local/lib/python3.7/dist-packages (from scikit-image->bmtk) (2.6.3)\n",
            "Requirement already satisfied: tifffile>=2019.7.26 in /usr/local/lib/python3.7/dist-packages (from scikit-image->bmtk) (2021.11.2)\n",
            "Requirement already satisfied: mpmath>=0.19 in /usr/local/lib/python3.7/dist-packages (from sympy->bmtk) (1.2.1)\n",
            "Installing collected packages: bmtk\n",
            "Successfully installed bmtk-1.0.4\n",
            "Cloning into 'Borgers-Examples-in-BMTK'...\n",
            "remote: Enumerating objects: 849, done.\u001b[K\n",
            "remote: Counting objects: 100% (849/849), done.\u001b[K\n",
            "remote: Compressing objects: 100% (466/466), done.\u001b[K\n",
            "remote: Total 849 (delta 449), reused 724 (delta 357), pack-reused 0\u001b[K\n",
            "Receiving objects: 100% (849/849), 30.76 MiB | 21.71 MiB/s, done.\n",
            "Resolving deltas: 100% (449/449), done.\n",
            "/content/Borgers-Examples-in-BMTK/28-Weakly_Coupled\n",
            "28-Weakly_Coupled.ipynb\n"
          ]
        }
      ]
    },
    {
      "cell_type": "code",
      "execution_count": 2,
      "metadata": {
        "id": "IPCcRNoI-plE"
      },
      "outputs": [],
      "source": [
        "import math\n",
        "\n",
        "def ceiling(x):\n",
        "    if isinstance(x, int):\n",
        "        return math.ceil(x)+1\n",
        "    else:\n",
        "        return math.ceil(x)"
      ]
    },
    {
      "cell_type": "markdown",
      "metadata": {
        "id": "FQQEvZMF-plE"
      },
      "source": [
        "#### Plotting approximation"
      ]
    },
    {
      "cell_type": "code",
      "execution_count": 3,
      "metadata": {
        "id": "YDHKdWrO-plE"
      },
      "outputs": [],
      "source": [
        "import math\n",
        "\n",
        "def g(phi):\n",
        "    e=phi%1;\n",
        "    num = (e**2)*(1-e)\n",
        "    return num"
      ]
    },
    {
      "cell_type": "code",
      "execution_count": 4,
      "metadata": {
        "id": "J0t_GPCP-plF"
      },
      "outputs": [],
      "source": [
        "import math\n",
        "phi_B_0=0.4                    \n",
        "\n",
        "epsilon=0.5                     \n",
        "    \n",
        "dt=0.01  \n",
        "dt05=dt/2                       \n",
        "\n",
        "\n",
        "phi_A=0 \n",
        "phi_B=phi_B_0                   \n",
        "num_spikes_A=1 \n",
        "num_spikes_B=0                \n",
        "                                \n",
        "                               \n",
        "                                \n",
        "t_spikes_A=[0]\n",
        "t_spikes_B=[]                   \n",
        "\n",
        "t_vec = []\n",
        "t_vec.append(0)                    \n",
        "ij=1                           \n",
        "\n",
        "psi_vec=[] \n",
        "psi_vec.append(phi_B-phi_A)        \n",
        "                              \n",
        "                                \n",
        "t_final=6/epsilon              \n",
        "                              \n",
        "t=0 \n",
        "delta = []\n",
        "delta = [0 for i in range(2)]\n",
        "while t<t_final: \n",
        "    delta[0]=ceiling(phi_A)-phi_A\n",
        "    delta[1]=ceiling(phi_B)-phi_B\n",
        "    if delta[1]<delta[0]:  \n",
        "        t=t+delta[1]\n",
        "        num_spikes_B=num_spikes_B+1\n",
        "        t_spikes_B.append(t)\n",
        "        phi_A=round(phi_A+delta[1],4)\n",
        "        phi_A=round(phi_A+epsilon*g(phi_A) ,4)\n",
        "        phi_B=round(math.ceil(phi_B),4)\n",
        "        ij=ij+1\n",
        "        t_vec.append(t)\n",
        "        psi_vec.append(round(phi_B-phi_A,4))\n",
        "    else:\n",
        "        t=t+delta[0]\n",
        "        num_spikes_A=num_spikes_A+1\n",
        "        t_spikes_A.append(t)\n",
        "        phi_B=round(phi_B+delta[0],4)\n",
        "        phi_B=round(phi_B+epsilon*g(phi_B),4)\n",
        "        phi_A=round(math.ceil(phi_A),4)\n",
        "        ij=ij+1\n",
        "        t_vec.append(t)\n",
        "        psi_vec.append(phi_B-phi_A)"
      ]
    },
    {
      "cell_type": "code",
      "execution_count": 5,
      "metadata": {
        "id": "ktvkvpQb-plF"
      },
      "outputs": [],
      "source": [
        "m_steps=round(t_final/dt)\n",
        "psi = []\n",
        "\n",
        "\n",
        "psi.append(phi_B_0)\n",
        "for k in range(m_steps+1):                    # Now solve the differential equation.\n",
        "    psi_inc=epsilon*(g(psi[k])-g(-psi[k]))   \n",
        "    psi_tmp=psi[k]+dt05*psi_inc\n",
        "    psi_inc=epsilon*(g(psi_tmp)-g(-psi_tmp))\n",
        "    psi.append(psi[k]+dt*psi_inc)"
      ]
    },
    {
      "cell_type": "code",
      "execution_count": 6,
      "metadata": {
        "id": "jAAKBS9O-plF",
        "outputId": "6171777b-85c6-4195-99e3-335586bc910d",
        "colab": {
          "base_uri": "https://localhost:8080/",
          "height": 312
        }
      },
      "outputs": [
        {
          "output_type": "execute_result",
          "data": {
            "text/plain": [
              "[<matplotlib.lines.Line2D at 0x7f98dc959350>]"
            ]
          },
          "metadata": {},
          "execution_count": 6
        },
        {
          "output_type": "display_data",
          "data": {
            "text/plain": [
              "<Figure size 1440x288 with 1 Axes>"
            ],
            "image/png": "[encoded data removed]"
          },
          "metadata": {
            "needs_background": "light"
          }
        }
      ],
      "source": [
        "import matplotlib.pyplot as plt\n",
        "\n",
        "plt.figure(figsize = (20,4))\n",
        "plt.title('epsilon = 0.5')\n",
        "plt.xlabel('t [units of T]')\n",
        "plt.ylabel('phi')\n",
        "for n in range(ij-1):\n",
        "    plt.plot([t_vec[n],t_vec[n+1]],[psi_vec[n],psi_vec[n]], 'k')\n",
        "steps = []\n",
        "for i in range(m_steps+2):\n",
        "    steps.append(i*dt)\n",
        "plt.plot(steps,psi, 'r')"
      ]
    },
    {
      "cell_type": "markdown",
      "metadata": {
        "id": "3c9SpPEf-plG"
      },
      "source": [
        "#### Shrinking small factor to 0.1: Approximation of g()"
      ]
    },
    {
      "cell_type": "code",
      "execution_count": 7,
      "metadata": {
        "id": "lFaU6em7-plG"
      },
      "outputs": [],
      "source": [
        "import math\n",
        "phi_B_0=0.4                    \n",
        "\n",
        "epsilon=0.1                    \n",
        "    \n",
        "dt=0.01  \n",
        "dt05=dt/2                       \n",
        "\n",
        "\n",
        "phi_A=0 \n",
        "phi_B=phi_B_0                   \n",
        "num_spikes_A=1 \n",
        "num_spikes_B=0                \n",
        "                                \n",
        "                               \n",
        "                                \n",
        "t_spikes_A=[0]\n",
        "t_spikes_B=[]                   \n",
        "\n",
        "t_vec = []\n",
        "t_vec.append(0)                    \n",
        "ij=1                           \n",
        "\n",
        "psi_vec=[] \n",
        "psi_vec.append(phi_B-phi_A)        \n",
        "                              \n",
        "                                \n",
        "t_final=6/epsilon              \n",
        "                              \n",
        "t=0 \n",
        "delta = []\n",
        "delta = [0 for i in range(2)]\n",
        "while t<t_final: \n",
        "    delta[0]=ceiling(phi_A)-phi_A\n",
        "    delta[1]=ceiling(phi_B)-phi_B\n",
        "    if delta[1]<delta[0]:  \n",
        "        t=t+delta[1]\n",
        "        num_spikes_B=num_spikes_B+1\n",
        "        t_spikes_B.append(t)\n",
        "        phi_A=round(phi_A+delta[1],4)\n",
        "        phi_A=round(phi_A+epsilon*g(phi_A) ,4)\n",
        "        phi_B=round(math.ceil(phi_B),4)\n",
        "        ij=ij+1\n",
        "        t_vec.append(t)\n",
        "        psi_vec.append(round(phi_B-phi_A,4))\n",
        "    else:\n",
        "        t=t+delta[0]\n",
        "        num_spikes_A=num_spikes_A+1\n",
        "        t_spikes_A.append(t)\n",
        "        phi_B=round(phi_B+delta[0],4)\n",
        "        phi_B=round(phi_B+epsilon*g(phi_B),4)\n",
        "        phi_A=round(math.ceil(phi_A),4)\n",
        "        ij=ij+1\n",
        "        t_vec.append(t)\n",
        "        psi_vec.append(phi_B-phi_A)"
      ]
    },
    {
      "cell_type": "code",
      "execution_count": 8,
      "metadata": {
        "id": "lE6Ok2Jo-plG"
      },
      "outputs": [],
      "source": [
        "m_steps=round(t_final/dt)\n",
        "psi = []\n",
        "\n",
        "\n",
        "psi.append(phi_B_0)\n",
        "for k in range(m_steps+1):                    # Now solve the differential equation.\n",
        "    psi_inc=epsilon*(g(psi[k])-g(-psi[k]))   \n",
        "    psi_tmp=psi[k]+dt05*psi_inc\n",
        "    psi_inc=epsilon*(g(psi_tmp)-g(-psi_tmp))\n",
        "    psi.append(psi[k]+dt*psi_inc)"
      ]
    },
    {
      "cell_type": "code",
      "execution_count": 9,
      "metadata": {
        "id": "v8AYSiIv-plG",
        "outputId": "c7104da3-c3cc-4813-db60-ab7dfc363a41",
        "colab": {
          "base_uri": "https://localhost:8080/",
          "height": 312
        }
      },
      "outputs": [
        {
          "output_type": "execute_result",
          "data": {
            "text/plain": [
              "[<matplotlib.lines.Line2D at 0x7f98dc26ce50>]"
            ]
          },
          "metadata": {},
          "execution_count": 9
        },
        {
          "output_type": "display_data",
          "data": {
            "text/plain": [
              "<Figure size 1440x288 with 1 Axes>"
            ],
            "image/png": "[encoded data removed]"
          },
          "metadata": {
            "needs_background": "light"
          }
        }
      ],
      "source": [
        "import matplotlib.pyplot as plt\n",
        "\n",
        "plt.figure(figsize = (20,4))\n",
        "plt.title('epsilon = 0.1')\n",
        "plt.xlabel('t [units of T]')\n",
        "plt.ylabel('phi')\n",
        "for n in range(ij-1):\n",
        "    plt.plot([t_vec[n],t_vec[n+1]],[psi_vec[n],psi_vec[n]], 'k')\n",
        "steps = []\n",
        "for i in range(m_steps+2):\n",
        "    steps.append(i*dt)\n",
        "plt.plot(steps,psi, 'r')"
      ]
    }
  ],
  "metadata": {
    "kernelspec": {
      "display_name": "Python 3",
      "language": "python",
      "name": "python3"
    },
    "language_info": {
      "codemirror_mode": {
        "name": "ipython",
        "version": 3
      },
      "file_extension": ".py",
      "mimetype": "text/x-python",
      "name": "python",
      "nbconvert_exporter": "python",
      "pygments_lexer": "ipython3",
      "version": "3.7.0"
    },
    "colab": {
      "name": "28-Weakly_Coupled_model.ipynb",
      "provenance": []
    }
  },
  "nbformat": 4,
  "nbformat_minor": 0
}