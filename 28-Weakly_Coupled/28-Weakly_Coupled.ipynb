{
 "cells": [
  {
   "cell_type": "markdown",
   "metadata": {},
   "source": [
    "# 28- Weakly Coupled Oscillators"
   ]
  },
  {
   "cell_type": "markdown",
   "metadata": {},
   "source": [
    "no bmtk"
   ]
  },
  {
   "cell_type": "code",
   "execution_count": 1,
   "metadata": {},
   "outputs": [],
   "source": [
    "import math\n",
    "\n",
    "def ceiling(x):\n",
    "    if isinstance(x, int):\n",
    "        return math.ceil(x)+1\n",
    "    else:\n",
    "        return math.ceil(x)"
   ]
  },
  {
   "cell_type": "markdown",
   "metadata": {},
   "source": [
    "#### Plotting approximation"
   ]
  },
  {
   "cell_type": "code",
   "execution_count": 2,
   "metadata": {},
   "outputs": [],
   "source": [
    "import math\n",
    "\n",
    "def g(phi):\n",
    "    e=phi%1;\n",
    "    num = (e**2)*(1-e)\n",
    "    return num"
   ]
  },
  {
   "cell_type": "code",
   "execution_count": 3,
   "metadata": {},
   "outputs": [],
   "source": [
    "import math\n",
    "phi_B_0=0.4                    \n",
    "\n",
    "epsilon=0.5                     \n",
    "    \n",
    "dt=0.01  \n",
    "dt05=dt/2                       \n",
    "\n",
    "\n",
    "phi_A=0 \n",
    "phi_B=phi_B_0                   \n",
    "num_spikes_A=1 \n",
    "num_spikes_B=0                \n",
    "                                \n",
    "                               \n",
    "                                \n",
    "t_spikes_A=[0]\n",
    "t_spikes_B=[]                   \n",
    "\n",
    "t_vec = []\n",
    "t_vec.append(0)                    \n",
    "ij=1                           \n",
    "\n",
    "psi_vec=[] \n",
    "psi_vec.append(phi_B-phi_A)        \n",
    "                              \n",
    "                                \n",
    "t_final=6/epsilon              \n",
    "                              \n",
    "t=0 \n",
    "delta = []\n",
    "delta = [0 for i in range(2)]\n",
    "while t<t_final: \n",
    "    delta[0]=ceiling(phi_A)-phi_A\n",
    "    delta[1]=ceiling(phi_B)-phi_B\n",
    "    if delta[1]<delta[0]:  \n",
    "        t=t+delta[1]\n",
    "        num_spikes_B=num_spikes_B+1\n",
    "        t_spikes_B.append(t)\n",
    "        phi_A=round(phi_A+delta[1],4)\n",
    "        phi_A=round(phi_A+epsilon*g(phi_A) ,4)\n",
    "        phi_B=round(math.ceil(phi_B),4)\n",
    "        ij=ij+1\n",
    "        t_vec.append(t)\n",
    "        psi_vec.append(round(phi_B-phi_A,4))\n",
    "    else:\n",
    "        t=t+delta[0]\n",
    "        num_spikes_A=num_spikes_A+1\n",
    "        t_spikes_A.append(t)\n",
    "        phi_B=round(phi_B+delta[0],4)\n",
    "        phi_B=round(phi_B+epsilon*g(phi_B),4)\n",
    "        phi_A=round(math.ceil(phi_A),4)\n",
    "        ij=ij+1\n",
    "        t_vec.append(t)\n",
    "        psi_vec.append(phi_B-phi_A)"
   ]
  },
  {
   "cell_type": "code",
   "execution_count": 4,
   "metadata": {},
   "outputs": [],
   "source": [
    "m_steps=round(t_final/dt)\n",
    "psi = []\n",
    "\n",
    "\n",
    "psi.append(phi_B_0)\n",
    "for k in range(m_steps+1):                    # Now solve the differential equation.\n",
    "    psi_inc=epsilon*(g(psi[k])-g(-psi[k]))   \n",
    "    psi_tmp=psi[k]+dt05*psi_inc\n",
    "    psi_inc=epsilon*(g(psi_tmp)-g(-psi_tmp))\n",
    "    psi.append(psi[k]+dt*psi_inc)"
   ]
  },
  {
   "cell_type": "code",
   "execution_count": 5,
   "metadata": {},
   "outputs": [
    {
     "data": {
      "text/plain": [
       "[<matplotlib.lines.Line2D at 0x17e44a966a0>]"
      ]
     },
     "execution_count": 5,
     "metadata": {},
     "output_type": "execute_result"
    },
    {
     "data": {
      "image/png": "[encoded data removed]",
      "text/plain": [
       "<Figure size 1440x288 with 1 Axes>"
      ]
     },
     "metadata": {
      "needs_background": "light"
     },
     "output_type": "display_data"
    }
   ],
   "source": [
    "import matplotlib.pyplot as plt\n",
    "\n",
    "plt.figure(figsize = (20,4))\n",
    "plt.title('epsilon = 0.5')\n",
    "plt.xlabel('t [units of T]')\n",
    "plt.ylabel('phi')\n",
    "for n in range(ij-1):\n",
    "    plt.plot([t_vec[n],t_vec[n+1]],[psi_vec[n],psi_vec[n]], 'k')\n",
    "steps = []\n",
    "for i in range(m_steps+2):\n",
    "    steps.append(i*dt)\n",
    "plt.plot(steps,psi, 'r')"
   ]
  },
  {
   "cell_type": "markdown",
   "metadata": {},
   "source": [
    "#### Shrinking small factor to 0.1: Approximation of g()"
   ]
  },
  {
   "cell_type": "code",
   "execution_count": 6,
   "metadata": {},
   "outputs": [],
   "source": [
    "import math\n",
    "phi_B_0=0.4                    \n",
    "\n",
    "epsilon=0.1                    \n",
    "    \n",
    "dt=0.01  \n",
    "dt05=dt/2                       \n",
    "\n",
    "\n",
    "phi_A=0 \n",
    "phi_B=phi_B_0                   \n",
    "num_spikes_A=1 \n",
    "num_spikes_B=0                \n",
    "                                \n",
    "                               \n",
    "                                \n",
    "t_spikes_A=[0]\n",
    "t_spikes_B=[]                   \n",
    "\n",
    "t_vec = []\n",
    "t_vec.append(0)                    \n",
    "ij=1                           \n",
    "\n",
    "psi_vec=[] \n",
    "psi_vec.append(phi_B-phi_A)        \n",
    "                              \n",
    "                                \n",
    "t_final=6/epsilon              \n",
    "                              \n",
    "t=0 \n",
    "delta = []\n",
    "delta = [0 for i in range(2)]\n",
    "while t<t_final: \n",
    "    delta[0]=ceiling(phi_A)-phi_A\n",
    "    delta[1]=ceiling(phi_B)-phi_B\n",
    "    if delta[1]<delta[0]:  \n",
    "        t=t+delta[1]\n",
    "        num_spikes_B=num_spikes_B+1\n",
    "        t_spikes_B.append(t)\n",
    "        phi_A=round(phi_A+delta[1],4)\n",
    "        phi_A=round(phi_A+epsilon*g(phi_A) ,4)\n",
    "        phi_B=round(math.ceil(phi_B),4)\n",
    "        ij=ij+1\n",
    "        t_vec.append(t)\n",
    "        psi_vec.append(round(phi_B-phi_A,4))\n",
    "    else:\n",
    "        t=t+delta[0]\n",
    "        num_spikes_A=num_spikes_A+1\n",
    "        t_spikes_A.append(t)\n",
    "        phi_B=round(phi_B+delta[0],4)\n",
    "        phi_B=round(phi_B+epsilon*g(phi_B),4)\n",
    "        phi_A=round(math.ceil(phi_A),4)\n",
    "        ij=ij+1\n",
    "        t_vec.append(t)\n",
    "        psi_vec.append(phi_B-phi_A)"
   ]
  },
  {
   "cell_type": "code",
   "execution_count": 7,
   "metadata": {},
   "outputs": [],
   "source": [
    "m_steps=round(t_final/dt)\n",
    "psi = []\n",
    "\n",
    "\n",
    "psi.append(phi_B_0)\n",
    "for k in range(m_steps+1):                    # Now solve the differential equation.\n",
    "    psi_inc=epsilon*(g(psi[k])-g(-psi[k]))   \n",
    "    psi_tmp=psi[k]+dt05*psi_inc\n",
    "    psi_inc=epsilon*(g(psi_tmp)-g(-psi_tmp))\n",
    "    psi.append(psi[k]+dt*psi_inc)"
   ]
  },
  {
   "cell_type": "code",
   "execution_count": 8,
   "metadata": {},
   "outputs": [
    {
     "data": {
      "text/plain": [
       "[<matplotlib.lines.Line2D at 0x17e47fc81d0>]"
      ]
     },
     "execution_count": 8,
     "metadata": {},
     "output_type": "execute_result"
    },
    {
     "data": {
      "image/png": "[encoded data removed]",
      "text/plain": [
       "<Figure size 1440x288 with 1 Axes>"
      ]
     },
     "metadata": {
      "needs_background": "light"
     },
     "output_type": "display_data"
    }
   ],
   "source": [
    "import matplotlib.pyplot as plt\n",
    "\n",
    "plt.figure(figsize = (20,4))\n",
    "plt.title('epsilon = 0.1')\n",
    "plt.xlabel('t [units of T]')\n",
    "plt.ylabel('phi')\n",
    "for n in range(ij-1):\n",
    "    plt.plot([t_vec[n],t_vec[n+1]],[psi_vec[n],psi_vec[n]], 'k')\n",
    "steps = []\n",
    "for i in range(m_steps+2):\n",
    "    steps.append(i*dt)\n",
    "plt.plot(steps,psi, 'r')"
   ]
  }
 ],
 "metadata": {
  "kernelspec": {
   "display_name": "Python 3",
   "language": "python",
   "name": "python3"
  },
  "language_info": {
   "codemirror_mode": {
    "name": "ipython",
    "version": 3
   },
   "file_extension": ".py",
   "mimetype": "text/x-python",
   "name": "python",
   "nbconvert_exporter": "python",
   "pygments_lexer": "ipython3",
   "version": "3.7.0"
  }
 },
 "nbformat": 4,
 "nbformat_minor": 2
}
