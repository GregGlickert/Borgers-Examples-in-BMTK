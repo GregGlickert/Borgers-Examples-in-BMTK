{
 "cells": [
  {
   "cell_type": "markdown",
   "metadata": {},
   "source": [
    "# 28- Weakly Coupled Oscillators"
   ]
  },
  {
   "cell_type": "markdown",
   "metadata": {},
   "source": [
    "no bmtk"
   ]
  },
  {
   "cell_type": "markdown",
   "metadata": {},
   "source": [
    "#### Plotting approximation"
   ]
  },
  {
   "cell_type": "code",
   "execution_count": 1,
   "metadata": {},
   "outputs": [],
   "source": [
    "import math\n",
    "\n",
    "def g(phi):\n",
    "    e=1/3\n",
    "    num = (phi**2)*(1-phi)\n",
    "    #print(num)\n",
    "    return num\n",
    "\n",
    "\n",
    "def f(phi):\n",
    "    num = phi + g(phi)\n",
    "    #print(num)\n",
    "    return num"
   ]
  },
  {
   "cell_type": "code",
   "execution_count": null,
   "metadata": {},
   "outputs": [],
   "source": [
    "import math\n",
    "phi_B_0=0.4                     # A is started at phase 0, and B at\n",
    "                                # this phase. \n",
    "\n",
    "epsilon=0.5                     # This is the small factor in the definition\n",
    "                                # of the phase response function.\n",
    "    \n",
    "dt=0.01  \n",
    "dt05=dt/2                       # Time step used to solve the approximate\n",
    "                                # differential equation for the phase\n",
    "                                # difference. \n",
    "\n",
    "\n",
    "phi_A=0 \n",
    "phi_B=phi_B_0                   # initial phases of the two neurons \n",
    "num_spikes_A=1 \n",
    "num_spikes_B=0                  # num_spikes_X is the number of spikes\n",
    "                                # of neuron X that have occurred --- X=A\n",
    "                                # or X=B. The initial assumption is that A\n",
    "                                # just fired, and has had its effect on B. \n",
    "t_spikes_A=[0]\n",
    "t_spikes_B=[]                   # These are the spike times. \n",
    "\n",
    "t_vec = []\n",
    "t_vec = [0 for i in range(12)]\n",
    "t_vec[1]=0                      # t_vec contains the spike times of either \n",
    "                                # A or B. \n",
    "ij=1                            # ij is the length of t_vec.\n",
    "\n",
    "psi_vec=[] \n",
    "psi_vec=[0 for i in range(12)]\n",
    "psi_vec[1]=phi_B-phi_A          # psi_vec(ij) is the phase difference right \n",
    "                                # after the spike at time t_vec(ij).\n",
    "                                \n",
    "t_final=6/epsilon               # We simulate up to time t_final.\n",
    "                              \n",
    "t=0 \n",
    "delta = []\n",
    "delta = [0 for i in range(3)]\n",
    "while t<t_final:                    # Simulate the two oscillators, one  \n",
    "    delta[1]=math.ceil(phi_A)-phi_A   # spike at a time.\n",
    "    delta[2]=math.ceil(phi_B)-phi_B   # \"ceiling\" is a self-defined function\n",
    "    if delta[2]<delta[1]:           # which differs from ceil in that\n",
    "        t=t+delta[2]                # ceiling(x)=x+1 if x is an integer.\n",
    "        num_spikes_B=num_spikes_B+1 \n",
    "        t_spikes_B.append(t) \n",
    "        phi_A=phi_A+delta[2] \n",
    "        phi_A=phi_A+epsilon*g(phi_A) \n",
    "        phi_B=math.ceil(phi_B) \n",
    "        ij=ij+1 \n",
    "        t_vec.append[t] \n",
    "        psi_vec.append(phi_B-phi_A) \n",
    "    else:\n",
    "        t=t+delta[1]                \n",
    "        num_spikes_A=num_spikes_A+1 \n",
    "        t_spikes_A.append(t)\n",
    "        phi_B=phi_B+delta[1]\n",
    "        phi_B=phi_B+epsilon*g(phi_B)\n",
    "        phi_A=math.ceil(phi_A)\n",
    "        ij=ij+1\n",
    "        t_vec.append(t)\n",
    "        psi_vec.append(phi_B-phi_A)"
   ]
  },
  {
   "cell_type": "code",
   "execution_count": null,
   "metadata": {},
   "outputs": [],
   "source": [
    "import matplotlib.pyplot as plt\n",
    "\n",
    "for n in range(ij-1):\n",
    "    plt.plot([t_vec[n],t_vec[n+1]],[psi_vec[n],psi_vec[n+1]])"
   ]
  },
  {
   "cell_type": "code",
   "execution_count": null,
   "metadata": {},
   "outputs": [],
   "source": [
    "m_steps=round(t_final/dt)\n",
    "psi = []\n",
    "for i in range(msteps+1):\n",
    "    psi.append(0)\n",
    "\n",
    "psi[1]=phi_B_0\n",
    "for k in m_steps:                    # Now solve the differential equation.\n",
    "    psi_inc=epsilon*(g(psi[k])-g(-psi[k]))   \n",
    "    psi_tmp=psi(k)+dt05*psi_inc\n",
    "    psi_inc=epsilon*(g(psi_tmp)-g(-psi_tmp))\n",
    "    psi[k+1]=psi(k)+dt*psi_inc"
   ]
  },
  {
   "cell_type": "code",
   "execution_count": null,
   "metadata": {},
   "outputs": [],
   "source": [
    "import matplotlib.pyplot as plt\n",
    "steps = []\n",
    "for i in m_steps:\n",
    "    steps.append(i*dt)\n",
    "plt.plot(steps,psi)"
   ]
  },
  {
   "cell_type": "markdown",
   "metadata": {},
   "source": [
    "#### Shrinking small factor to 0.1: Approximation of g()"
   ]
  },
  {
   "cell_type": "code",
   "execution_count": null,
   "metadata": {},
   "outputs": [],
   "source": [
    "epsilon=0.1                     # This is the small factor in the definition\n",
    "                                # of the phase response function.\n",
    "\n",
    "\n",
    "phi_A=0 \n",
    "phi_B=phi_B_0                   # initial phases of the two neurons \n",
    "num_spikes_A=1 \n",
    "num_spikes_B=0                  # num_spikes_X is the number of spikes\n",
    "                                # of neuron X that have occurred --- X=A\n",
    "                                # or X=B. The initial assumption is that A\n",
    "                                # just fired, and has had its effect on B. \n",
    "t_spikes_A=[0] \n",
    "t_spikes_B=[]                   # These are the spike times. \n",
    "\n",
    "t_vec(1)=0                      # t_vec contains the spike times of either \n",
    "                                # A or B. \n",
    "ij=1                            # ij is the length of t_vec.\n",
    "\n",
    "psi_vec=[] \n",
    "psi_vec(1)=phi_B-phi_A          # psi_vec(ij) is the phase difference right \n",
    "                                # after the spike at time t_vec(ij).\n",
    "                                \n",
    "t_final=6/epsilon               # We simulate up to time t_final.\n",
    "                              \n",
    "t=0 \n",
    "\n",
    "while t<t_final                    # Simulate the two oscillators, one  \n",
    "    delta(1)=ceiling(phi_A)-phi_A;  # spike at a time.\n",
    "    delta(2)=ceiling(phi_B)-phi_B;  # \"ceiling\" is a self-defined function\n",
    "    if delta(2)<delta(1),           # which differs from ceil in that\n",
    "        t=t+delta(2);               # ceiling(x)=x+1 if x is an integer.\n",
    "        num_spikes_B=num_spikes_B+1;\n",
    "        t_spikes_B(num_spikes_B)=t;\n",
    "        phi_A=phi_A+delta(2);\n",
    "        phi_A=phi_A+epsilon*g(phi_A);\n",
    "        phi_B=ceiling(phi_B);\n",
    "        ij=ij+1;\n",
    "        t_vec(ij)=t;\n",
    "        psi_vec(ij)=phi_B-phi_A;\n",
    "    else\n",
    "        t=t+delta(1);               \n",
    "        num_spikes_A=num_spikes_A+1;\n",
    "        t_spikes_A(num_spikes_A)=t;\n",
    "        phi_B=phi_B+delta(1);\n",
    "        phi_B=phi_B+epsilon*g(phi_B);\n",
    "        phi_A=ceiling(phi_A);\n",
    "        ij=ij+1;\n",
    "        t_vec(ij)=t;\n",
    "        psi_vec(ij)=phi_B-phi_A;"
   ]
  },
  {
   "cell_type": "markdown",
   "metadata": {},
   "source": [
    "#### Plotting approximation"
   ]
  },
  {
   "cell_type": "code",
   "execution_count": null,
   "metadata": {},
   "outputs": [],
   "source": []
  },
  {
   "cell_type": "code",
   "execution_count": null,
   "metadata": {},
   "outputs": [],
   "source": [
    "import matplotlib.pyplot as plt\n",
    "steps = []\n",
    "for i in m_steps:\n",
    "    steps.append(i*dt)\n",
    "plt.plot(steps,psi)"
   ]
  },
  {
   "cell_type": "markdown",
   "metadata": {},
   "source": [
    "#### Solving differential equation"
   ]
  },
  {
   "cell_type": "code",
   "execution_count": 6,
   "metadata": {},
   "outputs": [
    {
     "ename": "SyntaxError",
     "evalue": "can't assign to function call (<ipython-input-6-7105aff9bf31>, line 11)",
     "output_type": "error",
     "traceback": [
      "\u001b[1;36m  File \u001b[1;32m\"<ipython-input-6-7105aff9bf31>\"\u001b[1;36m, line \u001b[1;32m11\u001b[0m\n\u001b[1;33m    psi(k+1)=psi(k)+dt*psi_inc\u001b[0m\n\u001b[1;31mSyntaxError\u001b[0m\u001b[1;31m:\u001b[0m can't assign to function call\n"
     ]
    }
   ],
   "source": [
    "m_steps=round(t_final/dt)\n",
    "psi = []\n",
    "for i in range(msteps+1):\n",
    "    psi.append(0)\n",
    "\n",
    "psi[1]=phi_B_0\n",
    "for k in m_steps:                    # Now solve the differential equation.\n",
    "    psi_inc=epsilon*(g(psi[k])-g(-psi[k]))   \n",
    "    psi_tmp=psi(k)+dt05*psi_inc\n",
    "    psi_inc=epsilon*(g(psi_tmp)-g(-psi_tmp))\n",
    "    psi[k+1]=psi(k)+dt*psi_inc"
   ]
  },
  {
   "cell_type": "markdown",
   "metadata": {},
   "source": [
    "#### Plotting Solution"
   ]
  },
  {
   "cell_type": "code",
   "execution_count": 2,
   "metadata": {
    "scrolled": true
   },
   "outputs": [
    {
     "ename": "NameError",
     "evalue": "name 'm_steps' is not defined",
     "output_type": "error",
     "traceback": [
      "\u001b[1;31m---------------------------------------------------------------------------\u001b[0m",
      "\u001b[1;31mNameError\u001b[0m                                 Traceback (most recent call last)",
      "\u001b[1;32m<ipython-input-2-475ead6f7b9d>\u001b[0m in \u001b[0;36m<module>\u001b[1;34m()\u001b[0m\n\u001b[0;32m      1\u001b[0m \u001b[1;32mimport\u001b[0m \u001b[0mmatplotlib\u001b[0m\u001b[1;33m.\u001b[0m\u001b[0mpyplot\u001b[0m \u001b[1;32mas\u001b[0m \u001b[0mplt\u001b[0m\u001b[1;33m\u001b[0m\u001b[0m\n\u001b[0;32m      2\u001b[0m \u001b[0msteps\u001b[0m \u001b[1;33m=\u001b[0m \u001b[1;33m[\u001b[0m\u001b[1;33m]\u001b[0m\u001b[1;33m\u001b[0m\u001b[0m\n\u001b[1;32m----> 3\u001b[1;33m \u001b[1;32mfor\u001b[0m \u001b[0mi\u001b[0m \u001b[1;32min\u001b[0m \u001b[0mm_steps\u001b[0m\u001b[1;33m:\u001b[0m\u001b[1;33m\u001b[0m\u001b[0m\n\u001b[0m\u001b[0;32m      4\u001b[0m     \u001b[0msteps\u001b[0m\u001b[1;33m.\u001b[0m\u001b[0mappend\u001b[0m\u001b[1;33m(\u001b[0m\u001b[0mi\u001b[0m\u001b[1;33m*\u001b[0m\u001b[0mdt\u001b[0m\u001b[1;33m)\u001b[0m\u001b[1;33m\u001b[0m\u001b[0m\n\u001b[0;32m      5\u001b[0m \u001b[0mplt\u001b[0m\u001b[1;33m.\u001b[0m\u001b[0mplot\u001b[0m\u001b[1;33m(\u001b[0m\u001b[0msteps\u001b[0m\u001b[1;33m,\u001b[0m\u001b[0mpsi\u001b[0m\u001b[1;33m)\u001b[0m\u001b[1;33m\u001b[0m\u001b[0m\n",
      "\u001b[1;31mNameError\u001b[0m: name 'm_steps' is not defined"
     ]
    }
   ],
   "source": [
    "import matplotlib.pyplot as plt\n",
    "steps = []\n",
    "for i in m_steps:\n",
    "    steps.append(i*dt)\n",
    "plt.plot(steps,psi)\n",
    "\n",
    "\n",
    "#m1=max(psi_vec); m2=max(psi); M=max(m1,m2); M=ceil(M);\n",
    "#m1=min(psi_vec); m2=min(psi); m=min(m1,m2); m=floor(m);\n"
   ]
  },
  {
   "cell_type": "code",
   "execution_count": null,
   "metadata": {},
   "outputs": [],
   "source": []
  }
 ],
 "metadata": {
  "kernelspec": {
   "display_name": "Python 2",
   "language": "python",
   "name": "python2"
  },
  "language_info": {
   "codemirror_mode": {
    "name": "ipython",
    "version": 2
   },
   "file_extension": ".py",
   "mimetype": "text/x-python",
   "name": "python",
   "nbconvert_exporter": "python",
   "pygments_lexer": "ipython2",
   "version": "2.7.18"
  }
 },
 "nbformat": 4,
 "nbformat_minor": 2
}
