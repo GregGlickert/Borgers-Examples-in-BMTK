{
 "cells": [
  {
   "cell_type": "markdown",
   "metadata": {},
   "source": [
    "# Chapter 25 - Phase Response Curves\n",
    "Phase response curves display the phase shift of a regularly spiking neuron as a function of the phase of a brief input pulse.\n",
    "In this notebook, we will use NEURON to display the PRC of an RTM neuron."
   ]
  },
  {
   "cell_type": "code",
   "execution_count": 1,
   "metadata": {},
   "outputs": [
    {
     "name": "stdout",
     "output_type": "stream",
     "text": [
      "Compilation Succeeded.\n"
     ]
    }
   ],
   "source": [
    "from neuron import h\n",
    "import os\n",
    "import matplotlib.pyplot as plt\n",
    "\n",
    "#First compile our modfiles.\n",
    "if os.system('nrnivmodl modfiles') == 0:\n",
    "    print(\"Compilation Succeeded.\")\n",
    "else:\n",
    "    print(\"Compilation Failed.\")"
   ]
  },
  {
   "cell_type": "code",
   "execution_count": 2,
   "metadata": {},
   "outputs": [],
   "source": [
    "#Include Neuron.\n",
    "from neuron import h\n",
    "h.load_file('stdrun.hoc')\n",
    "\n",
    "#Define simumulation parameters.\n",
    "SIMRUNTIME = 500\n",
    "DELAY      = 0\n",
    "INJTIME    = 500\n",
    "I_INJ      = 0.00001\n",
    "\n",
    "h.tstop    = SIMRUNTIME\n",
    "h.v_init   = -66.345\n",
    "\n",
    "#Define Cell Morphology.\n",
    "soma = h.Section(name = 'soma')\n",
    "\n",
    "soma.nseg = 1\n",
    "soma.L    = 1.492\n",
    "soma.diam = 1\n",
    "\n",
    "\n",
    "#Define the biophysical parameters.\n",
    "soma.cm = 1\n",
    "\n",
    "#Insert channels into all sections.\n",
    "soma.insert('leak')\n",
    "soma.insert('k_rtm')\n",
    "soma.insert('na_rtm')\n",
    "\n",
    "#cell conductances and channel reversal potentials\n",
    "soma.gbar_leak = .1e-3  #S/cm^2\n",
    "soma.gbar_na_rtm = .1   #S/cm^2\n",
    "soma.gbar_k_rtm = .08   #S/cm^2\n",
    "\n",
    "soma.eleak = -67 #mV\n",
    "soma.ena = 50    #mV\n",
    "soma.ek = -100   #mV\n",
    "\n",
    "i_inj = h.IClamp(soma(0.5))\n",
    "i_inj.amp   = I_INJ\n",
    "i_inj.dur   = INJTIME\n",
    "i_inj.delay = DELAY\n",
    "\n",
    "# Define synaptic parameters\n",
    "syn = h.Exp2Syn(soma(0.5))\n",
    "\n",
    "syn.tau1 = 0.5  # ms rise time\n",
    "syn.tau2 = 2   # ms decay time\n",
    "syn.e = 0       # mV reversal potential"
   ]
  },
  {
   "cell_type": "markdown",
   "metadata": {},
   "source": [
    "## Run a baseline test to capture the firing rate of an RTM neuron under a current clamp (no input pulse)."
   ]
  },
  {
   "cell_type": "code",
   "execution_count": 3,
   "metadata": {},
   "outputs": [
    {
     "name": "stdout",
     "output_type": "stream",
     "text": [
      "[28.02500000009894, 85.90000000011096, 143.80000000010614, 201.6750000000535, 259.57500000000084, 317.4499999999482, 375.34999999989554, 433.2249999998429, 491.12499999979025]\n"
     ]
    }
   ],
   "source": [
    "potential = h.Vector()\n",
    "time      = h.Vector()\n",
    "\n",
    "time.record(h._ref_t) \n",
    "potential.record(soma(0.5)._ref_v)\n",
    "\n",
    "netcon = h.NetCon(soma(0.5)._ref_v, None, sec=soma)\n",
    "vec = h.Vector()\n",
    "netcon.record(vec)\n",
    "\n",
    "\n",
    "\n",
    "#Run the experiment.\n",
    "h.run()\n",
    "\n",
    "timeNOinput=time.to_python()\n",
    "potentialNOinput=potential.to_python()\n",
    "\n",
    "spikesNOinput=vec.to_python()\n",
    "\n",
    "h.finitialize()\n",
    "\n",
    "period = spikesNOinput[3] - spikesNOinput[2]"
   ]
  },
  {
   "cell_type": "markdown",
   "metadata": {},
   "source": [
    "### Create 200 input times between 143 ms and 201 ms (spikes 3 and 4)"
   ]
  },
  {
   "cell_type": "code",
   "execution_count": 4,
   "metadata": {},
   "outputs": [],
   "source": [
    "X=list(range(200))\n",
    "intime = [(x*period/200)+spikesNOinput[2] for x in X]\n",
    "# Keep track of the phase of this input pulse on a scale from 0 to 1 (This is half of the PRC)\n",
    "inphase= [(i-spikesNOinput[2])/period for i in intime]"
   ]
  },
  {
   "cell_type": "markdown",
   "metadata": {},
   "source": [
    "We now iterate through 200 simulations where the input pulse time is set in the cell above. We record the spike times of each simulation"
   ]
  },
  {
   "cell_type": "code",
   "execution_count": 5,
   "metadata": {},
   "outputs": [],
   "source": [
    "def runSim():\n",
    "    spikes=[]    #spike times for individual trial\n",
    "    data=[]      #List of all spikes[] lists\n",
    "    for i in range(200):\n",
    "        \n",
    "        # Define the input spike.\n",
    "\n",
    "        ns = h.NetStim()\n",
    "\n",
    "        ns.interval=1000     #ms (mean) time between spikes\n",
    "        ns.number=1      #(average) number of spikes\n",
    "        ns.start=intime[i] #ms (most likely) start time of first spike\n",
    "        ns.noise=0 # range 0 to 1. Fractional randomness.\n",
    "\n",
    "\n",
    "        nc = h.NetCon(ns, syn)\n",
    "        nc.threshold = 10 #mV\n",
    "        nc.delay = 0 #ms\n",
    "        nc.weight[0] = 0.000001\n",
    "        \n",
    "        \n",
    "        #Set up spike times recording\n",
    "        netcon = h.NetCon(soma(0.5)._ref_v, None, sec=soma)\n",
    "        vec = h.Vector()\n",
    "        netcon.record(vec)\n",
    "    \n",
    "        # Run the simulation\n",
    "        h.run()\n",
    "    \n",
    "        # Transfer NEURON recording vector to python list\n",
    "        spikes=vec.to_python()\n",
    "        data.append(spikes)\n",
    "        \n",
    "        # Restart each\n",
    "        h.finitialize()\n",
    "\n",
    "    return data\n",
    "\n",
    "data= runSim()"
   ]
  },
  {
   "cell_type": "markdown",
   "metadata": {},
   "source": [
    "Calculation of the phase change between the simulations of cells with input pulse and the sumulation of the neuron without input pulse."
   ]
  },
  {
   "cell_type": "code",
   "execution_count": 8,
   "metadata": {},
   "outputs": [],
   "source": [
    "timedif = []\n",
    "outphase = []\n",
    "for x in range(200):\n",
    "    timedif.append(spikesNOinput[5]-data[x][5])\n",
    "    outphase.append(timedif[x]/period)\n"
   ]
  },
  {
   "cell_type": "code",
   "execution_count": 7,
   "metadata": {},
   "outputs": [
    {
     "data": {
      "image/png": "[encoded data removed]",
      "text/plain": [
       "<Figure size 1440x504 with 1 Axes>"
      ]
     },
     "metadata": {
      "needs_background": "light"
     },
     "output_type": "display_data"
    }
   ],
   "source": [
    "#Plot membrane potential.\n",
    "def plot_membrane():\n",
    "    plt.close()\n",
    "    plt.figure(figsize = (20,7))\n",
    "    plt.plot(inphase, outphase)\n",
    "    plt.xlabel('Input Pulse Phase (phi)')\n",
    "    plt.ylabel('Phase Change (g)')\n",
    "    plt.show()\n",
    "    \n",
    "plot_membrane()"
   ]
  },
  {
   "cell_type": "markdown",
   "metadata": {},
   "source": [
    "We can see that the timing of the input pulse affects how far forward or back the spiking of the RTM neuron will shift. In the case of the RTM neuron, an input pulse happening right between two spikes will cause the neuron to spike much sooner (positive phase change means leading original pattern)."
   ]
  },
  {
   "cell_type": "code",
   "execution_count": null,
   "metadata": {},
   "outputs": [],
   "source": []
  }
 ],
 "metadata": {
  "kernelspec": {
   "display_name": "Python 3",
   "language": "python",
   "name": "python3"
  },
  "language_info": {
   "codemirror_mode": {
    "name": "ipython",
    "version": 3
   },
   "file_extension": ".py",
   "mimetype": "text/x-python",
   "name": "python",
   "nbconvert_exporter": "python",
   "pygments_lexer": "ipython3",
   "version": "3.7.0"
  }
 },
 "nbformat": 4,
 "nbformat_minor": 2
}
