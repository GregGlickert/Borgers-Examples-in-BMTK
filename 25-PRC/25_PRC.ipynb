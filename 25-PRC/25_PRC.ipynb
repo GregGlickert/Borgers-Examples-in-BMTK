{
 "cells": [
  {
   "cell_type": "markdown",
   "metadata": {
    "id": "rwMxzW17_Eap"
   },
   "source": [
    "# Chapter 25 - Phase Response Curves\n",
    "Phase response curves display the phase shift of a regularly spiking neuron as a function of the phase of a brief input pulse.\n",
    "In this notebook, we will use NEURON to display the PRC of an RTM neuron."
   ]
  },
  {
   "cell_type": "code",
   "execution_count": 1,
   "metadata": {
    "colab": {
     "base_uri": "https://localhost:8080/"
    },
    "id": "dXpnX1Uq_E-A",
    "outputId": "9c921d12-cb52-4c94-a031-3b6323627bec"
   },
   "outputs": [
    {
     "name": "stdout",
     "output_type": "stream",
     "text": [
      "fatal: destination path 'Borgers-Examples-in-BMTK' already exists and is not an empty directory.\n",
      "/Users/gregglickert/Desktop/Tutorials with Errors/Borgers-Examples-in-BMTK/25-PRC\n",
      "25-PRC.ipynb        cell_templates.hoc  leak.mod            vecevent.mod\n",
      "README.md           k_rtm.mod           na_rtm.mod\n"
     ]
    }
   ],
   "source": [
    "RunningInCOLAB = 'google.colab' in str(get_ipython())\n",
    "\n",
    "if RunningInCOLAB:\n",
    "    ! pip install -q neuron==8.0.0\n",
    "    \n",
    "import neuron\n",
    "# as new version of neuron and bmtk come out we may need to install a specific version\n",
    "import os\n",
    "from os.path import normpath, sep, join\n",
    "\n",
    "root = 'Borgers-Examples-in-BMTK' # name of github repo\n",
    "folder = '25-PRC' # name of folder in Github just change this line \n",
    "pathlist = normpath(os.getcwd()).split(sep)\n",
    "if pathlist[-1] != folder:\n",
    "  rootidx = pathlist.index(root) if root in pathlist else -1\n",
    "  if rootidx>0:\n",
    "    os.chdir(join(sep,*pathlist[:rootidx]))\n",
    "  !git clone https://github.com/GregGlickert/Borgers-Examples-in-BMTK\n",
    "  os.chdir(join(root,folder))\n",
    "print(os.getcwd())\n",
    "%ls"
   ]
  },
  {
   "cell_type": "code",
   "execution_count": 1,
   "metadata": {
    "colab": {
     "base_uri": "https://localhost:8080/"
    },
    "id": "FoDu_co3Xg9R",
    "outputId": "530c3d9b-4385-431b-9ce6-b3fa6e3d8b6e"
   },
   "outputs": [
    {
     "name": "stdout",
     "output_type": "stream",
     "text": [
      "25_PRC_(1).ipynb    cell_templates.hoc  leak.mod            vecevent.mod\n",
      "README.md           k_rtm.mod           na_rtm.mod\n",
      "/usr/bin/xcrun\n",
      "/Users/gregglickert/Desktop/Tutorials with Errors/Borgers-Examples-in-BMTK/25-PRC\n",
      "-n Mod files:\n",
      "-n  \"./k_rtm.mod\"\n",
      "-n  \"./leak.mod\"\n",
      "-n  \"./na_rtm.mod\"\n",
      "-n  \"./vecevent.mod\"\n",
      "\n",
      "\n",
      "Creating x86_64 directory for .o files.\n",
      "\n",
      "COBJS=''\n",
      " -> \u001b[32mCompiling\u001b[0m mod_func.c\n",
      " -> \u001b[32mNMODL\u001b[0m ../k_rtm.mod\n",
      " -> \u001b[32mNMODL\u001b[0m ../leak.mod\n",
      "gcc -O2   -I.   -I/Users/gregglickert/opt/anaconda3/envs/NeuroLab/lib/python3.7/site-packages/neuron/.data/include  -I/usr/local/Cellar/open-mpi/4.1.0/include -fPIC -c mod_func.c -o mod_func.o\n",
      " -> \u001b[32mNMODL\u001b[0m ../na_rtm.mod\n",
      "(cd \"..\"; MODLUNIT=/Users/gregglickert/opt/anaconda3/envs/NeuroLab/lib/python3.7/site-packages/neuron/.data/share/nrn/lib/nrnunits.lib /Users/gregglickert/opt/anaconda3/envs/NeuroLab/lib/python3.7/site-packages/neuron/.data/bin/nocmodl na_rtm.mod -o \"/Users/gregglickert/Desktop/Tutorials with Errors/Borgers-Examples-in-BMTK/25-PRC/x86_64\")\n",
      "(cd \"..\"; MODLUNIT=/Users/gregglickert/opt/anaconda3/envs/NeuroLab/lib/python3.7/site-packages/neuron/.data/share/nrn/lib/nrnunits.lib /Users/gregglickert/opt/anaconda3/envs/NeuroLab/lib/python3.7/site-packages/neuron/.data/bin/nocmodl leak.mod -o \"/Users/gregglickert/Desktop/Tutorials with Errors/Borgers-Examples-in-BMTK/25-PRC/x86_64\")\n",
      "(cd \"..\"; MODLUNIT=/Users/gregglickert/opt/anaconda3/envs/NeuroLab/lib/python3.7/site-packages/neuron/.data/share/nrn/lib/nrnunits.lib /Users/gregglickert/opt/anaconda3/envs/NeuroLab/lib/python3.7/site-packages/neuron/.data/bin/nocmodl k_rtm.mod -o \"/Users/gregglickert/Desktop/Tutorials with Errors/Borgers-Examples-in-BMTK/25-PRC/x86_64\")\n",
      " -> \u001b[32mNMODL\u001b[0m ../vecevent.mod\n",
      "(cd \"..\"; MODLUNIT=/Users/gregglickert/opt/anaconda3/envs/NeuroLab/lib/python3.7/site-packages/neuron/.data/share/nrn/lib/nrnunits.lib /Users/gregglickert/opt/anaconda3/envs/NeuroLab/lib/python3.7/site-packages/neuron/.data/bin/nocmodl vecevent.mod -o \"/Users/gregglickert/Desktop/Tutorials with Errors/Borgers-Examples-in-BMTK/25-PRC/x86_64\")\n",
      " -> \u001b[32mCompiling\u001b[0m k_rtm.c\n",
      " -> \u001b[32mCompiling\u001b[0m leak.c\n",
      "gcc -O2   -I\"..\" -I.   -I/Users/gregglickert/opt/anaconda3/envs/NeuroLab/lib/python3.7/site-packages/neuron/.data/include  -I/usr/local/Cellar/open-mpi/4.1.0/include -fPIC -c k_rtm.c -o k_rtm.o\n",
      "gcc -O2   -I\"..\" -I.   -I/Users/gregglickert/opt/anaconda3/envs/NeuroLab/lib/python3.7/site-packages/neuron/.data/include  -I/usr/local/Cellar/open-mpi/4.1.0/include -fPIC -c leak.c -o leak.o\n",
      "Notice: ARTIFICIAL_CELL is a synonym for POINT_PROCESS which hints that it\n",
      "only affects and is affected by discrete events. As such it is not\n",
      "located in a section and is not associated with an integrator\n"
     ]
    },
    {
     "name": "stderr",
     "output_type": "stream",
     "text": [
      "Translating k_rtm.mod into /Users/gregglickert/Desktop/Tutorials with Errors/Borgers-Examples-in-BMTK/25-PRC/x86_64/k_rtm.c\n",
      "Translating leak.mod into /Users/gregglickert/Desktop/Tutorials with Errors/Borgers-Examples-in-BMTK/25-PRC/x86_64/leak.c\n",
      "Translating na_rtm.mod into /Users/gregglickert/Desktop/Tutorials with Errors/Borgers-Examples-in-BMTK/25-PRC/x86_64/na_rtm.c\n",
      "Thread Safe\n",
      "Thread Safe\n",
      "Thread Safe\n",
      "Translating vecevent.mod into /Users/gregglickert/Desktop/Tutorials with Errors/Borgers-Examples-in-BMTK/25-PRC/x86_64/vecevent.c\n",
      "Thread Safe\n"
     ]
    },
    {
     "name": "stdout",
     "output_type": "stream",
     "text": [
      " -> \u001b[32mCompiling\u001b[0m na_rtm.c\n",
      "gcc -O2   -I\"..\" -I.   -I/Users/gregglickert/opt/anaconda3/envs/NeuroLab/lib/python3.7/site-packages/neuron/.data/include  -I/usr/local/Cellar/open-mpi/4.1.0/include -fPIC -c na_rtm.c -o na_rtm.o\n",
      " -> \u001b[32mCompiling\u001b[0m vecevent.c\n",
      "gcc -O2   -I\"..\" -I.   -I/Users/gregglickert/opt/anaconda3/envs/NeuroLab/lib/python3.7/site-packages/neuron/.data/include  -I/usr/local/Cellar/open-mpi/4.1.0/include -fPIC -c vecevent.c -o vecevent.o\n",
      " => \u001b[32mLINKING\u001b[0m shared library ./libnrnmech.dylib\n",
      "g++ -O2 -DVERSION_INFO='8.0.0' -std=c++11 -dynamiclib -Wl,-headerpad_max_install_names -undefined dynamic_lookup -fPIC  -I /Users/gregglickert/opt/anaconda3/envs/NeuroLab/lib/python3.7/site-packages/neuron/.data/include -o ./libnrnmech.dylib -Wl,-install_name,@rpath/libnrnmech.dylib \\\n",
      "\t  ./mod_func.o ./k_rtm.o ./leak.o ./na_rtm.o ./vecevent.o  -L/Users/gregglickert/opt/anaconda3/envs/NeuroLab/lib/python3.7/site-packages/neuron/.data/lib -lnrniv -Wl,-rpath,/Users/gregglickert/opt/anaconda3/envs/NeuroLab/lib/python3.7/site-packages/neuron/.data/lib    -lreadline\n",
      "rm -f ./.libs/libnrnmech.so ; mkdir -p ./.libs ; cp ./libnrnmech.dylib ./.libs/libnrnmech.so\n",
      "Successfully created x86_64/special\n",
      "0\n"
     ]
    }
   ],
   "source": [
    "import os\n",
    "%ls\n",
    "print(os.system('nrnivmodl')) # compile modfiles. Return 0 for success, 1 for failure."
   ]
  },
  {
   "cell_type": "code",
   "execution_count": 2,
   "metadata": {
    "colab": {
     "base_uri": "https://localhost:8080/",
     "height": 240
    },
    "id": "B6mtQp4V_Eaq",
    "outputId": "809f934b-e0e8-4cba-e1e3-e2b3d53fb2dd"
   },
   "outputs": [],
   "source": [
    "#Include Neuron.\n",
    "from neuron import h\n",
    "import os\n",
    "import matplotlib.pyplot as plt\n",
    "\n",
    "h.load_file('stdrun.hoc')\n",
    "\n",
    "#Define simumulation parameters.\n",
    "SIMRUNTIME = 500\n",
    "DELAY      = 0\n",
    "INJTIME    = 500\n",
    "I_INJ      = 0.00001\n",
    "\n",
    "h.tstop    = SIMRUNTIME\n",
    "h.v_init   = -66.345\n",
    "\n",
    "#Define Cell Morphology.\n",
    "soma = h.Section(name = 'soma')\n",
    "\n",
    "soma.nseg = 1\n",
    "soma.L    = 1.492\n",
    "soma.diam = 1\n",
    "\n",
    "\n",
    "#Define the biophysical parameters.\n",
    "soma.cm = 1\n",
    "\n",
    "#Insert channels into all sections.\n",
    "soma.insert('leak')\n",
    "soma.insert('k_rtm')\n",
    "soma.insert('na_rtm')\n",
    "\n",
    "#cell conductances and channel reversal potentials\n",
    "soma.gbar_leak = .1e-3  #S/cm^2\n",
    "soma.gbar_na_rtm = .1   #S/cm^2\n",
    "soma.gbar_k_rtm = .08   #S/cm^2\n",
    "\n",
    "soma.eleak = -67 #mV\n",
    "soma.ena = 50    #mV\n",
    "soma.ek = -100   #mV\n",
    "\n",
    "i_inj = h.IClamp(soma(0.5))\n",
    "i_inj.amp   = I_INJ\n",
    "i_inj.dur   = INJTIME\n",
    "i_inj.delay = DELAY\n",
    "\n",
    "# Define synaptic parameters\n",
    "syn = h.Exp2Syn(soma(0.5))\n",
    "\n",
    "syn.tau1 = 0.5  # ms rise time\n",
    "syn.tau2 = 2   # ms decay time\n",
    "syn.e = 0       # mV reversal potential"
   ]
  },
  {
   "cell_type": "markdown",
   "metadata": {
    "id": "baUlCdzK_Ear"
   },
   "source": [
    "## Run a baseline test to capture the firing rate of an RTM neuron under a current clamp (no input pulse)."
   ]
  },
  {
   "cell_type": "code",
   "execution_count": 3,
   "metadata": {
    "id": "TUrVvrP2_Ear"
   },
   "outputs": [],
   "source": [
    "potential = h.Vector()\n",
    "time      = h.Vector()\n",
    "\n",
    "time.record(h._ref_t) \n",
    "potential.record(soma(0.5)._ref_v)\n",
    "\n",
    "netcon = h.NetCon(soma(0.5)._ref_v, None, sec=soma)\n",
    "vec = h.Vector()\n",
    "netcon.record(vec)\n",
    "\n",
    "\n",
    "\n",
    "#Run the experiment.\n",
    "h.run()\n",
    "\n",
    "timeNOinput=time.to_python()\n",
    "potentialNOinput=potential.to_python()\n",
    "\n",
    "spikesNOinput=vec.to_python()\n",
    "\n",
    "h.finitialize()\n",
    "\n",
    "period = spikesNOinput[3] - spikesNOinput[2]"
   ]
  },
  {
   "cell_type": "markdown",
   "metadata": {
    "id": "rprvvHTU_Ear"
   },
   "source": [
    "### Create 200 input times between 143 ms and 201 ms (spikes 3 and 4)"
   ]
  },
  {
   "cell_type": "code",
   "execution_count": 4,
   "metadata": {
    "id": "DAQuPjc4_Ear"
   },
   "outputs": [],
   "source": [
    "X=list(range(200))\n",
    "intime = [(x*period/200)+spikesNOinput[2] for x in X]\n",
    "# Keep track of the phase of this input pulse on a scale from 0 to 1 (This is half of the PRC)\n",
    "inphase= [(i-spikesNOinput[2])/period for i in intime]"
   ]
  },
  {
   "cell_type": "markdown",
   "metadata": {
    "id": "n9vXM4Bd_Eas"
   },
   "source": [
    "We now iterate through 200 simulations where the input pulse time is set in the cell above. We record the spike times of each simulation"
   ]
  },
  {
   "cell_type": "code",
   "execution_count": 5,
   "metadata": {
    "id": "kssgRIbP_Eas"
   },
   "outputs": [],
   "source": [
    "def runSim():\n",
    "    spikes=[]    #spike times for individual trial\n",
    "    data=[]      #List of all spikes[] lists\n",
    "    for i in range(200):\n",
    "        \n",
    "        # Define the input spike.\n",
    "\n",
    "        ns = h.NetStim()\n",
    "\n",
    "        ns.interval=1000     #ms (mean) time between spikes\n",
    "        ns.number=1      #(average) number of spikes\n",
    "        ns.start=intime[i] #ms (most likely) start time of first spike\n",
    "        ns.noise=0 # range 0 to 1. Fractional randomness.\n",
    "\n",
    "\n",
    "        nc = h.NetCon(ns, syn)\n",
    "        nc.threshold = 10 #mV\n",
    "        nc.delay = 0 #ms\n",
    "        nc.weight[0] = 0.000001\n",
    "        \n",
    "        \n",
    "        #Set up spike times recording\n",
    "        netcon = h.NetCon(soma(0.5)._ref_v, None, sec=soma)\n",
    "        vec = h.Vector()\n",
    "        netcon.record(vec)\n",
    "    \n",
    "        # Run the simulation\n",
    "        h.run()\n",
    "    \n",
    "        # Transfer NEURON recording vector to python list\n",
    "        spikes=vec.to_python()\n",
    "        data.append(spikes)\n",
    "        \n",
    "        # Restart each\n",
    "        h.finitialize()\n",
    "\n",
    "    return data\n",
    "\n",
    "data= runSim()"
   ]
  },
  {
   "cell_type": "markdown",
   "metadata": {
    "id": "cpbZcmgl_Eas"
   },
   "source": [
    "Calculation of the phase change between the simulations of cells with input pulse and the sumulation of the neuron without input pulse."
   ]
  },
  {
   "cell_type": "code",
   "execution_count": 6,
   "metadata": {
    "id": "9yDkh6R1_Eat"
   },
   "outputs": [],
   "source": [
    "timedif = []\n",
    "outphase = []\n",
    "for x in range(200):\n",
    "    timedif.append(spikesNOinput[5]-data[x][5])\n",
    "    outphase.append(timedif[x]/period)\n"
   ]
  },
  {
   "cell_type": "code",
   "execution_count": 7,
   "metadata": {
    "id": "UE01lk4c_Eat"
   },
   "outputs": [
    {
     "data": {
      "image/png": "[encoded data removed]",
      "text/plain": [
       "<Figure size 1440x504 with 1 Axes>"
      ]
     },
     "metadata": {
      "needs_background": "light"
     },
     "output_type": "display_data"
    }
   ],
   "source": [
    "#Plot membrane potential.\n",
    "def plot_membrane():\n",
    "    plt.close()\n",
    "    plt.figure(figsize = (20,7))\n",
    "    plt.plot(inphase, outphase)\n",
    "    plt.xlabel('Input Pulse Phase (phi)')\n",
    "    plt.ylabel('Phase Change (g)')\n",
    "    plt.show()\n",
    "    \n",
    "plot_membrane()"
   ]
  },
  {
   "cell_type": "markdown",
   "metadata": {
    "id": "_N3OIAoD_Eat"
   },
   "source": [
    "We can see that the timing of the input pulse affects how far forward or back the spiking of the RTM neuron will shift. In the case of the RTM neuron, an input pulse happening right between two spikes will cause the neuron to spike much sooner (positive phase change means leading original pattern)."
   ]
  },
  {
   "cell_type": "code",
   "execution_count": null,
   "metadata": {
    "id": "XlZd8ejc_Eat"
   },
   "outputs": [],
   "source": []
  }
 ],
 "metadata": {
  "colab": {
   "name": "25_PRC (1).ipynb",
   "provenance": []
  },
  "kernelspec": {
   "display_name": "Python 3 (ipykernel)",
   "language": "python",
   "name": "python3"
  },
  "language_info": {
   "codemirror_mode": {
    "name": "ipython",
    "version": 3
   },
   "file_extension": ".py",
   "mimetype": "text/x-python",
   "name": "python",
   "nbconvert_exporter": "python",
   "pygments_lexer": "ipython3",
   "version": "3.7.11"
  }
 },
 "nbformat": 4,
 "nbformat_minor": 1
}
